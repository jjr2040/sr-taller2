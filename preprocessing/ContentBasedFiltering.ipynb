{
 "cells": [
  {
   "cell_type": "code",
   "execution_count": 46,
   "metadata": {},
   "outputs": [],
   "source": [
    "import os\n",
    "import re\n",
    "import pandas as pd\n",
    "import numpy as np\n",
    "import random\n",
    "\n",
    "from sklearn.model_selection import train_test_split\n",
    "from sklearn.feature_selection import chi2\n",
    "from sklearn.neighbors import KNeighborsClassifier\n",
    "from sklearn.metrics import confusion_matrix, precision_recall_fscore_support\n",
    "from sklearn.feature_extraction.text import CountVectorizer\n",
    "from sklearn.feature_extraction.text import TfidfTransformer"
   ]
  },
  {
   "cell_type": "markdown",
   "metadata": {},
   "source": [
    "# Load Files"
   ]
  },
  {
   "cell_type": "code",
   "execution_count": 47,
   "metadata": {},
   "outputs": [
    {
     "output_type": "execute_result",
     "data": {
      "text/plain": "                        _id               review_id                 user_id  \\\n0  5e9664963b612dc2f0e488c0  -86eJuYugapSTs5dvCZKtw  qjX40bTubCboIQ6S4mu54A   \n1  5e9664973b612dc2f0e4b13d  j57XFIDuzcpBrcptbrJSwA  USljZmbtpya0BEKocSLbUw   \n2  5e9664973b612dc2f0e4c04b  Hb_kJxRWevasbqHfD_YBQw  mEXLSpAc0A5zdW5iZEosSg   \n3  5e9664983b612dc2f0e511eb  qpdvJX2M17LZrrtamrpgjA  YcdgoZzc9yuGN1pBBxevRQ   \n4  5e9664993b612dc2f0e5448a  ivzJHezSj4594qkg6DbS9g  cpOqABn6YiktZqMrJUB8Aw   \n\n              business_id  stars  useful  funny  cool  \\\n0  5FVBaD1poRZQeqUDxbWWQA      1       3      0     0   \n1  5FVBaD1poRZQeqUDxbWWQA      1       1      0     0   \n2  5FVBaD1poRZQeqUDxbWWQA      1       1      0     0   \n3  5FVBaD1poRZQeqUDxbWWQA      5       0      0     0   \n4  5FVBaD1poRZQeqUDxbWWQA      4       2      0     0   \n\n                                                text                date  \n0  Checked in with my family of five for two room... 2013-12-30 14:52:18  \n1  AT first it seemed like a good hotel. I'm not ... 2013-01-28 19:03:36  \n2  I have stayed here 7 times in the past few mon... 2017-03-15 22:17:31  \n3  Check-in war sehr zügig und der Mitarbeiter ex... 2013-10-06 15:22:27  \n4  the waffle factor:\\n\\n i don't work, haven't f... 2012-11-08 15:29:18  ",
      "text/html": "<div>\n<style scoped>\n    .dataframe tbody tr th:only-of-type {\n        vertical-align: middle;\n    }\n\n    .dataframe tbody tr th {\n        vertical-align: top;\n    }\n\n    .dataframe thead th {\n        text-align: right;\n    }\n</style>\n<table border=\"1\" class=\"dataframe\">\n  <thead>\n    <tr style=\"text-align: right;\">\n      <th></th>\n      <th>_id</th>\n      <th>review_id</th>\n      <th>user_id</th>\n      <th>business_id</th>\n      <th>stars</th>\n      <th>useful</th>\n      <th>funny</th>\n      <th>cool</th>\n      <th>text</th>\n      <th>date</th>\n    </tr>\n  </thead>\n  <tbody>\n    <tr>\n      <th>0</th>\n      <td>5e9664963b612dc2f0e488c0</td>\n      <td>-86eJuYugapSTs5dvCZKtw</td>\n      <td>qjX40bTubCboIQ6S4mu54A</td>\n      <td>5FVBaD1poRZQeqUDxbWWQA</td>\n      <td>1</td>\n      <td>3</td>\n      <td>0</td>\n      <td>0</td>\n      <td>Checked in with my family of five for two room...</td>\n      <td>2013-12-30 14:52:18</td>\n    </tr>\n    <tr>\n      <th>1</th>\n      <td>5e9664973b612dc2f0e4b13d</td>\n      <td>j57XFIDuzcpBrcptbrJSwA</td>\n      <td>USljZmbtpya0BEKocSLbUw</td>\n      <td>5FVBaD1poRZQeqUDxbWWQA</td>\n      <td>1</td>\n      <td>1</td>\n      <td>0</td>\n      <td>0</td>\n      <td>AT first it seemed like a good hotel. I'm not ...</td>\n      <td>2013-01-28 19:03:36</td>\n    </tr>\n    <tr>\n      <th>2</th>\n      <td>5e9664973b612dc2f0e4c04b</td>\n      <td>Hb_kJxRWevasbqHfD_YBQw</td>\n      <td>mEXLSpAc0A5zdW5iZEosSg</td>\n      <td>5FVBaD1poRZQeqUDxbWWQA</td>\n      <td>1</td>\n      <td>1</td>\n      <td>0</td>\n      <td>0</td>\n      <td>I have stayed here 7 times in the past few mon...</td>\n      <td>2017-03-15 22:17:31</td>\n    </tr>\n    <tr>\n      <th>3</th>\n      <td>5e9664983b612dc2f0e511eb</td>\n      <td>qpdvJX2M17LZrrtamrpgjA</td>\n      <td>YcdgoZzc9yuGN1pBBxevRQ</td>\n      <td>5FVBaD1poRZQeqUDxbWWQA</td>\n      <td>5</td>\n      <td>0</td>\n      <td>0</td>\n      <td>0</td>\n      <td>Check-in war sehr zügig und der Mitarbeiter ex...</td>\n      <td>2013-10-06 15:22:27</td>\n    </tr>\n    <tr>\n      <th>4</th>\n      <td>5e9664993b612dc2f0e5448a</td>\n      <td>ivzJHezSj4594qkg6DbS9g</td>\n      <td>cpOqABn6YiktZqMrJUB8Aw</td>\n      <td>5FVBaD1poRZQeqUDxbWWQA</td>\n      <td>4</td>\n      <td>2</td>\n      <td>0</td>\n      <td>0</td>\n      <td>the waffle factor:\\n\\n i don't work, haven't f...</td>\n      <td>2012-11-08 15:29:18</td>\n    </tr>\n  </tbody>\n</table>\n</div>"
     },
     "metadata": {},
     "execution_count": 47
    }
   ],
   "source": [
    "kn_reviews_df = pd.read_json(\"../data/businesses_neighbours_reviews.json\",lines=True)\n",
    "kn_reviews_df.head()"
   ]
  },
  {
   "cell_type": "markdown",
   "metadata": {},
   "source": [
    "# Build TF-IDF for reviews"
   ]
  },
  {
   "cell_type": "code",
   "execution_count": 48,
   "metadata": {},
   "outputs": [],
   "source": [
    "reviews_texts=kn_reviews_df['text']"
   ]
  },
  {
   "cell_type": "markdown",
   "metadata": {},
   "source": [
    "### Clean especial characters"
   ]
  },
  {
   "cell_type": "code",
   "execution_count": 49,
   "metadata": {},
   "outputs": [
    {
     "output_type": "execute_result",
     "data": {
      "text/plain": "['checked in with my family of five for two rooms a little after  pm my wife made the reservation with the desk agent directly with the hotel we had a pet and confirmed they accepted pets which they did we also confirmed that we could get two adjoining rooms confirmed this on two different calls directly with the female desk agent at the hotel when we arrived at the hotel at a little after  pm i was told by the male desk agent there were no adjoining rooms i indicated we had confirmed this twice and he told me they were full and he put us in two rooms across the hall from each other not optimal with a family with kids although unhappy we went to our rooms and unpacked once the kids were in bed we noticed that the bathroom smelled of urine and then noticed the pull out pocket door had not been cleaned for sometime assumed this was urine and the bathroom light did not work we then noticed what looked like vomit on the inside wall of the room next to the entrance door to the room since desk agent told me the hotel was full no other pet rooms and no adjoining rooms were available we made the best of it and i would speak to the desk agents in the morning at checkout upon checkout the next morning i informed the same male agent i checked in with of the problems with the room instead of offering an apology he indicated we should have called when we found the problems so he could change rooms for us i reminded him he told me they were full when we checked in he said no they had other rooms the female agent that took our reservation was also standing there and confirmed that she had in fact booked us adjoining rooms needless to say i was pretty upset  neither agent offered an apology but continued to tell me that i should have called down when we found the problems in this day and age when hotels are everywhere and competition relies on great customer service i would avoid this hotel at any cost',\n 'at first it seemed like a good hotel im not from phoenix only been here a small handful so my wife and i traveled here with some friends and family all was well until our designated drivers brought us back to our hotel at night where the front desk clerk started to call both of our rooms around  am ill admit i wasnt exactly sober the young gentleman at the desk started to explain to me that this hotel doesnt allow guest after  pmand that i was being charged  bucks extra for every person he saw walking us in i tried to stay calm and explain that they were just dropping us off and making sure we all were safe in our rooms because the wives were unable to even walk he told me ok and said no such charge would occur  well its the day after i checked out and i now see on my bank statement a  extra dollar charge to my bill  sooo just dont waste your time for a place that throws rules on you super late at night i used to work for a hotel and this one doesnt explain all their rules especially the ones that involve charging money i should have upon check in knew all these rules but i didnt i didnt even know when breakfast started so i missed it too now i just sit and wonder if the manager will call me back to explain to me how this happened and why his day time desk clerk the one who just basically called me stupid over the phone is arguing with me on how it was my fault that rules werent explained to meplease stop at the comfort inn its right before this sleep inn and im sure their staff will inform you of all the rules upon check in',\n 'i have stayed here  times in the past few months the first two stays were okay but after that things went downhill when i received a survey from choice hotels i was pretty negative when i completed it the same afternoon i received a verbal assault from the management at this location the manager screamed at me that i had made false statements and that he was going to take legal action against me and topped it off with forbidding me to set foot on his property if you are thinking of staying here you might want to reconsider',\n 'checkin war sehr zügig und der mitarbeiter extrem freundlich hat uns alles ausführlich erklärt pool frühstück business center etc und war jederzeit bei fragen ansprechbardas zimmer an sich ist geräumig mit zwei doppelbetten fernseher waschbecken toilette und dusche alles war sauberzum frühstück gibt es kaffee tee und säfte joghurt obst bananen und äpfel toast mit butter und marmelade minimuffins und waffeln zum selberbackenaußerdem steht im frühstücksraum der pc an dem man ins internet gehen und sachen ausdrucken kannhab mich hier sehr wohl gefühlt und kann das hotel guten gewissens weiterempfehlen würde hier wieder hingehen',\n 'the waffle factor i dont work havent for  years so we dont have much money hotels are a luxury but often needednow i can just get the cheapest hotel i can find or my new or is the waffle factorif a hotel is having troubles getting rid of breakfast is an option so i only get hotels now who have a breakfast but breakfast can be pretty crummy so a few months ago  hotel rooms back exactly i switched to getting the cheapest hotel that advertised waffles for breakfast it worksit gets me out of the worse hotels and into the next up tier this was an excellent inexpensive nicely maintained hotelright off the everything is remodeled nice people at front desk working spa and pooland cute bathrooms curved inside shower with glass door and pocket door sink outside very nice designrecommended']"
     },
     "metadata": {},
     "execution_count": 49
    }
   ],
   "source": [
    "clear_text_list=[]\n",
    "for x in reviews_texts:\n",
    "    y=re.sub(r'[,.!-?¿¡\"&$%#\\n\\t]','',x.lower())\n",
    "    clear_text_list.append(y)\n",
    "clear_text_list[:5]"
   ]
  },
  {
   "cell_type": "markdown",
   "metadata": {},
   "source": [
    "### Se crea una matrix de conteo de (textos x palabras), se ignoran las palabras que aparezcan en el 85% de los documentos(no relevantes)"
   ]
  },
  {
   "cell_type": "code",
   "execution_count": 50,
   "metadata": {},
   "outputs": [],
   "source": [
    "cv=CountVectorizer(max_df=0.85, stop_words=\"english\")\n",
    "word_count_vector=cv.fit_transform(clear_text_list)"
   ]
  },
  {
   "cell_type": "markdown",
   "metadata": {},
   "source": [
    "### Se convierte la matriz dispersa a dataframe"
   ]
  },
  {
   "cell_type": "code",
   "execution_count": 51,
   "metadata": {},
   "outputs": [],
   "source": [
    "keywords_df = pd.DataFrame(word_count_vector.toarray())"
   ]
  },
  {
   "cell_type": "code",
   "execution_count": 52,
   "metadata": {},
   "outputs": [
    {
     "output_type": "execute_result",
     "data": {
      "text/plain": "     0     1     2     3     4     5     6     7     8     9     ...  3458  \\\n0       0     0     0     0     0     0     0     0     0     0  ...     0   \n1       0     0     0     0     0     0     0     0     0     0  ...     0   \n2       0     0     0     0     0     0     0     0     0     0  ...     0   \n3       0     0     0     0     0     0     0     0     0     0  ...     0   \n4       0     0     0     0     0     0     0     0     0     0  ...     0   \n..    ...   ...   ...   ...   ...   ...   ...   ...   ...   ...  ...   ...   \n237     0     0     0     0     0     0     0     0     0     0  ...     0   \n238     0     0     0     0     0     0     0     0     0     0  ...     0   \n239     0     0     0     0     0     0     0     0     0     0  ...     0   \n240     0     0     0     0     0     0     0     0     0     0  ...     0   \n241     0     0     0     0     0     0     0     0     0     0  ...     0   \n\n     3459  3460  3461  3462  3463  3464  3465  3466  3467  \n0       0     0     0     0     0     0     0     0     0  \n1       0     0     0     0     0     0     0     0     0  \n2       0     0     0     0     0     0     0     0     0  \n3       1     0     0     0     1     1     0     1     1  \n4       0     0     0     0     0     0     0     0     0  \n..    ...   ...   ...   ...   ...   ...   ...   ...   ...  \n237     0     0     0     0     0     0     0     0     0  \n238     0     0     0     0     0     0     0     0     0  \n239     0     0     0     0     0     0     0     0     0  \n240     0     0     0     0     0     0     0     0     0  \n241     0     0     0     0     0     0     0     0     0  \n\n[242 rows x 3468 columns]",
      "text/html": "<div>\n<style scoped>\n    .dataframe tbody tr th:only-of-type {\n        vertical-align: middle;\n    }\n\n    .dataframe tbody tr th {\n        vertical-align: top;\n    }\n\n    .dataframe thead th {\n        text-align: right;\n    }\n</style>\n<table border=\"1\" class=\"dataframe\">\n  <thead>\n    <tr style=\"text-align: right;\">\n      <th></th>\n      <th>0</th>\n      <th>1</th>\n      <th>2</th>\n      <th>3</th>\n      <th>4</th>\n      <th>5</th>\n      <th>6</th>\n      <th>7</th>\n      <th>8</th>\n      <th>9</th>\n      <th>...</th>\n      <th>3458</th>\n      <th>3459</th>\n      <th>3460</th>\n      <th>3461</th>\n      <th>3462</th>\n      <th>3463</th>\n      <th>3464</th>\n      <th>3465</th>\n      <th>3466</th>\n      <th>3467</th>\n    </tr>\n  </thead>\n  <tbody>\n    <tr>\n      <th>0</th>\n      <td>0</td>\n      <td>0</td>\n      <td>0</td>\n      <td>0</td>\n      <td>0</td>\n      <td>0</td>\n      <td>0</td>\n      <td>0</td>\n      <td>0</td>\n      <td>0</td>\n      <td>...</td>\n      <td>0</td>\n      <td>0</td>\n      <td>0</td>\n      <td>0</td>\n      <td>0</td>\n      <td>0</td>\n      <td>0</td>\n      <td>0</td>\n      <td>0</td>\n      <td>0</td>\n    </tr>\n    <tr>\n      <th>1</th>\n      <td>0</td>\n      <td>0</td>\n      <td>0</td>\n      <td>0</td>\n      <td>0</td>\n      <td>0</td>\n      <td>0</td>\n      <td>0</td>\n      <td>0</td>\n      <td>0</td>\n      <td>...</td>\n      <td>0</td>\n      <td>0</td>\n      <td>0</td>\n      <td>0</td>\n      <td>0</td>\n      <td>0</td>\n      <td>0</td>\n      <td>0</td>\n      <td>0</td>\n      <td>0</td>\n    </tr>\n    <tr>\n      <th>2</th>\n      <td>0</td>\n      <td>0</td>\n      <td>0</td>\n      <td>0</td>\n      <td>0</td>\n      <td>0</td>\n      <td>0</td>\n      <td>0</td>\n      <td>0</td>\n      <td>0</td>\n      <td>...</td>\n      <td>0</td>\n      <td>0</td>\n      <td>0</td>\n      <td>0</td>\n      <td>0</td>\n      <td>0</td>\n      <td>0</td>\n      <td>0</td>\n      <td>0</td>\n      <td>0</td>\n    </tr>\n    <tr>\n      <th>3</th>\n      <td>0</td>\n      <td>0</td>\n      <td>0</td>\n      <td>0</td>\n      <td>0</td>\n      <td>0</td>\n      <td>0</td>\n      <td>0</td>\n      <td>0</td>\n      <td>0</td>\n      <td>...</td>\n      <td>0</td>\n      <td>1</td>\n      <td>0</td>\n      <td>0</td>\n      <td>0</td>\n      <td>1</td>\n      <td>1</td>\n      <td>0</td>\n      <td>1</td>\n      <td>1</td>\n    </tr>\n    <tr>\n      <th>4</th>\n      <td>0</td>\n      <td>0</td>\n      <td>0</td>\n      <td>0</td>\n      <td>0</td>\n      <td>0</td>\n      <td>0</td>\n      <td>0</td>\n      <td>0</td>\n      <td>0</td>\n      <td>...</td>\n      <td>0</td>\n      <td>0</td>\n      <td>0</td>\n      <td>0</td>\n      <td>0</td>\n      <td>0</td>\n      <td>0</td>\n      <td>0</td>\n      <td>0</td>\n      <td>0</td>\n    </tr>\n    <tr>\n      <th>...</th>\n      <td>...</td>\n      <td>...</td>\n      <td>...</td>\n      <td>...</td>\n      <td>...</td>\n      <td>...</td>\n      <td>...</td>\n      <td>...</td>\n      <td>...</td>\n      <td>...</td>\n      <td>...</td>\n      <td>...</td>\n      <td>...</td>\n      <td>...</td>\n      <td>...</td>\n      <td>...</td>\n      <td>...</td>\n      <td>...</td>\n      <td>...</td>\n      <td>...</td>\n      <td>...</td>\n    </tr>\n    <tr>\n      <th>237</th>\n      <td>0</td>\n      <td>0</td>\n      <td>0</td>\n      <td>0</td>\n      <td>0</td>\n      <td>0</td>\n      <td>0</td>\n      <td>0</td>\n      <td>0</td>\n      <td>0</td>\n      <td>...</td>\n      <td>0</td>\n      <td>0</td>\n      <td>0</td>\n      <td>0</td>\n      <td>0</td>\n      <td>0</td>\n      <td>0</td>\n      <td>0</td>\n      <td>0</td>\n      <td>0</td>\n    </tr>\n    <tr>\n      <th>238</th>\n      <td>0</td>\n      <td>0</td>\n      <td>0</td>\n      <td>0</td>\n      <td>0</td>\n      <td>0</td>\n      <td>0</td>\n      <td>0</td>\n      <td>0</td>\n      <td>0</td>\n      <td>...</td>\n      <td>0</td>\n      <td>0</td>\n      <td>0</td>\n      <td>0</td>\n      <td>0</td>\n      <td>0</td>\n      <td>0</td>\n      <td>0</td>\n      <td>0</td>\n      <td>0</td>\n    </tr>\n    <tr>\n      <th>239</th>\n      <td>0</td>\n      <td>0</td>\n      <td>0</td>\n      <td>0</td>\n      <td>0</td>\n      <td>0</td>\n      <td>0</td>\n      <td>0</td>\n      <td>0</td>\n      <td>0</td>\n      <td>...</td>\n      <td>0</td>\n      <td>0</td>\n      <td>0</td>\n      <td>0</td>\n      <td>0</td>\n      <td>0</td>\n      <td>0</td>\n      <td>0</td>\n      <td>0</td>\n      <td>0</td>\n    </tr>\n    <tr>\n      <th>240</th>\n      <td>0</td>\n      <td>0</td>\n      <td>0</td>\n      <td>0</td>\n      <td>0</td>\n      <td>0</td>\n      <td>0</td>\n      <td>0</td>\n      <td>0</td>\n      <td>0</td>\n      <td>...</td>\n      <td>0</td>\n      <td>0</td>\n      <td>0</td>\n      <td>0</td>\n      <td>0</td>\n      <td>0</td>\n      <td>0</td>\n      <td>0</td>\n      <td>0</td>\n      <td>0</td>\n    </tr>\n    <tr>\n      <th>241</th>\n      <td>0</td>\n      <td>0</td>\n      <td>0</td>\n      <td>0</td>\n      <td>0</td>\n      <td>0</td>\n      <td>0</td>\n      <td>0</td>\n      <td>0</td>\n      <td>0</td>\n      <td>...</td>\n      <td>0</td>\n      <td>0</td>\n      <td>0</td>\n      <td>0</td>\n      <td>0</td>\n      <td>0</td>\n      <td>0</td>\n      <td>0</td>\n      <td>0</td>\n      <td>0</td>\n    </tr>\n  </tbody>\n</table>\n<p>242 rows × 3468 columns</p>\n</div>"
     },
     "metadata": {},
     "execution_count": 52
    }
   ],
   "source": [
    "keywords_df"
   ]
  },
  {
   "cell_type": "code",
   "execution_count": 77,
   "metadata": {},
   "outputs": [
    {
     "output_type": "execute_result",
     "data": {
      "text/plain": "[['room', 302],\n ['hotel', 274],\n ['stay', 173],\n ['clean', 144],\n ['breakfast', 133],\n ['rooms', 116],\n ['staff', 111],\n ['nice', 107],\n ['just', 99],\n ['place', 94],\n ['good', 91],\n ['night', 89],\n ['great', 83],\n ['like', 76],\n ['area', 71],\n ['bed', 71],\n ['desk', 71],\n ['time', 71],\n ['free', 68],\n ['friendly', 67],\n ['didnt', 66],\n ['stayed', 60],\n ['day', 56],\n ['comfortable', 54],\n ['really', 50],\n ['service', 48],\n ['check', 47],\n ['did', 47],\n ['dont', 47],\n ['told', 45],\n ['checked', 44],\n ['location', 44],\n ['im', 43],\n ['inn', 43],\n ['price', 43],\n ['hotels', 42],\n ['said', 40],\n ['got', 39],\n ['went', 39],\n ['morning', 38],\n ['bathroom', 36],\n ['floor', 35],\n ['hot', 35],\n ['little', 35],\n ['hampton', 34],\n ['pool', 34],\n ['water', 34],\n ['coffee', 33],\n ['door', 33],\n ['small', 33],\n ['super', 33],\n ['called', 32],\n ['food', 32],\n ['way', 32],\n ['bad', 31],\n ['manager', 31],\n ['parking', 31],\n ['shower', 31],\n ['airport', 30],\n ['bit', 30],\n ['booked', 30],\n ['new', 30],\n ['customer', 29],\n ['staying', 29],\n ['beds', 28],\n ['close', 28],\n ['come', 28],\n ['need', 28],\n ['phoenix', 28],\n ['wifi', 28],\n ['better', 27],\n ['lobby', 27],\n ['pay', 26],\n ['right', 26],\n ['sure', 26],\n ['helpful', 25],\n ['know', 25],\n ['nights', 25],\n ['pretty', 25],\n ['use', 25],\n ['downtown', 24],\n ['lot', 24],\n ['old', 24],\n ['best', 23],\n ['going', 23],\n ['left', 23],\n ['make', 23],\n ['reservation', 23],\n ['work', 23],\n ['hospital', 22],\n ['motel', 22],\n ['tv', 22],\n ['actually', 21],\n ['away', 21],\n ['ive', 21],\n ['needed', 21],\n ['quiet', 21],\n ['theres', 21],\n ['towels', 21],\n ['ac', 20]]"
     },
     "metadata": {},
     "execution_count": 77
    }
   ],
   "source": [
    "#Get the number of occurrences of a keyword in all reviews\n",
    "lista_de_tuplas=list(zip(cv.get_feature_names(),keywords_df.sum().to_list()))\n",
    "#sort\n",
    "lista_de_tuplas.sort(key=lambda tup: tup[1], reverse=True)\n",
    "list_of_lists = [list(elem) for elem in lista_de_tuplas]\n",
    "list_of_lists [:100]"
   ]
  },
  {
   "cell_type": "code",
   "execution_count": 54,
   "metadata": {},
   "outputs": [
    {
     "output_type": "execute_result",
     "data": {
      "text/plain": "['aaa', 'abandoned', 'abby', 'able', 'abrupt']"
     },
     "metadata": {},
     "execution_count": 54
    }
   ],
   "source": [
    "#get_feature_names retorna el nombre de las entidades, no el indice, lista todas las keywords encontradas\n",
    "feature_names=cv.get_feature_names()\n",
    "feature_names[:5]"
   ]
  },
  {
   "cell_type": "code",
   "execution_count": 55,
   "metadata": {},
   "outputs": [
    {
     "output_type": "execute_result",
     "data": {
      "text/plain": "TfidfTransformer(norm='l2', smooth_idf=False, sublinear_tf=False, use_idf=True)"
     },
     "metadata": {},
     "execution_count": 55
    }
   ],
   "source": [
    "#Calculo de TF- IDF sobre la matriz dispersa, smooth_idf modifica la formula matematica False para no ignorar completamente los terminos que aparecen en todos los textos\n",
    "#Se utiliza normalizacion coseno\n",
    "#use_idf true para calcular la ponderacion inversa de frecuencia\n",
    "Tfidf_transformer=TfidfTransformer(smooth_idf=False,use_idf=True)\n",
    "Tfidf_transformer.fit(word_count_vector)"
   ]
  },
  {
   "cell_type": "code",
   "execution_count": 56,
   "metadata": {},
   "outputs": [
    {
     "output_type": "execute_result",
     "data": {
      "text/plain": "     0     1     2     3     4     5     6     7     8     9     ...  3458  \\\n0     0.0   0.0   0.0   0.0   0.0   0.0   0.0   0.0   0.0   0.0  ...   0.0   \n1     0.0   0.0   0.0   0.0   0.0   0.0   0.0   0.0   0.0   0.0  ...   0.0   \n2     0.0   0.0   0.0   0.0   0.0   0.0   0.0   0.0   0.0   0.0  ...   0.0   \n3     0.0   0.0   0.0   0.0   0.0   0.0   0.0   0.0   0.0   0.0  ...   0.0   \n4     0.0   0.0   0.0   0.0   0.0   0.0   0.0   0.0   0.0   0.0  ...   0.0   \n..    ...   ...   ...   ...   ...   ...   ...   ...   ...   ...  ...   ...   \n237   0.0   0.0   0.0   0.0   0.0   0.0   0.0   0.0   0.0   0.0  ...   0.0   \n238   0.0   0.0   0.0   0.0   0.0   0.0   0.0   0.0   0.0   0.0  ...   0.0   \n239   0.0   0.0   0.0   0.0   0.0   0.0   0.0   0.0   0.0   0.0  ...   0.0   \n240   0.0   0.0   0.0   0.0   0.0   0.0   0.0   0.0   0.0   0.0  ...   0.0   \n241   0.0   0.0   0.0   0.0   0.0   0.0   0.0   0.0   0.0   0.0  ...   0.0   \n\n        3459  3460  3461  3462     3463     3464  3465     3466     3467  \n0    0.00000   0.0   0.0   0.0  0.00000  0.00000   0.0  0.00000  0.00000  \n1    0.00000   0.0   0.0   0.0  0.00000  0.00000   0.0  0.00000  0.00000  \n2    0.00000   0.0   0.0   0.0  0.00000  0.00000   0.0  0.00000  0.00000  \n3    0.07565   0.0   0.0   0.0  0.07565  0.07565   0.0  0.07565  0.07565  \n4    0.00000   0.0   0.0   0.0  0.00000  0.00000   0.0  0.00000  0.00000  \n..       ...   ...   ...   ...      ...      ...   ...      ...      ...  \n237  0.00000   0.0   0.0   0.0  0.00000  0.00000   0.0  0.00000  0.00000  \n238  0.00000   0.0   0.0   0.0  0.00000  0.00000   0.0  0.00000  0.00000  \n239  0.00000   0.0   0.0   0.0  0.00000  0.00000   0.0  0.00000  0.00000  \n240  0.00000   0.0   0.0   0.0  0.00000  0.00000   0.0  0.00000  0.00000  \n241  0.00000   0.0   0.0   0.0  0.00000  0.00000   0.0  0.00000  0.00000  \n\n[242 rows x 3468 columns]",
      "text/html": "<div>\n<style scoped>\n    .dataframe tbody tr th:only-of-type {\n        vertical-align: middle;\n    }\n\n    .dataframe tbody tr th {\n        vertical-align: top;\n    }\n\n    .dataframe thead th {\n        text-align: right;\n    }\n</style>\n<table border=\"1\" class=\"dataframe\">\n  <thead>\n    <tr style=\"text-align: right;\">\n      <th></th>\n      <th>0</th>\n      <th>1</th>\n      <th>2</th>\n      <th>3</th>\n      <th>4</th>\n      <th>5</th>\n      <th>6</th>\n      <th>7</th>\n      <th>8</th>\n      <th>9</th>\n      <th>...</th>\n      <th>3458</th>\n      <th>3459</th>\n      <th>3460</th>\n      <th>3461</th>\n      <th>3462</th>\n      <th>3463</th>\n      <th>3464</th>\n      <th>3465</th>\n      <th>3466</th>\n      <th>3467</th>\n    </tr>\n  </thead>\n  <tbody>\n    <tr>\n      <th>0</th>\n      <td>0.0</td>\n      <td>0.0</td>\n      <td>0.0</td>\n      <td>0.0</td>\n      <td>0.0</td>\n      <td>0.0</td>\n      <td>0.0</td>\n      <td>0.0</td>\n      <td>0.0</td>\n      <td>0.0</td>\n      <td>...</td>\n      <td>0.0</td>\n      <td>0.00000</td>\n      <td>0.0</td>\n      <td>0.0</td>\n      <td>0.0</td>\n      <td>0.00000</td>\n      <td>0.00000</td>\n      <td>0.0</td>\n      <td>0.00000</td>\n      <td>0.00000</td>\n    </tr>\n    <tr>\n      <th>1</th>\n      <td>0.0</td>\n      <td>0.0</td>\n      <td>0.0</td>\n      <td>0.0</td>\n      <td>0.0</td>\n      <td>0.0</td>\n      <td>0.0</td>\n      <td>0.0</td>\n      <td>0.0</td>\n      <td>0.0</td>\n      <td>...</td>\n      <td>0.0</td>\n      <td>0.00000</td>\n      <td>0.0</td>\n      <td>0.0</td>\n      <td>0.0</td>\n      <td>0.00000</td>\n      <td>0.00000</td>\n      <td>0.0</td>\n      <td>0.00000</td>\n      <td>0.00000</td>\n    </tr>\n    <tr>\n      <th>2</th>\n      <td>0.0</td>\n      <td>0.0</td>\n      <td>0.0</td>\n      <td>0.0</td>\n      <td>0.0</td>\n      <td>0.0</td>\n      <td>0.0</td>\n      <td>0.0</td>\n      <td>0.0</td>\n      <td>0.0</td>\n      <td>...</td>\n      <td>0.0</td>\n      <td>0.00000</td>\n      <td>0.0</td>\n      <td>0.0</td>\n      <td>0.0</td>\n      <td>0.00000</td>\n      <td>0.00000</td>\n      <td>0.0</td>\n      <td>0.00000</td>\n      <td>0.00000</td>\n    </tr>\n    <tr>\n      <th>3</th>\n      <td>0.0</td>\n      <td>0.0</td>\n      <td>0.0</td>\n      <td>0.0</td>\n      <td>0.0</td>\n      <td>0.0</td>\n      <td>0.0</td>\n      <td>0.0</td>\n      <td>0.0</td>\n      <td>0.0</td>\n      <td>...</td>\n      <td>0.0</td>\n      <td>0.07565</td>\n      <td>0.0</td>\n      <td>0.0</td>\n      <td>0.0</td>\n      <td>0.07565</td>\n      <td>0.07565</td>\n      <td>0.0</td>\n      <td>0.07565</td>\n      <td>0.07565</td>\n    </tr>\n    <tr>\n      <th>4</th>\n      <td>0.0</td>\n      <td>0.0</td>\n      <td>0.0</td>\n      <td>0.0</td>\n      <td>0.0</td>\n      <td>0.0</td>\n      <td>0.0</td>\n      <td>0.0</td>\n      <td>0.0</td>\n      <td>0.0</td>\n      <td>...</td>\n      <td>0.0</td>\n      <td>0.00000</td>\n      <td>0.0</td>\n      <td>0.0</td>\n      <td>0.0</td>\n      <td>0.00000</td>\n      <td>0.00000</td>\n      <td>0.0</td>\n      <td>0.00000</td>\n      <td>0.00000</td>\n    </tr>\n    <tr>\n      <th>...</th>\n      <td>...</td>\n      <td>...</td>\n      <td>...</td>\n      <td>...</td>\n      <td>...</td>\n      <td>...</td>\n      <td>...</td>\n      <td>...</td>\n      <td>...</td>\n      <td>...</td>\n      <td>...</td>\n      <td>...</td>\n      <td>...</td>\n      <td>...</td>\n      <td>...</td>\n      <td>...</td>\n      <td>...</td>\n      <td>...</td>\n      <td>...</td>\n      <td>...</td>\n      <td>...</td>\n    </tr>\n    <tr>\n      <th>237</th>\n      <td>0.0</td>\n      <td>0.0</td>\n      <td>0.0</td>\n      <td>0.0</td>\n      <td>0.0</td>\n      <td>0.0</td>\n      <td>0.0</td>\n      <td>0.0</td>\n      <td>0.0</td>\n      <td>0.0</td>\n      <td>...</td>\n      <td>0.0</td>\n      <td>0.00000</td>\n      <td>0.0</td>\n      <td>0.0</td>\n      <td>0.0</td>\n      <td>0.00000</td>\n      <td>0.00000</td>\n      <td>0.0</td>\n      <td>0.00000</td>\n      <td>0.00000</td>\n    </tr>\n    <tr>\n      <th>238</th>\n      <td>0.0</td>\n      <td>0.0</td>\n      <td>0.0</td>\n      <td>0.0</td>\n      <td>0.0</td>\n      <td>0.0</td>\n      <td>0.0</td>\n      <td>0.0</td>\n      <td>0.0</td>\n      <td>0.0</td>\n      <td>...</td>\n      <td>0.0</td>\n      <td>0.00000</td>\n      <td>0.0</td>\n      <td>0.0</td>\n      <td>0.0</td>\n      <td>0.00000</td>\n      <td>0.00000</td>\n      <td>0.0</td>\n      <td>0.00000</td>\n      <td>0.00000</td>\n    </tr>\n    <tr>\n      <th>239</th>\n      <td>0.0</td>\n      <td>0.0</td>\n      <td>0.0</td>\n      <td>0.0</td>\n      <td>0.0</td>\n      <td>0.0</td>\n      <td>0.0</td>\n      <td>0.0</td>\n      <td>0.0</td>\n      <td>0.0</td>\n      <td>...</td>\n      <td>0.0</td>\n      <td>0.00000</td>\n      <td>0.0</td>\n      <td>0.0</td>\n      <td>0.0</td>\n      <td>0.00000</td>\n      <td>0.00000</td>\n      <td>0.0</td>\n      <td>0.00000</td>\n      <td>0.00000</td>\n    </tr>\n    <tr>\n      <th>240</th>\n      <td>0.0</td>\n      <td>0.0</td>\n      <td>0.0</td>\n      <td>0.0</td>\n      <td>0.0</td>\n      <td>0.0</td>\n      <td>0.0</td>\n      <td>0.0</td>\n      <td>0.0</td>\n      <td>0.0</td>\n      <td>...</td>\n      <td>0.0</td>\n      <td>0.00000</td>\n      <td>0.0</td>\n      <td>0.0</td>\n      <td>0.0</td>\n      <td>0.00000</td>\n      <td>0.00000</td>\n      <td>0.0</td>\n      <td>0.00000</td>\n      <td>0.00000</td>\n    </tr>\n    <tr>\n      <th>241</th>\n      <td>0.0</td>\n      <td>0.0</td>\n      <td>0.0</td>\n      <td>0.0</td>\n      <td>0.0</td>\n      <td>0.0</td>\n      <td>0.0</td>\n      <td>0.0</td>\n      <td>0.0</td>\n      <td>0.0</td>\n      <td>...</td>\n      <td>0.0</td>\n      <td>0.00000</td>\n      <td>0.0</td>\n      <td>0.0</td>\n      <td>0.0</td>\n      <td>0.00000</td>\n      <td>0.00000</td>\n      <td>0.0</td>\n      <td>0.00000</td>\n      <td>0.00000</td>\n    </tr>\n  </tbody>\n</table>\n<p>242 rows × 3468 columns</p>\n</div>"
     },
     "metadata": {},
     "execution_count": 56
    }
   ],
   "source": [
    "keyword_tf_idf_df = pd.DataFrame(Tfidf_transformer.transform(word_count_vector).toarray())\n",
    "keyword_tf_idf_df"
   ]
  },
  {
   "cell_type": "code",
   "execution_count": 57,
   "metadata": {},
   "outputs": [],
   "source": [
    "def sort_coo(coo_matrix):\n",
    "    tuples=zip(coo_matrix.col,coo_matrix.data)\n",
    "    return sorted(tuples,key=lambda x:(x[1],x[0]),reverse=True)\n",
    "\n",
    "#Extra de todas las keywords las n-keywords mas relevantes(TF-IDF)\n",
    "def extract_topn_from_vector(feature_names, sorted_items,topn=10):\n",
    "    sorted_items=sorted_items[:topn]\n",
    "    score_vals=[]\n",
    "    feature_vals=[]   \n",
    "    for idx,score in sorted_items:\n",
    "        score_vals.append(round(score,3))\n",
    "        feature_vals.append(feature_names[idx])\n",
    "    results={}\n",
    "    for idx in range(len(feature_vals)):\n",
    "        results[feature_vals[idx]]=score_vals[idx]\n",
    "    return results "
   ]
  },
  {
   "cell_type": "code",
   "execution_count": 58,
   "metadata": {},
   "outputs": [
    {
     "output_type": "execute_result",
     "data": {
      "text/plain": "[{'agent': 0.476,\n  'confirmed': 0.381,\n  'adjoining': 0.253,\n  'rooms': 0.243,\n  'problems': 0.18,\n  'noticed': 0.172,\n  'male': 0.152,\n  'desk': 0.146,\n  'told': 0.141,\n  'urine': 0.136},\n {'rules': 0.49,\n  'explain': 0.325,\n  'started': 0.231,\n  'just': 0.147,\n  'clerk': 0.13,\n  'extra': 0.116,\n  'charge': 0.116,\n  'doesnt': 0.114,\n  'desk': 0.112,\n  'sure': 0.103},\n {'received': 0.305,\n  'verbal': 0.203,\n  'topped': 0.203,\n  'survey': 0.203,\n  'statements': 0.203,\n  'reconsider': 0.203,\n  'legal': 0.203,\n  'forbidding': 0.203,\n  'foot': 0.203,\n  'downhill': 0.203},\n {'und': 0.681,\n  'war': 0.227,\n  'sehr': 0.151,\n  'mit': 0.151,\n  'hier': 0.151,\n  'frühstück': 0.151,\n  'der': 0.151,\n  'alles': 0.151,\n  'äpfel': 0.076,\n  'zügig': 0.076},\n {'cheapest': 0.3,\n  'waffle': 0.21,\n  'getting': 0.21,\n  'hotels': 0.207,\n  'breakfast': 0.177,\n  'door': 0.159,\n  'hotel': 0.153,\n  'worksit': 0.15,\n  'troubles': 0.15,\n  'tier': 0.15}]"
     },
     "metadata": {},
     "execution_count": 58
    }
   ],
   "source": [
    "#Calculo de TF-IDF y encontrar top 10 de keywords para cada texto de las reviews de los vecinos\n",
    "keywordsArray=[]\n",
    "for text in clear_text_list:\n",
    "    tf_idf_vector=Tfidf_transformer.transform(cv.transform([text]))\n",
    "    sorted_items=sort_coo(tf_idf_vector.tocoo())\n",
    "    keywords=extract_topn_from_vector(feature_names,sorted_items,10)\n",
    "    keywordsArray.append(keywords)\n",
    "keywordsArray[:5]"
   ]
  },
  {
   "cell_type": "code",
   "execution_count": 59,
   "metadata": {},
   "outputs": [
    {
     "output_type": "execute_result",
     "data": {
      "text/plain": "[['agent',\n  'confirmed',\n  'adjoining',\n  'rooms',\n  'problems',\n  'noticed',\n  'male',\n  'desk',\n  'told',\n  'urine'],\n ['rules',\n  'explain',\n  'started',\n  'just',\n  'clerk',\n  'extra',\n  'charge',\n  'doesnt',\n  'desk',\n  'sure'],\n ['received',\n  'verbal',\n  'topped',\n  'survey',\n  'statements',\n  'reconsider',\n  'legal',\n  'forbidding',\n  'foot',\n  'downhill'],\n ['und',\n  'war',\n  'sehr',\n  'mit',\n  'hier',\n  'frühstück',\n  'der',\n  'alles',\n  'äpfel',\n  'zügig'],\n ['cheapest',\n  'waffle',\n  'getting',\n  'hotels',\n  'breakfast',\n  'door',\n  'hotel',\n  'worksit',\n  'troubles',\n  'tier']]"
     },
     "metadata": {},
     "execution_count": 59
    }
   ],
   "source": [
    "reviews_keywords=[]\n",
    "for text in clear_text_list:\n",
    "    tf_idf_vector=Tfidf_transformer.transform(cv.transform([text]))\n",
    "    sorted_items=sort_coo(tf_idf_vector.tocoo())\n",
    "    keywords=extract_topn_from_vector(feature_names,sorted_items,10)\n",
    "    reviews_keywords.append( list( keywords.keys() ) )\n",
    "reviews_keywords[:5]"
   ]
  },
  {
   "cell_type": "code",
   "execution_count": 60,
   "metadata": {},
   "outputs": [
    {
     "output_type": "execute_result",
     "data": {
      "text/plain": "              0           1          2            3           4            5  \\\n0         agent   confirmed  adjoining        rooms    problems      noticed   \n1         rules     explain    started         just       clerk        extra   \n2      received      verbal     topped       survey  statements   reconsider   \n3           und         war       sehr          mit        hier    frühstück   \n4      cheapest      waffle    getting       hotels   breakfast         door   \n..          ...         ...        ...          ...         ...          ...   \n237         aid        seat     modern       toilet    recently        didnt   \n238     updated        beds     really  comfortable    friendly        great   \n239       fully       night     refund         paid        away       booked   \n240  incredible       vegas   strongly        youre  reasonable        staff   \n241       meals  affordable     casino   restaurant        beds  comfortable   \n\n           6           7         8          9  \n0       male        desk      told      urine  \n1     charge      doesnt      desk       sure  \n2      legal  forbidding      foot   downhill  \n3        der       alles     äpfel      zügig  \n4      hotel     worksit  troubles       tier  \n..       ...         ...       ...        ...  \n237    large     minutes      time       took  \n238    rooms       clean      stay       None  \n239  watched   vacancies    timing     roomed  \n240   coming        rate   looking  recommend  \n241    clean       hotel      None       None  \n\n[242 rows x 10 columns]",
      "text/html": "<div>\n<style scoped>\n    .dataframe tbody tr th:only-of-type {\n        vertical-align: middle;\n    }\n\n    .dataframe tbody tr th {\n        vertical-align: top;\n    }\n\n    .dataframe thead th {\n        text-align: right;\n    }\n</style>\n<table border=\"1\" class=\"dataframe\">\n  <thead>\n    <tr style=\"text-align: right;\">\n      <th></th>\n      <th>0</th>\n      <th>1</th>\n      <th>2</th>\n      <th>3</th>\n      <th>4</th>\n      <th>5</th>\n      <th>6</th>\n      <th>7</th>\n      <th>8</th>\n      <th>9</th>\n    </tr>\n  </thead>\n  <tbody>\n    <tr>\n      <th>0</th>\n      <td>agent</td>\n      <td>confirmed</td>\n      <td>adjoining</td>\n      <td>rooms</td>\n      <td>problems</td>\n      <td>noticed</td>\n      <td>male</td>\n      <td>desk</td>\n      <td>told</td>\n      <td>urine</td>\n    </tr>\n    <tr>\n      <th>1</th>\n      <td>rules</td>\n      <td>explain</td>\n      <td>started</td>\n      <td>just</td>\n      <td>clerk</td>\n      <td>extra</td>\n      <td>charge</td>\n      <td>doesnt</td>\n      <td>desk</td>\n      <td>sure</td>\n    </tr>\n    <tr>\n      <th>2</th>\n      <td>received</td>\n      <td>verbal</td>\n      <td>topped</td>\n      <td>survey</td>\n      <td>statements</td>\n      <td>reconsider</td>\n      <td>legal</td>\n      <td>forbidding</td>\n      <td>foot</td>\n      <td>downhill</td>\n    </tr>\n    <tr>\n      <th>3</th>\n      <td>und</td>\n      <td>war</td>\n      <td>sehr</td>\n      <td>mit</td>\n      <td>hier</td>\n      <td>frühstück</td>\n      <td>der</td>\n      <td>alles</td>\n      <td>äpfel</td>\n      <td>zügig</td>\n    </tr>\n    <tr>\n      <th>4</th>\n      <td>cheapest</td>\n      <td>waffle</td>\n      <td>getting</td>\n      <td>hotels</td>\n      <td>breakfast</td>\n      <td>door</td>\n      <td>hotel</td>\n      <td>worksit</td>\n      <td>troubles</td>\n      <td>tier</td>\n    </tr>\n    <tr>\n      <th>...</th>\n      <td>...</td>\n      <td>...</td>\n      <td>...</td>\n      <td>...</td>\n      <td>...</td>\n      <td>...</td>\n      <td>...</td>\n      <td>...</td>\n      <td>...</td>\n      <td>...</td>\n    </tr>\n    <tr>\n      <th>237</th>\n      <td>aid</td>\n      <td>seat</td>\n      <td>modern</td>\n      <td>toilet</td>\n      <td>recently</td>\n      <td>didnt</td>\n      <td>large</td>\n      <td>minutes</td>\n      <td>time</td>\n      <td>took</td>\n    </tr>\n    <tr>\n      <th>238</th>\n      <td>updated</td>\n      <td>beds</td>\n      <td>really</td>\n      <td>comfortable</td>\n      <td>friendly</td>\n      <td>great</td>\n      <td>rooms</td>\n      <td>clean</td>\n      <td>stay</td>\n      <td>None</td>\n    </tr>\n    <tr>\n      <th>239</th>\n      <td>fully</td>\n      <td>night</td>\n      <td>refund</td>\n      <td>paid</td>\n      <td>away</td>\n      <td>booked</td>\n      <td>watched</td>\n      <td>vacancies</td>\n      <td>timing</td>\n      <td>roomed</td>\n    </tr>\n    <tr>\n      <th>240</th>\n      <td>incredible</td>\n      <td>vegas</td>\n      <td>strongly</td>\n      <td>youre</td>\n      <td>reasonable</td>\n      <td>staff</td>\n      <td>coming</td>\n      <td>rate</td>\n      <td>looking</td>\n      <td>recommend</td>\n    </tr>\n    <tr>\n      <th>241</th>\n      <td>meals</td>\n      <td>affordable</td>\n      <td>casino</td>\n      <td>restaurant</td>\n      <td>beds</td>\n      <td>comfortable</td>\n      <td>clean</td>\n      <td>hotel</td>\n      <td>None</td>\n      <td>None</td>\n    </tr>\n  </tbody>\n</table>\n<p>242 rows × 10 columns</p>\n</div>"
     },
     "metadata": {},
     "execution_count": 60
    }
   ],
   "source": [
    "df_reviews_keywords = pd.DataFrame(reviews_keywords)\n",
    "df_reviews_keywords"
   ]
  },
  {
   "cell_type": "code",
   "execution_count": null,
   "metadata": {},
   "outputs": [],
   "source": []
  },
  {
   "cell_type": "code",
   "execution_count": 61,
   "metadata": {},
   "outputs": [
    {
     "output_type": "execute_result",
     "data": {
      "text/plain": "[[0.476, 0.381, 0.253, 0.243, 0.18, 0.172, 0.152, 0.146, 0.141, 0.136],\n [0.49, 0.325, 0.231, 0.147, 0.13, 0.116, 0.116, 0.114, 0.112, 0.103],\n [0.305, 0.203, 0.203, 0.203, 0.203, 0.203, 0.203, 0.203, 0.203, 0.203],\n [0.681, 0.227, 0.151, 0.151, 0.151, 0.151, 0.151, 0.151, 0.076, 0.076],\n [0.3, 0.21, 0.21, 0.207, 0.177, 0.159, 0.153, 0.15, 0.15, 0.15]]"
     },
     "metadata": {},
     "execution_count": 61
    }
   ],
   "source": [
    "reviews_keywords_scores=[]\n",
    "for text in clear_text_list:\n",
    "    tf_idf_vector=Tfidf_transformer.transform(cv.transform([text]))\n",
    "    sorted_items=sort_coo(tf_idf_vector.tocoo())\n",
    "    keywords=extract_topn_from_vector(feature_names,sorted_items,10)\n",
    "    reviews_keywords_scores.append( list( keywords.values() ))\n",
    "reviews_keywords_scores[:5]"
   ]
  },
  {
   "cell_type": "code",
   "execution_count": 62,
   "metadata": {},
   "outputs": [],
   "source": [
    "kn_reviews_df['useful_mean'] = kn_reviews_df['useful'].mean()\n",
    "kn_reviews_df['is_useful'] = kn_reviews_df['useful'] > kn_reviews_df['useful_mean']"
   ]
  },
  {
   "cell_type": "code",
   "execution_count": 63,
   "metadata": {},
   "outputs": [
    {
     "output_type": "execute_result",
     "data": {
      "text/plain": "                          _id               review_id                 user_id  \\\n0    5e9664963b612dc2f0e488c0  -86eJuYugapSTs5dvCZKtw  qjX40bTubCboIQ6S4mu54A   \n1    5e9664973b612dc2f0e4b13d  j57XFIDuzcpBrcptbrJSwA  USljZmbtpya0BEKocSLbUw   \n2    5e9664973b612dc2f0e4c04b  Hb_kJxRWevasbqHfD_YBQw  mEXLSpAc0A5zdW5iZEosSg   \n3    5e9664983b612dc2f0e511eb  qpdvJX2M17LZrrtamrpgjA  YcdgoZzc9yuGN1pBBxevRQ   \n4    5e9664993b612dc2f0e5448a  ivzJHezSj4594qkg6DbS9g  cpOqABn6YiktZqMrJUB8Aw   \n..                        ...                     ...                     ...   \n237  5e9665cd3b612dc2f0519561  mfC8GXG3j38ip_KErwe1dg  fCExFIeu2BT35FSx2Yz2aA   \n238  5e9665cd3b612dc2f051c269  LPNViYqzq4N7iwMEFvFN_g  A2P6QP1T0An81jDnB9OnzQ   \n239  5e9665ce3b612dc2f0520816  -J6g1v3wGtT8VDxlhoPk8w  Z5_2D0duy6vBnMVHooEwEQ   \n240  5e9665ce3b612dc2f0521b0b  TcAUyiFCd_oAxNjTEKEL_A  qOlt6hHXxUijPJ8iwlo6hA   \n241  5e9665ce3b612dc2f05231c5  8X1coT0qJcO0hL-9tygAwQ  6V859jHOyLTz-x5LKdyHIQ   \n\n                business_id  stars  useful  funny  cool  \\\n0    5FVBaD1poRZQeqUDxbWWQA      1       3      0     0   \n1    5FVBaD1poRZQeqUDxbWWQA      1       1      0     0   \n2    5FVBaD1poRZQeqUDxbWWQA      1       1      0     0   \n3    5FVBaD1poRZQeqUDxbWWQA      5       0      0     0   \n4    5FVBaD1poRZQeqUDxbWWQA      4       2      0     0   \n..                      ...    ...     ...    ...   ...   \n237  gjR5bIyL4ETB9CtWgNL64A      5       4      0     2   \n238  gjR5bIyL4ETB9CtWgNL64A      5       0      0     1   \n239  gjR5bIyL4ETB9CtWgNL64A      1       3      0     0   \n240  gjR5bIyL4ETB9CtWgNL64A      5       0      0     0   \n241  gjR5bIyL4ETB9CtWgNL64A      4       1      0     0   \n\n                                                  text                date  \\\n0    Checked in with my family of five for two room... 2013-12-30 14:52:18   \n1    AT first it seemed like a good hotel. I'm not ... 2013-01-28 19:03:36   \n2    I have stayed here 7 times in the past few mon... 2017-03-15 22:17:31   \n3    Check-in war sehr zügig und der Mitarbeiter ex... 2013-10-06 15:22:27   \n4    the waffle factor:\\n\\n i don't work, haven't f... 2012-11-08 15:29:18   \n..                                                 ...                 ...   \n237  So most everyone from 'round these parts are v... 2018-02-10 05:36:37   \n238  Great stay. Clean updated rooms. Comfortable b... 2019-03-20 17:42:25   \n239  DO NOT BOOK HERE. At least not if you are plan... 2018-09-02 11:12:09   \n240  Staff was incredible and the room was at a ver... 2019-06-29 03:47:43   \n241  Very clean hotel with comfortable beds.  Very ... 2018-09-09 23:01:00   \n\n     useful_mean  is_useful  \n0       1.024793       True  \n1       1.024793      False  \n2       1.024793      False  \n3       1.024793      False  \n4       1.024793       True  \n..           ...        ...  \n237     1.024793       True  \n238     1.024793      False  \n239     1.024793       True  \n240     1.024793      False  \n241     1.024793      False  \n\n[242 rows x 12 columns]",
      "text/html": "<div>\n<style scoped>\n    .dataframe tbody tr th:only-of-type {\n        vertical-align: middle;\n    }\n\n    .dataframe tbody tr th {\n        vertical-align: top;\n    }\n\n    .dataframe thead th {\n        text-align: right;\n    }\n</style>\n<table border=\"1\" class=\"dataframe\">\n  <thead>\n    <tr style=\"text-align: right;\">\n      <th></th>\n      <th>_id</th>\n      <th>review_id</th>\n      <th>user_id</th>\n      <th>business_id</th>\n      <th>stars</th>\n      <th>useful</th>\n      <th>funny</th>\n      <th>cool</th>\n      <th>text</th>\n      <th>date</th>\n      <th>useful_mean</th>\n      <th>is_useful</th>\n    </tr>\n  </thead>\n  <tbody>\n    <tr>\n      <th>0</th>\n      <td>5e9664963b612dc2f0e488c0</td>\n      <td>-86eJuYugapSTs5dvCZKtw</td>\n      <td>qjX40bTubCboIQ6S4mu54A</td>\n      <td>5FVBaD1poRZQeqUDxbWWQA</td>\n      <td>1</td>\n      <td>3</td>\n      <td>0</td>\n      <td>0</td>\n      <td>Checked in with my family of five for two room...</td>\n      <td>2013-12-30 14:52:18</td>\n      <td>1.024793</td>\n      <td>True</td>\n    </tr>\n    <tr>\n      <th>1</th>\n      <td>5e9664973b612dc2f0e4b13d</td>\n      <td>j57XFIDuzcpBrcptbrJSwA</td>\n      <td>USljZmbtpya0BEKocSLbUw</td>\n      <td>5FVBaD1poRZQeqUDxbWWQA</td>\n      <td>1</td>\n      <td>1</td>\n      <td>0</td>\n      <td>0</td>\n      <td>AT first it seemed like a good hotel. I'm not ...</td>\n      <td>2013-01-28 19:03:36</td>\n      <td>1.024793</td>\n      <td>False</td>\n    </tr>\n    <tr>\n      <th>2</th>\n      <td>5e9664973b612dc2f0e4c04b</td>\n      <td>Hb_kJxRWevasbqHfD_YBQw</td>\n      <td>mEXLSpAc0A5zdW5iZEosSg</td>\n      <td>5FVBaD1poRZQeqUDxbWWQA</td>\n      <td>1</td>\n      <td>1</td>\n      <td>0</td>\n      <td>0</td>\n      <td>I have stayed here 7 times in the past few mon...</td>\n      <td>2017-03-15 22:17:31</td>\n      <td>1.024793</td>\n      <td>False</td>\n    </tr>\n    <tr>\n      <th>3</th>\n      <td>5e9664983b612dc2f0e511eb</td>\n      <td>qpdvJX2M17LZrrtamrpgjA</td>\n      <td>YcdgoZzc9yuGN1pBBxevRQ</td>\n      <td>5FVBaD1poRZQeqUDxbWWQA</td>\n      <td>5</td>\n      <td>0</td>\n      <td>0</td>\n      <td>0</td>\n      <td>Check-in war sehr zügig und der Mitarbeiter ex...</td>\n      <td>2013-10-06 15:22:27</td>\n      <td>1.024793</td>\n      <td>False</td>\n    </tr>\n    <tr>\n      <th>4</th>\n      <td>5e9664993b612dc2f0e5448a</td>\n      <td>ivzJHezSj4594qkg6DbS9g</td>\n      <td>cpOqABn6YiktZqMrJUB8Aw</td>\n      <td>5FVBaD1poRZQeqUDxbWWQA</td>\n      <td>4</td>\n      <td>2</td>\n      <td>0</td>\n      <td>0</td>\n      <td>the waffle factor:\\n\\n i don't work, haven't f...</td>\n      <td>2012-11-08 15:29:18</td>\n      <td>1.024793</td>\n      <td>True</td>\n    </tr>\n    <tr>\n      <th>...</th>\n      <td>...</td>\n      <td>...</td>\n      <td>...</td>\n      <td>...</td>\n      <td>...</td>\n      <td>...</td>\n      <td>...</td>\n      <td>...</td>\n      <td>...</td>\n      <td>...</td>\n      <td>...</td>\n      <td>...</td>\n    </tr>\n    <tr>\n      <th>237</th>\n      <td>5e9665cd3b612dc2f0519561</td>\n      <td>mfC8GXG3j38ip_KErwe1dg</td>\n      <td>fCExFIeu2BT35FSx2Yz2aA</td>\n      <td>gjR5bIyL4ETB9CtWgNL64A</td>\n      <td>5</td>\n      <td>4</td>\n      <td>0</td>\n      <td>2</td>\n      <td>So most everyone from 'round these parts are v...</td>\n      <td>2018-02-10 05:36:37</td>\n      <td>1.024793</td>\n      <td>True</td>\n    </tr>\n    <tr>\n      <th>238</th>\n      <td>5e9665cd3b612dc2f051c269</td>\n      <td>LPNViYqzq4N7iwMEFvFN_g</td>\n      <td>A2P6QP1T0An81jDnB9OnzQ</td>\n      <td>gjR5bIyL4ETB9CtWgNL64A</td>\n      <td>5</td>\n      <td>0</td>\n      <td>0</td>\n      <td>1</td>\n      <td>Great stay. Clean updated rooms. Comfortable b...</td>\n      <td>2019-03-20 17:42:25</td>\n      <td>1.024793</td>\n      <td>False</td>\n    </tr>\n    <tr>\n      <th>239</th>\n      <td>5e9665ce3b612dc2f0520816</td>\n      <td>-J6g1v3wGtT8VDxlhoPk8w</td>\n      <td>Z5_2D0duy6vBnMVHooEwEQ</td>\n      <td>gjR5bIyL4ETB9CtWgNL64A</td>\n      <td>1</td>\n      <td>3</td>\n      <td>0</td>\n      <td>0</td>\n      <td>DO NOT BOOK HERE. At least not if you are plan...</td>\n      <td>2018-09-02 11:12:09</td>\n      <td>1.024793</td>\n      <td>True</td>\n    </tr>\n    <tr>\n      <th>240</th>\n      <td>5e9665ce3b612dc2f0521b0b</td>\n      <td>TcAUyiFCd_oAxNjTEKEL_A</td>\n      <td>qOlt6hHXxUijPJ8iwlo6hA</td>\n      <td>gjR5bIyL4ETB9CtWgNL64A</td>\n      <td>5</td>\n      <td>0</td>\n      <td>0</td>\n      <td>0</td>\n      <td>Staff was incredible and the room was at a ver...</td>\n      <td>2019-06-29 03:47:43</td>\n      <td>1.024793</td>\n      <td>False</td>\n    </tr>\n    <tr>\n      <th>241</th>\n      <td>5e9665ce3b612dc2f05231c5</td>\n      <td>8X1coT0qJcO0hL-9tygAwQ</td>\n      <td>6V859jHOyLTz-x5LKdyHIQ</td>\n      <td>gjR5bIyL4ETB9CtWgNL64A</td>\n      <td>4</td>\n      <td>1</td>\n      <td>0</td>\n      <td>0</td>\n      <td>Very clean hotel with comfortable beds.  Very ...</td>\n      <td>2018-09-09 23:01:00</td>\n      <td>1.024793</td>\n      <td>False</td>\n    </tr>\n  </tbody>\n</table>\n<p>242 rows × 12 columns</p>\n</div>"
     },
     "metadata": {},
     "execution_count": 63
    }
   ],
   "source": [
    "kn_reviews_df"
   ]
  },
  {
   "cell_type": "code",
   "execution_count": 64,
   "metadata": {},
   "outputs": [
    {
     "output_type": "execute_result",
     "data": {
      "text/plain": "count    242.000000\nmean       1.024793\nstd        1.716229\nmin        0.000000\n25%        0.000000\n50%        0.000000\n75%        1.000000\nmax       15.000000\nName: useful, dtype: float64"
     },
     "metadata": {},
     "execution_count": 64
    }
   ],
   "source": [
    "kn_reviews_df['useful'].describe()"
   ]
  },
  {
   "cell_type": "code",
   "execution_count": 65,
   "metadata": {},
   "outputs": [
    {
     "output_type": "execute_result",
     "data": {
      "text/plain": "count       242\nunique        2\ntop       False\nfreq        186\nName: is_useful, dtype: object"
     },
     "metadata": {},
     "execution_count": 65
    }
   ],
   "source": [
    "kn_reviews_df['is_useful'].describe()"
   ]
  },
  {
   "cell_type": "code",
   "execution_count": 66,
   "metadata": {},
   "outputs": [
    {
     "output_type": "execute_result",
     "data": {
      "text/plain": "                  review_id  is_useful           0           1          2  \\\n0    -86eJuYugapSTs5dvCZKtw       True       agent   confirmed  adjoining   \n1    j57XFIDuzcpBrcptbrJSwA      False       rules     explain    started   \n2    Hb_kJxRWevasbqHfD_YBQw      False    received      verbal     topped   \n3    qpdvJX2M17LZrrtamrpgjA      False         und         war       sehr   \n4    ivzJHezSj4594qkg6DbS9g       True    cheapest      waffle    getting   \n..                      ...        ...         ...         ...        ...   \n237  mfC8GXG3j38ip_KErwe1dg       True         aid        seat     modern   \n238  LPNViYqzq4N7iwMEFvFN_g      False     updated        beds     really   \n239  -J6g1v3wGtT8VDxlhoPk8w       True       fully       night     refund   \n240  TcAUyiFCd_oAxNjTEKEL_A      False  incredible       vegas   strongly   \n241  8X1coT0qJcO0hL-9tygAwQ      False       meals  affordable     casino   \n\n               3           4            5        6           7         8  \\\n0          rooms    problems      noticed     male        desk      told   \n1           just       clerk        extra   charge      doesnt      desk   \n2         survey  statements   reconsider    legal  forbidding      foot   \n3            mit        hier    frühstück      der       alles     äpfel   \n4         hotels   breakfast         door    hotel     worksit  troubles   \n..           ...         ...          ...      ...         ...       ...   \n237       toilet    recently        didnt    large     minutes      time   \n238  comfortable    friendly        great    rooms       clean      stay   \n239         paid        away       booked  watched   vacancies    timing   \n240        youre  reasonable        staff   coming        rate   looking   \n241   restaurant        beds  comfortable    clean       hotel      None   \n\n             9  \n0        urine  \n1         sure  \n2     downhill  \n3        zügig  \n4         tier  \n..         ...  \n237       took  \n238       None  \n239     roomed  \n240  recommend  \n241       None  \n\n[242 rows x 12 columns]",
      "text/html": "<div>\n<style scoped>\n    .dataframe tbody tr th:only-of-type {\n        vertical-align: middle;\n    }\n\n    .dataframe tbody tr th {\n        vertical-align: top;\n    }\n\n    .dataframe thead th {\n        text-align: right;\n    }\n</style>\n<table border=\"1\" class=\"dataframe\">\n  <thead>\n    <tr style=\"text-align: right;\">\n      <th></th>\n      <th>review_id</th>\n      <th>is_useful</th>\n      <th>0</th>\n      <th>1</th>\n      <th>2</th>\n      <th>3</th>\n      <th>4</th>\n      <th>5</th>\n      <th>6</th>\n      <th>7</th>\n      <th>8</th>\n      <th>9</th>\n    </tr>\n  </thead>\n  <tbody>\n    <tr>\n      <th>0</th>\n      <td>-86eJuYugapSTs5dvCZKtw</td>\n      <td>True</td>\n      <td>agent</td>\n      <td>confirmed</td>\n      <td>adjoining</td>\n      <td>rooms</td>\n      <td>problems</td>\n      <td>noticed</td>\n      <td>male</td>\n      <td>desk</td>\n      <td>told</td>\n      <td>urine</td>\n    </tr>\n    <tr>\n      <th>1</th>\n      <td>j57XFIDuzcpBrcptbrJSwA</td>\n      <td>False</td>\n      <td>rules</td>\n      <td>explain</td>\n      <td>started</td>\n      <td>just</td>\n      <td>clerk</td>\n      <td>extra</td>\n      <td>charge</td>\n      <td>doesnt</td>\n      <td>desk</td>\n      <td>sure</td>\n    </tr>\n    <tr>\n      <th>2</th>\n      <td>Hb_kJxRWevasbqHfD_YBQw</td>\n      <td>False</td>\n      <td>received</td>\n      <td>verbal</td>\n      <td>topped</td>\n      <td>survey</td>\n      <td>statements</td>\n      <td>reconsider</td>\n      <td>legal</td>\n      <td>forbidding</td>\n      <td>foot</td>\n      <td>downhill</td>\n    </tr>\n    <tr>\n      <th>3</th>\n      <td>qpdvJX2M17LZrrtamrpgjA</td>\n      <td>False</td>\n      <td>und</td>\n      <td>war</td>\n      <td>sehr</td>\n      <td>mit</td>\n      <td>hier</td>\n      <td>frühstück</td>\n      <td>der</td>\n      <td>alles</td>\n      <td>äpfel</td>\n      <td>zügig</td>\n    </tr>\n    <tr>\n      <th>4</th>\n      <td>ivzJHezSj4594qkg6DbS9g</td>\n      <td>True</td>\n      <td>cheapest</td>\n      <td>waffle</td>\n      <td>getting</td>\n      <td>hotels</td>\n      <td>breakfast</td>\n      <td>door</td>\n      <td>hotel</td>\n      <td>worksit</td>\n      <td>troubles</td>\n      <td>tier</td>\n    </tr>\n    <tr>\n      <th>...</th>\n      <td>...</td>\n      <td>...</td>\n      <td>...</td>\n      <td>...</td>\n      <td>...</td>\n      <td>...</td>\n      <td>...</td>\n      <td>...</td>\n      <td>...</td>\n      <td>...</td>\n      <td>...</td>\n      <td>...</td>\n    </tr>\n    <tr>\n      <th>237</th>\n      <td>mfC8GXG3j38ip_KErwe1dg</td>\n      <td>True</td>\n      <td>aid</td>\n      <td>seat</td>\n      <td>modern</td>\n      <td>toilet</td>\n      <td>recently</td>\n      <td>didnt</td>\n      <td>large</td>\n      <td>minutes</td>\n      <td>time</td>\n      <td>took</td>\n    </tr>\n    <tr>\n      <th>238</th>\n      <td>LPNViYqzq4N7iwMEFvFN_g</td>\n      <td>False</td>\n      <td>updated</td>\n      <td>beds</td>\n      <td>really</td>\n      <td>comfortable</td>\n      <td>friendly</td>\n      <td>great</td>\n      <td>rooms</td>\n      <td>clean</td>\n      <td>stay</td>\n      <td>None</td>\n    </tr>\n    <tr>\n      <th>239</th>\n      <td>-J6g1v3wGtT8VDxlhoPk8w</td>\n      <td>True</td>\n      <td>fully</td>\n      <td>night</td>\n      <td>refund</td>\n      <td>paid</td>\n      <td>away</td>\n      <td>booked</td>\n      <td>watched</td>\n      <td>vacancies</td>\n      <td>timing</td>\n      <td>roomed</td>\n    </tr>\n    <tr>\n      <th>240</th>\n      <td>TcAUyiFCd_oAxNjTEKEL_A</td>\n      <td>False</td>\n      <td>incredible</td>\n      <td>vegas</td>\n      <td>strongly</td>\n      <td>youre</td>\n      <td>reasonable</td>\n      <td>staff</td>\n      <td>coming</td>\n      <td>rate</td>\n      <td>looking</td>\n      <td>recommend</td>\n    </tr>\n    <tr>\n      <th>241</th>\n      <td>8X1coT0qJcO0hL-9tygAwQ</td>\n      <td>False</td>\n      <td>meals</td>\n      <td>affordable</td>\n      <td>casino</td>\n      <td>restaurant</td>\n      <td>beds</td>\n      <td>comfortable</td>\n      <td>clean</td>\n      <td>hotel</td>\n      <td>None</td>\n      <td>None</td>\n    </tr>\n  </tbody>\n</table>\n<p>242 rows × 12 columns</p>\n</div>"
     },
     "metadata": {},
     "execution_count": 66
    }
   ],
   "source": [
    "reviews_keywords_df = pd.DataFrame(reviews_keywords)\n",
    "reviews_keywords_df = pd.concat([kn_reviews_df['review_id'], kn_reviews_df['is_useful'], reviews_keywords_df], axis=1)\n",
    "reviews_keywords_df"
   ]
  },
  {
   "cell_type": "code",
   "execution_count": 67,
   "metadata": {},
   "outputs": [
    {
     "output_type": "execute_result",
     "data": {
      "text/plain": "         0      1      2      3      4      5      6      7      8      9\n0    0.476  0.381  0.253  0.243  0.180  0.172  0.152  0.146  0.141  0.136\n1    0.490  0.325  0.231  0.147  0.130  0.116  0.116  0.114  0.112  0.103\n2    0.305  0.203  0.203  0.203  0.203  0.203  0.203  0.203  0.203  0.203\n3    0.681  0.227  0.151  0.151  0.151  0.151  0.151  0.151  0.076  0.076\n4    0.300  0.210  0.210  0.207  0.177  0.159  0.153  0.150  0.150  0.150\n..     ...    ...    ...    ...    ...    ...    ...    ...    ...    ...\n237  0.213  0.190  0.168  0.149  0.137  0.132  0.131  0.129  0.120  0.118\n238  0.519  0.401  0.344  0.317  0.310  0.295  0.257  0.229  0.223  0.000\n239  0.242  0.193  0.184  0.167  0.155  0.140  0.135  0.135  0.135  0.135\n240  0.627  0.404  0.280  0.213  0.213  0.195  0.193  0.186  0.174  0.171\n241  0.550  0.445  0.418  0.341  0.306  0.243  0.175  0.157  0.000  0.000\n\n[242 rows x 10 columns]",
      "text/html": "<div>\n<style scoped>\n    .dataframe tbody tr th:only-of-type {\n        vertical-align: middle;\n    }\n\n    .dataframe tbody tr th {\n        vertical-align: top;\n    }\n\n    .dataframe thead th {\n        text-align: right;\n    }\n</style>\n<table border=\"1\" class=\"dataframe\">\n  <thead>\n    <tr style=\"text-align: right;\">\n      <th></th>\n      <th>0</th>\n      <th>1</th>\n      <th>2</th>\n      <th>3</th>\n      <th>4</th>\n      <th>5</th>\n      <th>6</th>\n      <th>7</th>\n      <th>8</th>\n      <th>9</th>\n    </tr>\n  </thead>\n  <tbody>\n    <tr>\n      <th>0</th>\n      <td>0.476</td>\n      <td>0.381</td>\n      <td>0.253</td>\n      <td>0.243</td>\n      <td>0.180</td>\n      <td>0.172</td>\n      <td>0.152</td>\n      <td>0.146</td>\n      <td>0.141</td>\n      <td>0.136</td>\n    </tr>\n    <tr>\n      <th>1</th>\n      <td>0.490</td>\n      <td>0.325</td>\n      <td>0.231</td>\n      <td>0.147</td>\n      <td>0.130</td>\n      <td>0.116</td>\n      <td>0.116</td>\n      <td>0.114</td>\n      <td>0.112</td>\n      <td>0.103</td>\n    </tr>\n    <tr>\n      <th>2</th>\n      <td>0.305</td>\n      <td>0.203</td>\n      <td>0.203</td>\n      <td>0.203</td>\n      <td>0.203</td>\n      <td>0.203</td>\n      <td>0.203</td>\n      <td>0.203</td>\n      <td>0.203</td>\n      <td>0.203</td>\n    </tr>\n    <tr>\n      <th>3</th>\n      <td>0.681</td>\n      <td>0.227</td>\n      <td>0.151</td>\n      <td>0.151</td>\n      <td>0.151</td>\n      <td>0.151</td>\n      <td>0.151</td>\n      <td>0.151</td>\n      <td>0.076</td>\n      <td>0.076</td>\n    </tr>\n    <tr>\n      <th>4</th>\n      <td>0.300</td>\n      <td>0.210</td>\n      <td>0.210</td>\n      <td>0.207</td>\n      <td>0.177</td>\n      <td>0.159</td>\n      <td>0.153</td>\n      <td>0.150</td>\n      <td>0.150</td>\n      <td>0.150</td>\n    </tr>\n    <tr>\n      <th>...</th>\n      <td>...</td>\n      <td>...</td>\n      <td>...</td>\n      <td>...</td>\n      <td>...</td>\n      <td>...</td>\n      <td>...</td>\n      <td>...</td>\n      <td>...</td>\n      <td>...</td>\n    </tr>\n    <tr>\n      <th>237</th>\n      <td>0.213</td>\n      <td>0.190</td>\n      <td>0.168</td>\n      <td>0.149</td>\n      <td>0.137</td>\n      <td>0.132</td>\n      <td>0.131</td>\n      <td>0.129</td>\n      <td>0.120</td>\n      <td>0.118</td>\n    </tr>\n    <tr>\n      <th>238</th>\n      <td>0.519</td>\n      <td>0.401</td>\n      <td>0.344</td>\n      <td>0.317</td>\n      <td>0.310</td>\n      <td>0.295</td>\n      <td>0.257</td>\n      <td>0.229</td>\n      <td>0.223</td>\n      <td>0.000</td>\n    </tr>\n    <tr>\n      <th>239</th>\n      <td>0.242</td>\n      <td>0.193</td>\n      <td>0.184</td>\n      <td>0.167</td>\n      <td>0.155</td>\n      <td>0.140</td>\n      <td>0.135</td>\n      <td>0.135</td>\n      <td>0.135</td>\n      <td>0.135</td>\n    </tr>\n    <tr>\n      <th>240</th>\n      <td>0.627</td>\n      <td>0.404</td>\n      <td>0.280</td>\n      <td>0.213</td>\n      <td>0.213</td>\n      <td>0.195</td>\n      <td>0.193</td>\n      <td>0.186</td>\n      <td>0.174</td>\n      <td>0.171</td>\n    </tr>\n    <tr>\n      <th>241</th>\n      <td>0.550</td>\n      <td>0.445</td>\n      <td>0.418</td>\n      <td>0.341</td>\n      <td>0.306</td>\n      <td>0.243</td>\n      <td>0.175</td>\n      <td>0.157</td>\n      <td>0.000</td>\n      <td>0.000</td>\n    </tr>\n  </tbody>\n</table>\n<p>242 rows × 10 columns</p>\n</div>"
     },
     "metadata": {},
     "execution_count": 67
    }
   ],
   "source": [
    "reviews_keywords_scores_df = pd.DataFrame(reviews_keywords_scores).fillna(0)\n",
    "#reviews_keywords_scores_df = pd.concat([kn_reviews_df['is_useful'], reviews_keywords_scores_df], axis=1)\n",
    "reviews_keywords_scores_df"
   ]
  },
  {
   "cell_type": "markdown",
   "metadata": {},
   "source": [
    "## Find reviews for a business"
   ]
  },
  {
   "cell_type": "code",
   "execution_count": 68,
   "metadata": {},
   "outputs": [
    {
     "output_type": "execute_result",
     "data": {
      "text/plain": "                  review_id  is_useful    0    1    2    3    4    5    6  \\\n0    -86eJuYugapSTs5dvCZKtw       True  0.0  0.0  0.0  0.0  0.0  0.0  0.0   \n1    j57XFIDuzcpBrcptbrJSwA      False  0.0  0.0  0.0  0.0  0.0  0.0  0.0   \n2    Hb_kJxRWevasbqHfD_YBQw      False  0.0  0.0  0.0  0.0  0.0  0.0  0.0   \n3    qpdvJX2M17LZrrtamrpgjA      False  0.0  0.0  0.0  0.0  0.0  0.0  0.0   \n4    ivzJHezSj4594qkg6DbS9g       True  0.0  0.0  0.0  0.0  0.0  0.0  0.0   \n..                      ...        ...  ...  ...  ...  ...  ...  ...  ...   \n237  mfC8GXG3j38ip_KErwe1dg       True  0.0  0.0  0.0  0.0  0.0  0.0  0.0   \n238  LPNViYqzq4N7iwMEFvFN_g      False  0.0  0.0  0.0  0.0  0.0  0.0  0.0   \n239  -J6g1v3wGtT8VDxlhoPk8w       True  0.0  0.0  0.0  0.0  0.0  0.0  0.0   \n240  TcAUyiFCd_oAxNjTEKEL_A      False  0.0  0.0  0.0  0.0  0.0  0.0  0.0   \n241  8X1coT0qJcO0hL-9tygAwQ      False  0.0  0.0  0.0  0.0  0.0  0.0  0.0   \n\n       7  ...  3458     3459  3460  3461  3462     3463     3464  3465  \\\n0    0.0  ...   0.0  0.00000   0.0   0.0   0.0  0.00000  0.00000   0.0   \n1    0.0  ...   0.0  0.00000   0.0   0.0   0.0  0.00000  0.00000   0.0   \n2    0.0  ...   0.0  0.00000   0.0   0.0   0.0  0.00000  0.00000   0.0   \n3    0.0  ...   0.0  0.07565   0.0   0.0   0.0  0.07565  0.07565   0.0   \n4    0.0  ...   0.0  0.00000   0.0   0.0   0.0  0.00000  0.00000   0.0   \n..   ...  ...   ...      ...   ...   ...   ...      ...      ...   ...   \n237  0.0  ...   0.0  0.00000   0.0   0.0   0.0  0.00000  0.00000   0.0   \n238  0.0  ...   0.0  0.00000   0.0   0.0   0.0  0.00000  0.00000   0.0   \n239  0.0  ...   0.0  0.00000   0.0   0.0   0.0  0.00000  0.00000   0.0   \n240  0.0  ...   0.0  0.00000   0.0   0.0   0.0  0.00000  0.00000   0.0   \n241  0.0  ...   0.0  0.00000   0.0   0.0   0.0  0.00000  0.00000   0.0   \n\n        3466     3467  \n0    0.00000  0.00000  \n1    0.00000  0.00000  \n2    0.00000  0.00000  \n3    0.07565  0.07565  \n4    0.00000  0.00000  \n..       ...      ...  \n237  0.00000  0.00000  \n238  0.00000  0.00000  \n239  0.00000  0.00000  \n240  0.00000  0.00000  \n241  0.00000  0.00000  \n\n[242 rows x 3470 columns]",
      "text/html": "<div>\n<style scoped>\n    .dataframe tbody tr th:only-of-type {\n        vertical-align: middle;\n    }\n\n    .dataframe tbody tr th {\n        vertical-align: top;\n    }\n\n    .dataframe thead th {\n        text-align: right;\n    }\n</style>\n<table border=\"1\" class=\"dataframe\">\n  <thead>\n    <tr style=\"text-align: right;\">\n      <th></th>\n      <th>review_id</th>\n      <th>is_useful</th>\n      <th>0</th>\n      <th>1</th>\n      <th>2</th>\n      <th>3</th>\n      <th>4</th>\n      <th>5</th>\n      <th>6</th>\n      <th>7</th>\n      <th>...</th>\n      <th>3458</th>\n      <th>3459</th>\n      <th>3460</th>\n      <th>3461</th>\n      <th>3462</th>\n      <th>3463</th>\n      <th>3464</th>\n      <th>3465</th>\n      <th>3466</th>\n      <th>3467</th>\n    </tr>\n  </thead>\n  <tbody>\n    <tr>\n      <th>0</th>\n      <td>-86eJuYugapSTs5dvCZKtw</td>\n      <td>True</td>\n      <td>0.0</td>\n      <td>0.0</td>\n      <td>0.0</td>\n      <td>0.0</td>\n      <td>0.0</td>\n      <td>0.0</td>\n      <td>0.0</td>\n      <td>0.0</td>\n      <td>...</td>\n      <td>0.0</td>\n      <td>0.00000</td>\n      <td>0.0</td>\n      <td>0.0</td>\n      <td>0.0</td>\n      <td>0.00000</td>\n      <td>0.00000</td>\n      <td>0.0</td>\n      <td>0.00000</td>\n      <td>0.00000</td>\n    </tr>\n    <tr>\n      <th>1</th>\n      <td>j57XFIDuzcpBrcptbrJSwA</td>\n      <td>False</td>\n      <td>0.0</td>\n      <td>0.0</td>\n      <td>0.0</td>\n      <td>0.0</td>\n      <td>0.0</td>\n      <td>0.0</td>\n      <td>0.0</td>\n      <td>0.0</td>\n      <td>...</td>\n      <td>0.0</td>\n      <td>0.00000</td>\n      <td>0.0</td>\n      <td>0.0</td>\n      <td>0.0</td>\n      <td>0.00000</td>\n      <td>0.00000</td>\n      <td>0.0</td>\n      <td>0.00000</td>\n      <td>0.00000</td>\n    </tr>\n    <tr>\n      <th>2</th>\n      <td>Hb_kJxRWevasbqHfD_YBQw</td>\n      <td>False</td>\n      <td>0.0</td>\n      <td>0.0</td>\n      <td>0.0</td>\n      <td>0.0</td>\n      <td>0.0</td>\n      <td>0.0</td>\n      <td>0.0</td>\n      <td>0.0</td>\n      <td>...</td>\n      <td>0.0</td>\n      <td>0.00000</td>\n      <td>0.0</td>\n      <td>0.0</td>\n      <td>0.0</td>\n      <td>0.00000</td>\n      <td>0.00000</td>\n      <td>0.0</td>\n      <td>0.00000</td>\n      <td>0.00000</td>\n    </tr>\n    <tr>\n      <th>3</th>\n      <td>qpdvJX2M17LZrrtamrpgjA</td>\n      <td>False</td>\n      <td>0.0</td>\n      <td>0.0</td>\n      <td>0.0</td>\n      <td>0.0</td>\n      <td>0.0</td>\n      <td>0.0</td>\n      <td>0.0</td>\n      <td>0.0</td>\n      <td>...</td>\n      <td>0.0</td>\n      <td>0.07565</td>\n      <td>0.0</td>\n      <td>0.0</td>\n      <td>0.0</td>\n      <td>0.07565</td>\n      <td>0.07565</td>\n      <td>0.0</td>\n      <td>0.07565</td>\n      <td>0.07565</td>\n    </tr>\n    <tr>\n      <th>4</th>\n      <td>ivzJHezSj4594qkg6DbS9g</td>\n      <td>True</td>\n      <td>0.0</td>\n      <td>0.0</td>\n      <td>0.0</td>\n      <td>0.0</td>\n      <td>0.0</td>\n      <td>0.0</td>\n      <td>0.0</td>\n      <td>0.0</td>\n      <td>...</td>\n      <td>0.0</td>\n      <td>0.00000</td>\n      <td>0.0</td>\n      <td>0.0</td>\n      <td>0.0</td>\n      <td>0.00000</td>\n      <td>0.00000</td>\n      <td>0.0</td>\n      <td>0.00000</td>\n      <td>0.00000</td>\n    </tr>\n    <tr>\n      <th>...</th>\n      <td>...</td>\n      <td>...</td>\n      <td>...</td>\n      <td>...</td>\n      <td>...</td>\n      <td>...</td>\n      <td>...</td>\n      <td>...</td>\n      <td>...</td>\n      <td>...</td>\n      <td>...</td>\n      <td>...</td>\n      <td>...</td>\n      <td>...</td>\n      <td>...</td>\n      <td>...</td>\n      <td>...</td>\n      <td>...</td>\n      <td>...</td>\n      <td>...</td>\n      <td>...</td>\n    </tr>\n    <tr>\n      <th>237</th>\n      <td>mfC8GXG3j38ip_KErwe1dg</td>\n      <td>True</td>\n      <td>0.0</td>\n      <td>0.0</td>\n      <td>0.0</td>\n      <td>0.0</td>\n      <td>0.0</td>\n      <td>0.0</td>\n      <td>0.0</td>\n      <td>0.0</td>\n      <td>...</td>\n      <td>0.0</td>\n      <td>0.00000</td>\n      <td>0.0</td>\n      <td>0.0</td>\n      <td>0.0</td>\n      <td>0.00000</td>\n      <td>0.00000</td>\n      <td>0.0</td>\n      <td>0.00000</td>\n      <td>0.00000</td>\n    </tr>\n    <tr>\n      <th>238</th>\n      <td>LPNViYqzq4N7iwMEFvFN_g</td>\n      <td>False</td>\n      <td>0.0</td>\n      <td>0.0</td>\n      <td>0.0</td>\n      <td>0.0</td>\n      <td>0.0</td>\n      <td>0.0</td>\n      <td>0.0</td>\n      <td>0.0</td>\n      <td>...</td>\n      <td>0.0</td>\n      <td>0.00000</td>\n      <td>0.0</td>\n      <td>0.0</td>\n      <td>0.0</td>\n      <td>0.00000</td>\n      <td>0.00000</td>\n      <td>0.0</td>\n      <td>0.00000</td>\n      <td>0.00000</td>\n    </tr>\n    <tr>\n      <th>239</th>\n      <td>-J6g1v3wGtT8VDxlhoPk8w</td>\n      <td>True</td>\n      <td>0.0</td>\n      <td>0.0</td>\n      <td>0.0</td>\n      <td>0.0</td>\n      <td>0.0</td>\n      <td>0.0</td>\n      <td>0.0</td>\n      <td>0.0</td>\n      <td>...</td>\n      <td>0.0</td>\n      <td>0.00000</td>\n      <td>0.0</td>\n      <td>0.0</td>\n      <td>0.0</td>\n      <td>0.00000</td>\n      <td>0.00000</td>\n      <td>0.0</td>\n      <td>0.00000</td>\n      <td>0.00000</td>\n    </tr>\n    <tr>\n      <th>240</th>\n      <td>TcAUyiFCd_oAxNjTEKEL_A</td>\n      <td>False</td>\n      <td>0.0</td>\n      <td>0.0</td>\n      <td>0.0</td>\n      <td>0.0</td>\n      <td>0.0</td>\n      <td>0.0</td>\n      <td>0.0</td>\n      <td>0.0</td>\n      <td>...</td>\n      <td>0.0</td>\n      <td>0.00000</td>\n      <td>0.0</td>\n      <td>0.0</td>\n      <td>0.0</td>\n      <td>0.00000</td>\n      <td>0.00000</td>\n      <td>0.0</td>\n      <td>0.00000</td>\n      <td>0.00000</td>\n    </tr>\n    <tr>\n      <th>241</th>\n      <td>8X1coT0qJcO0hL-9tygAwQ</td>\n      <td>False</td>\n      <td>0.0</td>\n      <td>0.0</td>\n      <td>0.0</td>\n      <td>0.0</td>\n      <td>0.0</td>\n      <td>0.0</td>\n      <td>0.0</td>\n      <td>0.0</td>\n      <td>...</td>\n      <td>0.0</td>\n      <td>0.00000</td>\n      <td>0.0</td>\n      <td>0.0</td>\n      <td>0.0</td>\n      <td>0.00000</td>\n      <td>0.00000</td>\n      <td>0.0</td>\n      <td>0.00000</td>\n      <td>0.00000</td>\n    </tr>\n  </tbody>\n</table>\n<p>242 rows × 3470 columns</p>\n</div>"
     },
     "metadata": {},
     "execution_count": 68
    }
   ],
   "source": [
    "keywords_df_with_class = pd.concat([kn_reviews_df['review_id'], kn_reviews_df['is_useful'], keyword_tf_idf_df], axis=1)\n",
    "keywords_df_with_class"
   ]
  },
  {
   "cell_type": "code",
   "execution_count": 69,
   "metadata": {},
   "outputs": [],
   "source": [
    "#Con esta configuración se utilizan los 3 vecinos más cercanos, con distancia euclidiana\n",
    "knn_clasif=KNeighborsClassifier(3)"
   ]
  },
  {
   "cell_type": "code",
   "execution_count": 70,
   "metadata": {},
   "outputs": [
    {
     "output_type": "execute_result",
     "data": {
      "text/plain": "KNeighborsClassifier(algorithm='auto', leaf_size=30, metric='minkowski',\n                     metric_params=None, n_jobs=None, n_neighbors=3, p=2,\n                     weights='uniform')"
     },
     "metadata": {},
     "execution_count": 70
    }
   ],
   "source": [
    "# Fit recibe la matriz de entrenamiento y la clase objetivo\n",
    "knn_clasif.fit(keyword_tf_idf_df, keywords_df_with_class['is_useful'])"
   ]
  },
  {
   "cell_type": "code",
   "execution_count": 71,
   "metadata": {},
   "outputs": [
    {
     "output_type": "execute_result",
     "data": {
      "text/plain": "                  review_id  is_useful    0    1    2    3    4    5    6  \\\n0    -86eJuYugapSTs5dvCZKtw       True  0.0  0.0  0.0  0.0  0.0  0.0  0.0   \n1    j57XFIDuzcpBrcptbrJSwA      False  0.0  0.0  0.0  0.0  0.0  0.0  0.0   \n2    Hb_kJxRWevasbqHfD_YBQw      False  0.0  0.0  0.0  0.0  0.0  0.0  0.0   \n3    qpdvJX2M17LZrrtamrpgjA      False  0.0  0.0  0.0  0.0  0.0  0.0  0.0   \n4    ivzJHezSj4594qkg6DbS9g       True  0.0  0.0  0.0  0.0  0.0  0.0  0.0   \n..                      ...        ...  ...  ...  ...  ...  ...  ...  ...   \n237  mfC8GXG3j38ip_KErwe1dg       True  0.0  0.0  0.0  0.0  0.0  0.0  0.0   \n238  LPNViYqzq4N7iwMEFvFN_g      False  0.0  0.0  0.0  0.0  0.0  0.0  0.0   \n239  -J6g1v3wGtT8VDxlhoPk8w       True  0.0  0.0  0.0  0.0  0.0  0.0  0.0   \n240  TcAUyiFCd_oAxNjTEKEL_A      False  0.0  0.0  0.0  0.0  0.0  0.0  0.0   \n241  8X1coT0qJcO0hL-9tygAwQ      False  0.0  0.0  0.0  0.0  0.0  0.0  0.0   \n\n       7  ...     3459  3460  3461  3462     3463     3464  3465     3466  \\\n0    0.0  ...  0.00000   0.0   0.0   0.0  0.00000  0.00000   0.0  0.00000   \n1    0.0  ...  0.00000   0.0   0.0   0.0  0.00000  0.00000   0.0  0.00000   \n2    0.0  ...  0.00000   0.0   0.0   0.0  0.00000  0.00000   0.0  0.00000   \n3    0.0  ...  0.07565   0.0   0.0   0.0  0.07565  0.07565   0.0  0.07565   \n4    0.0  ...  0.00000   0.0   0.0   0.0  0.00000  0.00000   0.0  0.00000   \n..   ...  ...      ...   ...   ...   ...      ...      ...   ...      ...   \n237  0.0  ...  0.00000   0.0   0.0   0.0  0.00000  0.00000   0.0  0.00000   \n238  0.0  ...  0.00000   0.0   0.0   0.0  0.00000  0.00000   0.0  0.00000   \n239  0.0  ...  0.00000   0.0   0.0   0.0  0.00000  0.00000   0.0  0.00000   \n240  0.0  ...  0.00000   0.0   0.0   0.0  0.00000  0.00000   0.0  0.00000   \n241  0.0  ...  0.00000   0.0   0.0   0.0  0.00000  0.00000   0.0  0.00000   \n\n        3467  predict  \n0    0.00000     True  \n1    0.00000    False  \n2    0.00000    False  \n3    0.07565    False  \n4    0.00000     True  \n..       ...      ...  \n237  0.00000     True  \n238  0.00000    False  \n239  0.00000     True  \n240  0.00000    False  \n241  0.00000    False  \n\n[242 rows x 3471 columns]",
      "text/html": "<div>\n<style scoped>\n    .dataframe tbody tr th:only-of-type {\n        vertical-align: middle;\n    }\n\n    .dataframe tbody tr th {\n        vertical-align: top;\n    }\n\n    .dataframe thead th {\n        text-align: right;\n    }\n</style>\n<table border=\"1\" class=\"dataframe\">\n  <thead>\n    <tr style=\"text-align: right;\">\n      <th></th>\n      <th>review_id</th>\n      <th>is_useful</th>\n      <th>0</th>\n      <th>1</th>\n      <th>2</th>\n      <th>3</th>\n      <th>4</th>\n      <th>5</th>\n      <th>6</th>\n      <th>7</th>\n      <th>...</th>\n      <th>3459</th>\n      <th>3460</th>\n      <th>3461</th>\n      <th>3462</th>\n      <th>3463</th>\n      <th>3464</th>\n      <th>3465</th>\n      <th>3466</th>\n      <th>3467</th>\n      <th>predict</th>\n    </tr>\n  </thead>\n  <tbody>\n    <tr>\n      <th>0</th>\n      <td>-86eJuYugapSTs5dvCZKtw</td>\n      <td>True</td>\n      <td>0.0</td>\n      <td>0.0</td>\n      <td>0.0</td>\n      <td>0.0</td>\n      <td>0.0</td>\n      <td>0.0</td>\n      <td>0.0</td>\n      <td>0.0</td>\n      <td>...</td>\n      <td>0.00000</td>\n      <td>0.0</td>\n      <td>0.0</td>\n      <td>0.0</td>\n      <td>0.00000</td>\n      <td>0.00000</td>\n      <td>0.0</td>\n      <td>0.00000</td>\n      <td>0.00000</td>\n      <td>True</td>\n    </tr>\n    <tr>\n      <th>1</th>\n      <td>j57XFIDuzcpBrcptbrJSwA</td>\n      <td>False</td>\n      <td>0.0</td>\n      <td>0.0</td>\n      <td>0.0</td>\n      <td>0.0</td>\n      <td>0.0</td>\n      <td>0.0</td>\n      <td>0.0</td>\n      <td>0.0</td>\n      <td>...</td>\n      <td>0.00000</td>\n      <td>0.0</td>\n      <td>0.0</td>\n      <td>0.0</td>\n      <td>0.00000</td>\n      <td>0.00000</td>\n      <td>0.0</td>\n      <td>0.00000</td>\n      <td>0.00000</td>\n      <td>False</td>\n    </tr>\n    <tr>\n      <th>2</th>\n      <td>Hb_kJxRWevasbqHfD_YBQw</td>\n      <td>False</td>\n      <td>0.0</td>\n      <td>0.0</td>\n      <td>0.0</td>\n      <td>0.0</td>\n      <td>0.0</td>\n      <td>0.0</td>\n      <td>0.0</td>\n      <td>0.0</td>\n      <td>...</td>\n      <td>0.00000</td>\n      <td>0.0</td>\n      <td>0.0</td>\n      <td>0.0</td>\n      <td>0.00000</td>\n      <td>0.00000</td>\n      <td>0.0</td>\n      <td>0.00000</td>\n      <td>0.00000</td>\n      <td>False</td>\n    </tr>\n    <tr>\n      <th>3</th>\n      <td>qpdvJX2M17LZrrtamrpgjA</td>\n      <td>False</td>\n      <td>0.0</td>\n      <td>0.0</td>\n      <td>0.0</td>\n      <td>0.0</td>\n      <td>0.0</td>\n      <td>0.0</td>\n      <td>0.0</td>\n      <td>0.0</td>\n      <td>...</td>\n      <td>0.07565</td>\n      <td>0.0</td>\n      <td>0.0</td>\n      <td>0.0</td>\n      <td>0.07565</td>\n      <td>0.07565</td>\n      <td>0.0</td>\n      <td>0.07565</td>\n      <td>0.07565</td>\n      <td>False</td>\n    </tr>\n    <tr>\n      <th>4</th>\n      <td>ivzJHezSj4594qkg6DbS9g</td>\n      <td>True</td>\n      <td>0.0</td>\n      <td>0.0</td>\n      <td>0.0</td>\n      <td>0.0</td>\n      <td>0.0</td>\n      <td>0.0</td>\n      <td>0.0</td>\n      <td>0.0</td>\n      <td>...</td>\n      <td>0.00000</td>\n      <td>0.0</td>\n      <td>0.0</td>\n      <td>0.0</td>\n      <td>0.00000</td>\n      <td>0.00000</td>\n      <td>0.0</td>\n      <td>0.00000</td>\n      <td>0.00000</td>\n      <td>True</td>\n    </tr>\n    <tr>\n      <th>...</th>\n      <td>...</td>\n      <td>...</td>\n      <td>...</td>\n      <td>...</td>\n      <td>...</td>\n      <td>...</td>\n      <td>...</td>\n      <td>...</td>\n      <td>...</td>\n      <td>...</td>\n      <td>...</td>\n      <td>...</td>\n      <td>...</td>\n      <td>...</td>\n      <td>...</td>\n      <td>...</td>\n      <td>...</td>\n      <td>...</td>\n      <td>...</td>\n      <td>...</td>\n      <td>...</td>\n    </tr>\n    <tr>\n      <th>237</th>\n      <td>mfC8GXG3j38ip_KErwe1dg</td>\n      <td>True</td>\n      <td>0.0</td>\n      <td>0.0</td>\n      <td>0.0</td>\n      <td>0.0</td>\n      <td>0.0</td>\n      <td>0.0</td>\n      <td>0.0</td>\n      <td>0.0</td>\n      <td>...</td>\n      <td>0.00000</td>\n      <td>0.0</td>\n      <td>0.0</td>\n      <td>0.0</td>\n      <td>0.00000</td>\n      <td>0.00000</td>\n      <td>0.0</td>\n      <td>0.00000</td>\n      <td>0.00000</td>\n      <td>True</td>\n    </tr>\n    <tr>\n      <th>238</th>\n      <td>LPNViYqzq4N7iwMEFvFN_g</td>\n      <td>False</td>\n      <td>0.0</td>\n      <td>0.0</td>\n      <td>0.0</td>\n      <td>0.0</td>\n      <td>0.0</td>\n      <td>0.0</td>\n      <td>0.0</td>\n      <td>0.0</td>\n      <td>...</td>\n      <td>0.00000</td>\n      <td>0.0</td>\n      <td>0.0</td>\n      <td>0.0</td>\n      <td>0.00000</td>\n      <td>0.00000</td>\n      <td>0.0</td>\n      <td>0.00000</td>\n      <td>0.00000</td>\n      <td>False</td>\n    </tr>\n    <tr>\n      <th>239</th>\n      <td>-J6g1v3wGtT8VDxlhoPk8w</td>\n      <td>True</td>\n      <td>0.0</td>\n      <td>0.0</td>\n      <td>0.0</td>\n      <td>0.0</td>\n      <td>0.0</td>\n      <td>0.0</td>\n      <td>0.0</td>\n      <td>0.0</td>\n      <td>...</td>\n      <td>0.00000</td>\n      <td>0.0</td>\n      <td>0.0</td>\n      <td>0.0</td>\n      <td>0.00000</td>\n      <td>0.00000</td>\n      <td>0.0</td>\n      <td>0.00000</td>\n      <td>0.00000</td>\n      <td>True</td>\n    </tr>\n    <tr>\n      <th>240</th>\n      <td>TcAUyiFCd_oAxNjTEKEL_A</td>\n      <td>False</td>\n      <td>0.0</td>\n      <td>0.0</td>\n      <td>0.0</td>\n      <td>0.0</td>\n      <td>0.0</td>\n      <td>0.0</td>\n      <td>0.0</td>\n      <td>0.0</td>\n      <td>...</td>\n      <td>0.00000</td>\n      <td>0.0</td>\n      <td>0.0</td>\n      <td>0.0</td>\n      <td>0.00000</td>\n      <td>0.00000</td>\n      <td>0.0</td>\n      <td>0.00000</td>\n      <td>0.00000</td>\n      <td>False</td>\n    </tr>\n    <tr>\n      <th>241</th>\n      <td>8X1coT0qJcO0hL-9tygAwQ</td>\n      <td>False</td>\n      <td>0.0</td>\n      <td>0.0</td>\n      <td>0.0</td>\n      <td>0.0</td>\n      <td>0.0</td>\n      <td>0.0</td>\n      <td>0.0</td>\n      <td>0.0</td>\n      <td>...</td>\n      <td>0.00000</td>\n      <td>0.0</td>\n      <td>0.0</td>\n      <td>0.0</td>\n      <td>0.00000</td>\n      <td>0.00000</td>\n      <td>0.0</td>\n      <td>0.00000</td>\n      <td>0.00000</td>\n      <td>False</td>\n    </tr>\n  </tbody>\n</table>\n<p>242 rows × 3471 columns</p>\n</div>"
     },
     "metadata": {},
     "execution_count": 71
    }
   ],
   "source": [
    "# llamamos predict sobre  los test , creando una nueva columna en el dataframe de test\n",
    "keywords_df_with_class['predict']=knn_clasif.predict(keyword_tf_idf_df)\n",
    "keywords_df_with_class"
   ]
  },
  {
   "cell_type": "code",
   "execution_count": 72,
   "metadata": {},
   "outputs": [],
   "source": [
    "keywords_df_with_class['keywords'] = reviews_keywords"
   ]
  },
  {
   "cell_type": "code",
   "execution_count": 76,
   "metadata": {},
   "outputs": [
    {
     "output_type": "execute_result",
     "data": {
      "text/plain": "                  review_id           0           1          2            3  \\\n0    -86eJuYugapSTs5dvCZKtw       agent   confirmed  adjoining        rooms   \n1    j57XFIDuzcpBrcptbrJSwA       rules     explain    started         just   \n2    Hb_kJxRWevasbqHfD_YBQw    received      verbal     topped       survey   \n3    qpdvJX2M17LZrrtamrpgjA         und         war       sehr          mit   \n4    ivzJHezSj4594qkg6DbS9g    cheapest      waffle    getting       hotels   \n..                      ...         ...         ...        ...          ...   \n237  mfC8GXG3j38ip_KErwe1dg         aid        seat     modern       toilet   \n238  LPNViYqzq4N7iwMEFvFN_g     updated        beds     really  comfortable   \n239  -J6g1v3wGtT8VDxlhoPk8w       fully       night     refund         paid   \n240  TcAUyiFCd_oAxNjTEKEL_A  incredible       vegas   strongly        youre   \n241  8X1coT0qJcO0hL-9tygAwQ       meals  affordable     casino   restaurant   \n\n              4            5        6           7         8          9  \n0      problems      noticed     male        desk      told      urine  \n1         clerk        extra   charge      doesnt      desk       sure  \n2    statements   reconsider    legal  forbidding      foot   downhill  \n3          hier    frühstück      der       alles     äpfel      zügig  \n4     breakfast         door    hotel     worksit  troubles       tier  \n..          ...          ...      ...         ...       ...        ...  \n237    recently        didnt    large     minutes      time       took  \n238    friendly        great    rooms       clean      stay       None  \n239        away       booked  watched   vacancies    timing     roomed  \n240  reasonable        staff   coming        rate   looking  recommend  \n241        beds  comfortable    clean       hotel      None       None  \n\n[242 rows x 11 columns]",
      "text/html": "<div>\n<style scoped>\n    .dataframe tbody tr th:only-of-type {\n        vertical-align: middle;\n    }\n\n    .dataframe tbody tr th {\n        vertical-align: top;\n    }\n\n    .dataframe thead th {\n        text-align: right;\n    }\n</style>\n<table border=\"1\" class=\"dataframe\">\n  <thead>\n    <tr style=\"text-align: right;\">\n      <th></th>\n      <th>review_id</th>\n      <th>0</th>\n      <th>1</th>\n      <th>2</th>\n      <th>3</th>\n      <th>4</th>\n      <th>5</th>\n      <th>6</th>\n      <th>7</th>\n      <th>8</th>\n      <th>9</th>\n    </tr>\n  </thead>\n  <tbody>\n    <tr>\n      <th>0</th>\n      <td>-86eJuYugapSTs5dvCZKtw</td>\n      <td>agent</td>\n      <td>confirmed</td>\n      <td>adjoining</td>\n      <td>rooms</td>\n      <td>problems</td>\n      <td>noticed</td>\n      <td>male</td>\n      <td>desk</td>\n      <td>told</td>\n      <td>urine</td>\n    </tr>\n    <tr>\n      <th>1</th>\n      <td>j57XFIDuzcpBrcptbrJSwA</td>\n      <td>rules</td>\n      <td>explain</td>\n      <td>started</td>\n      <td>just</td>\n      <td>clerk</td>\n      <td>extra</td>\n      <td>charge</td>\n      <td>doesnt</td>\n      <td>desk</td>\n      <td>sure</td>\n    </tr>\n    <tr>\n      <th>2</th>\n      <td>Hb_kJxRWevasbqHfD_YBQw</td>\n      <td>received</td>\n      <td>verbal</td>\n      <td>topped</td>\n      <td>survey</td>\n      <td>statements</td>\n      <td>reconsider</td>\n      <td>legal</td>\n      <td>forbidding</td>\n      <td>foot</td>\n      <td>downhill</td>\n    </tr>\n    <tr>\n      <th>3</th>\n      <td>qpdvJX2M17LZrrtamrpgjA</td>\n      <td>und</td>\n      <td>war</td>\n      <td>sehr</td>\n      <td>mit</td>\n      <td>hier</td>\n      <td>frühstück</td>\n      <td>der</td>\n      <td>alles</td>\n      <td>äpfel</td>\n      <td>zügig</td>\n    </tr>\n    <tr>\n      <th>4</th>\n      <td>ivzJHezSj4594qkg6DbS9g</td>\n      <td>cheapest</td>\n      <td>waffle</td>\n      <td>getting</td>\n      <td>hotels</td>\n      <td>breakfast</td>\n      <td>door</td>\n      <td>hotel</td>\n      <td>worksit</td>\n      <td>troubles</td>\n      <td>tier</td>\n    </tr>\n    <tr>\n      <th>...</th>\n      <td>...</td>\n      <td>...</td>\n      <td>...</td>\n      <td>...</td>\n      <td>...</td>\n      <td>...</td>\n      <td>...</td>\n      <td>...</td>\n      <td>...</td>\n      <td>...</td>\n      <td>...</td>\n    </tr>\n    <tr>\n      <th>237</th>\n      <td>mfC8GXG3j38ip_KErwe1dg</td>\n      <td>aid</td>\n      <td>seat</td>\n      <td>modern</td>\n      <td>toilet</td>\n      <td>recently</td>\n      <td>didnt</td>\n      <td>large</td>\n      <td>minutes</td>\n      <td>time</td>\n      <td>took</td>\n    </tr>\n    <tr>\n      <th>238</th>\n      <td>LPNViYqzq4N7iwMEFvFN_g</td>\n      <td>updated</td>\n      <td>beds</td>\n      <td>really</td>\n      <td>comfortable</td>\n      <td>friendly</td>\n      <td>great</td>\n      <td>rooms</td>\n      <td>clean</td>\n      <td>stay</td>\n      <td>None</td>\n    </tr>\n    <tr>\n      <th>239</th>\n      <td>-J6g1v3wGtT8VDxlhoPk8w</td>\n      <td>fully</td>\n      <td>night</td>\n      <td>refund</td>\n      <td>paid</td>\n      <td>away</td>\n      <td>booked</td>\n      <td>watched</td>\n      <td>vacancies</td>\n      <td>timing</td>\n      <td>roomed</td>\n    </tr>\n    <tr>\n      <th>240</th>\n      <td>TcAUyiFCd_oAxNjTEKEL_A</td>\n      <td>incredible</td>\n      <td>vegas</td>\n      <td>strongly</td>\n      <td>youre</td>\n      <td>reasonable</td>\n      <td>staff</td>\n      <td>coming</td>\n      <td>rate</td>\n      <td>looking</td>\n      <td>recommend</td>\n    </tr>\n    <tr>\n      <th>241</th>\n      <td>8X1coT0qJcO0hL-9tygAwQ</td>\n      <td>meals</td>\n      <td>affordable</td>\n      <td>casino</td>\n      <td>restaurant</td>\n      <td>beds</td>\n      <td>comfortable</td>\n      <td>clean</td>\n      <td>hotel</td>\n      <td>None</td>\n      <td>None</td>\n    </tr>\n  </tbody>\n</table>\n<p>242 rows × 11 columns</p>\n</div>"
     },
     "metadata": {},
     "execution_count": 76
    }
   ],
   "source": [
    "relevant_keywords_df = pd.DataFrame(reviews_keywords)\n",
    "pd.concat([keywords_df_with_class['review_id'], relevant_keywords_df], axis=1)"
   ]
  },
  {
   "cell_type": "code",
   "execution_count": 73,
   "metadata": {},
   "outputs": [
    {
     "output_type": "execute_result",
     "data": {
      "text/plain": "                  review_id  is_useful    0    1    2    3    4    5    6  \\\n0    -86eJuYugapSTs5dvCZKtw       True  0.0  0.0  0.0  0.0  0.0  0.0  0.0   \n1    j57XFIDuzcpBrcptbrJSwA      False  0.0  0.0  0.0  0.0  0.0  0.0  0.0   \n2    Hb_kJxRWevasbqHfD_YBQw      False  0.0  0.0  0.0  0.0  0.0  0.0  0.0   \n3    qpdvJX2M17LZrrtamrpgjA      False  0.0  0.0  0.0  0.0  0.0  0.0  0.0   \n4    ivzJHezSj4594qkg6DbS9g       True  0.0  0.0  0.0  0.0  0.0  0.0  0.0   \n..                      ...        ...  ...  ...  ...  ...  ...  ...  ...   \n237  mfC8GXG3j38ip_KErwe1dg       True  0.0  0.0  0.0  0.0  0.0  0.0  0.0   \n238  LPNViYqzq4N7iwMEFvFN_g      False  0.0  0.0  0.0  0.0  0.0  0.0  0.0   \n239  -J6g1v3wGtT8VDxlhoPk8w       True  0.0  0.0  0.0  0.0  0.0  0.0  0.0   \n240  TcAUyiFCd_oAxNjTEKEL_A      False  0.0  0.0  0.0  0.0  0.0  0.0  0.0   \n241  8X1coT0qJcO0hL-9tygAwQ      False  0.0  0.0  0.0  0.0  0.0  0.0  0.0   \n\n       7  ...  3460  3461  3462     3463     3464  3465     3466     3467  \\\n0    0.0  ...   0.0   0.0   0.0  0.00000  0.00000   0.0  0.00000  0.00000   \n1    0.0  ...   0.0   0.0   0.0  0.00000  0.00000   0.0  0.00000  0.00000   \n2    0.0  ...   0.0   0.0   0.0  0.00000  0.00000   0.0  0.00000  0.00000   \n3    0.0  ...   0.0   0.0   0.0  0.07565  0.07565   0.0  0.07565  0.07565   \n4    0.0  ...   0.0   0.0   0.0  0.00000  0.00000   0.0  0.00000  0.00000   \n..   ...  ...   ...   ...   ...      ...      ...   ...      ...      ...   \n237  0.0  ...   0.0   0.0   0.0  0.00000  0.00000   0.0  0.00000  0.00000   \n238  0.0  ...   0.0   0.0   0.0  0.00000  0.00000   0.0  0.00000  0.00000   \n239  0.0  ...   0.0   0.0   0.0  0.00000  0.00000   0.0  0.00000  0.00000   \n240  0.0  ...   0.0   0.0   0.0  0.00000  0.00000   0.0  0.00000  0.00000   \n241  0.0  ...   0.0   0.0   0.0  0.00000  0.00000   0.0  0.00000  0.00000   \n\n     predict                                           keywords  \n0       True  [agent, confirmed, adjoining, rooms, problems,...  \n1      False  [rules, explain, started, just, clerk, extra, ...  \n2      False  [received, verbal, topped, survey, statements,...  \n3      False  [und, war, sehr, mit, hier, frühstück, der, al...  \n4       True  [cheapest, waffle, getting, hotels, breakfast,...  \n..       ...                                                ...  \n237     True  [aid, seat, modern, toilet, recently, didnt, l...  \n238    False  [updated, beds, really, comfortable, friendly,...  \n239     True  [fully, night, refund, paid, away, booked, wat...  \n240    False  [incredible, vegas, strongly, youre, reasonabl...  \n241    False  [meals, affordable, casino, restaurant, beds, ...  \n\n[242 rows x 3472 columns]",
      "text/html": "<div>\n<style scoped>\n    .dataframe tbody tr th:only-of-type {\n        vertical-align: middle;\n    }\n\n    .dataframe tbody tr th {\n        vertical-align: top;\n    }\n\n    .dataframe thead th {\n        text-align: right;\n    }\n</style>\n<table border=\"1\" class=\"dataframe\">\n  <thead>\n    <tr style=\"text-align: right;\">\n      <th></th>\n      <th>review_id</th>\n      <th>is_useful</th>\n      <th>0</th>\n      <th>1</th>\n      <th>2</th>\n      <th>3</th>\n      <th>4</th>\n      <th>5</th>\n      <th>6</th>\n      <th>7</th>\n      <th>...</th>\n      <th>3460</th>\n      <th>3461</th>\n      <th>3462</th>\n      <th>3463</th>\n      <th>3464</th>\n      <th>3465</th>\n      <th>3466</th>\n      <th>3467</th>\n      <th>predict</th>\n      <th>keywords</th>\n    </tr>\n  </thead>\n  <tbody>\n    <tr>\n      <th>0</th>\n      <td>-86eJuYugapSTs5dvCZKtw</td>\n      <td>True</td>\n      <td>0.0</td>\n      <td>0.0</td>\n      <td>0.0</td>\n      <td>0.0</td>\n      <td>0.0</td>\n      <td>0.0</td>\n      <td>0.0</td>\n      <td>0.0</td>\n      <td>...</td>\n      <td>0.0</td>\n      <td>0.0</td>\n      <td>0.0</td>\n      <td>0.00000</td>\n      <td>0.00000</td>\n      <td>0.0</td>\n      <td>0.00000</td>\n      <td>0.00000</td>\n      <td>True</td>\n      <td>[agent, confirmed, adjoining, rooms, problems,...</td>\n    </tr>\n    <tr>\n      <th>1</th>\n      <td>j57XFIDuzcpBrcptbrJSwA</td>\n      <td>False</td>\n      <td>0.0</td>\n      <td>0.0</td>\n      <td>0.0</td>\n      <td>0.0</td>\n      <td>0.0</td>\n      <td>0.0</td>\n      <td>0.0</td>\n      <td>0.0</td>\n      <td>...</td>\n      <td>0.0</td>\n      <td>0.0</td>\n      <td>0.0</td>\n      <td>0.00000</td>\n      <td>0.00000</td>\n      <td>0.0</td>\n      <td>0.00000</td>\n      <td>0.00000</td>\n      <td>False</td>\n      <td>[rules, explain, started, just, clerk, extra, ...</td>\n    </tr>\n    <tr>\n      <th>2</th>\n      <td>Hb_kJxRWevasbqHfD_YBQw</td>\n      <td>False</td>\n      <td>0.0</td>\n      <td>0.0</td>\n      <td>0.0</td>\n      <td>0.0</td>\n      <td>0.0</td>\n      <td>0.0</td>\n      <td>0.0</td>\n      <td>0.0</td>\n      <td>...</td>\n      <td>0.0</td>\n      <td>0.0</td>\n      <td>0.0</td>\n      <td>0.00000</td>\n      <td>0.00000</td>\n      <td>0.0</td>\n      <td>0.00000</td>\n      <td>0.00000</td>\n      <td>False</td>\n      <td>[received, verbal, topped, survey, statements,...</td>\n    </tr>\n    <tr>\n      <th>3</th>\n      <td>qpdvJX2M17LZrrtamrpgjA</td>\n      <td>False</td>\n      <td>0.0</td>\n      <td>0.0</td>\n      <td>0.0</td>\n      <td>0.0</td>\n      <td>0.0</td>\n      <td>0.0</td>\n      <td>0.0</td>\n      <td>0.0</td>\n      <td>...</td>\n      <td>0.0</td>\n      <td>0.0</td>\n      <td>0.0</td>\n      <td>0.07565</td>\n      <td>0.07565</td>\n      <td>0.0</td>\n      <td>0.07565</td>\n      <td>0.07565</td>\n      <td>False</td>\n      <td>[und, war, sehr, mit, hier, frühstück, der, al...</td>\n    </tr>\n    <tr>\n      <th>4</th>\n      <td>ivzJHezSj4594qkg6DbS9g</td>\n      <td>True</td>\n      <td>0.0</td>\n      <td>0.0</td>\n      <td>0.0</td>\n      <td>0.0</td>\n      <td>0.0</td>\n      <td>0.0</td>\n      <td>0.0</td>\n      <td>0.0</td>\n      <td>...</td>\n      <td>0.0</td>\n      <td>0.0</td>\n      <td>0.0</td>\n      <td>0.00000</td>\n      <td>0.00000</td>\n      <td>0.0</td>\n      <td>0.00000</td>\n      <td>0.00000</td>\n      <td>True</td>\n      <td>[cheapest, waffle, getting, hotels, breakfast,...</td>\n    </tr>\n    <tr>\n      <th>...</th>\n      <td>...</td>\n      <td>...</td>\n      <td>...</td>\n      <td>...</td>\n      <td>...</td>\n      <td>...</td>\n      <td>...</td>\n      <td>...</td>\n      <td>...</td>\n      <td>...</td>\n      <td>...</td>\n      <td>...</td>\n      <td>...</td>\n      <td>...</td>\n      <td>...</td>\n      <td>...</td>\n      <td>...</td>\n      <td>...</td>\n      <td>...</td>\n      <td>...</td>\n      <td>...</td>\n    </tr>\n    <tr>\n      <th>237</th>\n      <td>mfC8GXG3j38ip_KErwe1dg</td>\n      <td>True</td>\n      <td>0.0</td>\n      <td>0.0</td>\n      <td>0.0</td>\n      <td>0.0</td>\n      <td>0.0</td>\n      <td>0.0</td>\n      <td>0.0</td>\n      <td>0.0</td>\n      <td>...</td>\n      <td>0.0</td>\n      <td>0.0</td>\n      <td>0.0</td>\n      <td>0.00000</td>\n      <td>0.00000</td>\n      <td>0.0</td>\n      <td>0.00000</td>\n      <td>0.00000</td>\n      <td>True</td>\n      <td>[aid, seat, modern, toilet, recently, didnt, l...</td>\n    </tr>\n    <tr>\n      <th>238</th>\n      <td>LPNViYqzq4N7iwMEFvFN_g</td>\n      <td>False</td>\n      <td>0.0</td>\n      <td>0.0</td>\n      <td>0.0</td>\n      <td>0.0</td>\n      <td>0.0</td>\n      <td>0.0</td>\n      <td>0.0</td>\n      <td>0.0</td>\n      <td>...</td>\n      <td>0.0</td>\n      <td>0.0</td>\n      <td>0.0</td>\n      <td>0.00000</td>\n      <td>0.00000</td>\n      <td>0.0</td>\n      <td>0.00000</td>\n      <td>0.00000</td>\n      <td>False</td>\n      <td>[updated, beds, really, comfortable, friendly,...</td>\n    </tr>\n    <tr>\n      <th>239</th>\n      <td>-J6g1v3wGtT8VDxlhoPk8w</td>\n      <td>True</td>\n      <td>0.0</td>\n      <td>0.0</td>\n      <td>0.0</td>\n      <td>0.0</td>\n      <td>0.0</td>\n      <td>0.0</td>\n      <td>0.0</td>\n      <td>0.0</td>\n      <td>...</td>\n      <td>0.0</td>\n      <td>0.0</td>\n      <td>0.0</td>\n      <td>0.00000</td>\n      <td>0.00000</td>\n      <td>0.0</td>\n      <td>0.00000</td>\n      <td>0.00000</td>\n      <td>True</td>\n      <td>[fully, night, refund, paid, away, booked, wat...</td>\n    </tr>\n    <tr>\n      <th>240</th>\n      <td>TcAUyiFCd_oAxNjTEKEL_A</td>\n      <td>False</td>\n      <td>0.0</td>\n      <td>0.0</td>\n      <td>0.0</td>\n      <td>0.0</td>\n      <td>0.0</td>\n      <td>0.0</td>\n      <td>0.0</td>\n      <td>0.0</td>\n      <td>...</td>\n      <td>0.0</td>\n      <td>0.0</td>\n      <td>0.0</td>\n      <td>0.00000</td>\n      <td>0.00000</td>\n      <td>0.0</td>\n      <td>0.00000</td>\n      <td>0.00000</td>\n      <td>False</td>\n      <td>[incredible, vegas, strongly, youre, reasonabl...</td>\n    </tr>\n    <tr>\n      <th>241</th>\n      <td>8X1coT0qJcO0hL-9tygAwQ</td>\n      <td>False</td>\n      <td>0.0</td>\n      <td>0.0</td>\n      <td>0.0</td>\n      <td>0.0</td>\n      <td>0.0</td>\n      <td>0.0</td>\n      <td>0.0</td>\n      <td>0.0</td>\n      <td>...</td>\n      <td>0.0</td>\n      <td>0.0</td>\n      <td>0.0</td>\n      <td>0.00000</td>\n      <td>0.00000</td>\n      <td>0.0</td>\n      <td>0.00000</td>\n      <td>0.00000</td>\n      <td>False</td>\n      <td>[meals, affordable, casino, restaurant, beds, ...</td>\n    </tr>\n  </tbody>\n</table>\n<p>242 rows × 3472 columns</p>\n</div>"
     },
     "metadata": {},
     "execution_count": 73
    }
   ],
   "source": [
    "keywords_df_with_class"
   ]
  },
  {
   "cell_type": "code",
   "execution_count": 29,
   "metadata": {},
   "outputs": [
    {
     "output_type": "execute_result",
     "data": {
      "text/plain": "['-86eJuYugapSTs5dvCZKtw',\n 'ivzJHezSj4594qkg6DbS9g',\n 'YK3MYDXrn0_Vodpi3nimBA',\n '4kjyktlG2hyM4YsEqAOmXA',\n 'wogUf7CqmRbJ9uIO8urDkg',\n 'WwrJGDo7Vv9eSwdeFKPrmQ',\n 'niGE-8FPXPJf5EWxon3E-Q',\n '0moAlxjixwZK8rjTXMQmpg',\n 'IhfpgO63Irw9lxLEqYMWfg',\n 'Lp5Abn8H7DCMlSWCIbbkIA',\n 'B-hZP-x4VVdxg5C7vNXeWw',\n 'LsNQbGrwWsK_KqU6b2Jivw',\n 'qj5oCkr1UdVO587Fico4ww',\n 'rij66bi-Am6b4X6fZfJAog',\n 'ohegoRSpqEgygkGDHThsFA',\n 'Bv802uJfg8jj8PMm82KQVA',\n 'r9ScChJMSaf8o87690gLXw',\n 'B02Sgz3gcGJUSBrACczI6A',\n 'daQt3ldxLn5KykOiyXGnww',\n '-dYcH2NvdmrPQcJ_oK1RpQ',\n 'aw0L5K_9Y51QL5PYoAqw3w',\n '5TOcLPE0QrIARWUbY4HCmQ',\n '1JrOpWAd4IJkCWuT9GxwYw',\n 'm1lemSEXYnZXXpxeOkwPXw',\n 'CusazvEAf-hRyGWvY_FezQ',\n 'CHS98KBMYOkeX1KabqhBDA',\n 'LSiG-uvfp7mzwJpI_oSCvw',\n 'vmNNbQ7cMwchpVz7IJ5KwA',\n '61EU0jV072LwHKYMKrr6-A',\n 'SGfzkcIqpYt5o9-9SfoP5g',\n 'zWzPj4iyCegJ6PESsEAaFw',\n 'l0S3FVCdu4Tl3hlKUX6bmg',\n 'TrELqbKWzJVt3FhtILDeZQ',\n 'tpjr844-0zAZVsX1aXyqkw',\n '0PKx5rpUmN3Hqc7yz8FsSQ',\n 'arxcGFxtCzwNW3GzVg09KQ',\n '6Yjx40PpFzX4uauz4Zcvmw',\n 'pgoyDN2SOojKnoim9KfEhg',\n 'au9v22yu1i9VN-pYhUOeSQ',\n 'fFE8KZ1Zpx2BnycYhTmoRQ',\n 'R-5D_HyOALFTR7Sdbtie9A',\n 'lAVke5TH1fP_GX5uRk48_A',\n 'dbBkS_VzM4EXOSeN8oCYIA',\n 'FRnu7Uet5D-7rjn6epVI6Q',\n '5QYdV5As5AvpEZmTHYCqNw',\n 'ATZT3P3RmP8nk2mC0teBWw',\n 'vwEJ2gbblwOg3FIXGBojCg',\n 'pUKZFsd4Xi6WK_SsGKTVJw',\n 'xsGmfjcTnWXsWBgZUpXHAA',\n 'JzW1DAkyh-tykvVAEgsT-A',\n 'tB3D99yWYYJ8LHhmB51SOw',\n 'ulsgL6XE-_61gS8tR-ADsQ',\n 'iXjqMJQtcxfXUIk_rrW9Rg',\n 'mfC8GXG3j38ip_KErwe1dg',\n '-J6g1v3wGtT8VDxlhoPk8w']"
     },
     "metadata": {},
     "execution_count": 29
    }
   ],
   "source": [
    "reviews_ids = keywords_df_with_class[ keywords_df_with_class['predict'] == True ]\n",
    "list(reviews_ids['review_id'])"
   ]
  },
  {
   "cell_type": "code",
   "execution_count": 143,
   "metadata": {},
   "outputs": [],
   "source": [
    "tn, fp, fn, tp = confusion_matrix(keywords_df_with_class['is_useful'],keywords_df_with_class['predict'], labels=[False,True]).ravel()"
   ]
  },
  {
   "cell_type": "code",
   "execution_count": 28,
   "metadata": {},
   "outputs": [
    {
     "output_type": "stream",
     "name": "stdout",
     "text": "37\n4\n3\n15\n"
    }
   ],
   "source": [
    "print(tn)\n",
    "print(fp)\n",
    "print(fn)\n",
    "print(tp)"
   ]
  },
  {
   "cell_type": "code",
   "execution_count": 29,
   "metadata": {},
   "outputs": [
    {
     "output_type": "execute_result",
     "data": {
      "text/plain": "(0.7894736842105263, 0.8333333333333334, 0.8108108108108109, None)"
     },
     "metadata": {},
     "execution_count": 29
    }
   ],
   "source": [
    "precision_recall_fscore_support(keywords_df_with_class['is_useful'],keywords_df_with_class['predict'], pos_label=True,average='binary')"
   ]
  },
  {
   "cell_type": "code",
   "execution_count": null,
   "metadata": {},
   "outputs": [],
   "source": []
  }
 ],
 "metadata": {
  "language_info": {
   "name": "python",
   "codemirror_mode": {
    "name": "ipython",
    "version": 3
   },
   "version": "3.8.1-final"
  },
  "orig_nbformat": 2,
  "file_extension": ".py",
  "mimetype": "text/x-python",
  "name": "python",
  "npconvert_exporter": "python",
  "pygments_lexer": "ipython3",
  "version": 3,
  "kernelspec": {
   "name": "python38164bittaller2pipenv05139df271e8424ea6d598cf3759efba",
   "display_name": "Python 3.8.1 64-bit ('taller2': pipenv)"
  }
 },
 "nbformat": 4,
 "nbformat_minor": 2
}