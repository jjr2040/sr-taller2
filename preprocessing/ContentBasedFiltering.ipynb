{
 "nbformat": 4,
 "nbformat_minor": 2,
 "metadata": {
  "language_info": {
   "name": "python",
   "codemirror_mode": {
    "name": "ipython",
    "version": 3
   },
   "version": "3.8.1-final"
  },
  "orig_nbformat": 2,
  "file_extension": ".py",
  "mimetype": "text/x-python",
  "name": "python",
  "npconvert_exporter": "python",
  "pygments_lexer": "ipython3",
  "version": 3,
  "kernelspec": {
   "name": "python38164bittaller2pipenv05139df271e8424ea6d598cf3759efba",
   "display_name": "Python 3.8.1 64-bit ('taller2': pipenv)"
  }
 },
 "cells": [
  {
   "cell_type": "code",
   "execution_count": 2,
   "metadata": {},
   "outputs": [],
   "source": [
    "import os\n",
    "import re\n",
    "import pandas as pd\n",
    "import numpy as np\n",
    "import random\n",
    "\n",
    "from sklearn.model_selection import train_test_split\n",
    "from sklearn.feature_selection import chi2\n",
    "from sklearn.neighbors import KNeighborsClassifier\n",
    "from sklearn.metrics import confusion_matrix, precision_recall_fscore_support\n",
    "from sklearn.feature_extraction.text import CountVectorizer\n",
    "from sklearn.feature_extraction.text import TfidfTransformer"
   ]
  },
  {
   "cell_type": "markdown",
   "metadata": {},
   "source": [
    "# Load Files"
   ]
  },
  {
   "cell_type": "code",
   "execution_count": 4,
   "metadata": {},
   "outputs": [
    {
     "output_type": "execute_result",
     "data": {
      "text/plain": "                        _id               review_id                 user_id  \\\n0  5e9664b23b612dc2f0f009d3  KJ7I6unUOtO4Af8DRGBvCw  8vFdPfwvSrRriEzuRHLQDg   \n1  5e9664b33b612dc2f0f00b87  YI8yUhoTTGbHyyhqtOry7w  NMQnFpYlj1I2z8niP0Td2w   \n2  5e9664b33b612dc2f0f03b58  q9DUuox-jmfAr80_tAjeTQ  C1uo5b6avxRDnppB1oDlzg   \n3  5e9664b53b612dc2f0f0f453  pyhQXENH7i05M2_PdAN-LA  qibGLHABNReGeJr2w4_8yQ   \n4  5e9664b53b612dc2f0f11232  QgCNyWwqo81lOAiPiYTzDQ  tA9wWXliXSWVEW9BgyxzVQ   \n\n              business_id  stars  useful  funny  cool  \\\n0  luOWGdtAfsbrZ5kC_cjuYA      3       1      1     0   \n1  lJh661dhjD5BDz5QrBEUeQ      1       0      0     0   \n2  luOWGdtAfsbrZ5kC_cjuYA      5       2      0     1   \n3  lJh661dhjD5BDz5QrBEUeQ      3       3      2     3   \n4  lJh661dhjD5BDz5QrBEUeQ      4       1      0     1   \n\n                                                text                date  \n0  Nice clean atmosphere set in s newly remodeled... 2014-10-27 01:51:18  \n1  I have lived in this area for 20 years and hav... 2014-08-10 20:34:33  \n2  Oh my gosh, the chimi w/ baja is the best ever... 2012-12-05 20:16:53  \n3  Not the best filbertos, but not the worst. I c... 2011-10-29 22:42:23  \n4  I have been craving Horchata ever since we mov... 2012-03-04 02:19:10  ",
      "text/html": "<div>\n<style scoped>\n    .dataframe tbody tr th:only-of-type {\n        vertical-align: middle;\n    }\n\n    .dataframe tbody tr th {\n        vertical-align: top;\n    }\n\n    .dataframe thead th {\n        text-align: right;\n    }\n</style>\n<table border=\"1\" class=\"dataframe\">\n  <thead>\n    <tr style=\"text-align: right;\">\n      <th></th>\n      <th>_id</th>\n      <th>review_id</th>\n      <th>user_id</th>\n      <th>business_id</th>\n      <th>stars</th>\n      <th>useful</th>\n      <th>funny</th>\n      <th>cool</th>\n      <th>text</th>\n      <th>date</th>\n    </tr>\n  </thead>\n  <tbody>\n    <tr>\n      <th>0</th>\n      <td>5e9664b23b612dc2f0f009d3</td>\n      <td>KJ7I6unUOtO4Af8DRGBvCw</td>\n      <td>8vFdPfwvSrRriEzuRHLQDg</td>\n      <td>luOWGdtAfsbrZ5kC_cjuYA</td>\n      <td>3</td>\n      <td>1</td>\n      <td>1</td>\n      <td>0</td>\n      <td>Nice clean atmosphere set in s newly remodeled...</td>\n      <td>2014-10-27 01:51:18</td>\n    </tr>\n    <tr>\n      <th>1</th>\n      <td>5e9664b33b612dc2f0f00b87</td>\n      <td>YI8yUhoTTGbHyyhqtOry7w</td>\n      <td>NMQnFpYlj1I2z8niP0Td2w</td>\n      <td>lJh661dhjD5BDz5QrBEUeQ</td>\n      <td>1</td>\n      <td>0</td>\n      <td>0</td>\n      <td>0</td>\n      <td>I have lived in this area for 20 years and hav...</td>\n      <td>2014-08-10 20:34:33</td>\n    </tr>\n    <tr>\n      <th>2</th>\n      <td>5e9664b33b612dc2f0f03b58</td>\n      <td>q9DUuox-jmfAr80_tAjeTQ</td>\n      <td>C1uo5b6avxRDnppB1oDlzg</td>\n      <td>luOWGdtAfsbrZ5kC_cjuYA</td>\n      <td>5</td>\n      <td>2</td>\n      <td>0</td>\n      <td>1</td>\n      <td>Oh my gosh, the chimi w/ baja is the best ever...</td>\n      <td>2012-12-05 20:16:53</td>\n    </tr>\n    <tr>\n      <th>3</th>\n      <td>5e9664b53b612dc2f0f0f453</td>\n      <td>pyhQXENH7i05M2_PdAN-LA</td>\n      <td>qibGLHABNReGeJr2w4_8yQ</td>\n      <td>lJh661dhjD5BDz5QrBEUeQ</td>\n      <td>3</td>\n      <td>3</td>\n      <td>2</td>\n      <td>3</td>\n      <td>Not the best filbertos, but not the worst. I c...</td>\n      <td>2011-10-29 22:42:23</td>\n    </tr>\n    <tr>\n      <th>4</th>\n      <td>5e9664b53b612dc2f0f11232</td>\n      <td>QgCNyWwqo81lOAiPiYTzDQ</td>\n      <td>tA9wWXliXSWVEW9BgyxzVQ</td>\n      <td>lJh661dhjD5BDz5QrBEUeQ</td>\n      <td>4</td>\n      <td>1</td>\n      <td>0</td>\n      <td>1</td>\n      <td>I have been craving Horchata ever since we mov...</td>\n      <td>2012-03-04 02:19:10</td>\n    </tr>\n  </tbody>\n</table>\n</div>"
     },
     "metadata": {},
     "execution_count": 4
    }
   ],
   "source": [
    "kn_reviews_df = pd.read_json(\"../data/businesses_neighbours_reviews.json\",lines=True)\n",
    "kn_reviews_df.head()"
   ]
  },
  {
   "cell_type": "markdown",
   "metadata": {},
   "source": [
    "# Build TF-IDF for reviews"
   ]
  },
  {
   "cell_type": "code",
   "execution_count": 5,
   "metadata": {},
   "outputs": [],
   "source": [
    "reviews_texts=kn_reviews_df['text']"
   ]
  },
  {
   "cell_type": "markdown",
   "metadata": {},
   "source": [
    "### Clean especial characters"
   ]
  },
  {
   "cell_type": "code",
   "execution_count": 29,
   "metadata": {},
   "outputs": [
    {
     "output_type": "execute_result",
     "data": {
      "text/plain": "['nice clean atmosphere set in s newly remodeled strip msll service on a friday night was quick and friendly maybe because i was one of  tables with guests at  pm could it be the food i had to ask myself as the parking lot was full ordered the carne asada torta and my friend ordered a green chili burro deep fried enchilada style the food arrived surptisinly fast it almost beat our water drinks i will start with my torta the carne was almost cooked to crisp leather and chopped fine to maybe disguise it the roll was tossted nicely but the rest made it the worst torta i have ever tried to consume my friend let me taste her burrito which was very good i gave up on the torta and claimed half of my friends burro the green chili and service raised my rating to  stars but the torta might explain all the empty seats on this friday night',\n 'i have lived in this area for  years and have never gone to this filibertos  my intuition told me noi should have listened  but nooooi finally said  oh what the heck  its right here and how bad could some carnitas and a bean burro be  safe  right  nofirst  its  in he afternoon when i order and the cook is nowhere to be seen  on a lunch break  probably  im a patient guy and he or she deserves a break  no biggie  so i chill and wait for a few while watching a mexican telenovela about  minutes later he starts to emerge from the back room  not too long as a break goes  so i think oh great here he comes  until he emerges from the back room with a crappy attitude  hes scowling at the halfdozen customers lining up for lunch and mumbling under his breath  the young lady taking orders looks horrified and mumbles something at him in spanish and he stops ranting for a bit  only to do it again a short time later  you ask  hey whats the saving grace here  well i can fully see him cooking so i feel confident hes not spitting in the food  thats a bonus i could go on and on but ill keep this shortmy takeout is done in just a scant few minutes and i haul it home  the bean burro sucks  the beans taste like they are  days old  dry as a bone and taste horrible  the carnitas  same deal  they suck  dry and tasteless  ill stop back and try for a refund  yeah whatever  im not holding my breath and most importantly  im not going back  ever  ever  ever  ever  again  even more importantly  never  ever  ever ever  go to any restaurant without consulting yelp  this could have been avoided',\n 'oh my gosh the chimi w baja is the best ever  you also get it with beans and rice they are both awesome enough for  to eat the sauce they serve on the chimi is so good and the chicken inside is so flavorful  i try to stay away from fried foods but this will have to be the exception  i have also had the green chili burro and my husband likes the combo plates  everything was really good this is now my favorite mexican restaurant  still like carolinas for eating fast food but this place is a winner  we have been here  times now once just to try the deserts because we never have any room  we had deep fried ice cream churros and the flan  they were all as good as it gets  the churros is a little hard to eat it is crispy with the ice cream but worth the effort  i was born in nj my parents were raised in nyc but i have been eating mexican food for over  years  my favorite foods are hot and spicy and this place fits the bill for me  they have a side with a bar that i believe will be opening soonwe have been back often  we visit about twice a month now  we also went in one night just to try the deserts the flan and churros were a hit',\n 'not the best filbertos but not the worst i came here because i was in the area starving and wanted to sit down somewhere to eat  i got what i l always get the   shredded beef tacos beans rice and a drinknot a bad experience just blah  there was a tv that was blaring loud with some mexican kids show on and there was a weird crowd in here  food was decent but i think i like my regular filbertos better',\n 'i have been craving horchata ever since we moved from az to ny if anyone knows any place that serves horchata as good as filbertos in new york suggestions would be appreciated i miss filbertos a lot their carne asada fries are so good portions are huge so its definitely a belly pleaser i have to admit every time we go to filbertos i always get carne asada fries because i love it that much an its so filling if i ever go back to az i will be trying other things based on the other reviews on this place the burritos are a must try']"
     },
     "metadata": {},
     "execution_count": 29
    }
   ],
   "source": [
    "clear_text_list=[]\n",
    "for x in reviews_texts:\n",
    "    y=re.sub(r'[,.!-?¿¡\"&$%#\\n\\t]','',x.lower())\n",
    "    clear_text_list.append(y)\n",
    "clear_text_list[:5]"
   ]
  },
  {
   "cell_type": "markdown",
   "metadata": {},
   "source": [
    "### Se crea una matrix de conteo de (textos x palabras), se ignoran las palabras que aparezcan en el 85% de los documentos(no relevantes)"
   ]
  },
  {
   "cell_type": "code",
   "execution_count": 30,
   "metadata": {},
   "outputs": [],
   "source": [
    "cv=CountVectorizer(max_df=0.85, stop_words=\"english\")\n",
    "word_count_vector=cv.fit_transform(clear_text_list)"
   ]
  },
  {
   "cell_type": "markdown",
   "metadata": {},
   "source": [
    "### Se convierte la matriz dispersa a dataframe"
   ]
  },
  {
   "cell_type": "code",
   "execution_count": 31,
   "metadata": {},
   "outputs": [],
   "source": [
    "keywords_df = pd.DataFrame(word_count_vector.toarray())"
   ]
  },
  {
   "cell_type": "code",
   "execution_count": 32,
   "metadata": {},
   "outputs": [
    {
     "output_type": "execute_result",
     "data": {
      "text/plain": "     0     1     2     3     4     5     6     7     8     9     ...  4462  \\\n0       0     0     0     0     0     0     0     0     0     0  ...     0   \n1       0     0     0     0     0     0     0     0     0     0  ...     0   \n2       0     0     0     0     0     0     0     0     0     0  ...     0   \n3       0     0     0     0     0     0     0     0     0     0  ...     0   \n4       0     0     0     0     0     0     0     0     0     0  ...     0   \n..    ...   ...   ...   ...   ...   ...   ...   ...   ...   ...  ...   ...   \n644     0     0     0     0     0     0     0     0     0     0  ...     0   \n645     0     0     0     0     0     0     0     0     0     0  ...     0   \n646     0     0     0     0     0     0     0     0     0     0  ...     0   \n647     0     0     0     0     0     0     0     0     0     0  ...     0   \n648     0     0     0     0     0     0     0     0     0     0  ...     0   \n\n     4463  4464  4465  4466  4467  4468  4469  4470  4471  \n0       0     0     0     0     0     0     0     0     0  \n1       0     0     0     0     0     0     0     0     0  \n2       0     0     0     0     0     0     0     0     0  \n3       0     0     0     0     0     0     0     0     0  \n4       0     0     0     0     0     0     0     0     0  \n..    ...   ...   ...   ...   ...   ...   ...   ...   ...  \n644     0     0     0     0     0     0     0     0     0  \n645     0     0     0     0     0     0     0     0     0  \n646     0     0     0     0     0     0     0     0     0  \n647     0     0     0     0     0     0     0     0     0  \n648     0     0     0     0     0     0     0     0     0  \n\n[649 rows x 4472 columns]",
      "text/html": "<div>\n<style scoped>\n    .dataframe tbody tr th:only-of-type {\n        vertical-align: middle;\n    }\n\n    .dataframe tbody tr th {\n        vertical-align: top;\n    }\n\n    .dataframe thead th {\n        text-align: right;\n    }\n</style>\n<table border=\"1\" class=\"dataframe\">\n  <thead>\n    <tr style=\"text-align: right;\">\n      <th></th>\n      <th>0</th>\n      <th>1</th>\n      <th>2</th>\n      <th>3</th>\n      <th>4</th>\n      <th>5</th>\n      <th>6</th>\n      <th>7</th>\n      <th>8</th>\n      <th>9</th>\n      <th>...</th>\n      <th>4462</th>\n      <th>4463</th>\n      <th>4464</th>\n      <th>4465</th>\n      <th>4466</th>\n      <th>4467</th>\n      <th>4468</th>\n      <th>4469</th>\n      <th>4470</th>\n      <th>4471</th>\n    </tr>\n  </thead>\n  <tbody>\n    <tr>\n      <th>0</th>\n      <td>0</td>\n      <td>0</td>\n      <td>0</td>\n      <td>0</td>\n      <td>0</td>\n      <td>0</td>\n      <td>0</td>\n      <td>0</td>\n      <td>0</td>\n      <td>0</td>\n      <td>...</td>\n      <td>0</td>\n      <td>0</td>\n      <td>0</td>\n      <td>0</td>\n      <td>0</td>\n      <td>0</td>\n      <td>0</td>\n      <td>0</td>\n      <td>0</td>\n      <td>0</td>\n    </tr>\n    <tr>\n      <th>1</th>\n      <td>0</td>\n      <td>0</td>\n      <td>0</td>\n      <td>0</td>\n      <td>0</td>\n      <td>0</td>\n      <td>0</td>\n      <td>0</td>\n      <td>0</td>\n      <td>0</td>\n      <td>...</td>\n      <td>0</td>\n      <td>0</td>\n      <td>0</td>\n      <td>0</td>\n      <td>0</td>\n      <td>0</td>\n      <td>0</td>\n      <td>0</td>\n      <td>0</td>\n      <td>0</td>\n    </tr>\n    <tr>\n      <th>2</th>\n      <td>0</td>\n      <td>0</td>\n      <td>0</td>\n      <td>0</td>\n      <td>0</td>\n      <td>0</td>\n      <td>0</td>\n      <td>0</td>\n      <td>0</td>\n      <td>0</td>\n      <td>...</td>\n      <td>0</td>\n      <td>0</td>\n      <td>0</td>\n      <td>0</td>\n      <td>0</td>\n      <td>0</td>\n      <td>0</td>\n      <td>0</td>\n      <td>0</td>\n      <td>0</td>\n    </tr>\n    <tr>\n      <th>3</th>\n      <td>0</td>\n      <td>0</td>\n      <td>0</td>\n      <td>0</td>\n      <td>0</td>\n      <td>0</td>\n      <td>0</td>\n      <td>0</td>\n      <td>0</td>\n      <td>0</td>\n      <td>...</td>\n      <td>0</td>\n      <td>0</td>\n      <td>0</td>\n      <td>0</td>\n      <td>0</td>\n      <td>0</td>\n      <td>0</td>\n      <td>0</td>\n      <td>0</td>\n      <td>0</td>\n    </tr>\n    <tr>\n      <th>4</th>\n      <td>0</td>\n      <td>0</td>\n      <td>0</td>\n      <td>0</td>\n      <td>0</td>\n      <td>0</td>\n      <td>0</td>\n      <td>0</td>\n      <td>0</td>\n      <td>0</td>\n      <td>...</td>\n      <td>0</td>\n      <td>0</td>\n      <td>0</td>\n      <td>0</td>\n      <td>0</td>\n      <td>0</td>\n      <td>0</td>\n      <td>0</td>\n      <td>0</td>\n      <td>0</td>\n    </tr>\n    <tr>\n      <th>...</th>\n      <td>...</td>\n      <td>...</td>\n      <td>...</td>\n      <td>...</td>\n      <td>...</td>\n      <td>...</td>\n      <td>...</td>\n      <td>...</td>\n      <td>...</td>\n      <td>...</td>\n      <td>...</td>\n      <td>...</td>\n      <td>...</td>\n      <td>...</td>\n      <td>...</td>\n      <td>...</td>\n      <td>...</td>\n      <td>...</td>\n      <td>...</td>\n      <td>...</td>\n      <td>...</td>\n    </tr>\n    <tr>\n      <th>644</th>\n      <td>0</td>\n      <td>0</td>\n      <td>0</td>\n      <td>0</td>\n      <td>0</td>\n      <td>0</td>\n      <td>0</td>\n      <td>0</td>\n      <td>0</td>\n      <td>0</td>\n      <td>...</td>\n      <td>0</td>\n      <td>0</td>\n      <td>0</td>\n      <td>0</td>\n      <td>0</td>\n      <td>0</td>\n      <td>0</td>\n      <td>0</td>\n      <td>0</td>\n      <td>0</td>\n    </tr>\n    <tr>\n      <th>645</th>\n      <td>0</td>\n      <td>0</td>\n      <td>0</td>\n      <td>0</td>\n      <td>0</td>\n      <td>0</td>\n      <td>0</td>\n      <td>0</td>\n      <td>0</td>\n      <td>0</td>\n      <td>...</td>\n      <td>0</td>\n      <td>0</td>\n      <td>0</td>\n      <td>0</td>\n      <td>0</td>\n      <td>0</td>\n      <td>0</td>\n      <td>0</td>\n      <td>0</td>\n      <td>0</td>\n    </tr>\n    <tr>\n      <th>646</th>\n      <td>0</td>\n      <td>0</td>\n      <td>0</td>\n      <td>0</td>\n      <td>0</td>\n      <td>0</td>\n      <td>0</td>\n      <td>0</td>\n      <td>0</td>\n      <td>0</td>\n      <td>...</td>\n      <td>0</td>\n      <td>0</td>\n      <td>0</td>\n      <td>0</td>\n      <td>0</td>\n      <td>0</td>\n      <td>0</td>\n      <td>0</td>\n      <td>0</td>\n      <td>0</td>\n    </tr>\n    <tr>\n      <th>647</th>\n      <td>0</td>\n      <td>0</td>\n      <td>0</td>\n      <td>0</td>\n      <td>0</td>\n      <td>0</td>\n      <td>0</td>\n      <td>0</td>\n      <td>0</td>\n      <td>0</td>\n      <td>...</td>\n      <td>0</td>\n      <td>0</td>\n      <td>0</td>\n      <td>0</td>\n      <td>0</td>\n      <td>0</td>\n      <td>0</td>\n      <td>0</td>\n      <td>0</td>\n      <td>0</td>\n    </tr>\n    <tr>\n      <th>648</th>\n      <td>0</td>\n      <td>0</td>\n      <td>0</td>\n      <td>0</td>\n      <td>0</td>\n      <td>0</td>\n      <td>0</td>\n      <td>0</td>\n      <td>0</td>\n      <td>0</td>\n      <td>...</td>\n      <td>0</td>\n      <td>0</td>\n      <td>0</td>\n      <td>0</td>\n      <td>0</td>\n      <td>0</td>\n      <td>0</td>\n      <td>0</td>\n      <td>0</td>\n      <td>0</td>\n    </tr>\n  </tbody>\n</table>\n<p>649 rows × 4472 columns</p>\n</div>"
     },
     "metadata": {},
     "execution_count": 32
    }
   ],
   "source": [
    "keywords_df"
   ]
  },
  {
   "cell_type": "code",
   "execution_count": 33,
   "metadata": {},
   "outputs": [
    {
     "output_type": "execute_result",
     "data": {
      "text/plain": "['abandoned', 'abbreviation', 'able', 'abondigastortilla', 'aboutdont']"
     },
     "metadata": {},
     "execution_count": 33
    }
   ],
   "source": [
    "#get_feature_names retorna el nombre de las entidades, no el indice, lista todas las keywords encontradas\n",
    "feature_names=cv.get_feature_names()\n",
    "feature_names[:5]"
   ]
  },
  {
   "cell_type": "code",
   "execution_count": 34,
   "metadata": {},
   "outputs": [
    {
     "output_type": "execute_result",
     "data": {
      "text/plain": "TfidfTransformer(norm='l2', smooth_idf=False, sublinear_tf=False, use_idf=True)"
     },
     "metadata": {},
     "execution_count": 34
    }
   ],
   "source": [
    "#Calculo de TF- IDF sobre la matriz dispersa, smooth_idf modifica la formula matematica False para no ignorar completamente los terminos que aparecen en todos los textos\n",
    "#Se utiliza normalizacion coseno\n",
    "#use_idf true para calcular la ponderacion inversa de frecuencia\n",
    "Tfidf_transformer=TfidfTransformer(smooth_idf=False,use_idf=True)\n",
    "Tfidf_transformer.fit(word_count_vector)"
   ]
  },
  {
   "cell_type": "code",
   "execution_count": 35,
   "metadata": {},
   "outputs": [],
   "source": [
    "def sort_coo(coo_matrix):\n",
    "    tuples=zip(coo_matrix.col,coo_matrix.data)\n",
    "    return sorted(tuples,key=lambda x:(x[1],x[0]),reverse=True)\n",
    "\n",
    "#Extra de todas las keywords las n-keywords mas relevantes(TF-IDF)\n",
    "def extract_topn_from_vector(feature_names, sorted_items,topn=10):\n",
    "    sorted_items=sorted_items[:topn]\n",
    "    score_vals=[]\n",
    "    feature_vals=[]   \n",
    "    for idx,score in sorted_items:\n",
    "        score_vals.append(round(score,3))\n",
    "        feature_vals.append(feature_names[idx])\n",
    "    results={}\n",
    "    for idx in range(len(feature_vals)):\n",
    "        results[feature_vals[idx]]=score_vals[idx]\n",
    "    return results "
   ]
  },
  {
   "cell_type": "code",
   "execution_count": 36,
   "metadata": {},
   "outputs": [
    {
     "output_type": "execute_result",
     "data": {
      "text/plain": "[{'torta': 0.542,\n  'burro': 0.209,\n  'friday': 0.17,\n  'friend': 0.167,\n  'chili': 0.163,\n  'maybe': 0.154,\n  'night': 0.138,\n  'green': 0.137,\n  'tossted': 0.133,\n  'surptisinly': 0.133},\n {'break': 0.265,\n  'importantly': 0.207,\n  'breath': 0.207,\n  'hes': 0.177,\n  'burro': 0.163,\n  'dry': 0.146,\n  'bean': 0.136,\n  'carnitas': 0.134,\n  'later': 0.13,\n  'room': 0.129},\n {'churros': 0.29,\n  'deserts': 0.279,\n  'foods': 0.228,\n  'flan': 0.228,\n  'chimi': 0.202,\n  'ice': 0.181,\n  'try': 0.164,\n  'fried': 0.152,\n  'eating': 0.149,\n  'cream': 0.142},\n {'filbertos': 0.42,\n  'drinknot': 0.268,\n  'blaring': 0.243,\n  'blah': 0.243,\n  'loud': 0.228,\n  'crowd': 0.218,\n  'tv': 0.21,\n  'starving': 0.204,\n  'weird': 0.182,\n  'shredded': 0.176},\n {'filbertos': 0.459,\n  'horchata': 0.289,\n  'az': 0.275,\n  'fries': 0.256,\n  'pleaser': 0.195,\n  'belly': 0.195,\n  'appreciated': 0.195,\n  'asada': 0.186,\n  'carne': 0.181,\n  'york': 0.177}]"
     },
     "metadata": {},
     "execution_count": 36
    }
   ],
   "source": [
    "#Calculo de TF-IDF y encontrar top 10 de keywords para cada texto de las reviews de los vecinos\n",
    "keywordsArray=[]\n",
    "for text in clear_text_list:\n",
    "    tf_idf_vector=Tfidf_transformer.transform(cv.transform([text]))\n",
    "    sorted_items=sort_coo(tf_idf_vector.tocoo())\n",
    "    keywords=extract_topn_from_vector(feature_names,sorted_items,10)\n",
    "    keywordsArray.append(keywords)\n",
    "keywordsArray[:5]"
   ]
  },
  {
   "cell_type": "code",
   "execution_count": 38,
   "metadata": {},
   "outputs": [
    {
     "output_type": "execute_result",
     "data": {
      "text/plain": "[['torta',\n  'burro',\n  'friday',\n  'friend',\n  'chili',\n  'maybe',\n  'night',\n  'green',\n  'tossted',\n  'surptisinly'],\n ['break',\n  'importantly',\n  'breath',\n  'hes',\n  'burro',\n  'dry',\n  'bean',\n  'carnitas',\n  'later',\n  'room'],\n ['churros',\n  'deserts',\n  'foods',\n  'flan',\n  'chimi',\n  'ice',\n  'try',\n  'fried',\n  'eating',\n  'cream'],\n ['filbertos',\n  'drinknot',\n  'blaring',\n  'blah',\n  'loud',\n  'crowd',\n  'tv',\n  'starving',\n  'weird',\n  'shredded'],\n ['filbertos',\n  'horchata',\n  'az',\n  'fries',\n  'pleaser',\n  'belly',\n  'appreciated',\n  'asada',\n  'carne',\n  'york']]"
     },
     "metadata": {},
     "execution_count": 38
    }
   ],
   "source": [
    "reviews_keywords=[]\n",
    "for text in clear_text_list:\n",
    "    tf_idf_vector=Tfidf_transformer.transform(cv.transform([text]))\n",
    "    sorted_items=sort_coo(tf_idf_vector.tocoo())\n",
    "    keywords=extract_topn_from_vector(feature_names,sorted_items,10)\n",
    "    reviews_keywords.append( list( keywords.keys() ) )\n",
    "reviews_keywords[:5]"
   ]
  },
  {
   "cell_type": "markdown",
   "metadata": {},
   "source": [
    "## Find reviews for a business"
   ]
  },
  {
   "cell_type": "code",
   "execution_count": null,
   "metadata": {},
   "outputs": [],
   "source": [
    "#Con esta configuración se utilizan los 3 vecinos más cercanos, con distancia euclidiana\n",
    "knn_clasif=KNeighborsClassifier(3)"
   ]
  },
  {
   "cell_type": "code",
   "execution_count": null,
   "metadata": {},
   "outputs": [],
   "source": [
    "# Fit recibe la matriz de entrenamiento y la clase objetivo\n",
    "knn_clasif.fit(df_temporal_usuario_train[features_usuario_679], df_temporal_usuario_train['class'])"
   ]
  },
  {
   "cell_type": "code",
   "execution_count": null,
   "metadata": {},
   "outputs": [],
   "source": [
    "# llamamos predict sobre  los test , creando una nueva columna en el dataframe de test\n",
    "df_temporal_usuario_test['predict']=knn_clasif.predict(df_temporal_usuario_test[features_usuario_679])"
   ]
  }
 ]
}