{
 "nbformat": 4,
 "nbformat_minor": 2,
 "metadata": {
  "language_info": {
   "name": "python",
   "codemirror_mode": {
    "name": "ipython",
    "version": 3
   },
   "version": "3.8.1-final"
  },
  "orig_nbformat": 2,
  "file_extension": ".py",
  "mimetype": "text/x-python",
  "name": "python",
  "npconvert_exporter": "python",
  "pygments_lexer": "ipython3",
  "version": 3,
  "kernelspec": {
   "name": "python38164bitsrtaller2pipenv30da1eb468864fed9ad846cdd1e7f177",
   "display_name": "Python 3.8.1 64-bit ('sr-taller2': pipenv)"
  }
 },
 "cells": [
  {
   "cell_type": "code",
   "execution_count": 7,
   "metadata": {},
   "outputs": [],
   "source": [
    "#import seaborn as sns\n",
    "import numpy as np\n",
    "import matplotlib.pyplot as plt\n",
    "import pandas as pd\n",
    "\n",
    "from surprise import SVD\n",
    "from surprise import Reader\n",
    "from surprise import Dataset\n",
    "from surprise import accuracy\n",
    "\n",
    "import pymongo\n",
    "from pymongo import MongoClient"
   ]
  },
  {
   "cell_type": "code",
   "execution_count": 8,
   "metadata": {},
   "outputs": [],
   "source": [
    "# Initialize mongoDB client\n",
    "client = MongoClient()\n",
    "db = client.yelp"
   ]
  },
  {
   "cell_type": "code",
   "execution_count": 98,
   "metadata": {},
   "outputs": [],
   "source": [
    "# Gather businesses data from DB\n",
    "# create new collection with split categories\n",
    "db.temp_businesses.drop()\n",
    "agr = [{'$project': {'business_id':1,'name':1,'address':1,'city':1,'state':1,'postal_code':1,'latitude':1,'longitude':1,'stars':1,'review_count':1,'is_open':1,'attributes':1,'categories': {'$split':[\"$categories\",\",\"]},'hours':1}},{'$out': 'temp_businesses'}]\n",
    "businesses_agr = db.businesses.aggregate(agr)\n",
    "businesses_collection = db.temp_businesses\n",
    "businesses_df = pd.DataFrame(list(businesses_collection.find()))\n",
    "businesses_count = businesses_df.shape[0]"
   ]
  },
  {
   "cell_type": "code",
   "execution_count": 99,
   "metadata": {},
   "outputs": [
    {
     "output_type": "execute_result",
     "data": {
      "text/plain": "_id                                      5e925b5725c46ba0c36a9862\nbusiness_id                                1zJLGL-GVcxnkp6dZWFCTQ\nname                                                      McBride\naddress                                          22246 N 19th Ave\ncity                                                      Phoenix\nstate                                                          AZ\npostal_code                                                 85027\nlatitude                                                   33.689\nlongitude                                                  -112.1\nstars                                                         4.5\nreview_count                                                    6\nis_open                                                         1\nattributes      {'BusinessAcceptsCreditCards': 'True', 'ByAppo...\nhours           {'Monday': '8:0-17:0', 'Tuesday': '8:0-17:0', ...\ncategories      [Damage Restoration,  Roofing,  Home Services,...\nName: 86293, dtype: object"
     },
     "metadata": {},
     "execution_count": 99
    }
   ],
   "source": [
    "# Obtain random business from businesses dataframe\n",
    "random_number = np.random.randint(1,businesses_count)\n",
    "business = businesses_df.iloc[random_number]\n",
    "business"
   ]
  },
  {
   "cell_type": "code",
   "execution_count": 100,
   "metadata": {},
   "outputs": [
    {
     "output_type": "execute_result",
     "data": {
      "text/plain": "['Damage Restoration', ' Roofing', ' Home Services', ' Contractors']"
     },
     "metadata": {},
     "execution_count": 100
    }
   ],
   "source": [
    "# Get categories array\n",
    "categories = business.get('categories')"
   ]
  },
  {
   "cell_type": "code",
   "execution_count": 101,
   "metadata": {},
   "outputs": [
    {
     "output_type": "execute_result",
     "data": {
      "text/plain": "                        _id             business_id  \\\n0  5e925b5625c46ba0c369ef13  8Sh7dIXzYeXe3MoY15RCPw   \n1  5e925b5625c46ba0c369f348  z8pA5MJIpqZFDN0H3eFdrA   \n2  5e925b5625c46ba0c36a1003  P_uEm_8prOXNR7O5jYFdUg   \n3  5e925b5725c46ba0c36a9862  1zJLGL-GVcxnkp6dZWFCTQ   \n4  5e925b5925c46ba0c36b2fbd  5w7whjK5mDJsbp9so4rVZQ   \n5  5e925b5925c46ba0c36b30e9  9fFzSUHB_LM9MBGQnSGYZA   \n6  5e925b5a25c46ba0c36beb80  DIY8OZ4VZ-1Xy-G_YI1zkA   \n\n                                 name                             address  \\\n0                 Nevada Construction                                       \n1                ASAP Restoration LLC  20701 N Scottsdale Rd, Ste 107-292   \n2                         MRM Roofing              55 W Hoover Ave, Ste 8   \n3                             McBride                    22246 N 19th Ave   \n4  Arizona Construction & Restoration                      2423 S 17th St   \n5             Silver City Restoration                    2255 W Desert Cv   \n6                    Envy Restoration                   116 E Broadway Rd   \n\n         city state postal_code   latitude   longitude  stars  review_count  \\\n0   Henderson    NV       89052  35.952556 -115.022874    3.0             4   \n1  Scottsdale    AZ       85255  33.674682 -111.923515    4.5            51   \n2        Mesa    AZ       85210  33.388595 -111.833802    3.0             6   \n3     Phoenix    AZ       85027  33.689023 -112.100401    4.5             6   \n4     Phoenix    AZ       85034  33.424737 -112.045169    4.5            31   \n5     Phoenix    AZ       85029  33.585192 -112.106400    4.0            22   \n6        Mesa    AZ       85210  33.407980 -111.827870    4.5            26   \n\n   is_open                                         attributes  \\\n0        0  {'BusinessAcceptsCreditCards': 'False', 'Wheel...   \n1        1  {'BusinessAcceptsCreditCards': 'True', 'ByAppo...   \n2        0                                               None   \n3        1  {'BusinessAcceptsCreditCards': 'True', 'ByAppo...   \n4        1  {'BusinessAcceptsCreditCards': 'True', 'Busine...   \n5        1  {'BusinessAcceptsCreditCards': 'True', 'ByAppo...   \n6        1  {'BusinessAcceptsCreditCards': 'True', 'Busine...   \n\n                                               hours  \\\n0  {'Monday': '0:0-0:0', 'Tuesday': '8:0-18:0', '...   \n1  {'Monday': '0:0-0:0', 'Tuesday': '0:0-0:0', 'W...   \n2  {'Monday': '7:0-20:0', 'Tuesday': '7:0-20:0', ...   \n3  {'Monday': '8:0-17:0', 'Tuesday': '8:0-17:0', ...   \n4  {'Monday': '6:0-5:30', 'Tuesday': '6:0-5:30', ...   \n5  {'Monday': '0:0-0:0', 'Tuesday': '0:0-0:0', 'W...   \n6  {'Monday': '0:0-0:0', 'Tuesday': '0:0-0:0', 'W...   \n\n                                          categories  \n0  [Damage Restoration,  Shopping,  Home & Garden...  \n1  [Damage Restoration,  Contractors,  Home Inspe...  \n2  [Damage Restoration,  Roofing,  Home Services,...  \n3  [Damage Restoration,  Roofing,  Home Services,...  \n4  [Damage Restoration,  Home Services,  Roofing,...  \n5  [Damage Restoration,  Contractors,  Plumbing, ...  \n6  [Damage Restoration,  Home Services,  Contract...  ",
      "text/html": "<div>\n<style scoped>\n    .dataframe tbody tr th:only-of-type {\n        vertical-align: middle;\n    }\n\n    .dataframe tbody tr th {\n        vertical-align: top;\n    }\n\n    .dataframe thead th {\n        text-align: right;\n    }\n</style>\n<table border=\"1\" class=\"dataframe\">\n  <thead>\n    <tr style=\"text-align: right;\">\n      <th></th>\n      <th>_id</th>\n      <th>business_id</th>\n      <th>name</th>\n      <th>address</th>\n      <th>city</th>\n      <th>state</th>\n      <th>postal_code</th>\n      <th>latitude</th>\n      <th>longitude</th>\n      <th>stars</th>\n      <th>review_count</th>\n      <th>is_open</th>\n      <th>attributes</th>\n      <th>hours</th>\n      <th>categories</th>\n    </tr>\n  </thead>\n  <tbody>\n    <tr>\n      <th>0</th>\n      <td>5e925b5625c46ba0c369ef13</td>\n      <td>8Sh7dIXzYeXe3MoY15RCPw</td>\n      <td>Nevada Construction</td>\n      <td></td>\n      <td>Henderson</td>\n      <td>NV</td>\n      <td>89052</td>\n      <td>35.952556</td>\n      <td>-115.022874</td>\n      <td>3.0</td>\n      <td>4</td>\n      <td>0</td>\n      <td>{'BusinessAcceptsCreditCards': 'False', 'Wheel...</td>\n      <td>{'Monday': '0:0-0:0', 'Tuesday': '8:0-18:0', '...</td>\n      <td>[Damage Restoration,  Shopping,  Home &amp; Garden...</td>\n    </tr>\n    <tr>\n      <th>1</th>\n      <td>5e925b5625c46ba0c369f348</td>\n      <td>z8pA5MJIpqZFDN0H3eFdrA</td>\n      <td>ASAP Restoration LLC</td>\n      <td>20701 N Scottsdale Rd, Ste 107-292</td>\n      <td>Scottsdale</td>\n      <td>AZ</td>\n      <td>85255</td>\n      <td>33.674682</td>\n      <td>-111.923515</td>\n      <td>4.5</td>\n      <td>51</td>\n      <td>1</td>\n      <td>{'BusinessAcceptsCreditCards': 'True', 'ByAppo...</td>\n      <td>{'Monday': '0:0-0:0', 'Tuesday': '0:0-0:0', 'W...</td>\n      <td>[Damage Restoration,  Contractors,  Home Inspe...</td>\n    </tr>\n    <tr>\n      <th>2</th>\n      <td>5e925b5625c46ba0c36a1003</td>\n      <td>P_uEm_8prOXNR7O5jYFdUg</td>\n      <td>MRM Roofing</td>\n      <td>55 W Hoover Ave, Ste 8</td>\n      <td>Mesa</td>\n      <td>AZ</td>\n      <td>85210</td>\n      <td>33.388595</td>\n      <td>-111.833802</td>\n      <td>3.0</td>\n      <td>6</td>\n      <td>0</td>\n      <td>None</td>\n      <td>{'Monday': '7:0-20:0', 'Tuesday': '7:0-20:0', ...</td>\n      <td>[Damage Restoration,  Roofing,  Home Services,...</td>\n    </tr>\n    <tr>\n      <th>3</th>\n      <td>5e925b5725c46ba0c36a9862</td>\n      <td>1zJLGL-GVcxnkp6dZWFCTQ</td>\n      <td>McBride</td>\n      <td>22246 N 19th Ave</td>\n      <td>Phoenix</td>\n      <td>AZ</td>\n      <td>85027</td>\n      <td>33.689023</td>\n      <td>-112.100401</td>\n      <td>4.5</td>\n      <td>6</td>\n      <td>1</td>\n      <td>{'BusinessAcceptsCreditCards': 'True', 'ByAppo...</td>\n      <td>{'Monday': '8:0-17:0', 'Tuesday': '8:0-17:0', ...</td>\n      <td>[Damage Restoration,  Roofing,  Home Services,...</td>\n    </tr>\n    <tr>\n      <th>4</th>\n      <td>5e925b5925c46ba0c36b2fbd</td>\n      <td>5w7whjK5mDJsbp9so4rVZQ</td>\n      <td>Arizona Construction &amp; Restoration</td>\n      <td>2423 S 17th St</td>\n      <td>Phoenix</td>\n      <td>AZ</td>\n      <td>85034</td>\n      <td>33.424737</td>\n      <td>-112.045169</td>\n      <td>4.5</td>\n      <td>31</td>\n      <td>1</td>\n      <td>{'BusinessAcceptsCreditCards': 'True', 'Busine...</td>\n      <td>{'Monday': '6:0-5:30', 'Tuesday': '6:0-5:30', ...</td>\n      <td>[Damage Restoration,  Home Services,  Roofing,...</td>\n    </tr>\n    <tr>\n      <th>5</th>\n      <td>5e925b5925c46ba0c36b30e9</td>\n      <td>9fFzSUHB_LM9MBGQnSGYZA</td>\n      <td>Silver City Restoration</td>\n      <td>2255 W Desert Cv</td>\n      <td>Phoenix</td>\n      <td>AZ</td>\n      <td>85029</td>\n      <td>33.585192</td>\n      <td>-112.106400</td>\n      <td>4.0</td>\n      <td>22</td>\n      <td>1</td>\n      <td>{'BusinessAcceptsCreditCards': 'True', 'ByAppo...</td>\n      <td>{'Monday': '0:0-0:0', 'Tuesday': '0:0-0:0', 'W...</td>\n      <td>[Damage Restoration,  Contractors,  Plumbing, ...</td>\n    </tr>\n    <tr>\n      <th>6</th>\n      <td>5e925b5a25c46ba0c36beb80</td>\n      <td>DIY8OZ4VZ-1Xy-G_YI1zkA</td>\n      <td>Envy Restoration</td>\n      <td>116 E Broadway Rd</td>\n      <td>Mesa</td>\n      <td>AZ</td>\n      <td>85210</td>\n      <td>33.407980</td>\n      <td>-111.827870</td>\n      <td>4.5</td>\n      <td>26</td>\n      <td>1</td>\n      <td>{'BusinessAcceptsCreditCards': 'True', 'Busine...</td>\n      <td>{'Monday': '0:0-0:0', 'Tuesday': '0:0-0:0', 'W...</td>\n      <td>[Damage Restoration,  Home Services,  Contract...</td>\n    </tr>\n  </tbody>\n</table>\n</div>"
     },
     "metadata": {},
     "execution_count": 101
    }
   ],
   "source": [
    "# Get Businesses in categories ($all for all in categories, $in for any in categories)\n",
    "businesses_in_categories_df = pd.DataFrame(list(businesses_collection.find({ \"categories\": {\"$all\": categories} })))\n",
    "businesses_in_categories_df"
   ]
  },
  {
   "cell_type": "code",
   "execution_count": null,
   "metadata": {},
   "outputs": [],
   "source": []
  }
 ]
}