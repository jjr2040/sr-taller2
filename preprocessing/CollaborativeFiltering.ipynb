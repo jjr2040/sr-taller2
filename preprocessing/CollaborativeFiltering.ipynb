{
 "nbformat": 4,
 "nbformat_minor": 2,
 "metadata": {
  "language_info": {
   "name": "python",
   "codemirror_mode": {
    "name": "ipython",
    "version": 3
   },
   "version": "3.8.1-final"
  },
  "orig_nbformat": 2,
  "file_extension": ".py",
  "mimetype": "text/x-python",
  "name": "python",
  "npconvert_exporter": "python",
  "pygments_lexer": "ipython3",
  "version": 3,
  "kernelspec": {
   "name": "python38164bitsrtaller2pipenv30da1eb468864fed9ad846cdd1e7f177",
   "display_name": "Python 3.8.1 64-bit ('sr-taller2': pipenv)"
  }
 },
 "cells": [
  {
   "cell_type": "code",
   "execution_count": 1,
   "metadata": {},
   "outputs": [],
   "source": [
    "#import seaborn as sns\n",
    "import numpy as np\n",
    "import matplotlib.pyplot as plt\n",
    "import pandas as pd\n",
    "\n",
    "from surprise import Reader\n",
    "from surprise import Dataset\n",
    "from surprise import accuracy\n",
    "from surprise.model_selection import train_test_split\n",
    "from surprise import KNNBasic\n",
    "\n",
    "import pymongo\n",
    "from pymongo import MongoClient"
   ]
  },
  {
   "cell_type": "code",
   "execution_count": 2,
   "metadata": {},
   "outputs": [],
   "source": [
    "# Initialize mongoDB client\n",
    "client = MongoClient()\n",
    "db = client.yelp"
   ]
  },
  {
   "cell_type": "code",
   "execution_count": 3,
   "metadata": {},
   "outputs": [],
   "source": [
    "# Gather businesses data from DB\n",
    "# create new collection with split categories\n",
    "db.temp_businesses.drop()\n",
    "agr = [{'$project': {'business_id':1,'name':1,'address':1,'city':1,'state':1,'postal_code':1,'latitude':1,'longitude':1,'stars':1,'review_count':1,'is_open':1,'attributes':1,'categories': {'$split':[\"$categories\",\",\"]},'hours':1}},{'$out': 'temp_businesses'}]\n",
    "businesses_agr = db.businesses.aggregate(agr)\n",
    "businesses_collection = db.temp_businesses\n",
    "businesses_df = pd.DataFrame(list(businesses_collection.find()))\n",
    "businesses_count = businesses_df.shape[0]"
   ]
  },
  {
   "cell_type": "code",
   "execution_count": 4,
   "metadata": {},
   "outputs": [
    {
     "output_type": "execute_result",
     "data": {
      "text/plain": "_id                                      5e925b5825c46ba0c36ad84b\nbusiness_id                                YosCsvRg4fNCdNQ6DrREqw\nname                                                         Link\naddress           Sheraton Café, 140 Richmond Street W, Suite 100\ncity                                                      Toronto\nstate                                                          ON\npostal_code                                               M5H 3K6\nlatitude                                                  43.6511\nlongitude                                                -79.3844\nstars                                                           4\nreview_count                                                    5\nis_open                                                         1\nattributes      {'Ambience': '{'touristy': False, 'hipster': F...\nhours                                                        None\ncategories                                  [Cafes,  Restaurants]\nName: 102654, dtype: object"
     },
     "metadata": {},
     "execution_count": 4
    }
   ],
   "source": [
    "# Obtain random business from businesses dataframe\n",
    "random_number = np.random.randint(1,businesses_count)\n",
    "business = businesses_df.iloc[random_number]\n",
    "business"
   ]
  },
  {
   "cell_type": "code",
   "execution_count": 5,
   "metadata": {},
   "outputs": [],
   "source": [
    "# Get categories array\n",
    "categories = business.get('categories')"
   ]
  },
  {
   "cell_type": "code",
   "execution_count": 6,
   "metadata": {},
   "outputs": [],
   "source": [
    "# Get Businesses in categories ($all for all in categories, $in for any in categories)\n",
    "businesses_in_categories_df = pd.DataFrame(list(businesses_collection.find({ \"categories\": {\"$all\": categories} })))\n",
    "business_ids_in_categories = businesses_in_categories_df['business_id'].tolist()"
   ]
  },
  {
   "cell_type": "code",
   "execution_count": 7,
   "metadata": {},
   "outputs": [],
   "source": [
    "# Now obtain all useful (greater than zero) reviews from the group of businesses_in_categories_df\n",
    "reviews_df = pd.DataFrame(list(db.reviews.find({'business_id': {'$in': business_ids_in_categories}, 'useful': {'$gt': 0}})))\n",
    "reviews_df.stars = reviews_df.stars.astype('int')"
   ]
  },
  {
   "cell_type": "code",
   "execution_count": 8,
   "metadata": {},
   "outputs": [],
   "source": [
    "# Create Surprise data\n",
    "reader = Reader( rating_scale= (1,5))\n",
    "surprise_dataset = Dataset.load_from_df(reviews_df[['business_id','user_id','stars']], reader)\n",
    "train_set, test_set = train_test_split(surprise_dataset, test_size=.2)"
   ]
  },
  {
   "cell_type": "code",
   "execution_count": 9,
   "metadata": {},
   "outputs": [
    {
     "output_type": "stream",
     "name": "stdout",
     "text": "Computing the cosine similarity matrix...\nDone computing similarity matrix.\n"
    },
    {
     "output_type": "execute_result",
     "data": {
      "text/plain": "<surprise.prediction_algorithms.knns.KNNBasic at 0x113be2280>"
     },
     "metadata": {},
     "execution_count": 9
    }
   ],
   "source": [
    "# Setup algorithm using KNNBasic\n",
    "sim_options = {'name': 'cosine', 'user_based': True}\n",
    "algo = KNNBasic(k = 10, min_k=5, sim_options=sim_options)\n",
    "algo.fit(train_set)"
   ]
  },
  {
   "cell_type": "code",
   "execution_count": 10,
   "metadata": {},
   "outputs": [],
   "source": [
    "# Get neighbour ids of selected business\n",
    "business_inner_id = algo.trainset.to_inner_uid(business.get('business_id'))\n",
    "business_neighbours_inner_ids = algo.get_neighbors(business_inner_id,k=10)\n",
    "business_neighbours_ids = (algo.trainset.to_raw_uid(rid) for rid in business_neighbours_inner_ids)\n",
    "business_neighbours = []\n",
    "for neighbour in business_neighbours_ids:\n",
    "    business_neighbours.append(neighbour)"
   ]
  },
  {
   "cell_type": "code",
   "execution_count": 11,
   "metadata": {},
   "outputs": [
    {
     "output_type": "execute_result",
     "data": {
      "text/plain": "                        _id             business_id  \\\n0  5e925b5525c46ba0c3698398  39sCYNzSYk_z8v_KoLH0KA   \n1  5e925b5625c46ba0c369d08f  VaQhUU3P4Z5A3oYPsEMbkw   \n2  5e925b5625c46ba0c36a0632  s1b39BK1WFRY9200fwFCmg   \n3  5e925b5725c46ba0c36a516d  N5B7OBTyNGgwU_Y2fwNcyw   \n4  5e925b5725c46ba0c36aa0d4  cQK9M2JAwETQnnBoYyua5A   \n5  5e925b5725c46ba0c36ab78c  t6WY1IrohUecqNjd9bG42Q   \n6  5e925b5925c46ba0c36b4776  piHJq_NDrOh5SYk3AyQVOg   \n7  5e925b5a25c46ba0c36bec5d  VWtT4DKxQ4YVRWT88Z5SMA   \n8  5e925b5a25c46ba0c36bef22  frCxZS7lPhEnQRJ3UY6m7A   \n9  5e925b5b25c46ba0c36c6633  LhZsPzCOVdYobQy9b5dPFA   \n\n                               name                          address  \\\n0               Juliette & Chocolat             1615 Rue Saint-Denis   \n1                       Tazza D'oro              1125 N Highland Ave   \n2                        Wildflower             3111 W Chandler Blvd   \n3        Phoenix Public Market Cafe                   14 E Pierce St   \n4                       The Senator              249 Victoria Street   \n5                   Red Velvet Cafe       7875 W Sahara Ave, Ste 103   \n6  Chestnut Fine Foods & Provisions  4350 E Camelback Rd, Bldg I-100   \n7                        Sambalatte       6555 S Jones Blvd, Ste 100   \n8    La Santisima Gourmet Taco Shop                   1919 N 16th St   \n9               Estonian House Cafe             958 Broadview Avenue   \n\n         city state postal_code   latitude   longitude  stars  review_count  \\\n0    Montréal    QC     H2X 3K3  45.514915  -73.562730    4.0           215   \n1  Pittsburgh    PA       15206  40.474888  -79.918866    4.5           165   \n2    Chandler    AZ       85226  33.301694 -111.897176    4.0           214   \n3     Phoenix    AZ       85004  33.455843 -112.073526    4.0          1131   \n4     Toronto    ON     M5B 1T8  43.655749  -79.378992    4.0           471   \n5   Las Vegas    NV       89117  36.143204 -115.262866    3.5           351   \n6     Phoenix    AZ       85018  33.509826 -111.987098    3.5           301   \n7   Las Vegas    NV       89118  36.069822 -115.224872    4.0           360   \n8     Phoenix    AZ       85006  33.469201 -112.047381    4.0          2152   \n9   East York    ON     M4K 2R6  43.681798  -79.357908    4.0             3   \n\n   is_open                                         attributes  \\\n0        1  {'RestaurantsAttire': 'u'casual'', 'Restaurant...   \n1        1  {'GoodForKids': 'True', 'RestaurantsTakeOut': ...   \n2        1  {'Alcohol': 'u'none'', 'RestaurantsGoodForGrou...   \n3        1  {'WiFi': 'u'free'', 'GoodForKids': 'True', 'Bu...   \n4        1  {'BikeParking': 'True', 'OutdoorSeating': 'Fal...   \n5        0  {'Alcohol': 'u'none'', 'BikeParking': 'True', ...   \n6        1  {'RestaurantsTableService': 'False', 'Restaura...   \n7        1  {'GoodForKids': 'True', 'OutdoorSeating': 'Tru...   \n8        1  {'RestaurantsTakeOut': 'True', 'RestaurantsPri...   \n9        1  {'GoodForKids': 'True', 'WiFi': 'u'free'', 'Re...   \n\n                                               hours  \\\n0  {'Monday': '11:0-23:0', 'Tuesday': '11:0-23:0'...   \n1  {'Monday': '7:0-19:0', 'Tuesday': '7:0-19:0', ...   \n2  {'Monday': '7:0-21:0', 'Tuesday': '7:0-21:0', ...   \n3  {'Monday': '0:0-0:0', 'Tuesday': '7:0-20:0', '...   \n4  {'Monday': '8:0-14:0', 'Tuesday': '7:30-21:0',...   \n5  {'Monday': '10:30-20:0', 'Tuesday': '10:30-20:...   \n6  {'Monday': '0:0-0:0', 'Tuesday': '7:0-14:0', '...   \n7  {'Monday': '7:0-18:0', 'Tuesday': '7:0-18:0', ...   \n8  {'Monday': '11:0-22:0', 'Tuesday': '11:0-22:0'...   \n9                                               None   \n\n                                          categories  \n0  [Cafes,  Desserts,  Chocolatiers & Shops,  Spe...  \n1  [Cafes,  Restaurants,  Delis,  Food,  Coffee &...  \n2  [Cafes,  Coffee & Tea,  Restaurants,  Bakeries...  \n3  [Cafes,  Restaurants,  Food Trucks,  Sandwiche...  \n4  [Cafes,  Diners,  Desserts,  Coffee & Tea,  Br...  \n5  [Cafes,  Restaurants,  American (New),  Vegan,...  \n6  [Cafes,  Breakfast & Brunch,  Ramen,  Restaura...  \n7        [Cafes,  Coffee & Tea,  Food,  Restaurants]  \n8  [Cafes,  New Mexican Cuisine,  Nightlife,  Veg...  \n9                              [Cafes,  Restaurants]  ",
      "text/html": "<div>\n<style scoped>\n    .dataframe tbody tr th:only-of-type {\n        vertical-align: middle;\n    }\n\n    .dataframe tbody tr th {\n        vertical-align: top;\n    }\n\n    .dataframe thead th {\n        text-align: right;\n    }\n</style>\n<table border=\"1\" class=\"dataframe\">\n  <thead>\n    <tr style=\"text-align: right;\">\n      <th></th>\n      <th>_id</th>\n      <th>business_id</th>\n      <th>name</th>\n      <th>address</th>\n      <th>city</th>\n      <th>state</th>\n      <th>postal_code</th>\n      <th>latitude</th>\n      <th>longitude</th>\n      <th>stars</th>\n      <th>review_count</th>\n      <th>is_open</th>\n      <th>attributes</th>\n      <th>hours</th>\n      <th>categories</th>\n    </tr>\n  </thead>\n  <tbody>\n    <tr>\n      <th>0</th>\n      <td>5e925b5525c46ba0c3698398</td>\n      <td>39sCYNzSYk_z8v_KoLH0KA</td>\n      <td>Juliette &amp; Chocolat</td>\n      <td>1615 Rue Saint-Denis</td>\n      <td>Montréal</td>\n      <td>QC</td>\n      <td>H2X 3K3</td>\n      <td>45.514915</td>\n      <td>-73.562730</td>\n      <td>4.0</td>\n      <td>215</td>\n      <td>1</td>\n      <td>{'RestaurantsAttire': 'u'casual'', 'Restaurant...</td>\n      <td>{'Monday': '11:0-23:0', 'Tuesday': '11:0-23:0'...</td>\n      <td>[Cafes,  Desserts,  Chocolatiers &amp; Shops,  Spe...</td>\n    </tr>\n    <tr>\n      <th>1</th>\n      <td>5e925b5625c46ba0c369d08f</td>\n      <td>VaQhUU3P4Z5A3oYPsEMbkw</td>\n      <td>Tazza D'oro</td>\n      <td>1125 N Highland Ave</td>\n      <td>Pittsburgh</td>\n      <td>PA</td>\n      <td>15206</td>\n      <td>40.474888</td>\n      <td>-79.918866</td>\n      <td>4.5</td>\n      <td>165</td>\n      <td>1</td>\n      <td>{'GoodForKids': 'True', 'RestaurantsTakeOut': ...</td>\n      <td>{'Monday': '7:0-19:0', 'Tuesday': '7:0-19:0', ...</td>\n      <td>[Cafes,  Restaurants,  Delis,  Food,  Coffee &amp;...</td>\n    </tr>\n    <tr>\n      <th>2</th>\n      <td>5e925b5625c46ba0c36a0632</td>\n      <td>s1b39BK1WFRY9200fwFCmg</td>\n      <td>Wildflower</td>\n      <td>3111 W Chandler Blvd</td>\n      <td>Chandler</td>\n      <td>AZ</td>\n      <td>85226</td>\n      <td>33.301694</td>\n      <td>-111.897176</td>\n      <td>4.0</td>\n      <td>214</td>\n      <td>1</td>\n      <td>{'Alcohol': 'u'none'', 'RestaurantsGoodForGrou...</td>\n      <td>{'Monday': '7:0-21:0', 'Tuesday': '7:0-21:0', ...</td>\n      <td>[Cafes,  Coffee &amp; Tea,  Restaurants,  Bakeries...</td>\n    </tr>\n    <tr>\n      <th>3</th>\n      <td>5e925b5725c46ba0c36a516d</td>\n      <td>N5B7OBTyNGgwU_Y2fwNcyw</td>\n      <td>Phoenix Public Market Cafe</td>\n      <td>14 E Pierce St</td>\n      <td>Phoenix</td>\n      <td>AZ</td>\n      <td>85004</td>\n      <td>33.455843</td>\n      <td>-112.073526</td>\n      <td>4.0</td>\n      <td>1131</td>\n      <td>1</td>\n      <td>{'WiFi': 'u'free'', 'GoodForKids': 'True', 'Bu...</td>\n      <td>{'Monday': '0:0-0:0', 'Tuesday': '7:0-20:0', '...</td>\n      <td>[Cafes,  Restaurants,  Food Trucks,  Sandwiche...</td>\n    </tr>\n    <tr>\n      <th>4</th>\n      <td>5e925b5725c46ba0c36aa0d4</td>\n      <td>cQK9M2JAwETQnnBoYyua5A</td>\n      <td>The Senator</td>\n      <td>249 Victoria Street</td>\n      <td>Toronto</td>\n      <td>ON</td>\n      <td>M5B 1T8</td>\n      <td>43.655749</td>\n      <td>-79.378992</td>\n      <td>4.0</td>\n      <td>471</td>\n      <td>1</td>\n      <td>{'BikeParking': 'True', 'OutdoorSeating': 'Fal...</td>\n      <td>{'Monday': '8:0-14:0', 'Tuesday': '7:30-21:0',...</td>\n      <td>[Cafes,  Diners,  Desserts,  Coffee &amp; Tea,  Br...</td>\n    </tr>\n    <tr>\n      <th>5</th>\n      <td>5e925b5725c46ba0c36ab78c</td>\n      <td>t6WY1IrohUecqNjd9bG42Q</td>\n      <td>Red Velvet Cafe</td>\n      <td>7875 W Sahara Ave, Ste 103</td>\n      <td>Las Vegas</td>\n      <td>NV</td>\n      <td>89117</td>\n      <td>36.143204</td>\n      <td>-115.262866</td>\n      <td>3.5</td>\n      <td>351</td>\n      <td>0</td>\n      <td>{'Alcohol': 'u'none'', 'BikeParking': 'True', ...</td>\n      <td>{'Monday': '10:30-20:0', 'Tuesday': '10:30-20:...</td>\n      <td>[Cafes,  Restaurants,  American (New),  Vegan,...</td>\n    </tr>\n    <tr>\n      <th>6</th>\n      <td>5e925b5925c46ba0c36b4776</td>\n      <td>piHJq_NDrOh5SYk3AyQVOg</td>\n      <td>Chestnut Fine Foods &amp; Provisions</td>\n      <td>4350 E Camelback Rd, Bldg I-100</td>\n      <td>Phoenix</td>\n      <td>AZ</td>\n      <td>85018</td>\n      <td>33.509826</td>\n      <td>-111.987098</td>\n      <td>3.5</td>\n      <td>301</td>\n      <td>1</td>\n      <td>{'RestaurantsTableService': 'False', 'Restaura...</td>\n      <td>{'Monday': '0:0-0:0', 'Tuesday': '7:0-14:0', '...</td>\n      <td>[Cafes,  Breakfast &amp; Brunch,  Ramen,  Restaura...</td>\n    </tr>\n    <tr>\n      <th>7</th>\n      <td>5e925b5a25c46ba0c36bec5d</td>\n      <td>VWtT4DKxQ4YVRWT88Z5SMA</td>\n      <td>Sambalatte</td>\n      <td>6555 S Jones Blvd, Ste 100</td>\n      <td>Las Vegas</td>\n      <td>NV</td>\n      <td>89118</td>\n      <td>36.069822</td>\n      <td>-115.224872</td>\n      <td>4.0</td>\n      <td>360</td>\n      <td>1</td>\n      <td>{'GoodForKids': 'True', 'OutdoorSeating': 'Tru...</td>\n      <td>{'Monday': '7:0-18:0', 'Tuesday': '7:0-18:0', ...</td>\n      <td>[Cafes,  Coffee &amp; Tea,  Food,  Restaurants]</td>\n    </tr>\n    <tr>\n      <th>8</th>\n      <td>5e925b5a25c46ba0c36bef22</td>\n      <td>frCxZS7lPhEnQRJ3UY6m7A</td>\n      <td>La Santisima Gourmet Taco Shop</td>\n      <td>1919 N 16th St</td>\n      <td>Phoenix</td>\n      <td>AZ</td>\n      <td>85006</td>\n      <td>33.469201</td>\n      <td>-112.047381</td>\n      <td>4.0</td>\n      <td>2152</td>\n      <td>1</td>\n      <td>{'RestaurantsTakeOut': 'True', 'RestaurantsPri...</td>\n      <td>{'Monday': '11:0-22:0', 'Tuesday': '11:0-22:0'...</td>\n      <td>[Cafes,  New Mexican Cuisine,  Nightlife,  Veg...</td>\n    </tr>\n    <tr>\n      <th>9</th>\n      <td>5e925b5b25c46ba0c36c6633</td>\n      <td>LhZsPzCOVdYobQy9b5dPFA</td>\n      <td>Estonian House Cafe</td>\n      <td>958 Broadview Avenue</td>\n      <td>East York</td>\n      <td>ON</td>\n      <td>M4K 2R6</td>\n      <td>43.681798</td>\n      <td>-79.357908</td>\n      <td>4.0</td>\n      <td>3</td>\n      <td>1</td>\n      <td>{'GoodForKids': 'True', 'WiFi': 'u'free'', 'Re...</td>\n      <td>None</td>\n      <td>[Cafes,  Restaurants]</td>\n    </tr>\n  </tbody>\n</table>\n</div>"
     },
     "metadata": {},
     "execution_count": 11
    }
   ],
   "source": [
    "# Query business ids to obtain dataframe of neighbours\n",
    "businesses_neighbours_df = pd.DataFrame(list(businesses_collection.find({ \"business_id\": {\"$in\": business_neighbours} })))\n",
    "businesses_neighbours_df"
   ]
  }
 ]
}