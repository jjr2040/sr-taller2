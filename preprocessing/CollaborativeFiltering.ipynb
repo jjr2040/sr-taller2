{
 "cells": [
  {
   "cell_type": "code",
   "execution_count": 13,
   "metadata": {},
   "outputs": [],
   "source": [
    "#import seaborn as sns\n",
    "import numpy as np\n",
    "import pandas as pd\n",
    "\n",
    "from surprise import Reader\n",
    "from surprise import Dataset\n",
    "from surprise import accuracy\n",
    "from sklearn.model_selection import train_test_split\n",
    "from surprise import SVD\n",
    "\n",
    "from sklearn.metrics import pairwise_distances\n",
    "\n",
    "import pymongo\n",
    "from pymongo import MongoClient"
   ]
  },
  {
   "cell_type": "code",
   "execution_count": 14,
   "metadata": {},
   "outputs": [],
   "source": [
    "# Initialize mongoDB client\n",
    "client = MongoClient()\n",
    "db = client.yelp"
   ]
  },
  {
   "cell_type": "code",
   "execution_count": 15,
   "metadata": {},
   "outputs": [],
   "source": [
    "# Gather businesses data from DB\n",
    "# create new collection with split categories\n",
    "db.temp_businesses.drop()\n",
    "agr = [{'$project': {'business_id':1,'name':1,'address':1,'city':1,'state':1,'postal_code':1,'latitude':1,'longitude':1,'stars':1,'review_count':1,'is_open':1,'attributes':1,'categories': {'$split':[\"$categories\",\",\"]},'hours':1}},{'$out': 'temp_businesses'}]\n",
    "businesses_agr = db.businesses.aggregate(agr)\n",
    "businesses_collection = db.temp_businesses\n",
    "businesses_df = pd.DataFrame(list(businesses_collection.find({'review_count': {'$gt': 1}})))\n",
    "businesses_count = businesses_df.shape[0]"
   ]
  },
  {
   "cell_type": "code",
   "execution_count": 20,
   "metadata": {},
   "outputs": [
    {
     "output_type": "execute_result",
     "data": {
      "text/plain": "_id                                      5e96645b6f14ef773b7ada5c\nbusiness_id                                rqcOZePlVvJP9EtzldIz0w\nname                                               Desert Storage\naddress                                           2402 Atchley Dr\ncity                                                    Henderson\nstate                                                          NV\npostal_code                                                 89052\nlatitude                                                   35.952\nlongitude                                                -115.093\nstars                                                           5\nreview_count                                                    5\nis_open                                                         0\nattributes                 {'BusinessAcceptsCreditCards': 'True'}\nhours           {'Monday': '8:0-18:0', 'Tuesday': '8:0-18:0', ...\ncategories                        [Local Services,  Self Storage]\nName: 18, dtype: object"
     },
     "metadata": {},
     "execution_count": 20
    }
   ],
   "source": [
    "# Obtain random business from businesses dataframe\n",
    "random_number = np.random.randint(1,businesses_count)\n",
    "business = businesses_df[businesses_df['business_id'] == 'rqcOZePlVvJP9EtzldIz0w'].squeeze()\n",
    "business"
   ]
  },
  {
   "cell_type": "code",
   "execution_count": 21,
   "metadata": {},
   "outputs": [],
   "source": [
    "# Get categories array\n",
    "categories = business.get('categories')"
   ]
  },
  {
   "cell_type": "code",
   "execution_count": 22,
   "metadata": {},
   "outputs": [],
   "source": [
    "# Get Businesses in categories ($all for all in categories, $in for any in categories) and filter by city to accomplish recommendation by context\n",
    "businesses_in_categories_df = pd.DataFrame(list(businesses_collection.find({ \"categories\": {\"$all\": categories}})))\n",
    "business_ids_in_categories = businesses_in_categories_df['business_id'].tolist()"
   ]
  },
  {
   "cell_type": "code",
   "execution_count": 24,
   "metadata": {},
   "outputs": [],
   "source": [
    "# Now obtain all useful (greater than zero) reviews from the group of businesses_in_categories_df\n",
    "reviews_df = pd.DataFrame(list(db.reviews.find({'business_id': {'$in': business_ids_in_categories}})))\n",
    "reviews_df.stars = reviews_df.stars.astype('int')"
   ]
  },
  {
   "cell_type": "code",
   "execution_count": 25,
   "metadata": {},
   "outputs": [],
   "source": [
    "# group reviews dataframe by number of reviews and remove those businesses that have just one review\n",
    "reviews_group = reviews_df.groupby('business_id')['stars'].agg({'count'}).sort_values(by='count', ascending=False)\n",
    "reviews_group = reviews_group[reviews_group['count'] < 2].reset_index()\n",
    "reviews_df_filtered = reviews_df.merge(reviews_group, how=\"inner\", on=\"business_id\").drop('count', axis=1)\n",
    "reviews_df_filtered = pd.concat([reviews_df,reviews_df_filtered])\n",
    "reviews_df_filtered = reviews_df_filtered.drop_duplicates(keep=False)"
   ]
  },
  {
   "cell_type": "code",
   "execution_count": 27,
   "metadata": {},
   "outputs": [],
   "source": [
    "# Create Surprise data\n",
    "reader = Reader( rating_scale= (1,5))\n",
    "train_df, test_df = train_test_split(reviews_df_filtered[['business_id','user_id','stars']], test_size=.2, stratify=reviews_df_filtered['business_id'])\n",
    "train_set = Dataset.load_from_df(train_df, reader)\n",
    "train_set = train_set.build_full_trainset()"
   ]
  },
  {
   "cell_type": "code",
   "execution_count": 28,
   "metadata": {},
   "outputs": [
    {
     "output_type": "execute_result",
     "data": {
      "text/plain": "<surprise.prediction_algorithms.matrix_factorization.SVD at 0x1626f42e0>"
     },
     "metadata": {},
     "execution_count": 28
    }
   ],
   "source": [
    "# Setup algorithm using SVD\n",
    "svd = SVD( n_factors = 60, n_epochs = 200, biased = True, lr_all = 0.01, reg_all = 0, init_mean = 0, init_std_dev = 0.01, verbose = False )\n",
    "svd.fit(train_set)"
   ]
  },
  {
   "cell_type": "code",
   "execution_count": 29,
   "metadata": {},
   "outputs": [],
   "source": [
    "# Obtain pu matrix and get our business vector\n",
    "pu = svd.pu\n",
    "business_vector_innerid = train_set.to_inner_uid(business.get('business_id'))\n",
    "business_vector = pu[business_vector_innerid]"
   ]
  },
  {
   "cell_type": "code",
   "execution_count": 30,
   "metadata": {},
   "outputs": [],
   "source": [
    "# Calculate the euclidean distance between our business and everything else\n",
    "distances = pairwise_distances(pu,business_vector.reshape(1, -1),'euclidean')\n",
    "# Obtain an indirect array with the indices of the sorted distances array\n",
    "ordered_distances_index = np.argsort(distances.flatten())"
   ]
  },
  {
   "cell_type": "code",
   "execution_count": 80,
   "metadata": {},
   "outputs": [],
   "source": [
    "# If number of neighbours is greater than number_of_neighbours, return first number_of_neighbours, otherwise return what we have\n",
    "number_of_neighbours = 10\n",
    "neighbour_indices = []\n",
    "if ordered_distances_index.shape[0] > number_of_neighbours:\n",
    "    neighbour_indices = ordered_distances_index[1:number_of_neighbours+1]\n",
    "else:\n",
    "    neighbour_indices = ordered_distances_index"
   ]
  },
  {
   "cell_type": "code",
   "execution_count": 81,
   "metadata": {},
   "outputs": [],
   "source": [
    "# Get neighbour ids of selected business\n",
    "business_neighbours_ids = (train_set.to_raw_uid(rid) for rid in neighbour_indices)\n",
    "business_neighbours = []\n",
    "for neighbour in business_neighbours_ids:\n",
    "    business_neighbours.append(neighbour)"
   ]
  },
  {
   "cell_type": "code",
   "execution_count": 82,
   "metadata": {},
   "outputs": [
    {
     "output_type": "execute_result",
     "data": {
      "text/plain": "                        _id             business_id  \\\n0  5e9c73d6d2d1710a29bdec5a  oKjd9T-8Lxr_TWQZiN2BRA   \n1  5e9c73d6d2d1710a29be0cfd  ypXftd9bRXqFVHyud9UbjQ   \n2  5e9c73d6d2d1710a29be2da7  2DfvzJN4SAiRdEw3gVxBBw   \n3  5e9c73d7d2d1710a29be9fd3  ze5kafJm7b-BP6p7tsN3-g   \n4  5e9c73d7d2d1710a29beaaf9  XYGW3626I4SuSnVPRrZ6Sg   \n5  5e9c73d9d2d1710a29bf6644  xV9fOn7haAXpklW8Rmsp_g   \n6  5e9c73d9d2d1710a29bfa43c  5PGwo7RuTWfn-66G1JNE6g   \n7  5e9c73dad2d1710a29bff51a  hLcJwsQPyGpGUf-Wzn_ZDw   \n8  5e9c73dbd2d1710a29c03602  ll5LOr-RYkeEPeAjnrz5zA   \n9  5e9c73dcd2d1710a29c0f2bb  42WkEwAf8zoKDC9xFlIE8w   \n\n                                              name  \\\n0                     Julia Grambo - Cornel Realty   \n1                    Jack Burns - Realty One Group   \n2                             Arizona SOLD Sisters   \n3              Danilo Martinez - King Realty Group   \n4                 Amy Koch - Kreate Property Group   \n5  Dustin Dufour - Berkshire Hathaway Homeservices   \n6                  Pam Carlson - Realty Executives   \n7                     Tucker Blalock - The Brokery   \n8           Ken Ramsay - Harvey Kalles Real Estate   \n9            Chris Dowlen - Keller Williams Realty   \n\n                             address        city state postal_code   latitude  \\\n0            5575 S Durango, Ste 107   Las Vegas    NV       89113  36.087726   \n1       3530 S Val Vista Dr, Ste 114     Gilbert    AZ       85297  33.286087   \n2    8388 E  Hartford Drive, Ste 100  Scottsdale    AZ       85255  33.642005   \n3          8 Sampson Mews, Suite 201     Toronto    ON     M3C 0H5  43.735056   \n4                   22912 N 39th Ter     Phoenix    AZ       85050  33.694832   \n5          8850 W Sunset Rd, Ste 200   Las Vegas    NV       89148  36.071782   \n6  1528 E Williams Field Rd, Ste 106     Gilbert    AZ       85295  33.307702   \n7                     4546 N 40th St     Phoenix    AZ       85018  33.504221   \n8                   2145 Avenue Road     Toronto    ON     M5M 4B2  43.739673   \n9        2230 Corporate Cir, Ste 250   Henderson    NV       89074  36.028160   \n\n    longitude  stars  review_count  is_open  \\\n0 -115.279776    5.0             4        1   \n1 -111.757290    5.0             4        1   \n2 -111.899244    5.0             5        1   \n3  -79.344129    5.0             3        1   \n4 -111.985482    5.0             4        1   \n5 -115.284717    5.0             3        1   \n6 -111.757237    5.0             4        1   \n7 -111.995695    5.0            16        1   \n8  -79.421201    5.0             3        1   \n9 -115.088428    5.0             4        1   \n\n                                          attributes  \\\n0  {'ByAppointmentOnly': 'False', 'BusinessAccept...   \n1  {'BusinessAcceptsCreditCards': 'True', 'ByAppo...   \n2  {'ByAppointmentOnly': 'False', 'BusinessAccept...   \n3                                               None   \n4                      {'ByAppointmentOnly': 'True'}   \n5  {'BusinessAcceptsBitcoin': 'False', 'BusinessA...   \n6            {'BusinessAcceptsCreditCards': 'False'}   \n7  {'BusinessAcceptsCreditCards': 'False', 'Busin...   \n8                     {'ByAppointmentOnly': 'False'}   \n9  {'BusinessAcceptsBitcoin': 'False', 'BusinessA...   \n\n                                               hours  \\\n0  {'Monday': '8:0-21:0', 'Tuesday': '8:0-21:0', ...   \n1  {'Monday': '8:0-22:0', 'Tuesday': '8:0-22:0', ...   \n2  {'Monday': '0:0-0:0', 'Tuesday': '0:0-0:0', 'W...   \n3  {'Monday': '8:0-22:0', 'Tuesday': '8:0-22:0', ...   \n4  {'Monday': '9:0-18:0', 'Tuesday': '9:0-18:0', ...   \n5  {'Monday': '9:0-17:30', 'Tuesday': '9:0-17:30'...   \n6  {'Monday': '7:0-21:0', 'Tuesday': '7:0-21:0', ...   \n7  {'Monday': '6:30-21:0', 'Tuesday': '6:30-21:0'...   \n8  {'Monday': '8:0-0:0', 'Tuesday': '8:0-0:0', 'W...   \n9  {'Monday': '7:0-19:0', 'Tuesday': '7:0-19:0', ...   \n\n                                          categories  \n0  [Home Services,  Real Estate,  Real Estate Age...  \n1  [Home Services,  Real Estate Agents,  Real Est...  \n2  [Home Services,  Real Estate,  Real Estate Age...  \n3  [Home Services,  Real Estate Agents,  Real Est...  \n4  [Home Services,  Real Estate,  Real Estate Age...  \n5  [Home Services,  Real Estate Services,  Real E...  \n6  [Home Services,  Real Estate,  Real Estate Age...  \n7  [Home Services,  Property Management,  Real Es...  \n8  [Home Services,  Real Estate Agents,  Real Est...  \n9  [Home Services,  Real Estate,  Real Estate Age...  ",
      "text/html": "<div>\n<style scoped>\n    .dataframe tbody tr th:only-of-type {\n        vertical-align: middle;\n    }\n\n    .dataframe tbody tr th {\n        vertical-align: top;\n    }\n\n    .dataframe thead th {\n        text-align: right;\n    }\n</style>\n<table border=\"1\" class=\"dataframe\">\n  <thead>\n    <tr style=\"text-align: right;\">\n      <th></th>\n      <th>_id</th>\n      <th>business_id</th>\n      <th>name</th>\n      <th>address</th>\n      <th>city</th>\n      <th>state</th>\n      <th>postal_code</th>\n      <th>latitude</th>\n      <th>longitude</th>\n      <th>stars</th>\n      <th>review_count</th>\n      <th>is_open</th>\n      <th>attributes</th>\n      <th>hours</th>\n      <th>categories</th>\n    </tr>\n  </thead>\n  <tbody>\n    <tr>\n      <th>0</th>\n      <td>5e9c73d6d2d1710a29bdec5a</td>\n      <td>oKjd9T-8Lxr_TWQZiN2BRA</td>\n      <td>Julia Grambo - Cornel Realty</td>\n      <td>5575 S Durango, Ste 107</td>\n      <td>Las Vegas</td>\n      <td>NV</td>\n      <td>89113</td>\n      <td>36.087726</td>\n      <td>-115.279776</td>\n      <td>5.0</td>\n      <td>4</td>\n      <td>1</td>\n      <td>{'ByAppointmentOnly': 'False', 'BusinessAccept...</td>\n      <td>{'Monday': '8:0-21:0', 'Tuesday': '8:0-21:0', ...</td>\n      <td>[Home Services,  Real Estate,  Real Estate Age...</td>\n    </tr>\n    <tr>\n      <th>1</th>\n      <td>5e9c73d6d2d1710a29be0cfd</td>\n      <td>ypXftd9bRXqFVHyud9UbjQ</td>\n      <td>Jack Burns - Realty One Group</td>\n      <td>3530 S Val Vista Dr, Ste 114</td>\n      <td>Gilbert</td>\n      <td>AZ</td>\n      <td>85297</td>\n      <td>33.286087</td>\n      <td>-111.757290</td>\n      <td>5.0</td>\n      <td>4</td>\n      <td>1</td>\n      <td>{'BusinessAcceptsCreditCards': 'True', 'ByAppo...</td>\n      <td>{'Monday': '8:0-22:0', 'Tuesday': '8:0-22:0', ...</td>\n      <td>[Home Services,  Real Estate Agents,  Real Est...</td>\n    </tr>\n    <tr>\n      <th>2</th>\n      <td>5e9c73d6d2d1710a29be2da7</td>\n      <td>2DfvzJN4SAiRdEw3gVxBBw</td>\n      <td>Arizona SOLD Sisters</td>\n      <td>8388 E  Hartford Drive, Ste 100</td>\n      <td>Scottsdale</td>\n      <td>AZ</td>\n      <td>85255</td>\n      <td>33.642005</td>\n      <td>-111.899244</td>\n      <td>5.0</td>\n      <td>5</td>\n      <td>1</td>\n      <td>{'ByAppointmentOnly': 'False', 'BusinessAccept...</td>\n      <td>{'Monday': '0:0-0:0', 'Tuesday': '0:0-0:0', 'W...</td>\n      <td>[Home Services,  Real Estate,  Real Estate Age...</td>\n    </tr>\n    <tr>\n      <th>3</th>\n      <td>5e9c73d7d2d1710a29be9fd3</td>\n      <td>ze5kafJm7b-BP6p7tsN3-g</td>\n      <td>Danilo Martinez - King Realty Group</td>\n      <td>8 Sampson Mews, Suite 201</td>\n      <td>Toronto</td>\n      <td>ON</td>\n      <td>M3C 0H5</td>\n      <td>43.735056</td>\n      <td>-79.344129</td>\n      <td>5.0</td>\n      <td>3</td>\n      <td>1</td>\n      <td>None</td>\n      <td>{'Monday': '8:0-22:0', 'Tuesday': '8:0-22:0', ...</td>\n      <td>[Home Services,  Real Estate Agents,  Real Est...</td>\n    </tr>\n    <tr>\n      <th>4</th>\n      <td>5e9c73d7d2d1710a29beaaf9</td>\n      <td>XYGW3626I4SuSnVPRrZ6Sg</td>\n      <td>Amy Koch - Kreate Property Group</td>\n      <td>22912 N 39th Ter</td>\n      <td>Phoenix</td>\n      <td>AZ</td>\n      <td>85050</td>\n      <td>33.694832</td>\n      <td>-111.985482</td>\n      <td>5.0</td>\n      <td>4</td>\n      <td>1</td>\n      <td>{'ByAppointmentOnly': 'True'}</td>\n      <td>{'Monday': '9:0-18:0', 'Tuesday': '9:0-18:0', ...</td>\n      <td>[Home Services,  Real Estate,  Real Estate Age...</td>\n    </tr>\n    <tr>\n      <th>5</th>\n      <td>5e9c73d9d2d1710a29bf6644</td>\n      <td>xV9fOn7haAXpklW8Rmsp_g</td>\n      <td>Dustin Dufour - Berkshire Hathaway Homeservices</td>\n      <td>8850 W Sunset Rd, Ste 200</td>\n      <td>Las Vegas</td>\n      <td>NV</td>\n      <td>89148</td>\n      <td>36.071782</td>\n      <td>-115.284717</td>\n      <td>5.0</td>\n      <td>3</td>\n      <td>1</td>\n      <td>{'BusinessAcceptsBitcoin': 'False', 'BusinessA...</td>\n      <td>{'Monday': '9:0-17:30', 'Tuesday': '9:0-17:30'...</td>\n      <td>[Home Services,  Real Estate Services,  Real E...</td>\n    </tr>\n    <tr>\n      <th>6</th>\n      <td>5e9c73d9d2d1710a29bfa43c</td>\n      <td>5PGwo7RuTWfn-66G1JNE6g</td>\n      <td>Pam Carlson - Realty Executives</td>\n      <td>1528 E Williams Field Rd, Ste 106</td>\n      <td>Gilbert</td>\n      <td>AZ</td>\n      <td>85295</td>\n      <td>33.307702</td>\n      <td>-111.757237</td>\n      <td>5.0</td>\n      <td>4</td>\n      <td>1</td>\n      <td>{'BusinessAcceptsCreditCards': 'False'}</td>\n      <td>{'Monday': '7:0-21:0', 'Tuesday': '7:0-21:0', ...</td>\n      <td>[Home Services,  Real Estate,  Real Estate Age...</td>\n    </tr>\n    <tr>\n      <th>7</th>\n      <td>5e9c73dad2d1710a29bff51a</td>\n      <td>hLcJwsQPyGpGUf-Wzn_ZDw</td>\n      <td>Tucker Blalock - The Brokery</td>\n      <td>4546 N 40th St</td>\n      <td>Phoenix</td>\n      <td>AZ</td>\n      <td>85018</td>\n      <td>33.504221</td>\n      <td>-111.995695</td>\n      <td>5.0</td>\n      <td>16</td>\n      <td>1</td>\n      <td>{'BusinessAcceptsCreditCards': 'False', 'Busin...</td>\n      <td>{'Monday': '6:30-21:0', 'Tuesday': '6:30-21:0'...</td>\n      <td>[Home Services,  Property Management,  Real Es...</td>\n    </tr>\n    <tr>\n      <th>8</th>\n      <td>5e9c73dbd2d1710a29c03602</td>\n      <td>ll5LOr-RYkeEPeAjnrz5zA</td>\n      <td>Ken Ramsay - Harvey Kalles Real Estate</td>\n      <td>2145 Avenue Road</td>\n      <td>Toronto</td>\n      <td>ON</td>\n      <td>M5M 4B2</td>\n      <td>43.739673</td>\n      <td>-79.421201</td>\n      <td>5.0</td>\n      <td>3</td>\n      <td>1</td>\n      <td>{'ByAppointmentOnly': 'False'}</td>\n      <td>{'Monday': '8:0-0:0', 'Tuesday': '8:0-0:0', 'W...</td>\n      <td>[Home Services,  Real Estate Agents,  Real Est...</td>\n    </tr>\n    <tr>\n      <th>9</th>\n      <td>5e9c73dcd2d1710a29c0f2bb</td>\n      <td>42WkEwAf8zoKDC9xFlIE8w</td>\n      <td>Chris Dowlen - Keller Williams Realty</td>\n      <td>2230 Corporate Cir, Ste 250</td>\n      <td>Henderson</td>\n      <td>NV</td>\n      <td>89074</td>\n      <td>36.028160</td>\n      <td>-115.088428</td>\n      <td>5.0</td>\n      <td>4</td>\n      <td>1</td>\n      <td>{'BusinessAcceptsBitcoin': 'False', 'BusinessA...</td>\n      <td>{'Monday': '7:0-19:0', 'Tuesday': '7:0-19:0', ...</td>\n      <td>[Home Services,  Real Estate,  Real Estate Age...</td>\n    </tr>\n  </tbody>\n</table>\n</div>"
     },
     "metadata": {},
     "execution_count": 82
    }
   ],
   "source": [
    "# Query business ids to obtain dataframe of neighbours\n",
    "businesses_neighbours_df = pd.DataFrame(list(businesses_collection.find({ \"business_id\": {\"$in\": business_neighbours} })))\n",
    "businesses_neighbours_df"
   ]
  },
  {
   "cell_type": "markdown",
   "metadata": {},
   "source": [
    "## Export busines records to line separated json"
   ]
  },
  {
   "cell_type": "code",
   "execution_count": 83,
   "metadata": {},
   "outputs": [
    {
     "output_type": "execute_result",
     "data": {
      "text/plain": "                        _id             business_id  \\\n0  5e9c73d6d2d1710a29bdec5a  oKjd9T-8Lxr_TWQZiN2BRA   \n1  5e9c73d6d2d1710a29be0cfd  ypXftd9bRXqFVHyud9UbjQ   \n2  5e9c73d6d2d1710a29be2da7  2DfvzJN4SAiRdEw3gVxBBw   \n3  5e9c73d7d2d1710a29be9fd3  ze5kafJm7b-BP6p7tsN3-g   \n4  5e9c73d7d2d1710a29beaaf9  XYGW3626I4SuSnVPRrZ6Sg   \n5  5e9c73d9d2d1710a29bf6644  xV9fOn7haAXpklW8Rmsp_g   \n6  5e9c73d9d2d1710a29bfa43c  5PGwo7RuTWfn-66G1JNE6g   \n7  5e9c73dad2d1710a29bff51a  hLcJwsQPyGpGUf-Wzn_ZDw   \n8  5e9c73dbd2d1710a29c03602  ll5LOr-RYkeEPeAjnrz5zA   \n9  5e9c73dcd2d1710a29c0f2bb  42WkEwAf8zoKDC9xFlIE8w   \n\n                                              name  \\\n0                     Julia Grambo - Cornel Realty   \n1                    Jack Burns - Realty One Group   \n2                             Arizona SOLD Sisters   \n3              Danilo Martinez - King Realty Group   \n4                 Amy Koch - Kreate Property Group   \n5  Dustin Dufour - Berkshire Hathaway Homeservices   \n6                  Pam Carlson - Realty Executives   \n7                     Tucker Blalock - The Brokery   \n8           Ken Ramsay - Harvey Kalles Real Estate   \n9            Chris Dowlen - Keller Williams Realty   \n\n                             address        city state postal_code   latitude  \\\n0            5575 S Durango, Ste 107   Las Vegas    NV       89113  36.087726   \n1       3530 S Val Vista Dr, Ste 114     Gilbert    AZ       85297  33.286087   \n2    8388 E  Hartford Drive, Ste 100  Scottsdale    AZ       85255  33.642005   \n3          8 Sampson Mews, Suite 201     Toronto    ON     M3C 0H5  43.735056   \n4                   22912 N 39th Ter     Phoenix    AZ       85050  33.694832   \n5          8850 W Sunset Rd, Ste 200   Las Vegas    NV       89148  36.071782   \n6  1528 E Williams Field Rd, Ste 106     Gilbert    AZ       85295  33.307702   \n7                     4546 N 40th St     Phoenix    AZ       85018  33.504221   \n8                   2145 Avenue Road     Toronto    ON     M5M 4B2  43.739673   \n9        2230 Corporate Cir, Ste 250   Henderson    NV       89074  36.028160   \n\n    longitude  stars  review_count  is_open  \\\n0 -115.279776    5.0             4        1   \n1 -111.757290    5.0             4        1   \n2 -111.899244    5.0             5        1   \n3  -79.344129    5.0             3        1   \n4 -111.985482    5.0             4        1   \n5 -115.284717    5.0             3        1   \n6 -111.757237    5.0             4        1   \n7 -111.995695    5.0            16        1   \n8  -79.421201    5.0             3        1   \n9 -115.088428    5.0             4        1   \n\n                                          attributes  \\\n0  {'ByAppointmentOnly': 'False', 'BusinessAccept...   \n1  {'BusinessAcceptsCreditCards': 'True', 'ByAppo...   \n2  {'ByAppointmentOnly': 'False', 'BusinessAccept...   \n3                                               None   \n4                      {'ByAppointmentOnly': 'True'}   \n5  {'BusinessAcceptsBitcoin': 'False', 'BusinessA...   \n6            {'BusinessAcceptsCreditCards': 'False'}   \n7  {'BusinessAcceptsCreditCards': 'False', 'Busin...   \n8                     {'ByAppointmentOnly': 'False'}   \n9  {'BusinessAcceptsBitcoin': 'False', 'BusinessA...   \n\n                                               hours  \\\n0  {'Monday': '8:0-21:0', 'Tuesday': '8:0-21:0', ...   \n1  {'Monday': '8:0-22:0', 'Tuesday': '8:0-22:0', ...   \n2  {'Monday': '0:0-0:0', 'Tuesday': '0:0-0:0', 'W...   \n3  {'Monday': '8:0-22:0', 'Tuesday': '8:0-22:0', ...   \n4  {'Monday': '9:0-18:0', 'Tuesday': '9:0-18:0', ...   \n5  {'Monday': '9:0-17:30', 'Tuesday': '9:0-17:30'...   \n6  {'Monday': '7:0-21:0', 'Tuesday': '7:0-21:0', ...   \n7  {'Monday': '6:30-21:0', 'Tuesday': '6:30-21:0'...   \n8  {'Monday': '8:0-0:0', 'Tuesday': '8:0-0:0', 'W...   \n9  {'Monday': '7:0-19:0', 'Tuesday': '7:0-19:0', ...   \n\n                                          categories  \n0  [Home Services,  Real Estate,  Real Estate Age...  \n1  [Home Services,  Real Estate Agents,  Real Est...  \n2  [Home Services,  Real Estate,  Real Estate Age...  \n3  [Home Services,  Real Estate Agents,  Real Est...  \n4  [Home Services,  Real Estate,  Real Estate Age...  \n5  [Home Services,  Real Estate Services,  Real E...  \n6  [Home Services,  Real Estate,  Real Estate Age...  \n7  [Home Services,  Property Management,  Real Es...  \n8  [Home Services,  Real Estate Agents,  Real Est...  \n9  [Home Services,  Real Estate,  Real Estate Age...  ",
      "text/html": "<div>\n<style scoped>\n    .dataframe tbody tr th:only-of-type {\n        vertical-align: middle;\n    }\n\n    .dataframe tbody tr th {\n        vertical-align: top;\n    }\n\n    .dataframe thead th {\n        text-align: right;\n    }\n</style>\n<table border=\"1\" class=\"dataframe\">\n  <thead>\n    <tr style=\"text-align: right;\">\n      <th></th>\n      <th>_id</th>\n      <th>business_id</th>\n      <th>name</th>\n      <th>address</th>\n      <th>city</th>\n      <th>state</th>\n      <th>postal_code</th>\n      <th>latitude</th>\n      <th>longitude</th>\n      <th>stars</th>\n      <th>review_count</th>\n      <th>is_open</th>\n      <th>attributes</th>\n      <th>hours</th>\n      <th>categories</th>\n    </tr>\n  </thead>\n  <tbody>\n    <tr>\n      <th>0</th>\n      <td>5e9c73d6d2d1710a29bdec5a</td>\n      <td>oKjd9T-8Lxr_TWQZiN2BRA</td>\n      <td>Julia Grambo - Cornel Realty</td>\n      <td>5575 S Durango, Ste 107</td>\n      <td>Las Vegas</td>\n      <td>NV</td>\n      <td>89113</td>\n      <td>36.087726</td>\n      <td>-115.279776</td>\n      <td>5.0</td>\n      <td>4</td>\n      <td>1</td>\n      <td>{'ByAppointmentOnly': 'False', 'BusinessAccept...</td>\n      <td>{'Monday': '8:0-21:0', 'Tuesday': '8:0-21:0', ...</td>\n      <td>[Home Services,  Real Estate,  Real Estate Age...</td>\n    </tr>\n    <tr>\n      <th>1</th>\n      <td>5e9c73d6d2d1710a29be0cfd</td>\n      <td>ypXftd9bRXqFVHyud9UbjQ</td>\n      <td>Jack Burns - Realty One Group</td>\n      <td>3530 S Val Vista Dr, Ste 114</td>\n      <td>Gilbert</td>\n      <td>AZ</td>\n      <td>85297</td>\n      <td>33.286087</td>\n      <td>-111.757290</td>\n      <td>5.0</td>\n      <td>4</td>\n      <td>1</td>\n      <td>{'BusinessAcceptsCreditCards': 'True', 'ByAppo...</td>\n      <td>{'Monday': '8:0-22:0', 'Tuesday': '8:0-22:0', ...</td>\n      <td>[Home Services,  Real Estate Agents,  Real Est...</td>\n    </tr>\n    <tr>\n      <th>2</th>\n      <td>5e9c73d6d2d1710a29be2da7</td>\n      <td>2DfvzJN4SAiRdEw3gVxBBw</td>\n      <td>Arizona SOLD Sisters</td>\n      <td>8388 E  Hartford Drive, Ste 100</td>\n      <td>Scottsdale</td>\n      <td>AZ</td>\n      <td>85255</td>\n      <td>33.642005</td>\n      <td>-111.899244</td>\n      <td>5.0</td>\n      <td>5</td>\n      <td>1</td>\n      <td>{'ByAppointmentOnly': 'False', 'BusinessAccept...</td>\n      <td>{'Monday': '0:0-0:0', 'Tuesday': '0:0-0:0', 'W...</td>\n      <td>[Home Services,  Real Estate,  Real Estate Age...</td>\n    </tr>\n    <tr>\n      <th>3</th>\n      <td>5e9c73d7d2d1710a29be9fd3</td>\n      <td>ze5kafJm7b-BP6p7tsN3-g</td>\n      <td>Danilo Martinez - King Realty Group</td>\n      <td>8 Sampson Mews, Suite 201</td>\n      <td>Toronto</td>\n      <td>ON</td>\n      <td>M3C 0H5</td>\n      <td>43.735056</td>\n      <td>-79.344129</td>\n      <td>5.0</td>\n      <td>3</td>\n      <td>1</td>\n      <td>None</td>\n      <td>{'Monday': '8:0-22:0', 'Tuesday': '8:0-22:0', ...</td>\n      <td>[Home Services,  Real Estate Agents,  Real Est...</td>\n    </tr>\n    <tr>\n      <th>4</th>\n      <td>5e9c73d7d2d1710a29beaaf9</td>\n      <td>XYGW3626I4SuSnVPRrZ6Sg</td>\n      <td>Amy Koch - Kreate Property Group</td>\n      <td>22912 N 39th Ter</td>\n      <td>Phoenix</td>\n      <td>AZ</td>\n      <td>85050</td>\n      <td>33.694832</td>\n      <td>-111.985482</td>\n      <td>5.0</td>\n      <td>4</td>\n      <td>1</td>\n      <td>{'ByAppointmentOnly': 'True'}</td>\n      <td>{'Monday': '9:0-18:0', 'Tuesday': '9:0-18:0', ...</td>\n      <td>[Home Services,  Real Estate,  Real Estate Age...</td>\n    </tr>\n    <tr>\n      <th>5</th>\n      <td>5e9c73d9d2d1710a29bf6644</td>\n      <td>xV9fOn7haAXpklW8Rmsp_g</td>\n      <td>Dustin Dufour - Berkshire Hathaway Homeservices</td>\n      <td>8850 W Sunset Rd, Ste 200</td>\n      <td>Las Vegas</td>\n      <td>NV</td>\n      <td>89148</td>\n      <td>36.071782</td>\n      <td>-115.284717</td>\n      <td>5.0</td>\n      <td>3</td>\n      <td>1</td>\n      <td>{'BusinessAcceptsBitcoin': 'False', 'BusinessA...</td>\n      <td>{'Monday': '9:0-17:30', 'Tuesday': '9:0-17:30'...</td>\n      <td>[Home Services,  Real Estate Services,  Real E...</td>\n    </tr>\n    <tr>\n      <th>6</th>\n      <td>5e9c73d9d2d1710a29bfa43c</td>\n      <td>5PGwo7RuTWfn-66G1JNE6g</td>\n      <td>Pam Carlson - Realty Executives</td>\n      <td>1528 E Williams Field Rd, Ste 106</td>\n      <td>Gilbert</td>\n      <td>AZ</td>\n      <td>85295</td>\n      <td>33.307702</td>\n      <td>-111.757237</td>\n      <td>5.0</td>\n      <td>4</td>\n      <td>1</td>\n      <td>{'BusinessAcceptsCreditCards': 'False'}</td>\n      <td>{'Monday': '7:0-21:0', 'Tuesday': '7:0-21:0', ...</td>\n      <td>[Home Services,  Real Estate,  Real Estate Age...</td>\n    </tr>\n    <tr>\n      <th>7</th>\n      <td>5e9c73dad2d1710a29bff51a</td>\n      <td>hLcJwsQPyGpGUf-Wzn_ZDw</td>\n      <td>Tucker Blalock - The Brokery</td>\n      <td>4546 N 40th St</td>\n      <td>Phoenix</td>\n      <td>AZ</td>\n      <td>85018</td>\n      <td>33.504221</td>\n      <td>-111.995695</td>\n      <td>5.0</td>\n      <td>16</td>\n      <td>1</td>\n      <td>{'BusinessAcceptsCreditCards': 'False', 'Busin...</td>\n      <td>{'Monday': '6:30-21:0', 'Tuesday': '6:30-21:0'...</td>\n      <td>[Home Services,  Property Management,  Real Es...</td>\n    </tr>\n    <tr>\n      <th>8</th>\n      <td>5e9c73dbd2d1710a29c03602</td>\n      <td>ll5LOr-RYkeEPeAjnrz5zA</td>\n      <td>Ken Ramsay - Harvey Kalles Real Estate</td>\n      <td>2145 Avenue Road</td>\n      <td>Toronto</td>\n      <td>ON</td>\n      <td>M5M 4B2</td>\n      <td>43.739673</td>\n      <td>-79.421201</td>\n      <td>5.0</td>\n      <td>3</td>\n      <td>1</td>\n      <td>{'ByAppointmentOnly': 'False'}</td>\n      <td>{'Monday': '8:0-0:0', 'Tuesday': '8:0-0:0', 'W...</td>\n      <td>[Home Services,  Real Estate Agents,  Real Est...</td>\n    </tr>\n    <tr>\n      <th>9</th>\n      <td>5e9c73dcd2d1710a29c0f2bb</td>\n      <td>42WkEwAf8zoKDC9xFlIE8w</td>\n      <td>Chris Dowlen - Keller Williams Realty</td>\n      <td>2230 Corporate Cir, Ste 250</td>\n      <td>Henderson</td>\n      <td>NV</td>\n      <td>89074</td>\n      <td>36.028160</td>\n      <td>-115.088428</td>\n      <td>5.0</td>\n      <td>4</td>\n      <td>1</td>\n      <td>{'BusinessAcceptsBitcoin': 'False', 'BusinessA...</td>\n      <td>{'Monday': '7:0-19:0', 'Tuesday': '7:0-19:0', ...</td>\n      <td>[Home Services,  Real Estate,  Real Estate Age...</td>\n    </tr>\n  </tbody>\n</table>\n</div>"
     },
     "metadata": {},
     "execution_count": 83
    }
   ],
   "source": [
    "businesses_records = businesses_neighbours_df.astype({'_id': 'str'})\n",
    "businesses_records"
   ]
  },
  {
   "cell_type": "code",
   "execution_count": 84,
   "metadata": {},
   "outputs": [],
   "source": [
    "businesses_records.to_json('../data/businesses_neighbours.json', orient='records', lines=True)"
   ]
  },
  {
   "cell_type": "markdown",
   "metadata": {},
   "source": [
    "## Export reviews of the selected businesses"
   ]
  },
  {
   "cell_type": "code",
   "execution_count": 85,
   "metadata": {},
   "outputs": [
    {
     "output_type": "execute_result",
     "data": {
      "text/plain": "                         _id               review_id                 user_id  \\\n0   5e9249c84042b2eb9804a80e  YlS9L1R6qcHpe9tWZuCjrg  tx1nuFCSwrOwUy5al4sygQ   \n1   5e9249cd4042b2eb9807052d  6MwgkVUKm89bXYXv1UZ49g  PTpCPqx91Ot0s8k8QbNYYg   \n2   5e9249ce4042b2eb980797f1  V07d2e8uKUnu0tUf0QnoWg  liD61ZD1DRXJDu6AW-aW2A   \n3   5e9249ce4042b2eb9807b8f5  xbcKyYiUUFqC86L-l4aoXg  GohTl07M4AFcLL6mHNQDQA   \n4   5e9249ce4042b2eb9807e666  ygYZIM7kjvTyTEcW9UUCGQ  6lSZwA8iX683BPc7f-bIgA   \n5   5e924a894042b2eb986378df  E4MTf5qRWHcDDH4_h5a5sA  wmoODifgWZhc3fANRufUkw   \n6   5e924a8b4042b2eb9864812b  7B_jfe_0pfNQcy48RzNLQw  5rA0Yglr1ZPoG7EkXQOnYA   \n7   5e924a934042b2eb98681556  uEgd6ZyEK9KVkbK8zlcUyg  Sc53RPpOtXdAn0AAgZGziQ   \n8   5e924a964042b2eb9869800c  VvN8nwzFCesLadRIi21B3w  _zK6XJ6tjdAGTfp2NIijMQ   \n9   5e924a2e4042b2eb9837d782  BzZKiD5pQji8hlq7iEJV6g  tdO_P1NEKkxj9012xiejdg   \n10  5e924a2f4042b2eb983857fb  0gfTP9Lmpz-fY0b5ZvI_xg  GGYgRP7-iiNVdX7mYwXChg   \n11  5e924a314042b2eb983942c2  ghV3RpG8DEXAu4lU64PBFg  71sGcrLKBQ0Gun_ZBV-Kwg   \n12  5e924a324042b2eb9839995a  k3UTMSmWacSZe_efHAvJ8A  rmZ5Ve8x29_ilrNpTpLGRA   \n13  5e9249d74042b2eb980c520e  CacoUndUv4tbz1XRwXor2A  cU9e32VufESzjuxNlFRlaA   \n14  5e9249e14042b2eb98110208  k5X88TfO80prcH4CQqu_Bg  5Mxi4PGXolYGuQCSAu1aHA   \n15  5e9249e24042b2eb98117390  QZ-huugGpB5Fqor-5BUupw  zAo0ay4sdIqPWHOQfudKnQ   \n16  5e9249e54042b2eb9813226d  LLLQm5A8B5CKGtAzVJKNpg  U6UFU5UoLun7yC7KjFUt6w   \n17  5e924a344042b2eb983abce6  ohtrgyvX6FX-kjQLBCaNVw  rR5F8wxjSixo52Koirv7Gw   \n18  5e924a344042b2eb983aceaa  eAB72sLfFlxBTaljtw3dJg  ZmYQvEjsCPj6APjkdhG_DQ   \n19  5e924a354042b2eb983b46b1  V_Qf77RFwPCXHjP7BTiOYw  jhAvwTRlr_5wY84M4wELxw   \n20  5e924a364042b2eb983bea7c  Y0MnURQN9nuwGLeSK1-ZlA  1-N36XE-mmUMteN0FqrqTQ   \n21  5e924a394042b2eb983d360a  aTF_k3P5mznt4JHei9_w-Q  7kve2GSFMvSPhVjqQbcMdw   \n22  5e924a3a4042b2eb983da012  2k7C7SI8k_7RyxXbQL-0Rg  7kve2GSFMvSPhVjqQbcMdw   \n23  5e924a3c4042b2eb983e6a47  karw8bT4j1oGgrxnb0Oplw  hwzOkCZmk8egXK3DmC9WAw   \n24  5e924a3c4042b2eb983e75ce  FqWdSa6PJ3t1jAUXkYEcGQ  VZCqfTcKkpfA1ZsTrFbmOA   \n25  5e924a3d4042b2eb983f4b85  _2MYZrCGZNDUzLKhiW1esw  BJ-Q7GpPZ_xXkI1gfHhFOw   \n26  5e924a3e4042b2eb983fb95a  Au22shyWpx1fpJxxlBmQlA  c-xMQBQ-FKYxVBFJceXEjg   \n27  5e924a3f4042b2eb9840103c  292ivSJTaHIbcYyqoPfwrA  xCf58sOiZxQFFQcb4TUUQQ   \n28  5e924a404042b2eb98405d24  CJswl8mlSI1z3Q_d8aYeKg  PyqM7UvZLElMdlDr5EgPKQ   \n29  5e924a404042b2eb9840a1a4  JfY0iGnKWz3Q9N4kNrPdsw  NEC-WC4_KFdXLnq_MKrgTA   \n30  5e924a434042b2eb984213c1  tNwY_vhLM8Wmq4opcy64dg  bRwOXGWT4ebSB98dp1HKWA   \n31  5e924a444042b2eb98428693  Ia3BLl1WUMXh1AqryBfqFQ  5iwZGk3dzn0lOa1jfjSlfg   \n32  5e924a454042b2eb9842bf12  wRmEdmRaE2SuesOOBC8KXQ  b3rH3XTbbQ5AsCBowYgAEQ   \n33  5e924a4b4042b2eb9845f968  zquag_0U255mx1dBMFtAoA  LYvkacwtrKWNfjTrRX359Q   \n34  5e924a514042b2eb98488a25  KChs-rLKlP2FXTAVTfFfsQ  Ubur5HUa208_--ZRjX8dGA   \n35  5e924a554042b2eb984ab48f  yXDb9F1EX0rFvukhZKolzg  wIXw3iHVzwhyEDY2xp8tyw   \n36  5e924a654042b2eb98520b70  xBofyhcIkAz9nwdlHpRFcg  eiKHZtyoUmoUg3BdY3hl7Q   \n37  5e9249a34042b2eb98f20f60  Pq4ZHw0DqitZMSHU7E3Hfw  7MZggZDDeU63XgujSB2HVA   \n38  5e9249b24042b2eb98f9e74f  yaGYEWi0zJmEBm6ugrRtuQ  ZC0v-coaz3wUgXL6yjphjg   \n39  5e9249b44042b2eb98faf03c  _XAWTV9Z7P0_-v3TnIFVSQ  oLB2E-M3xjYRvDj4je4o_A   \n40  5e9249b64042b2eb98fb7f35  xNnTGzqPYJfqpv_fJDG7KA  0eOt-JrxU1ML2RwQ6qYTbg   \n41  5e924a1a4042b2eb982d4999  NGPKN2TjnbcnuRECuT-Chw  MIndMViwNpaE1TWVRrnOiA   \n42  5e924a1b4042b2eb982dde68  inf1G4cxGybtE_-c_T_K-A  28-qiYHAUP69tyqDMYz0CQ   \n43  5e924a1c4042b2eb982e2639  i6ImXZGuLxy0uVhLdnHWnQ  OAIHEJKBAEFwq59RXNq1Wg   \n44  5e9249a14042b2eb98f0d376  la3lOiyCI3g1VS7wbz6hRQ  6oEZYS26p2CgFKIOSTn4OA   \n45  5e9249a44042b2eb98f2400a  2Gf0PYNsjNAR4V-DcfprJQ  QfJXkZpYFEy7UV_-95N_BQ   \n46  5e9249a64042b2eb98f32bc7  vSXCPrGfgjmVIQoVAbTtdA  wuLmyb-oSR1s8zheb2ascg   \n47  5e9249b54042b2eb98fb6257  aK_rrrb5Eh9RjAcZc1fqSA  BtI057KF3LcJ0IN5IA0AWg   \n48  5e9249e04042b2eb9810647a  nz3d50ZCLpQOmOHEyUfQ3A  zCpICj0XpOb96bxfsxpWhw   \n49  5e9249e24042b2eb9811604d  ek2guRjtycLO9wuo3dF5ew  kWk5HQ__JOutrCAV9Ie-WQ   \n50  5e9249e44042b2eb9812a689  -Q0uH5Ddfc3fH0oKfrNtpg  u1C544LeGGZBaJvvUb9_kA   \n\n               business_id  stars  useful  funny  cool  \\\n0   2DfvzJN4SAiRdEw3gVxBBw    5.0       0      0     0   \n1   2DfvzJN4SAiRdEw3gVxBBw    5.0       0      0     0   \n2   2DfvzJN4SAiRdEw3gVxBBw    5.0       0      0     0   \n3   2DfvzJN4SAiRdEw3gVxBBw    5.0       0      0     0   \n4   2DfvzJN4SAiRdEw3gVxBBw    5.0       0      0     0   \n5   42WkEwAf8zoKDC9xFlIE8w    5.0       0      0     0   \n6   42WkEwAf8zoKDC9xFlIE8w    5.0       0      0     0   \n7   42WkEwAf8zoKDC9xFlIE8w    5.0       0      0     0   \n8   42WkEwAf8zoKDC9xFlIE8w    5.0       0      0     0   \n9   5PGwo7RuTWfn-66G1JNE6g    5.0       0      1     0   \n10  5PGwo7RuTWfn-66G1JNE6g    5.0       0      0     0   \n11  5PGwo7RuTWfn-66G1JNE6g    5.0       1      0     0   \n12  5PGwo7RuTWfn-66G1JNE6g    5.0       0      0     0   \n13  XYGW3626I4SuSnVPRrZ6Sg    5.0       0      0     0   \n14  XYGW3626I4SuSnVPRrZ6Sg    5.0       0      0     0   \n15  XYGW3626I4SuSnVPRrZ6Sg    5.0       0      0     0   \n16  XYGW3626I4SuSnVPRrZ6Sg    5.0       0      0     0   \n17  hLcJwsQPyGpGUf-Wzn_ZDw    5.0       0      0     0   \n18  hLcJwsQPyGpGUf-Wzn_ZDw    5.0       0      0     0   \n19  hLcJwsQPyGpGUf-Wzn_ZDw    5.0       0      0     0   \n20  hLcJwsQPyGpGUf-Wzn_ZDw    5.0       1      1     0   \n21  hLcJwsQPyGpGUf-Wzn_ZDw    5.0       0      0     0   \n22  hLcJwsQPyGpGUf-Wzn_ZDw    5.0       0      0     0   \n23  hLcJwsQPyGpGUf-Wzn_ZDw    5.0       0      0     0   \n24  hLcJwsQPyGpGUf-Wzn_ZDw    5.0       1      0     0   \n25  hLcJwsQPyGpGUf-Wzn_ZDw    5.0       0      0     0   \n26  hLcJwsQPyGpGUf-Wzn_ZDw    5.0       0      1     0   \n27  hLcJwsQPyGpGUf-Wzn_ZDw    5.0       0      0     0   \n28  hLcJwsQPyGpGUf-Wzn_ZDw    5.0       0      0     0   \n29  hLcJwsQPyGpGUf-Wzn_ZDw    5.0       0      0     0   \n30  hLcJwsQPyGpGUf-Wzn_ZDw    5.0       0      0     0   \n31  hLcJwsQPyGpGUf-Wzn_ZDw    5.0       0      0     0   \n32  hLcJwsQPyGpGUf-Wzn_ZDw    5.0       0      1     0   \n33  hLcJwsQPyGpGUf-Wzn_ZDw    5.0       0      1     0   \n34  ll5LOr-RYkeEPeAjnrz5zA    5.0       0      0     0   \n35  ll5LOr-RYkeEPeAjnrz5zA    5.0       3      0     0   \n36  ll5LOr-RYkeEPeAjnrz5zA    5.0       1      0     0   \n37  oKjd9T-8Lxr_TWQZiN2BRA    5.0       0      0     0   \n38  oKjd9T-8Lxr_TWQZiN2BRA    5.0       0      0     1   \n39  oKjd9T-8Lxr_TWQZiN2BRA    5.0       0      0     0   \n40  oKjd9T-8Lxr_TWQZiN2BRA    5.0       0      0     0   \n41  xV9fOn7haAXpklW8Rmsp_g    5.0       0      0     0   \n42  xV9fOn7haAXpklW8Rmsp_g    5.0       0      0     0   \n43  xV9fOn7haAXpklW8Rmsp_g    5.0       0      0     0   \n44  ypXftd9bRXqFVHyud9UbjQ    5.0       0      0     0   \n45  ypXftd9bRXqFVHyud9UbjQ    5.0       0      0     0   \n46  ypXftd9bRXqFVHyud9UbjQ    5.0       0      0     0   \n47  ypXftd9bRXqFVHyud9UbjQ    5.0       0      0     0   \n48  ze5kafJm7b-BP6p7tsN3-g    5.0       0      0     0   \n49  ze5kafJm7b-BP6p7tsN3-g    5.0       0      0     0   \n50  ze5kafJm7b-BP6p7tsN3-g    5.0       0      0     0   \n\n                                                 text                 date  \n0   I've given Arizona Sold Sisters the highest re...  2019-03-30 19:09:52  \n1   Wendy and Jill helped me with the sale of a pr...  2019-04-04 15:02:14  \n2   AZ sold sisters made the process of selling my...  2019-04-11 01:46:43  \n3   Wendy and Jill helped us for the second time! ...  2019-03-31 05:25:12  \n4   HIRE THEM! Wendy and Jill were absolutely incr...  2019-07-03 19:07:54  \n5   If it wasn't for this team, we wouldn't be liv...  2018-08-31 01:15:07  \n6   Friendly, professional, efficient and fast. We...  2017-02-02 19:44:39  \n7   Chris and his team are everything you want/exp...  2018-01-04 21:48:00  \n8   Amazing experience, couldn't have been better ...  2016-12-13 19:30:02  \n9   If you're looking for a realtor in the Phoenix...  2014-05-16 14:56:44  \n10  Thanks Pam\\nGreat lady to work with.  We looke...  2017-09-04 16:29:14  \n11  Pam is an amazing Realtor who holds customer s...  2015-06-23 05:36:09  \n12  I cannot say enough about Pam and her wonderfu...  2017-02-17 15:13:02  \n13  Amy Koch did an amazing job helping my family ...  2014-12-06 14:25:15  \n14  Amy was thorough, clear, and fair.  Super grea...  2019-01-21 23:28:48  \n15  Amy is amazing!  To say that she exceeded my e...  2018-12-21 05:30:31  \n16  Amy was amazing and knowledgeable. She communi...  2019-07-10 19:52:40  \n17  Tucker and the whole Brokery team were simply ...  2018-05-19 19:39:38  \n18  Tucker is incredibly knowledgable about the Va...  2016-07-25 18:40:22  \n19  I started looking at homes on my own, thinking...  2013-06-25 04:06:54  \n20  Tucker was an excellent real estate agent to w...  2013-04-17 01:18:52  \n21  Tucker is professional, knowledgeable and trul...  2015-07-31 19:32:44  \n22  I moved to Phoenix and have worked with Tucker...  2014-01-27 16:05:57  \n23  Tucker and the Brokery team did an excellent j...  2018-02-18 01:28:07  \n24  Tucker was referred to us from a close friend ...  2015-05-20 03:45:23  \n25  Tucker was an AMAZING agent. I had previously ...  2017-08-01 20:25:58  \n26  We hired Tucker as our real estate agent to se...  2013-11-09 04:19:07  \n27  Truly the best realtor in Phoenix!! Tucker is ...  2017-09-03 21:54:06  \n28  As we know Real Estate is a personal deal. It ...  2015-08-06 19:14:59  \n29  Tucker and The Suits Team was amazing througho...  2017-09-29 18:24:34  \n30  My husband and I were looking to buy our first...  2015-03-31 22:36:05  \n31  My husband and I used Tucker as our agent duri...  2017-05-23 02:53:59  \n32  I can't speak for real estate services, but I ...  2013-04-16 07:11:42  \n33  Working with Tucker was fantastic.  Couldn't a...  2016-04-06 02:51:17  \n34  Ken recently helped my boyfriend and I buy our...  2018-06-01 14:26:20  \n35  I have purchased and sold several properties i...  2014-03-07 00:15:18  \n36  My husband and I met Ken at one of his open ho...  2014-06-10 19:04:46  \n37  My wife and I highly recommend Julia Grambo. S...  2018-05-22 00:37:16  \n38  We selected Julia Grambo as our realtor upon r...  2018-05-14 17:25:04  \n39  We started our home shopping thinking we knew ...  2019-06-14 16:20:28  \n40  Julia Grambo is a great realtor.  She went abo...  2018-12-27 19:33:01  \n41  We worked with Dustin Dufour when we bought an...  2018-08-02 20:59:25  \n42  Dustin is an outstanding realtor that understa...  2019-12-10 18:43:32  \n43  One word - integrity! Dustin was referred from...  2019-03-03 20:03:47  \n44  Jack was the seller's agent I met while lookin...  2017-09-20 17:35:15  \n45  Jack has been extremely helpful with clients I...  2017-01-16 21:46:43  \n46  We were very pleased with Jack's professionali...  2017-10-28 23:14:12  \n47  No words but a lot of words, they are AMAZING!...  2019-07-17 03:54:13  \n48  We were referred to Danilo  through a friend a...  2016-01-15 19:49:02  \n49  Danilo was great and easy to work with. Very p...  2015-11-02 15:20:57  \n50  I thought this was such an impressive service!...  2017-09-25 16:44:15  ",
      "text/html": "<div>\n<style scoped>\n    .dataframe tbody tr th:only-of-type {\n        vertical-align: middle;\n    }\n\n    .dataframe tbody tr th {\n        vertical-align: top;\n    }\n\n    .dataframe thead th {\n        text-align: right;\n    }\n</style>\n<table border=\"1\" class=\"dataframe\">\n  <thead>\n    <tr style=\"text-align: right;\">\n      <th></th>\n      <th>_id</th>\n      <th>review_id</th>\n      <th>user_id</th>\n      <th>business_id</th>\n      <th>stars</th>\n      <th>useful</th>\n      <th>funny</th>\n      <th>cool</th>\n      <th>text</th>\n      <th>date</th>\n    </tr>\n  </thead>\n  <tbody>\n    <tr>\n      <th>0</th>\n      <td>5e9249c84042b2eb9804a80e</td>\n      <td>YlS9L1R6qcHpe9tWZuCjrg</td>\n      <td>tx1nuFCSwrOwUy5al4sygQ</td>\n      <td>2DfvzJN4SAiRdEw3gVxBBw</td>\n      <td>5.0</td>\n      <td>0</td>\n      <td>0</td>\n      <td>0</td>\n      <td>I've given Arizona Sold Sisters the highest re...</td>\n      <td>2019-03-30 19:09:52</td>\n    </tr>\n    <tr>\n      <th>1</th>\n      <td>5e9249cd4042b2eb9807052d</td>\n      <td>6MwgkVUKm89bXYXv1UZ49g</td>\n      <td>PTpCPqx91Ot0s8k8QbNYYg</td>\n      <td>2DfvzJN4SAiRdEw3gVxBBw</td>\n      <td>5.0</td>\n      <td>0</td>\n      <td>0</td>\n      <td>0</td>\n      <td>Wendy and Jill helped me with the sale of a pr...</td>\n      <td>2019-04-04 15:02:14</td>\n    </tr>\n    <tr>\n      <th>2</th>\n      <td>5e9249ce4042b2eb980797f1</td>\n      <td>V07d2e8uKUnu0tUf0QnoWg</td>\n      <td>liD61ZD1DRXJDu6AW-aW2A</td>\n      <td>2DfvzJN4SAiRdEw3gVxBBw</td>\n      <td>5.0</td>\n      <td>0</td>\n      <td>0</td>\n      <td>0</td>\n      <td>AZ sold sisters made the process of selling my...</td>\n      <td>2019-04-11 01:46:43</td>\n    </tr>\n    <tr>\n      <th>3</th>\n      <td>5e9249ce4042b2eb9807b8f5</td>\n      <td>xbcKyYiUUFqC86L-l4aoXg</td>\n      <td>GohTl07M4AFcLL6mHNQDQA</td>\n      <td>2DfvzJN4SAiRdEw3gVxBBw</td>\n      <td>5.0</td>\n      <td>0</td>\n      <td>0</td>\n      <td>0</td>\n      <td>Wendy and Jill helped us for the second time! ...</td>\n      <td>2019-03-31 05:25:12</td>\n    </tr>\n    <tr>\n      <th>4</th>\n      <td>5e9249ce4042b2eb9807e666</td>\n      <td>ygYZIM7kjvTyTEcW9UUCGQ</td>\n      <td>6lSZwA8iX683BPc7f-bIgA</td>\n      <td>2DfvzJN4SAiRdEw3gVxBBw</td>\n      <td>5.0</td>\n      <td>0</td>\n      <td>0</td>\n      <td>0</td>\n      <td>HIRE THEM! Wendy and Jill were absolutely incr...</td>\n      <td>2019-07-03 19:07:54</td>\n    </tr>\n    <tr>\n      <th>5</th>\n      <td>5e924a894042b2eb986378df</td>\n      <td>E4MTf5qRWHcDDH4_h5a5sA</td>\n      <td>wmoODifgWZhc3fANRufUkw</td>\n      <td>42WkEwAf8zoKDC9xFlIE8w</td>\n      <td>5.0</td>\n      <td>0</td>\n      <td>0</td>\n      <td>0</td>\n      <td>If it wasn't for this team, we wouldn't be liv...</td>\n      <td>2018-08-31 01:15:07</td>\n    </tr>\n    <tr>\n      <th>6</th>\n      <td>5e924a8b4042b2eb9864812b</td>\n      <td>7B_jfe_0pfNQcy48RzNLQw</td>\n      <td>5rA0Yglr1ZPoG7EkXQOnYA</td>\n      <td>42WkEwAf8zoKDC9xFlIE8w</td>\n      <td>5.0</td>\n      <td>0</td>\n      <td>0</td>\n      <td>0</td>\n      <td>Friendly, professional, efficient and fast. We...</td>\n      <td>2017-02-02 19:44:39</td>\n    </tr>\n    <tr>\n      <th>7</th>\n      <td>5e924a934042b2eb98681556</td>\n      <td>uEgd6ZyEK9KVkbK8zlcUyg</td>\n      <td>Sc53RPpOtXdAn0AAgZGziQ</td>\n      <td>42WkEwAf8zoKDC9xFlIE8w</td>\n      <td>5.0</td>\n      <td>0</td>\n      <td>0</td>\n      <td>0</td>\n      <td>Chris and his team are everything you want/exp...</td>\n      <td>2018-01-04 21:48:00</td>\n    </tr>\n    <tr>\n      <th>8</th>\n      <td>5e924a964042b2eb9869800c</td>\n      <td>VvN8nwzFCesLadRIi21B3w</td>\n      <td>_zK6XJ6tjdAGTfp2NIijMQ</td>\n      <td>42WkEwAf8zoKDC9xFlIE8w</td>\n      <td>5.0</td>\n      <td>0</td>\n      <td>0</td>\n      <td>0</td>\n      <td>Amazing experience, couldn't have been better ...</td>\n      <td>2016-12-13 19:30:02</td>\n    </tr>\n    <tr>\n      <th>9</th>\n      <td>5e924a2e4042b2eb9837d782</td>\n      <td>BzZKiD5pQji8hlq7iEJV6g</td>\n      <td>tdO_P1NEKkxj9012xiejdg</td>\n      <td>5PGwo7RuTWfn-66G1JNE6g</td>\n      <td>5.0</td>\n      <td>0</td>\n      <td>1</td>\n      <td>0</td>\n      <td>If you're looking for a realtor in the Phoenix...</td>\n      <td>2014-05-16 14:56:44</td>\n    </tr>\n    <tr>\n      <th>10</th>\n      <td>5e924a2f4042b2eb983857fb</td>\n      <td>0gfTP9Lmpz-fY0b5ZvI_xg</td>\n      <td>GGYgRP7-iiNVdX7mYwXChg</td>\n      <td>5PGwo7RuTWfn-66G1JNE6g</td>\n      <td>5.0</td>\n      <td>0</td>\n      <td>0</td>\n      <td>0</td>\n      <td>Thanks Pam\\nGreat lady to work with.  We looke...</td>\n      <td>2017-09-04 16:29:14</td>\n    </tr>\n    <tr>\n      <th>11</th>\n      <td>5e924a314042b2eb983942c2</td>\n      <td>ghV3RpG8DEXAu4lU64PBFg</td>\n      <td>71sGcrLKBQ0Gun_ZBV-Kwg</td>\n      <td>5PGwo7RuTWfn-66G1JNE6g</td>\n      <td>5.0</td>\n      <td>1</td>\n      <td>0</td>\n      <td>0</td>\n      <td>Pam is an amazing Realtor who holds customer s...</td>\n      <td>2015-06-23 05:36:09</td>\n    </tr>\n    <tr>\n      <th>12</th>\n      <td>5e924a324042b2eb9839995a</td>\n      <td>k3UTMSmWacSZe_efHAvJ8A</td>\n      <td>rmZ5Ve8x29_ilrNpTpLGRA</td>\n      <td>5PGwo7RuTWfn-66G1JNE6g</td>\n      <td>5.0</td>\n      <td>0</td>\n      <td>0</td>\n      <td>0</td>\n      <td>I cannot say enough about Pam and her wonderfu...</td>\n      <td>2017-02-17 15:13:02</td>\n    </tr>\n    <tr>\n      <th>13</th>\n      <td>5e9249d74042b2eb980c520e</td>\n      <td>CacoUndUv4tbz1XRwXor2A</td>\n      <td>cU9e32VufESzjuxNlFRlaA</td>\n      <td>XYGW3626I4SuSnVPRrZ6Sg</td>\n      <td>5.0</td>\n      <td>0</td>\n      <td>0</td>\n      <td>0</td>\n      <td>Amy Koch did an amazing job helping my family ...</td>\n      <td>2014-12-06 14:25:15</td>\n    </tr>\n    <tr>\n      <th>14</th>\n      <td>5e9249e14042b2eb98110208</td>\n      <td>k5X88TfO80prcH4CQqu_Bg</td>\n      <td>5Mxi4PGXolYGuQCSAu1aHA</td>\n      <td>XYGW3626I4SuSnVPRrZ6Sg</td>\n      <td>5.0</td>\n      <td>0</td>\n      <td>0</td>\n      <td>0</td>\n      <td>Amy was thorough, clear, and fair.  Super grea...</td>\n      <td>2019-01-21 23:28:48</td>\n    </tr>\n    <tr>\n      <th>15</th>\n      <td>5e9249e24042b2eb98117390</td>\n      <td>QZ-huugGpB5Fqor-5BUupw</td>\n      <td>zAo0ay4sdIqPWHOQfudKnQ</td>\n      <td>XYGW3626I4SuSnVPRrZ6Sg</td>\n      <td>5.0</td>\n      <td>0</td>\n      <td>0</td>\n      <td>0</td>\n      <td>Amy is amazing!  To say that she exceeded my e...</td>\n      <td>2018-12-21 05:30:31</td>\n    </tr>\n    <tr>\n      <th>16</th>\n      <td>5e9249e54042b2eb9813226d</td>\n      <td>LLLQm5A8B5CKGtAzVJKNpg</td>\n      <td>U6UFU5UoLun7yC7KjFUt6w</td>\n      <td>XYGW3626I4SuSnVPRrZ6Sg</td>\n      <td>5.0</td>\n      <td>0</td>\n      <td>0</td>\n      <td>0</td>\n      <td>Amy was amazing and knowledgeable. She communi...</td>\n      <td>2019-07-10 19:52:40</td>\n    </tr>\n    <tr>\n      <th>17</th>\n      <td>5e924a344042b2eb983abce6</td>\n      <td>ohtrgyvX6FX-kjQLBCaNVw</td>\n      <td>rR5F8wxjSixo52Koirv7Gw</td>\n      <td>hLcJwsQPyGpGUf-Wzn_ZDw</td>\n      <td>5.0</td>\n      <td>0</td>\n      <td>0</td>\n      <td>0</td>\n      <td>Tucker and the whole Brokery team were simply ...</td>\n      <td>2018-05-19 19:39:38</td>\n    </tr>\n    <tr>\n      <th>18</th>\n      <td>5e924a344042b2eb983aceaa</td>\n      <td>eAB72sLfFlxBTaljtw3dJg</td>\n      <td>ZmYQvEjsCPj6APjkdhG_DQ</td>\n      <td>hLcJwsQPyGpGUf-Wzn_ZDw</td>\n      <td>5.0</td>\n      <td>0</td>\n      <td>0</td>\n      <td>0</td>\n      <td>Tucker is incredibly knowledgable about the Va...</td>\n      <td>2016-07-25 18:40:22</td>\n    </tr>\n    <tr>\n      <th>19</th>\n      <td>5e924a354042b2eb983b46b1</td>\n      <td>V_Qf77RFwPCXHjP7BTiOYw</td>\n      <td>jhAvwTRlr_5wY84M4wELxw</td>\n      <td>hLcJwsQPyGpGUf-Wzn_ZDw</td>\n      <td>5.0</td>\n      <td>0</td>\n      <td>0</td>\n      <td>0</td>\n      <td>I started looking at homes on my own, thinking...</td>\n      <td>2013-06-25 04:06:54</td>\n    </tr>\n    <tr>\n      <th>20</th>\n      <td>5e924a364042b2eb983bea7c</td>\n      <td>Y0MnURQN9nuwGLeSK1-ZlA</td>\n      <td>1-N36XE-mmUMteN0FqrqTQ</td>\n      <td>hLcJwsQPyGpGUf-Wzn_ZDw</td>\n      <td>5.0</td>\n      <td>1</td>\n      <td>1</td>\n      <td>0</td>\n      <td>Tucker was an excellent real estate agent to w...</td>\n      <td>2013-04-17 01:18:52</td>\n    </tr>\n    <tr>\n      <th>21</th>\n      <td>5e924a394042b2eb983d360a</td>\n      <td>aTF_k3P5mznt4JHei9_w-Q</td>\n      <td>7kve2GSFMvSPhVjqQbcMdw</td>\n      <td>hLcJwsQPyGpGUf-Wzn_ZDw</td>\n      <td>5.0</td>\n      <td>0</td>\n      <td>0</td>\n      <td>0</td>\n      <td>Tucker is professional, knowledgeable and trul...</td>\n      <td>2015-07-31 19:32:44</td>\n    </tr>\n    <tr>\n      <th>22</th>\n      <td>5e924a3a4042b2eb983da012</td>\n      <td>2k7C7SI8k_7RyxXbQL-0Rg</td>\n      <td>7kve2GSFMvSPhVjqQbcMdw</td>\n      <td>hLcJwsQPyGpGUf-Wzn_ZDw</td>\n      <td>5.0</td>\n      <td>0</td>\n      <td>0</td>\n      <td>0</td>\n      <td>I moved to Phoenix and have worked with Tucker...</td>\n      <td>2014-01-27 16:05:57</td>\n    </tr>\n    <tr>\n      <th>23</th>\n      <td>5e924a3c4042b2eb983e6a47</td>\n      <td>karw8bT4j1oGgrxnb0Oplw</td>\n      <td>hwzOkCZmk8egXK3DmC9WAw</td>\n      <td>hLcJwsQPyGpGUf-Wzn_ZDw</td>\n      <td>5.0</td>\n      <td>0</td>\n      <td>0</td>\n      <td>0</td>\n      <td>Tucker and the Brokery team did an excellent j...</td>\n      <td>2018-02-18 01:28:07</td>\n    </tr>\n    <tr>\n      <th>24</th>\n      <td>5e924a3c4042b2eb983e75ce</td>\n      <td>FqWdSa6PJ3t1jAUXkYEcGQ</td>\n      <td>VZCqfTcKkpfA1ZsTrFbmOA</td>\n      <td>hLcJwsQPyGpGUf-Wzn_ZDw</td>\n      <td>5.0</td>\n      <td>1</td>\n      <td>0</td>\n      <td>0</td>\n      <td>Tucker was referred to us from a close friend ...</td>\n      <td>2015-05-20 03:45:23</td>\n    </tr>\n    <tr>\n      <th>25</th>\n      <td>5e924a3d4042b2eb983f4b85</td>\n      <td>_2MYZrCGZNDUzLKhiW1esw</td>\n      <td>BJ-Q7GpPZ_xXkI1gfHhFOw</td>\n      <td>hLcJwsQPyGpGUf-Wzn_ZDw</td>\n      <td>5.0</td>\n      <td>0</td>\n      <td>0</td>\n      <td>0</td>\n      <td>Tucker was an AMAZING agent. I had previously ...</td>\n      <td>2017-08-01 20:25:58</td>\n    </tr>\n    <tr>\n      <th>26</th>\n      <td>5e924a3e4042b2eb983fb95a</td>\n      <td>Au22shyWpx1fpJxxlBmQlA</td>\n      <td>c-xMQBQ-FKYxVBFJceXEjg</td>\n      <td>hLcJwsQPyGpGUf-Wzn_ZDw</td>\n      <td>5.0</td>\n      <td>0</td>\n      <td>1</td>\n      <td>0</td>\n      <td>We hired Tucker as our real estate agent to se...</td>\n      <td>2013-11-09 04:19:07</td>\n    </tr>\n    <tr>\n      <th>27</th>\n      <td>5e924a3f4042b2eb9840103c</td>\n      <td>292ivSJTaHIbcYyqoPfwrA</td>\n      <td>xCf58sOiZxQFFQcb4TUUQQ</td>\n      <td>hLcJwsQPyGpGUf-Wzn_ZDw</td>\n      <td>5.0</td>\n      <td>0</td>\n      <td>0</td>\n      <td>0</td>\n      <td>Truly the best realtor in Phoenix!! Tucker is ...</td>\n      <td>2017-09-03 21:54:06</td>\n    </tr>\n    <tr>\n      <th>28</th>\n      <td>5e924a404042b2eb98405d24</td>\n      <td>CJswl8mlSI1z3Q_d8aYeKg</td>\n      <td>PyqM7UvZLElMdlDr5EgPKQ</td>\n      <td>hLcJwsQPyGpGUf-Wzn_ZDw</td>\n      <td>5.0</td>\n      <td>0</td>\n      <td>0</td>\n      <td>0</td>\n      <td>As we know Real Estate is a personal deal. It ...</td>\n      <td>2015-08-06 19:14:59</td>\n    </tr>\n    <tr>\n      <th>29</th>\n      <td>5e924a404042b2eb9840a1a4</td>\n      <td>JfY0iGnKWz3Q9N4kNrPdsw</td>\n      <td>NEC-WC4_KFdXLnq_MKrgTA</td>\n      <td>hLcJwsQPyGpGUf-Wzn_ZDw</td>\n      <td>5.0</td>\n      <td>0</td>\n      <td>0</td>\n      <td>0</td>\n      <td>Tucker and The Suits Team was amazing througho...</td>\n      <td>2017-09-29 18:24:34</td>\n    </tr>\n    <tr>\n      <th>30</th>\n      <td>5e924a434042b2eb984213c1</td>\n      <td>tNwY_vhLM8Wmq4opcy64dg</td>\n      <td>bRwOXGWT4ebSB98dp1HKWA</td>\n      <td>hLcJwsQPyGpGUf-Wzn_ZDw</td>\n      <td>5.0</td>\n      <td>0</td>\n      <td>0</td>\n      <td>0</td>\n      <td>My husband and I were looking to buy our first...</td>\n      <td>2015-03-31 22:36:05</td>\n    </tr>\n    <tr>\n      <th>31</th>\n      <td>5e924a444042b2eb98428693</td>\n      <td>Ia3BLl1WUMXh1AqryBfqFQ</td>\n      <td>5iwZGk3dzn0lOa1jfjSlfg</td>\n      <td>hLcJwsQPyGpGUf-Wzn_ZDw</td>\n      <td>5.0</td>\n      <td>0</td>\n      <td>0</td>\n      <td>0</td>\n      <td>My husband and I used Tucker as our agent duri...</td>\n      <td>2017-05-23 02:53:59</td>\n    </tr>\n    <tr>\n      <th>32</th>\n      <td>5e924a454042b2eb9842bf12</td>\n      <td>wRmEdmRaE2SuesOOBC8KXQ</td>\n      <td>b3rH3XTbbQ5AsCBowYgAEQ</td>\n      <td>hLcJwsQPyGpGUf-Wzn_ZDw</td>\n      <td>5.0</td>\n      <td>0</td>\n      <td>1</td>\n      <td>0</td>\n      <td>I can't speak for real estate services, but I ...</td>\n      <td>2013-04-16 07:11:42</td>\n    </tr>\n    <tr>\n      <th>33</th>\n      <td>5e924a4b4042b2eb9845f968</td>\n      <td>zquag_0U255mx1dBMFtAoA</td>\n      <td>LYvkacwtrKWNfjTrRX359Q</td>\n      <td>hLcJwsQPyGpGUf-Wzn_ZDw</td>\n      <td>5.0</td>\n      <td>0</td>\n      <td>1</td>\n      <td>0</td>\n      <td>Working with Tucker was fantastic.  Couldn't a...</td>\n      <td>2016-04-06 02:51:17</td>\n    </tr>\n    <tr>\n      <th>34</th>\n      <td>5e924a514042b2eb98488a25</td>\n      <td>KChs-rLKlP2FXTAVTfFfsQ</td>\n      <td>Ubur5HUa208_--ZRjX8dGA</td>\n      <td>ll5LOr-RYkeEPeAjnrz5zA</td>\n      <td>5.0</td>\n      <td>0</td>\n      <td>0</td>\n      <td>0</td>\n      <td>Ken recently helped my boyfriend and I buy our...</td>\n      <td>2018-06-01 14:26:20</td>\n    </tr>\n    <tr>\n      <th>35</th>\n      <td>5e924a554042b2eb984ab48f</td>\n      <td>yXDb9F1EX0rFvukhZKolzg</td>\n      <td>wIXw3iHVzwhyEDY2xp8tyw</td>\n      <td>ll5LOr-RYkeEPeAjnrz5zA</td>\n      <td>5.0</td>\n      <td>3</td>\n      <td>0</td>\n      <td>0</td>\n      <td>I have purchased and sold several properties i...</td>\n      <td>2014-03-07 00:15:18</td>\n    </tr>\n    <tr>\n      <th>36</th>\n      <td>5e924a654042b2eb98520b70</td>\n      <td>xBofyhcIkAz9nwdlHpRFcg</td>\n      <td>eiKHZtyoUmoUg3BdY3hl7Q</td>\n      <td>ll5LOr-RYkeEPeAjnrz5zA</td>\n      <td>5.0</td>\n      <td>1</td>\n      <td>0</td>\n      <td>0</td>\n      <td>My husband and I met Ken at one of his open ho...</td>\n      <td>2014-06-10 19:04:46</td>\n    </tr>\n    <tr>\n      <th>37</th>\n      <td>5e9249a34042b2eb98f20f60</td>\n      <td>Pq4ZHw0DqitZMSHU7E3Hfw</td>\n      <td>7MZggZDDeU63XgujSB2HVA</td>\n      <td>oKjd9T-8Lxr_TWQZiN2BRA</td>\n      <td>5.0</td>\n      <td>0</td>\n      <td>0</td>\n      <td>0</td>\n      <td>My wife and I highly recommend Julia Grambo. S...</td>\n      <td>2018-05-22 00:37:16</td>\n    </tr>\n    <tr>\n      <th>38</th>\n      <td>5e9249b24042b2eb98f9e74f</td>\n      <td>yaGYEWi0zJmEBm6ugrRtuQ</td>\n      <td>ZC0v-coaz3wUgXL6yjphjg</td>\n      <td>oKjd9T-8Lxr_TWQZiN2BRA</td>\n      <td>5.0</td>\n      <td>0</td>\n      <td>0</td>\n      <td>1</td>\n      <td>We selected Julia Grambo as our realtor upon r...</td>\n      <td>2018-05-14 17:25:04</td>\n    </tr>\n    <tr>\n      <th>39</th>\n      <td>5e9249b44042b2eb98faf03c</td>\n      <td>_XAWTV9Z7P0_-v3TnIFVSQ</td>\n      <td>oLB2E-M3xjYRvDj4je4o_A</td>\n      <td>oKjd9T-8Lxr_TWQZiN2BRA</td>\n      <td>5.0</td>\n      <td>0</td>\n      <td>0</td>\n      <td>0</td>\n      <td>We started our home shopping thinking we knew ...</td>\n      <td>2019-06-14 16:20:28</td>\n    </tr>\n    <tr>\n      <th>40</th>\n      <td>5e9249b64042b2eb98fb7f35</td>\n      <td>xNnTGzqPYJfqpv_fJDG7KA</td>\n      <td>0eOt-JrxU1ML2RwQ6qYTbg</td>\n      <td>oKjd9T-8Lxr_TWQZiN2BRA</td>\n      <td>5.0</td>\n      <td>0</td>\n      <td>0</td>\n      <td>0</td>\n      <td>Julia Grambo is a great realtor.  She went abo...</td>\n      <td>2018-12-27 19:33:01</td>\n    </tr>\n    <tr>\n      <th>41</th>\n      <td>5e924a1a4042b2eb982d4999</td>\n      <td>NGPKN2TjnbcnuRECuT-Chw</td>\n      <td>MIndMViwNpaE1TWVRrnOiA</td>\n      <td>xV9fOn7haAXpklW8Rmsp_g</td>\n      <td>5.0</td>\n      <td>0</td>\n      <td>0</td>\n      <td>0</td>\n      <td>We worked with Dustin Dufour when we bought an...</td>\n      <td>2018-08-02 20:59:25</td>\n    </tr>\n    <tr>\n      <th>42</th>\n      <td>5e924a1b4042b2eb982dde68</td>\n      <td>inf1G4cxGybtE_-c_T_K-A</td>\n      <td>28-qiYHAUP69tyqDMYz0CQ</td>\n      <td>xV9fOn7haAXpklW8Rmsp_g</td>\n      <td>5.0</td>\n      <td>0</td>\n      <td>0</td>\n      <td>0</td>\n      <td>Dustin is an outstanding realtor that understa...</td>\n      <td>2019-12-10 18:43:32</td>\n    </tr>\n    <tr>\n      <th>43</th>\n      <td>5e924a1c4042b2eb982e2639</td>\n      <td>i6ImXZGuLxy0uVhLdnHWnQ</td>\n      <td>OAIHEJKBAEFwq59RXNq1Wg</td>\n      <td>xV9fOn7haAXpklW8Rmsp_g</td>\n      <td>5.0</td>\n      <td>0</td>\n      <td>0</td>\n      <td>0</td>\n      <td>One word - integrity! Dustin was referred from...</td>\n      <td>2019-03-03 20:03:47</td>\n    </tr>\n    <tr>\n      <th>44</th>\n      <td>5e9249a14042b2eb98f0d376</td>\n      <td>la3lOiyCI3g1VS7wbz6hRQ</td>\n      <td>6oEZYS26p2CgFKIOSTn4OA</td>\n      <td>ypXftd9bRXqFVHyud9UbjQ</td>\n      <td>5.0</td>\n      <td>0</td>\n      <td>0</td>\n      <td>0</td>\n      <td>Jack was the seller's agent I met while lookin...</td>\n      <td>2017-09-20 17:35:15</td>\n    </tr>\n    <tr>\n      <th>45</th>\n      <td>5e9249a44042b2eb98f2400a</td>\n      <td>2Gf0PYNsjNAR4V-DcfprJQ</td>\n      <td>QfJXkZpYFEy7UV_-95N_BQ</td>\n      <td>ypXftd9bRXqFVHyud9UbjQ</td>\n      <td>5.0</td>\n      <td>0</td>\n      <td>0</td>\n      <td>0</td>\n      <td>Jack has been extremely helpful with clients I...</td>\n      <td>2017-01-16 21:46:43</td>\n    </tr>\n    <tr>\n      <th>46</th>\n      <td>5e9249a64042b2eb98f32bc7</td>\n      <td>vSXCPrGfgjmVIQoVAbTtdA</td>\n      <td>wuLmyb-oSR1s8zheb2ascg</td>\n      <td>ypXftd9bRXqFVHyud9UbjQ</td>\n      <td>5.0</td>\n      <td>0</td>\n      <td>0</td>\n      <td>0</td>\n      <td>We were very pleased with Jack's professionali...</td>\n      <td>2017-10-28 23:14:12</td>\n    </tr>\n    <tr>\n      <th>47</th>\n      <td>5e9249b54042b2eb98fb6257</td>\n      <td>aK_rrrb5Eh9RjAcZc1fqSA</td>\n      <td>BtI057KF3LcJ0IN5IA0AWg</td>\n      <td>ypXftd9bRXqFVHyud9UbjQ</td>\n      <td>5.0</td>\n      <td>0</td>\n      <td>0</td>\n      <td>0</td>\n      <td>No words but a lot of words, they are AMAZING!...</td>\n      <td>2019-07-17 03:54:13</td>\n    </tr>\n    <tr>\n      <th>48</th>\n      <td>5e9249e04042b2eb9810647a</td>\n      <td>nz3d50ZCLpQOmOHEyUfQ3A</td>\n      <td>zCpICj0XpOb96bxfsxpWhw</td>\n      <td>ze5kafJm7b-BP6p7tsN3-g</td>\n      <td>5.0</td>\n      <td>0</td>\n      <td>0</td>\n      <td>0</td>\n      <td>We were referred to Danilo  through a friend a...</td>\n      <td>2016-01-15 19:49:02</td>\n    </tr>\n    <tr>\n      <th>49</th>\n      <td>5e9249e24042b2eb9811604d</td>\n      <td>ek2guRjtycLO9wuo3dF5ew</td>\n      <td>kWk5HQ__JOutrCAV9Ie-WQ</td>\n      <td>ze5kafJm7b-BP6p7tsN3-g</td>\n      <td>5.0</td>\n      <td>0</td>\n      <td>0</td>\n      <td>0</td>\n      <td>Danilo was great and easy to work with. Very p...</td>\n      <td>2015-11-02 15:20:57</td>\n    </tr>\n    <tr>\n      <th>50</th>\n      <td>5e9249e44042b2eb9812a689</td>\n      <td>-Q0uH5Ddfc3fH0oKfrNtpg</td>\n      <td>u1C544LeGGZBaJvvUb9_kA</td>\n      <td>ze5kafJm7b-BP6p7tsN3-g</td>\n      <td>5.0</td>\n      <td>0</td>\n      <td>0</td>\n      <td>0</td>\n      <td>I thought this was such an impressive service!...</td>\n      <td>2017-09-25 16:44:15</td>\n    </tr>\n  </tbody>\n</table>\n</div>"
     },
     "metadata": {},
     "execution_count": 85
    }
   ],
   "source": [
    "#businesses_neighbours_reviews_df = pd.DataFrame(list(db.reviews.find({ \"business_id\": {\"$in\": business_neighbours}, 'useful': {'$gt': 0} })))\n",
    "businesses_neighbours_reviews_df = pd.DataFrame(list(db.reviews.find({ \"business_id\": {\"$in\": business_neighbours} })))\n",
    "businesses_neighbours_reviews_df"
   ]
  },
  {
   "cell_type": "code",
   "execution_count": 86,
   "metadata": {},
   "outputs": [],
   "source": [
    "businesses_neighbours_reviews_records = businesses_neighbours_reviews_df.astype({'_id': 'str'})\n",
    "businesses_neighbours_reviews_records.to_json('../data/businesses_neighbours_reviews.json', orient='records', lines=True)"
   ]
  },
  {
   "cell_type": "code",
   "execution_count": null,
   "metadata": {},
   "outputs": [],
   "source": []
  }
 ],
 "metadata": {
  "language_info": {
   "name": "python",
   "codemirror_mode": {
    "name": "ipython",
    "version": 3
   },
   "version": "3.8.1-final"
  },
  "orig_nbformat": 2,
  "file_extension": ".py",
  "mimetype": "text/x-python",
  "name": "python",
  "npconvert_exporter": "python",
  "pygments_lexer": "ipython3",
  "version": 3,
  "kernelspec": {
   "name": "python38164bittaller2pipenv05139df271e8424ea6d598cf3759efba",
   "display_name": "Python 3.8.1 64-bit ('taller2': pipenv)"
  }
 },
 "nbformat": 4,
 "nbformat_minor": 2
}