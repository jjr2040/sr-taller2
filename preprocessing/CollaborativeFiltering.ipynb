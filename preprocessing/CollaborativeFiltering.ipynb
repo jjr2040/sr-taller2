{
 "nbformat": 4,
 "nbformat_minor": 2,
 "metadata": {
  "language_info": {
   "name": "python",
   "codemirror_mode": {
    "name": "ipython",
    "version": 3
   },
   "version": "3.8.1-final"
  },
  "orig_nbformat": 2,
  "file_extension": ".py",
  "mimetype": "text/x-python",
  "name": "python",
  "npconvert_exporter": "python",
  "pygments_lexer": "ipython3",
  "version": 3,
  "kernelspec": {
   "name": "python38164bittaller2pipenv05139df271e8424ea6d598cf3759efba",
   "display_name": "Python 3.8.1 64-bit ('taller2': pipenv)"
  }
 },
 "cells": [
  {
   "cell_type": "code",
   "execution_count": 1,
   "metadata": {},
   "outputs": [],
   "source": [
    "#import seaborn as sns\n",
    "import numpy as np\n",
    "import pandas as pd\n",
    "\n",
    "from surprise import Reader\n",
    "from surprise import Dataset\n",
    "from surprise import accuracy\n",
    "from surprise.model_selection import train_test_split\n",
    "from surprise import SVD\n",
    "\n",
    "from sklearn.metrics import pairwise_distances\n",
    "\n",
    "import pymongo\n",
    "from pymongo import MongoClient"
   ]
  },
  {
   "cell_type": "code",
   "execution_count": 2,
   "metadata": {},
   "outputs": [],
   "source": [
    "# Initialize mongoDB client\n",
    "client = MongoClient()\n",
    "db = client.yelp"
   ]
  },
  {
   "cell_type": "code",
   "execution_count": 5,
   "metadata": {},
   "outputs": [],
   "source": [
    "# Gather businesses data from DB\n",
    "# create new collection with split categories\n",
    "db.temp_businesses.drop()\n",
    "agr = [{'$project': {'business_id':1,'name':1,'address':1,'city':1,'state':1,'postal_code':1,'latitude':1,'longitude':1,'stars':1,'review_count':1,'is_open':1,'attributes':1,'categories': {'$split':[\"$categories\",\",\"]},'hours':1}},{'$out': 'temp_businesses'}]\n",
    "businesses_agr = db.businesses.aggregate(agr)\n",
    "businesses_collection = db.temp_businesses\n",
    "businesses_df = pd.DataFrame(list(businesses_collection.find()))\n",
    "businesses_count = businesses_df.shape[0]"
   ]
  },
  {
   "cell_type": "code",
   "execution_count": 6,
   "metadata": {},
   "outputs": [
    {
     "output_type": "execute_result",
     "data": {
      "text/plain": "_id                                      5e9664676f14ef773b7c8847\nbusiness_id                                ITRBrOOVQJEgc5dbxV1Bbw\nname                                         La Flor De Michoacan\naddress                                       9550 W Van Buren St\ncity                                                     Tolleson\nstate                                                          AZ\npostal_code                                                 85353\nlatitude                                                  33.4509\nlongitude                                                -112.265\nstars                                                         3.5\nreview_count                                                   26\nis_open                                                         0\nattributes      {'BikeParking': 'False', 'RestaurantsReservati...\nhours           {'Monday': '6:0-22:0', 'Tuesday': '6:0-22:0', ...\ncategories                                [Restaurants,  Mexican]\nName: 110077, dtype: object"
     },
     "metadata": {},
     "execution_count": 6
    }
   ],
   "source": [
    "# Obtain random business from businesses dataframe\n",
    "random_number = np.random.randint(1,businesses_count)\n",
    "business = businesses_df.iloc[random_number]\n",
    "business"
   ]
  },
  {
   "cell_type": "code",
   "execution_count": 7,
   "metadata": {},
   "outputs": [],
   "source": [
    "# Get categories array\n",
    "categories = business.get('categories')"
   ]
  },
  {
   "cell_type": "code",
   "execution_count": 8,
   "metadata": {},
   "outputs": [],
   "source": [
    "# Get Businesses in categories ($all for all in categories, $in for any in categories)\n",
    "businesses_in_categories_df = pd.DataFrame(list(businesses_collection.find({ \"categories\": {\"$all\": categories} })))\n",
    "business_ids_in_categories = businesses_in_categories_df['business_id'].tolist()"
   ]
  },
  {
   "cell_type": "code",
   "execution_count": 9,
   "metadata": {},
   "outputs": [],
   "source": [
    "# Now obtain all useful (greater than zero) reviews from the group of businesses_in_categories_df\n",
    "reviews_df = pd.DataFrame(list(db.reviews.find({'business_id': {'$in': business_ids_in_categories}, 'useful': {'$gt': 0}})))\n",
    "reviews_df.stars = reviews_df.stars.astype('int')"
   ]
  },
  {
   "cell_type": "code",
   "execution_count": 10,
   "metadata": {},
   "outputs": [],
   "source": [
    "# Create Surprise data\n",
    "reader = Reader( rating_scale= (1,5))\n",
    "surprise_dataset = Dataset.load_from_df(reviews_df[['business_id','user_id','stars']], reader)\n",
    "train_set, test_set = train_test_split(surprise_dataset, test_size=.2)"
   ]
  },
  {
   "cell_type": "code",
   "execution_count": 11,
   "metadata": {},
   "outputs": [
    {
     "output_type": "execute_result",
     "data": {
      "text/plain": "<surprise.prediction_algorithms.matrix_factorization.SVD at 0x177e26eb0>"
     },
     "metadata": {},
     "execution_count": 11
    }
   ],
   "source": [
    "# Setup algorithm using SVD\n",
    "svd = SVD( n_factors = 5, n_epochs = 200, biased = True, lr_all = 0.005, reg_all = 0, init_mean = 0, init_std_dev = 0.01, verbose = False )\n",
    "svd.fit(train_set)"
   ]
  },
  {
   "cell_type": "code",
   "execution_count": 12,
   "metadata": {},
   "outputs": [],
   "source": [
    "# Obtain pu matrix and get our business vector\n",
    "pu = svd.pu\n",
    "business_vector_innerid = train_set.to_inner_uid(business.get('business_id'))\n",
    "business_vector = pu[business_vector_innerid]"
   ]
  },
  {
   "cell_type": "code",
   "execution_count": 13,
   "metadata": {},
   "outputs": [],
   "source": [
    "# Calculate the euclidean distance between our business and everything else\n",
    "distances = pairwise_distances(pu,business_vector.reshape(1, -1),'euclidean')\n",
    "# Obtain an indirect array with the indices of the sorted distances array\n",
    "ordered_distances_index = np.argsort(distances.flatten())"
   ]
  },
  {
   "cell_type": "code",
   "execution_count": 14,
   "metadata": {},
   "outputs": [],
   "source": [
    "# If number of neighbours is greater than number_of_neighbours, return first number_of_neighbours, otherwise return what we have\n",
    "number_of_neighbours = 10\n",
    "neighbour_indices = []\n",
    "if ordered_distances_index.shape[0] > number_of_neighbours:\n",
    "    neighbour_indices = ordered_distances_index[1:number_of_neighbours+1]\n",
    "else:\n",
    "    neighbour_indices = ordered_distances_index"
   ]
  },
  {
   "cell_type": "code",
   "execution_count": 15,
   "metadata": {},
   "outputs": [],
   "source": [
    "# Get neighbour ids of selected business\n",
    "business_neighbours_ids = (train_set.to_raw_uid(rid) for rid in neighbour_indices)\n",
    "business_neighbours = []\n",
    "for neighbour in business_neighbours_ids:\n",
    "    business_neighbours.append(neighbour)"
   ]
  },
  {
   "cell_type": "code",
   "execution_count": 44,
   "metadata": {},
   "outputs": [
    {
     "output_type": "execute_result",
     "data": {
      "text/plain": "                        _id             business_id  \\\n0  5e96645d6f14ef773b7b3e43  lJh661dhjD5BDz5QrBEUeQ   \n1  5e96645e6f14ef773b7b5844  luOWGdtAfsbrZ5kC_cjuYA   \n2  5e9664616f14ef773b7baec5  fZzgTEHDElm_R6gsYxmeBw   \n3  5e9664676f14ef773b7c8a4d  UhyDVz7npxKUl9BfMpfmBw   \n4  5e9664676f14ef773b7c9dba  036SeqOKaKx89Liw5RDKqA   \n5  5e9664686f14ef773b7ccf13  ThCqEavXwVOQu7t5LsITdw   \n6  5e9664696f14ef773b7cd3ba  L_X5eAd4moE40AsX6Havhg   \n7  5e9664696f14ef773b7cefba  SVu6fPieP5noUcCWRUdfag   \n8  5e96646f6f14ef773b7dd4c6  uhroo5AV1dcCHpI6ZQIj8w   \n9  5e96646f6f14ef773b7df1a1  nSD-uxCMb745bH3dxoko9Q   \n\n                                 name                          address  \\\n0            Filiberto's Mexican Food            3855 W. Ray Rd, Ste 8   \n1     Ayala's AZ Kitchen Mexican Cafe                8427 W Peoria Ave   \n2            San Diego Bay Restaurant  9201 S Avenida Del Yaqui, Ste 6   \n3  Frijoles and Frescas Grilled Tacos                  4300 Meadows Ln   \n4            Francisco's Mexican Food    3233 E Chandler Blvd, Ste 6-A   \n5                               Migos               1821 W Baseline Rd   \n6                  1900 Mexican Grill                  5110-1E Park Rd   \n7                          Maskadores         1229 S Power Rd, Ste 102   \n8               Rubio's Coastal Grill         884 W Warner Rd, Ste B-8   \n9                           Taco Bell                     2453 Hwy 160   \n\n        city state postal_code   latitude   longitude  stars  review_count  \\\n0   Chandler    AZ       85226  33.319328 -111.907414    3.0            44   \n1     Peoria    AZ       85345  33.581088 -112.240497    4.0            35   \n2  Guadalupe    AZ       85283  33.363353 -111.962867    4.0           102   \n3  Las Vegas    NV       89107  36.172544 -115.195724    3.5            34   \n4    Phoenix    AZ       85048  33.304277 -112.012534    3.5            40   \n5  Guadalupe    AZ       85283  33.377776 -111.966816    3.5            21   \n6  Charlotte    NC       28209  35.161133  -80.849282    3.5           112   \n7       Mesa    AZ       85206  33.392657 -111.683878    4.5           112   \n8    Gilbert    AZ       85233  33.335917 -111.808875    3.5            90   \n9   Tega Cay    SC       29708  35.049670  -80.990630    2.5            37   \n\n   is_open                                         attributes  \\\n0        1  {'NoiseLevel': 'u'average'', 'BusinessParking'...   \n1        0  {'Caters': 'True', 'BikeParking': 'True', 'Out...   \n2        1  {'WiFi': ''no'', 'BikeParking': 'True', 'Resta...   \n3        1  {'BikeParking': 'True', 'OutdoorSeating': 'Fal...   \n4        1  {'Ambience': '{'touristy': False, 'hipster': F...   \n5        0  {'RestaurantsReservations': 'True', 'Ambience'...   \n6        1  {'Alcohol': 'u'full_bar'', 'BikeParking': 'Tru...   \n7        1  {'RestaurantsTakeOut': 'True', 'Alcohol': ''no...   \n8        1  {'WiFi': ''no'', 'GoodForKids': 'True', 'Resta...   \n9        1  {'RestaurantsTakeOut': 'True', 'RestaurantsGoo...   \n\n                                               hours  \\\n0  {'Monday': '6:30-22:0', 'Tuesday': '6:30-22:0'...   \n1  {'Monday': '11:0-20:0', 'Tuesday': '11:0-20:0'...   \n2  {'Monday': '0:0-0:0', 'Tuesday': '11:0-21:0', ...   \n3  {'Monday': '10:30-21:0', 'Tuesday': '10:30-21:...   \n4  {'Monday': '8:0-20:0', 'Tuesday': '8:0-20:0', ...   \n5  {'Monday': '11:0-22:0', 'Tuesday': '11:0-22:0'...   \n6  {'Monday': '11:0-22:0', 'Tuesday': '11:0-22:0'...   \n7  {'Monday': '10:0-20:0', 'Tuesday': '10:0-20:0'...   \n8  {'Monday': '10:0-21:30', 'Tuesday': '10:0-21:3...   \n9  {'Monday': '7:0-1:0', 'Tuesday': '7:0-1:0', 'W...   \n\n                                          categories  \n0                            [Restaurants,  Mexican]  \n1                            [Restaurants,  Mexican]  \n2                  [Restaurants,  Mexican,  Seafood]  \n3               [Restaurants,  Mexican,  Food Court]  \n4                            [Restaurants,  Mexican]  \n5                            [Restaurants,  Mexican]  \n6                            [Restaurants,  Mexican]  \n7                    [Restaurants,  Mexican,  Tacos]  \n8  [Restaurants,  Salad,  Caterers,  Mexican,  Se...  \n9  [Restaurants,  Fast Food,  Tex-Mex,  Mexican, ...  ",
      "text/html": "<div>\n<style scoped>\n    .dataframe tbody tr th:only-of-type {\n        vertical-align: middle;\n    }\n\n    .dataframe tbody tr th {\n        vertical-align: top;\n    }\n\n    .dataframe thead th {\n        text-align: right;\n    }\n</style>\n<table border=\"1\" class=\"dataframe\">\n  <thead>\n    <tr style=\"text-align: right;\">\n      <th></th>\n      <th>_id</th>\n      <th>business_id</th>\n      <th>name</th>\n      <th>address</th>\n      <th>city</th>\n      <th>state</th>\n      <th>postal_code</th>\n      <th>latitude</th>\n      <th>longitude</th>\n      <th>stars</th>\n      <th>review_count</th>\n      <th>is_open</th>\n      <th>attributes</th>\n      <th>hours</th>\n      <th>categories</th>\n    </tr>\n  </thead>\n  <tbody>\n    <tr>\n      <th>0</th>\n      <td>5e96645d6f14ef773b7b3e43</td>\n      <td>lJh661dhjD5BDz5QrBEUeQ</td>\n      <td>Filiberto's Mexican Food</td>\n      <td>3855 W. Ray Rd, Ste 8</td>\n      <td>Chandler</td>\n      <td>AZ</td>\n      <td>85226</td>\n      <td>33.319328</td>\n      <td>-111.907414</td>\n      <td>3.0</td>\n      <td>44</td>\n      <td>1</td>\n      <td>{'NoiseLevel': 'u'average'', 'BusinessParking'...</td>\n      <td>{'Monday': '6:30-22:0', 'Tuesday': '6:30-22:0'...</td>\n      <td>[Restaurants,  Mexican]</td>\n    </tr>\n    <tr>\n      <th>1</th>\n      <td>5e96645e6f14ef773b7b5844</td>\n      <td>luOWGdtAfsbrZ5kC_cjuYA</td>\n      <td>Ayala's AZ Kitchen Mexican Cafe</td>\n      <td>8427 W Peoria Ave</td>\n      <td>Peoria</td>\n      <td>AZ</td>\n      <td>85345</td>\n      <td>33.581088</td>\n      <td>-112.240497</td>\n      <td>4.0</td>\n      <td>35</td>\n      <td>0</td>\n      <td>{'Caters': 'True', 'BikeParking': 'True', 'Out...</td>\n      <td>{'Monday': '11:0-20:0', 'Tuesday': '11:0-20:0'...</td>\n      <td>[Restaurants,  Mexican]</td>\n    </tr>\n    <tr>\n      <th>2</th>\n      <td>5e9664616f14ef773b7baec5</td>\n      <td>fZzgTEHDElm_R6gsYxmeBw</td>\n      <td>San Diego Bay Restaurant</td>\n      <td>9201 S Avenida Del Yaqui, Ste 6</td>\n      <td>Guadalupe</td>\n      <td>AZ</td>\n      <td>85283</td>\n      <td>33.363353</td>\n      <td>-111.962867</td>\n      <td>4.0</td>\n      <td>102</td>\n      <td>1</td>\n      <td>{'WiFi': ''no'', 'BikeParking': 'True', 'Resta...</td>\n      <td>{'Monday': '0:0-0:0', 'Tuesday': '11:0-21:0', ...</td>\n      <td>[Restaurants,  Mexican,  Seafood]</td>\n    </tr>\n    <tr>\n      <th>3</th>\n      <td>5e9664676f14ef773b7c8a4d</td>\n      <td>UhyDVz7npxKUl9BfMpfmBw</td>\n      <td>Frijoles and Frescas Grilled Tacos</td>\n      <td>4300 Meadows Ln</td>\n      <td>Las Vegas</td>\n      <td>NV</td>\n      <td>89107</td>\n      <td>36.172544</td>\n      <td>-115.195724</td>\n      <td>3.5</td>\n      <td>34</td>\n      <td>1</td>\n      <td>{'BikeParking': 'True', 'OutdoorSeating': 'Fal...</td>\n      <td>{'Monday': '10:30-21:0', 'Tuesday': '10:30-21:...</td>\n      <td>[Restaurants,  Mexican,  Food Court]</td>\n    </tr>\n    <tr>\n      <th>4</th>\n      <td>5e9664676f14ef773b7c9dba</td>\n      <td>036SeqOKaKx89Liw5RDKqA</td>\n      <td>Francisco's Mexican Food</td>\n      <td>3233 E Chandler Blvd, Ste 6-A</td>\n      <td>Phoenix</td>\n      <td>AZ</td>\n      <td>85048</td>\n      <td>33.304277</td>\n      <td>-112.012534</td>\n      <td>3.5</td>\n      <td>40</td>\n      <td>1</td>\n      <td>{'Ambience': '{'touristy': False, 'hipster': F...</td>\n      <td>{'Monday': '8:0-20:0', 'Tuesday': '8:0-20:0', ...</td>\n      <td>[Restaurants,  Mexican]</td>\n    </tr>\n    <tr>\n      <th>5</th>\n      <td>5e9664686f14ef773b7ccf13</td>\n      <td>ThCqEavXwVOQu7t5LsITdw</td>\n      <td>Migos</td>\n      <td>1821 W Baseline Rd</td>\n      <td>Guadalupe</td>\n      <td>AZ</td>\n      <td>85283</td>\n      <td>33.377776</td>\n      <td>-111.966816</td>\n      <td>3.5</td>\n      <td>21</td>\n      <td>0</td>\n      <td>{'RestaurantsReservations': 'True', 'Ambience'...</td>\n      <td>{'Monday': '11:0-22:0', 'Tuesday': '11:0-22:0'...</td>\n      <td>[Restaurants,  Mexican]</td>\n    </tr>\n    <tr>\n      <th>6</th>\n      <td>5e9664696f14ef773b7cd3ba</td>\n      <td>L_X5eAd4moE40AsX6Havhg</td>\n      <td>1900 Mexican Grill</td>\n      <td>5110-1E Park Rd</td>\n      <td>Charlotte</td>\n      <td>NC</td>\n      <td>28209</td>\n      <td>35.161133</td>\n      <td>-80.849282</td>\n      <td>3.5</td>\n      <td>112</td>\n      <td>1</td>\n      <td>{'Alcohol': 'u'full_bar'', 'BikeParking': 'Tru...</td>\n      <td>{'Monday': '11:0-22:0', 'Tuesday': '11:0-22:0'...</td>\n      <td>[Restaurants,  Mexican]</td>\n    </tr>\n    <tr>\n      <th>7</th>\n      <td>5e9664696f14ef773b7cefba</td>\n      <td>SVu6fPieP5noUcCWRUdfag</td>\n      <td>Maskadores</td>\n      <td>1229 S Power Rd, Ste 102</td>\n      <td>Mesa</td>\n      <td>AZ</td>\n      <td>85206</td>\n      <td>33.392657</td>\n      <td>-111.683878</td>\n      <td>4.5</td>\n      <td>112</td>\n      <td>1</td>\n      <td>{'RestaurantsTakeOut': 'True', 'Alcohol': ''no...</td>\n      <td>{'Monday': '10:0-20:0', 'Tuesday': '10:0-20:0'...</td>\n      <td>[Restaurants,  Mexican,  Tacos]</td>\n    </tr>\n    <tr>\n      <th>8</th>\n      <td>5e96646f6f14ef773b7dd4c6</td>\n      <td>uhroo5AV1dcCHpI6ZQIj8w</td>\n      <td>Rubio's Coastal Grill</td>\n      <td>884 W Warner Rd, Ste B-8</td>\n      <td>Gilbert</td>\n      <td>AZ</td>\n      <td>85233</td>\n      <td>33.335917</td>\n      <td>-111.808875</td>\n      <td>3.5</td>\n      <td>90</td>\n      <td>1</td>\n      <td>{'WiFi': ''no'', 'GoodForKids': 'True', 'Resta...</td>\n      <td>{'Monday': '10:0-21:30', 'Tuesday': '10:0-21:3...</td>\n      <td>[Restaurants,  Salad,  Caterers,  Mexican,  Se...</td>\n    </tr>\n    <tr>\n      <th>9</th>\n      <td>5e96646f6f14ef773b7df1a1</td>\n      <td>nSD-uxCMb745bH3dxoko9Q</td>\n      <td>Taco Bell</td>\n      <td>2453 Hwy 160</td>\n      <td>Tega Cay</td>\n      <td>SC</td>\n      <td>29708</td>\n      <td>35.049670</td>\n      <td>-80.990630</td>\n      <td>2.5</td>\n      <td>37</td>\n      <td>1</td>\n      <td>{'RestaurantsTakeOut': 'True', 'RestaurantsGoo...</td>\n      <td>{'Monday': '7:0-1:0', 'Tuesday': '7:0-1:0', 'W...</td>\n      <td>[Restaurants,  Fast Food,  Tex-Mex,  Mexican, ...</td>\n    </tr>\n  </tbody>\n</table>\n</div>"
     },
     "metadata": {},
     "execution_count": 44
    }
   ],
   "source": [
    "# Query business ids to obtain dataframe of neighbours\n",
    "businesses_neighbours_df = pd.DataFrame(list(businesses_collection.find({ \"business_id\": {\"$in\": business_neighbours} })))\n",
    "businesses_neighbours_df"
   ]
  },
  {
   "cell_type": "markdown",
   "metadata": {},
   "source": [
    "## Export busines records to line separated json"
   ]
  },
  {
   "cell_type": "code",
   "execution_count": 47,
   "metadata": {},
   "outputs": [
    {
     "output_type": "execute_result",
     "data": {
      "text/plain": "                        _id             business_id  \\\n0  5e96645d6f14ef773b7b3e43  lJh661dhjD5BDz5QrBEUeQ   \n1  5e96645e6f14ef773b7b5844  luOWGdtAfsbrZ5kC_cjuYA   \n2  5e9664616f14ef773b7baec5  fZzgTEHDElm_R6gsYxmeBw   \n3  5e9664676f14ef773b7c8a4d  UhyDVz7npxKUl9BfMpfmBw   \n4  5e9664676f14ef773b7c9dba  036SeqOKaKx89Liw5RDKqA   \n5  5e9664686f14ef773b7ccf13  ThCqEavXwVOQu7t5LsITdw   \n6  5e9664696f14ef773b7cd3ba  L_X5eAd4moE40AsX6Havhg   \n7  5e9664696f14ef773b7cefba  SVu6fPieP5noUcCWRUdfag   \n8  5e96646f6f14ef773b7dd4c6  uhroo5AV1dcCHpI6ZQIj8w   \n9  5e96646f6f14ef773b7df1a1  nSD-uxCMb745bH3dxoko9Q   \n\n                                 name                          address  \\\n0            Filiberto's Mexican Food            3855 W. Ray Rd, Ste 8   \n1     Ayala's AZ Kitchen Mexican Cafe                8427 W Peoria Ave   \n2            San Diego Bay Restaurant  9201 S Avenida Del Yaqui, Ste 6   \n3  Frijoles and Frescas Grilled Tacos                  4300 Meadows Ln   \n4            Francisco's Mexican Food    3233 E Chandler Blvd, Ste 6-A   \n5                               Migos               1821 W Baseline Rd   \n6                  1900 Mexican Grill                  5110-1E Park Rd   \n7                          Maskadores         1229 S Power Rd, Ste 102   \n8               Rubio's Coastal Grill         884 W Warner Rd, Ste B-8   \n9                           Taco Bell                     2453 Hwy 160   \n\n        city state postal_code   latitude   longitude  stars  review_count  \\\n0   Chandler    AZ       85226  33.319328 -111.907414    3.0            44   \n1     Peoria    AZ       85345  33.581088 -112.240497    4.0            35   \n2  Guadalupe    AZ       85283  33.363353 -111.962867    4.0           102   \n3  Las Vegas    NV       89107  36.172544 -115.195724    3.5            34   \n4    Phoenix    AZ       85048  33.304277 -112.012534    3.5            40   \n5  Guadalupe    AZ       85283  33.377776 -111.966816    3.5            21   \n6  Charlotte    NC       28209  35.161133  -80.849282    3.5           112   \n7       Mesa    AZ       85206  33.392657 -111.683878    4.5           112   \n8    Gilbert    AZ       85233  33.335917 -111.808875    3.5            90   \n9   Tega Cay    SC       29708  35.049670  -80.990630    2.5            37   \n\n   is_open                                         attributes  \\\n0        1  {'NoiseLevel': 'u'average'', 'BusinessParking'...   \n1        0  {'Caters': 'True', 'BikeParking': 'True', 'Out...   \n2        1  {'WiFi': ''no'', 'BikeParking': 'True', 'Resta...   \n3        1  {'BikeParking': 'True', 'OutdoorSeating': 'Fal...   \n4        1  {'Ambience': '{'touristy': False, 'hipster': F...   \n5        0  {'RestaurantsReservations': 'True', 'Ambience'...   \n6        1  {'Alcohol': 'u'full_bar'', 'BikeParking': 'Tru...   \n7        1  {'RestaurantsTakeOut': 'True', 'Alcohol': ''no...   \n8        1  {'WiFi': ''no'', 'GoodForKids': 'True', 'Resta...   \n9        1  {'RestaurantsTakeOut': 'True', 'RestaurantsGoo...   \n\n                                               hours  \\\n0  {'Monday': '6:30-22:0', 'Tuesday': '6:30-22:0'...   \n1  {'Monday': '11:0-20:0', 'Tuesday': '11:0-20:0'...   \n2  {'Monday': '0:0-0:0', 'Tuesday': '11:0-21:0', ...   \n3  {'Monday': '10:30-21:0', 'Tuesday': '10:30-21:...   \n4  {'Monday': '8:0-20:0', 'Tuesday': '8:0-20:0', ...   \n5  {'Monday': '11:0-22:0', 'Tuesday': '11:0-22:0'...   \n6  {'Monday': '11:0-22:0', 'Tuesday': '11:0-22:0'...   \n7  {'Monday': '10:0-20:0', 'Tuesday': '10:0-20:0'...   \n8  {'Monday': '10:0-21:30', 'Tuesday': '10:0-21:3...   \n9  {'Monday': '7:0-1:0', 'Tuesday': '7:0-1:0', 'W...   \n\n                                          categories  \n0                            [Restaurants,  Mexican]  \n1                            [Restaurants,  Mexican]  \n2                  [Restaurants,  Mexican,  Seafood]  \n3               [Restaurants,  Mexican,  Food Court]  \n4                            [Restaurants,  Mexican]  \n5                            [Restaurants,  Mexican]  \n6                            [Restaurants,  Mexican]  \n7                    [Restaurants,  Mexican,  Tacos]  \n8  [Restaurants,  Salad,  Caterers,  Mexican,  Se...  \n9  [Restaurants,  Fast Food,  Tex-Mex,  Mexican, ...  ",
      "text/html": "<div>\n<style scoped>\n    .dataframe tbody tr th:only-of-type {\n        vertical-align: middle;\n    }\n\n    .dataframe tbody tr th {\n        vertical-align: top;\n    }\n\n    .dataframe thead th {\n        text-align: right;\n    }\n</style>\n<table border=\"1\" class=\"dataframe\">\n  <thead>\n    <tr style=\"text-align: right;\">\n      <th></th>\n      <th>_id</th>\n      <th>business_id</th>\n      <th>name</th>\n      <th>address</th>\n      <th>city</th>\n      <th>state</th>\n      <th>postal_code</th>\n      <th>latitude</th>\n      <th>longitude</th>\n      <th>stars</th>\n      <th>review_count</th>\n      <th>is_open</th>\n      <th>attributes</th>\n      <th>hours</th>\n      <th>categories</th>\n    </tr>\n  </thead>\n  <tbody>\n    <tr>\n      <th>0</th>\n      <td>5e96645d6f14ef773b7b3e43</td>\n      <td>lJh661dhjD5BDz5QrBEUeQ</td>\n      <td>Filiberto's Mexican Food</td>\n      <td>3855 W. Ray Rd, Ste 8</td>\n      <td>Chandler</td>\n      <td>AZ</td>\n      <td>85226</td>\n      <td>33.319328</td>\n      <td>-111.907414</td>\n      <td>3.0</td>\n      <td>44</td>\n      <td>1</td>\n      <td>{'NoiseLevel': 'u'average'', 'BusinessParking'...</td>\n      <td>{'Monday': '6:30-22:0', 'Tuesday': '6:30-22:0'...</td>\n      <td>[Restaurants,  Mexican]</td>\n    </tr>\n    <tr>\n      <th>1</th>\n      <td>5e96645e6f14ef773b7b5844</td>\n      <td>luOWGdtAfsbrZ5kC_cjuYA</td>\n      <td>Ayala's AZ Kitchen Mexican Cafe</td>\n      <td>8427 W Peoria Ave</td>\n      <td>Peoria</td>\n      <td>AZ</td>\n      <td>85345</td>\n      <td>33.581088</td>\n      <td>-112.240497</td>\n      <td>4.0</td>\n      <td>35</td>\n      <td>0</td>\n      <td>{'Caters': 'True', 'BikeParking': 'True', 'Out...</td>\n      <td>{'Monday': '11:0-20:0', 'Tuesday': '11:0-20:0'...</td>\n      <td>[Restaurants,  Mexican]</td>\n    </tr>\n    <tr>\n      <th>2</th>\n      <td>5e9664616f14ef773b7baec5</td>\n      <td>fZzgTEHDElm_R6gsYxmeBw</td>\n      <td>San Diego Bay Restaurant</td>\n      <td>9201 S Avenida Del Yaqui, Ste 6</td>\n      <td>Guadalupe</td>\n      <td>AZ</td>\n      <td>85283</td>\n      <td>33.363353</td>\n      <td>-111.962867</td>\n      <td>4.0</td>\n      <td>102</td>\n      <td>1</td>\n      <td>{'WiFi': ''no'', 'BikeParking': 'True', 'Resta...</td>\n      <td>{'Monday': '0:0-0:0', 'Tuesday': '11:0-21:0', ...</td>\n      <td>[Restaurants,  Mexican,  Seafood]</td>\n    </tr>\n    <tr>\n      <th>3</th>\n      <td>5e9664676f14ef773b7c8a4d</td>\n      <td>UhyDVz7npxKUl9BfMpfmBw</td>\n      <td>Frijoles and Frescas Grilled Tacos</td>\n      <td>4300 Meadows Ln</td>\n      <td>Las Vegas</td>\n      <td>NV</td>\n      <td>89107</td>\n      <td>36.172544</td>\n      <td>-115.195724</td>\n      <td>3.5</td>\n      <td>34</td>\n      <td>1</td>\n      <td>{'BikeParking': 'True', 'OutdoorSeating': 'Fal...</td>\n      <td>{'Monday': '10:30-21:0', 'Tuesday': '10:30-21:...</td>\n      <td>[Restaurants,  Mexican,  Food Court]</td>\n    </tr>\n    <tr>\n      <th>4</th>\n      <td>5e9664676f14ef773b7c9dba</td>\n      <td>036SeqOKaKx89Liw5RDKqA</td>\n      <td>Francisco's Mexican Food</td>\n      <td>3233 E Chandler Blvd, Ste 6-A</td>\n      <td>Phoenix</td>\n      <td>AZ</td>\n      <td>85048</td>\n      <td>33.304277</td>\n      <td>-112.012534</td>\n      <td>3.5</td>\n      <td>40</td>\n      <td>1</td>\n      <td>{'Ambience': '{'touristy': False, 'hipster': F...</td>\n      <td>{'Monday': '8:0-20:0', 'Tuesday': '8:0-20:0', ...</td>\n      <td>[Restaurants,  Mexican]</td>\n    </tr>\n    <tr>\n      <th>5</th>\n      <td>5e9664686f14ef773b7ccf13</td>\n      <td>ThCqEavXwVOQu7t5LsITdw</td>\n      <td>Migos</td>\n      <td>1821 W Baseline Rd</td>\n      <td>Guadalupe</td>\n      <td>AZ</td>\n      <td>85283</td>\n      <td>33.377776</td>\n      <td>-111.966816</td>\n      <td>3.5</td>\n      <td>21</td>\n      <td>0</td>\n      <td>{'RestaurantsReservations': 'True', 'Ambience'...</td>\n      <td>{'Monday': '11:0-22:0', 'Tuesday': '11:0-22:0'...</td>\n      <td>[Restaurants,  Mexican]</td>\n    </tr>\n    <tr>\n      <th>6</th>\n      <td>5e9664696f14ef773b7cd3ba</td>\n      <td>L_X5eAd4moE40AsX6Havhg</td>\n      <td>1900 Mexican Grill</td>\n      <td>5110-1E Park Rd</td>\n      <td>Charlotte</td>\n      <td>NC</td>\n      <td>28209</td>\n      <td>35.161133</td>\n      <td>-80.849282</td>\n      <td>3.5</td>\n      <td>112</td>\n      <td>1</td>\n      <td>{'Alcohol': 'u'full_bar'', 'BikeParking': 'Tru...</td>\n      <td>{'Monday': '11:0-22:0', 'Tuesday': '11:0-22:0'...</td>\n      <td>[Restaurants,  Mexican]</td>\n    </tr>\n    <tr>\n      <th>7</th>\n      <td>5e9664696f14ef773b7cefba</td>\n      <td>SVu6fPieP5noUcCWRUdfag</td>\n      <td>Maskadores</td>\n      <td>1229 S Power Rd, Ste 102</td>\n      <td>Mesa</td>\n      <td>AZ</td>\n      <td>85206</td>\n      <td>33.392657</td>\n      <td>-111.683878</td>\n      <td>4.5</td>\n      <td>112</td>\n      <td>1</td>\n      <td>{'RestaurantsTakeOut': 'True', 'Alcohol': ''no...</td>\n      <td>{'Monday': '10:0-20:0', 'Tuesday': '10:0-20:0'...</td>\n      <td>[Restaurants,  Mexican,  Tacos]</td>\n    </tr>\n    <tr>\n      <th>8</th>\n      <td>5e96646f6f14ef773b7dd4c6</td>\n      <td>uhroo5AV1dcCHpI6ZQIj8w</td>\n      <td>Rubio's Coastal Grill</td>\n      <td>884 W Warner Rd, Ste B-8</td>\n      <td>Gilbert</td>\n      <td>AZ</td>\n      <td>85233</td>\n      <td>33.335917</td>\n      <td>-111.808875</td>\n      <td>3.5</td>\n      <td>90</td>\n      <td>1</td>\n      <td>{'WiFi': ''no'', 'GoodForKids': 'True', 'Resta...</td>\n      <td>{'Monday': '10:0-21:30', 'Tuesday': '10:0-21:3...</td>\n      <td>[Restaurants,  Salad,  Caterers,  Mexican,  Se...</td>\n    </tr>\n    <tr>\n      <th>9</th>\n      <td>5e96646f6f14ef773b7df1a1</td>\n      <td>nSD-uxCMb745bH3dxoko9Q</td>\n      <td>Taco Bell</td>\n      <td>2453 Hwy 160</td>\n      <td>Tega Cay</td>\n      <td>SC</td>\n      <td>29708</td>\n      <td>35.049670</td>\n      <td>-80.990630</td>\n      <td>2.5</td>\n      <td>37</td>\n      <td>1</td>\n      <td>{'RestaurantsTakeOut': 'True', 'RestaurantsGoo...</td>\n      <td>{'Monday': '7:0-1:0', 'Tuesday': '7:0-1:0', 'W...</td>\n      <td>[Restaurants,  Fast Food,  Tex-Mex,  Mexican, ...</td>\n    </tr>\n  </tbody>\n</table>\n</div>"
     },
     "metadata": {},
     "execution_count": 47
    }
   ],
   "source": [
    "businesses_records = businesses_neighbours_df.astype({'_id': 'str'})\n",
    "businesses_records"
   ]
  },
  {
   "cell_type": "code",
   "execution_count": 55,
   "metadata": {},
   "outputs": [],
   "source": [
    "businesses_records.to_json('../data/businesses_neighbours.json', orient='records', lines=True)"
   ]
  },
  {
   "cell_type": "markdown",
   "metadata": {},
   "source": [
    "## Export reviews of the selected businesses"
   ]
  },
  {
   "cell_type": "code",
   "execution_count": 56,
   "metadata": {},
   "outputs": [
    {
     "output_type": "execute_result",
     "data": {
      "text/plain": "                          _id               review_id                 user_id  \\\n0    5e9664b23b612dc2f0f009d3  KJ7I6unUOtO4Af8DRGBvCw  8vFdPfwvSrRriEzuRHLQDg   \n1    5e9664b33b612dc2f0f00b87  YI8yUhoTTGbHyyhqtOry7w  NMQnFpYlj1I2z8niP0Td2w   \n2    5e9664b33b612dc2f0f03b58  q9DUuox-jmfAr80_tAjeTQ  C1uo5b6avxRDnppB1oDlzg   \n3    5e9664b53b612dc2f0f0f453  pyhQXENH7i05M2_PdAN-LA  qibGLHABNReGeJr2w4_8yQ   \n4    5e9664b53b612dc2f0f11232  QgCNyWwqo81lOAiPiYTzDQ  tA9wWXliXSWVEW9BgyxzVQ   \n..                        ...                     ...                     ...   \n644  5e9665ec3b612dc2f05e17b1  nvAoF1AITqDvU2KDuz2D4g  kD6-NcPbdQmRps1LY8ZLug   \n645  5e9665ec3b612dc2f05e3db9  TGlPnSNo5g8MTgNsaqLY1g  EgA6sMKj6xobNMoPrbiJOQ   \n646  5e9665ec3b612dc2f05e4f6f  wc3clQgMkjRSJikSCxiYbw  qK-CX0G2JEd8jWFNsVlsNw   \n647  5e9665ec3b612dc2f05e543f  esGRpWSmYJuIhPb95UpsPQ  -pTu1s6kecSICn96u2EAqA   \n648  5e9665ed3b612dc2f05e80e2  _IZQ5q2EPIm1SJZXbafqpg  D77GEwh2ChQQ1Ll_V2bASg   \n\n                business_id  stars  useful  funny  cool  \\\n0    luOWGdtAfsbrZ5kC_cjuYA    3.0       1      1     0   \n1    lJh661dhjD5BDz5QrBEUeQ    1.0       0      0     0   \n2    luOWGdtAfsbrZ5kC_cjuYA    5.0       2      0     1   \n3    lJh661dhjD5BDz5QrBEUeQ    3.0       3      2     3   \n4    lJh661dhjD5BDz5QrBEUeQ    4.0       1      0     1   \n..                      ...    ...     ...    ...   ...   \n644  nSD-uxCMb745bH3dxoko9Q    1.0       0      0     0   \n645  nSD-uxCMb745bH3dxoko9Q    1.0       1      1     0   \n646  uhroo5AV1dcCHpI6ZQIj8w    3.0       1      0     1   \n647  nSD-uxCMb745bH3dxoko9Q    5.0       0      0     0   \n648  uhroo5AV1dcCHpI6ZQIj8w    4.0       0      0     0   \n\n                                                  text                 date  \n0    Nice clean atmosphere set in s newly remodeled...  2014-10-27 01:51:18  \n1    I have lived in this area for 20 years and hav...  2014-08-10 20:34:33  \n2    Oh my gosh, the chimi w/ baja is the best ever...  2012-12-05 20:16:53  \n3    Not the best filbertos, but not the worst. I c...  2011-10-29 22:42:23  \n4    I have been craving Horchata ever since we mov...  2012-03-04 02:19:10  \n..                                                 ...                  ...  \n644  Rude and lazy employees that will claim their ...  2019-09-16 04:40:58  \n645  I go to this Taco Bell in Tega Cay because it'...  2018-09-08 01:58:42  \n646  I am not a fan of Mexican food but in general ...  2017-04-22 18:51:09  \n647  This Taco Bell went from the worst Taco Bell I...  2018-12-30 01:57:27  \n648  Love Rubios! Always a go-to on a busy night, I...  2017-08-30 18:29:02  \n\n[649 rows x 10 columns]",
      "text/html": "<div>\n<style scoped>\n    .dataframe tbody tr th:only-of-type {\n        vertical-align: middle;\n    }\n\n    .dataframe tbody tr th {\n        vertical-align: top;\n    }\n\n    .dataframe thead th {\n        text-align: right;\n    }\n</style>\n<table border=\"1\" class=\"dataframe\">\n  <thead>\n    <tr style=\"text-align: right;\">\n      <th></th>\n      <th>_id</th>\n      <th>review_id</th>\n      <th>user_id</th>\n      <th>business_id</th>\n      <th>stars</th>\n      <th>useful</th>\n      <th>funny</th>\n      <th>cool</th>\n      <th>text</th>\n      <th>date</th>\n    </tr>\n  </thead>\n  <tbody>\n    <tr>\n      <th>0</th>\n      <td>5e9664b23b612dc2f0f009d3</td>\n      <td>KJ7I6unUOtO4Af8DRGBvCw</td>\n      <td>8vFdPfwvSrRriEzuRHLQDg</td>\n      <td>luOWGdtAfsbrZ5kC_cjuYA</td>\n      <td>3.0</td>\n      <td>1</td>\n      <td>1</td>\n      <td>0</td>\n      <td>Nice clean atmosphere set in s newly remodeled...</td>\n      <td>2014-10-27 01:51:18</td>\n    </tr>\n    <tr>\n      <th>1</th>\n      <td>5e9664b33b612dc2f0f00b87</td>\n      <td>YI8yUhoTTGbHyyhqtOry7w</td>\n      <td>NMQnFpYlj1I2z8niP0Td2w</td>\n      <td>lJh661dhjD5BDz5QrBEUeQ</td>\n      <td>1.0</td>\n      <td>0</td>\n      <td>0</td>\n      <td>0</td>\n      <td>I have lived in this area for 20 years and hav...</td>\n      <td>2014-08-10 20:34:33</td>\n    </tr>\n    <tr>\n      <th>2</th>\n      <td>5e9664b33b612dc2f0f03b58</td>\n      <td>q9DUuox-jmfAr80_tAjeTQ</td>\n      <td>C1uo5b6avxRDnppB1oDlzg</td>\n      <td>luOWGdtAfsbrZ5kC_cjuYA</td>\n      <td>5.0</td>\n      <td>2</td>\n      <td>0</td>\n      <td>1</td>\n      <td>Oh my gosh, the chimi w/ baja is the best ever...</td>\n      <td>2012-12-05 20:16:53</td>\n    </tr>\n    <tr>\n      <th>3</th>\n      <td>5e9664b53b612dc2f0f0f453</td>\n      <td>pyhQXENH7i05M2_PdAN-LA</td>\n      <td>qibGLHABNReGeJr2w4_8yQ</td>\n      <td>lJh661dhjD5BDz5QrBEUeQ</td>\n      <td>3.0</td>\n      <td>3</td>\n      <td>2</td>\n      <td>3</td>\n      <td>Not the best filbertos, but not the worst. I c...</td>\n      <td>2011-10-29 22:42:23</td>\n    </tr>\n    <tr>\n      <th>4</th>\n      <td>5e9664b53b612dc2f0f11232</td>\n      <td>QgCNyWwqo81lOAiPiYTzDQ</td>\n      <td>tA9wWXliXSWVEW9BgyxzVQ</td>\n      <td>lJh661dhjD5BDz5QrBEUeQ</td>\n      <td>4.0</td>\n      <td>1</td>\n      <td>0</td>\n      <td>1</td>\n      <td>I have been craving Horchata ever since we mov...</td>\n      <td>2012-03-04 02:19:10</td>\n    </tr>\n    <tr>\n      <th>...</th>\n      <td>...</td>\n      <td>...</td>\n      <td>...</td>\n      <td>...</td>\n      <td>...</td>\n      <td>...</td>\n      <td>...</td>\n      <td>...</td>\n      <td>...</td>\n      <td>...</td>\n    </tr>\n    <tr>\n      <th>644</th>\n      <td>5e9665ec3b612dc2f05e17b1</td>\n      <td>nvAoF1AITqDvU2KDuz2D4g</td>\n      <td>kD6-NcPbdQmRps1LY8ZLug</td>\n      <td>nSD-uxCMb745bH3dxoko9Q</td>\n      <td>1.0</td>\n      <td>0</td>\n      <td>0</td>\n      <td>0</td>\n      <td>Rude and lazy employees that will claim their ...</td>\n      <td>2019-09-16 04:40:58</td>\n    </tr>\n    <tr>\n      <th>645</th>\n      <td>5e9665ec3b612dc2f05e3db9</td>\n      <td>TGlPnSNo5g8MTgNsaqLY1g</td>\n      <td>EgA6sMKj6xobNMoPrbiJOQ</td>\n      <td>nSD-uxCMb745bH3dxoko9Q</td>\n      <td>1.0</td>\n      <td>1</td>\n      <td>1</td>\n      <td>0</td>\n      <td>I go to this Taco Bell in Tega Cay because it'...</td>\n      <td>2018-09-08 01:58:42</td>\n    </tr>\n    <tr>\n      <th>646</th>\n      <td>5e9665ec3b612dc2f05e4f6f</td>\n      <td>wc3clQgMkjRSJikSCxiYbw</td>\n      <td>qK-CX0G2JEd8jWFNsVlsNw</td>\n      <td>uhroo5AV1dcCHpI6ZQIj8w</td>\n      <td>3.0</td>\n      <td>1</td>\n      <td>0</td>\n      <td>1</td>\n      <td>I am not a fan of Mexican food but in general ...</td>\n      <td>2017-04-22 18:51:09</td>\n    </tr>\n    <tr>\n      <th>647</th>\n      <td>5e9665ec3b612dc2f05e543f</td>\n      <td>esGRpWSmYJuIhPb95UpsPQ</td>\n      <td>-pTu1s6kecSICn96u2EAqA</td>\n      <td>nSD-uxCMb745bH3dxoko9Q</td>\n      <td>5.0</td>\n      <td>0</td>\n      <td>0</td>\n      <td>0</td>\n      <td>This Taco Bell went from the worst Taco Bell I...</td>\n      <td>2018-12-30 01:57:27</td>\n    </tr>\n    <tr>\n      <th>648</th>\n      <td>5e9665ed3b612dc2f05e80e2</td>\n      <td>_IZQ5q2EPIm1SJZXbafqpg</td>\n      <td>D77GEwh2ChQQ1Ll_V2bASg</td>\n      <td>uhroo5AV1dcCHpI6ZQIj8w</td>\n      <td>4.0</td>\n      <td>0</td>\n      <td>0</td>\n      <td>0</td>\n      <td>Love Rubios! Always a go-to on a busy night, I...</td>\n      <td>2017-08-30 18:29:02</td>\n    </tr>\n  </tbody>\n</table>\n<p>649 rows × 10 columns</p>\n</div>"
     },
     "metadata": {},
     "execution_count": 56
    }
   ],
   "source": [
    "businesses_neighbours_reviews_df = pd.DataFrame(list(db.reviews.find({ \"business_id\": {\"$in\": business_neighbours} })))\n",
    "businesses_neighbours_reviews_df"
   ]
  },
  {
   "cell_type": "code",
   "execution_count": 57,
   "metadata": {},
   "outputs": [],
   "source": [
    "businesses_neighbours_reviews_records = businesses_neighbours_reviews_df.astype({'_id': 'str'})\n",
    "businesses_neighbours_reviews_records.to_json('../data/businesses_neighbours_reviews.json', orient='records', lines=True)"
   ]
  },
  {
   "cell_type": "code",
   "execution_count": null,
   "metadata": {},
   "outputs": [],
   "source": []
  }
 ]
}