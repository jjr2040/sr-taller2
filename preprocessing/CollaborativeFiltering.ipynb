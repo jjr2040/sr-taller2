{
 "nbformat": 4,
 "nbformat_minor": 2,
 "metadata": {
  "language_info": {
   "name": "python",
   "codemirror_mode": {
    "name": "ipython",
    "version": 3
   },
   "version": "3.8.1-final"
  },
  "orig_nbformat": 2,
  "file_extension": ".py",
  "mimetype": "text/x-python",
  "name": "python",
  "npconvert_exporter": "python",
  "pygments_lexer": "ipython3",
  "version": 3,
  "kernelspec": {
   "name": "python38164bitsrtaller2pipenv30da1eb468864fed9ad846cdd1e7f177",
   "display_name": "Python 3.8.1 64-bit ('sr-taller2': pipenv)"
  }
 },
 "cells": [
  {
   "cell_type": "code",
   "execution_count": 1,
   "metadata": {},
   "outputs": [],
   "source": [
    "#import seaborn as sns\n",
    "import numpy as np\n",
    "import pandas as pd\n",
    "\n",
    "from surprise import Reader\n",
    "from surprise import Dataset\n",
    "from surprise import accuracy\n",
    "from surprise.model_selection import train_test_split\n",
    "from surprise import SVD\n",
    "\n",
    "from sklearn.metrics import pairwise_distances\n",
    "\n",
    "import pymongo\n",
    "from pymongo import MongoClient"
   ]
  },
  {
   "cell_type": "code",
   "execution_count": 2,
   "metadata": {},
   "outputs": [],
   "source": [
    "# Initialize mongoDB client\n",
    "client = MongoClient()\n",
    "db = client.yelp"
   ]
  },
  {
   "cell_type": "code",
   "execution_count": 3,
   "metadata": {},
   "outputs": [],
   "source": [
    "# Gather businesses data from DB\n",
    "# create new collection with split categories\n",
    "db.temp_businesses.drop()\n",
    "agr = [{'$project': {'business_id':1,'name':1,'address':1,'city':1,'state':1,'postal_code':1,'latitude':1,'longitude':1,'stars':1,'review_count':1,'is_open':1,'attributes':1,'categories': {'$split':[\"$categories\",\",\"]},'hours':1}},{'$out': 'temp_businesses'}]\n",
    "businesses_agr = db.businesses.aggregate(agr)\n",
    "businesses_collection = db.temp_businesses\n",
    "businesses_df = pd.DataFrame(list(businesses_collection.find()))\n",
    "businesses_count = businesses_df.shape[0]"
   ]
  },
  {
   "cell_type": "code",
   "execution_count": 4,
   "metadata": {},
   "outputs": [
    {
     "output_type": "execute_result",
     "data": {
      "text/plain": "_id                                      5e925b5925c46ba0c36b62f9\nbusiness_id                                Fuqtf6fcUpzcl4qIuohCpQ\nname                                         Makeup By Sheena Zar\naddress                                                          \ncity                                                    Las Vegas\nstate                                                          NV\npostal_code                                                 89101\nlatitude                                                   36.175\nlongitude                                                -115.136\nstars                                                           5\nreview_count                                                   19\nis_open                                                         1\nattributes      {'BusinessAcceptsBitcoin': 'False', 'WiFi': 'u...\nhours           {'Monday': '5:0-0:0', 'Tuesday': '5:0-0:0', 'W...\ncategories      [Beauty & Spas,  Makeup Artists,  Skin Care,  ...\nName: 138156, dtype: object"
     },
     "metadata": {},
     "execution_count": 4
    }
   ],
   "source": [
    "# Obtain random business from businesses dataframe\n",
    "random_number = np.random.randint(1,businesses_count)\n",
    "business = businesses_df.iloc[random_number]\n",
    "business"
   ]
  },
  {
   "cell_type": "code",
   "execution_count": 5,
   "metadata": {},
   "outputs": [],
   "source": [
    "# Get categories array\n",
    "categories = business.get('categories')"
   ]
  },
  {
   "cell_type": "code",
   "execution_count": 6,
   "metadata": {},
   "outputs": [],
   "source": [
    "# Get Businesses in categories ($all for all in categories, $in for any in categories)\n",
    "businesses_in_categories_df = pd.DataFrame(list(businesses_collection.find({ \"categories\": {\"$all\": categories} })))\n",
    "business_ids_in_categories = businesses_in_categories_df['business_id'].tolist()"
   ]
  },
  {
   "cell_type": "code",
   "execution_count": 7,
   "metadata": {},
   "outputs": [],
   "source": [
    "# Now obtain all useful (greater than zero) reviews from the group of businesses_in_categories_df\n",
    "reviews_df = pd.DataFrame(list(db.reviews.find({'business_id': {'$in': business_ids_in_categories}, 'useful': {'$gt': 0}})))\n",
    "reviews_df.stars = reviews_df.stars.astype('int')"
   ]
  },
  {
   "cell_type": "code",
   "execution_count": 8,
   "metadata": {},
   "outputs": [],
   "source": [
    "# Create Surprise data\n",
    "reader = Reader( rating_scale= (1,5))\n",
    "surprise_dataset = Dataset.load_from_df(reviews_df[['business_id','user_id','stars']], reader)\n",
    "train_set, test_set = train_test_split(surprise_dataset, test_size=.2)"
   ]
  },
  {
   "cell_type": "code",
   "execution_count": 9,
   "metadata": {},
   "outputs": [
    {
     "output_type": "execute_result",
     "data": {
      "text/plain": "<surprise.prediction_algorithms.matrix_factorization.SVD at 0x10d6f8730>"
     },
     "metadata": {},
     "execution_count": 9
    }
   ],
   "source": [
    "# Setup algorithm using SVD\n",
    "algo = SVD( n_factors = 5, n_epochs = 200, biased = True, lr_all = 0.005, reg_all = 0, init_mean = 0, init_std_dev = 0.01, verbose = False )\n",
    "algo.fit(train_set)"
   ]
  },
  {
   "cell_type": "code",
   "execution_count": 10,
   "metadata": {},
   "outputs": [],
   "source": [
    "# Obtain pu matrix and get our business vector\n",
    "pu = algo.pu\n",
    "business_vector_innerid = train_set.to_inner_uid(business.get('business_id'))\n",
    "business_vector = pu[business_vector_innerid]"
   ]
  },
  {
   "cell_type": "code",
   "execution_count": 11,
   "metadata": {},
   "outputs": [],
   "source": [
    "# Calculate the euclidean distance between our business and everything else\n",
    "distances = pairwise_distances(pu,business_vector.reshape(1, -1),'euclidean')\n",
    "# Obtain an indirect array with the indices of the sorted distances array\n",
    "ordered_distances_index = np.argsort(distances.flatten())"
   ]
  },
  {
   "cell_type": "code",
   "execution_count": 12,
   "metadata": {},
   "outputs": [],
   "source": [
    "# If number of neighbours is greater than number_of_neighbours, return first number_of_neighbours, otherwise return what we have\n",
    "number_of_neighbours = 10\n",
    "neighbour_indices = []\n",
    "if ordered_distances_index.shape[0] > number_of_neighbours:\n",
    "    neighbour_indices = ordered_distances_index[1:number_of_neighbours+1]\n",
    "else:\n",
    "    neighbour_indices = ordered_distances_index"
   ]
  },
  {
   "cell_type": "code",
   "execution_count": 13,
   "metadata": {},
   "outputs": [],
   "source": [
    "# Get neighbour ids of selected business\n",
    "business_neighbours_ids = (train_set.to_raw_uid(rid) for rid in neighbour_indices)\n",
    "business_neighbours = []\n",
    "for neighbour in business_neighbours_ids:\n",
    "    business_neighbours.append(neighbour)"
   ]
  },
  {
   "cell_type": "code",
   "execution_count": 14,
   "metadata": {},
   "outputs": [
    {
     "output_type": "execute_result",
     "data": {
      "text/plain": "                        _id             business_id  \\\n0  5e925b5425c46ba0c3694bf1  06CZ8ZPsWCj8Hle_0AHpVQ   \n1  5e925b5625c46ba0c36a09b5  5qc1Xv36E36DF6zCBG51Cw   \n2  5e925b5725c46ba0c36a80c4  B7n1ROadKJn-RIVYxbfIng   \n3  5e925b5725c46ba0c36aa833  6LZMjOagYR6SVJc9OL1L9g   \n4  5e925b5925c46ba0c36b62f9  Fuqtf6fcUpzcl4qIuohCpQ   \n5  5e925b5925c46ba0c36b6375  abkRbKUpoDcSyaRenh10UA   \n6  5e925b5a25c46ba0c36bbc96  SfQGRw4hJ1qLbDGBdQfIpg   \n7  5e925b5a25c46ba0c36c1081  HpqHmIE9KJqaUZadF-Cb2w   \n\n                           name                        address        city  \\\n0         Mica Beauty Cosmetics  7014 E Camelback Rd, Ste 2268  Scottsdale   \n1                   Globe Salon           900 S Las Vegas Blvd   Las Vegas   \n2         Beauticians On The Go   2390 E Camelback Rd, Ste 130     Phoenix   \n3                  Tease & Snap  2530 Saint Rose Pkwy, Ste 110   Henderson   \n4          Makeup By Sheena Zar                                  Las Vegas   \n5  Xpressions Salon and Day Spa  1371 West Warm Springs, Ste A   Henderson   \n6         Leidan Mitchell Salon          2177 W Queen Creek Rd    Chandler   \n7                     Sognatore     1100 Liberty Ave, Ste 1017  Pittsburgh   \n\n  state postal_code   latitude   longitude  stars  review_count  is_open  \\\n0    AZ       85251  33.503895 -111.929438    1.0             4        0   \n1    NV       89101  36.159999 -115.147533    4.5           146        1   \n2    AZ       85016  33.509687 -112.031895    4.0             7        1   \n3    NV       89074  36.018099 -115.101225    4.5            23        0   \n4    NV       89101  36.175000 -115.136389    5.0            19        1   \n5    NV       89014  36.055558 -115.044977    4.0            28        1   \n6    AZ       85248  33.260613 -111.881864    4.5            51        1   \n7    PA       15222  40.444228  -79.992233    4.0            24        1   \n\n                                          attributes  \\\n0                                               None   \n1  {'BusinessAcceptsCreditCards': 'True', 'Busine...   \n2  {'BikeParking': 'False', 'WheelchairAccessible...   \n3  {'GoodForKids': 'True', 'BusinessParking': '{'...   \n4  {'BusinessAcceptsBitcoin': 'False', 'WiFi': 'u...   \n5  {'ByAppointmentOnly': 'False', 'RestaurantsPri...   \n6  {'BusinessAcceptsCreditCards': 'True', 'Busine...   \n7  {'GoodForKids': 'False', 'BusinessParking': '{...   \n\n                                               hours  \\\n0                                               None   \n1  {'Monday': '0:0-0:0', 'Tuesday': '10:0-17:0', ...   \n2  {'Monday': '0:0-0:0', 'Tuesday': '8:0-20:0', '...   \n3  {'Wednesday': '9:30-17:0', 'Thursday': '9:30-1...   \n4  {'Monday': '5:0-0:0', 'Tuesday': '5:0-0:0', 'W...   \n5  {'Monday': '8:0-18:0', 'Tuesday': '8:0-18:0', ...   \n6  {'Monday': '10:0-19:0', 'Tuesday': '9:0-21:0',...   \n7  {'Tuesday': '10:0-21:0', 'Wednesday': '10:0-21...   \n\n                                          categories  \n0  [Beauty & Spas,  Cosmetics & Beauty Supply,  H...  \n1  [Beauty & Spas,  Nail Salons,  Skin Care,  Hai...  \n2  [Beauty & Spas,  Makeup Artists,  Hair Extensi...  \n3  [Beauty & Spas,  Blow Dry/Out Services,  Skin ...  \n4  [Beauty & Spas,  Makeup Artists,  Skin Care,  ...  \n5  [Beauty & Spas,  Nail Salons,  Hair Extensions...  \n6  [Beauty & Spas,  Hair Stylists,  Day Spas,  Ma...  \n7  [Beauty & Spas,  Hair Stylists,  Men's Hair Sa...  ",
      "text/html": "<div>\n<style scoped>\n    .dataframe tbody tr th:only-of-type {\n        vertical-align: middle;\n    }\n\n    .dataframe tbody tr th {\n        vertical-align: top;\n    }\n\n    .dataframe thead th {\n        text-align: right;\n    }\n</style>\n<table border=\"1\" class=\"dataframe\">\n  <thead>\n    <tr style=\"text-align: right;\">\n      <th></th>\n      <th>_id</th>\n      <th>business_id</th>\n      <th>name</th>\n      <th>address</th>\n      <th>city</th>\n      <th>state</th>\n      <th>postal_code</th>\n      <th>latitude</th>\n      <th>longitude</th>\n      <th>stars</th>\n      <th>review_count</th>\n      <th>is_open</th>\n      <th>attributes</th>\n      <th>hours</th>\n      <th>categories</th>\n    </tr>\n  </thead>\n  <tbody>\n    <tr>\n      <th>0</th>\n      <td>5e925b5425c46ba0c3694bf1</td>\n      <td>06CZ8ZPsWCj8Hle_0AHpVQ</td>\n      <td>Mica Beauty Cosmetics</td>\n      <td>7014 E Camelback Rd, Ste 2268</td>\n      <td>Scottsdale</td>\n      <td>AZ</td>\n      <td>85251</td>\n      <td>33.503895</td>\n      <td>-111.929438</td>\n      <td>1.0</td>\n      <td>4</td>\n      <td>0</td>\n      <td>None</td>\n      <td>None</td>\n      <td>[Beauty &amp; Spas,  Cosmetics &amp; Beauty Supply,  H...</td>\n    </tr>\n    <tr>\n      <th>1</th>\n      <td>5e925b5625c46ba0c36a09b5</td>\n      <td>5qc1Xv36E36DF6zCBG51Cw</td>\n      <td>Globe Salon</td>\n      <td>900 S Las Vegas Blvd</td>\n      <td>Las Vegas</td>\n      <td>NV</td>\n      <td>89101</td>\n      <td>36.159999</td>\n      <td>-115.147533</td>\n      <td>4.5</td>\n      <td>146</td>\n      <td>1</td>\n      <td>{'BusinessAcceptsCreditCards': 'True', 'Busine...</td>\n      <td>{'Monday': '0:0-0:0', 'Tuesday': '10:0-17:0', ...</td>\n      <td>[Beauty &amp; Spas,  Nail Salons,  Skin Care,  Hai...</td>\n    </tr>\n    <tr>\n      <th>2</th>\n      <td>5e925b5725c46ba0c36a80c4</td>\n      <td>B7n1ROadKJn-RIVYxbfIng</td>\n      <td>Beauticians On The Go</td>\n      <td>2390 E Camelback Rd, Ste 130</td>\n      <td>Phoenix</td>\n      <td>AZ</td>\n      <td>85016</td>\n      <td>33.509687</td>\n      <td>-112.031895</td>\n      <td>4.0</td>\n      <td>7</td>\n      <td>1</td>\n      <td>{'BikeParking': 'False', 'WheelchairAccessible...</td>\n      <td>{'Monday': '0:0-0:0', 'Tuesday': '8:0-20:0', '...</td>\n      <td>[Beauty &amp; Spas,  Makeup Artists,  Hair Extensi...</td>\n    </tr>\n    <tr>\n      <th>3</th>\n      <td>5e925b5725c46ba0c36aa833</td>\n      <td>6LZMjOagYR6SVJc9OL1L9g</td>\n      <td>Tease &amp; Snap</td>\n      <td>2530 Saint Rose Pkwy, Ste 110</td>\n      <td>Henderson</td>\n      <td>NV</td>\n      <td>89074</td>\n      <td>36.018099</td>\n      <td>-115.101225</td>\n      <td>4.5</td>\n      <td>23</td>\n      <td>0</td>\n      <td>{'GoodForKids': 'True', 'BusinessParking': '{'...</td>\n      <td>{'Wednesday': '9:30-17:0', 'Thursday': '9:30-1...</td>\n      <td>[Beauty &amp; Spas,  Blow Dry/Out Services,  Skin ...</td>\n    </tr>\n    <tr>\n      <th>4</th>\n      <td>5e925b5925c46ba0c36b62f9</td>\n      <td>Fuqtf6fcUpzcl4qIuohCpQ</td>\n      <td>Makeup By Sheena Zar</td>\n      <td></td>\n      <td>Las Vegas</td>\n      <td>NV</td>\n      <td>89101</td>\n      <td>36.175000</td>\n      <td>-115.136389</td>\n      <td>5.0</td>\n      <td>19</td>\n      <td>1</td>\n      <td>{'BusinessAcceptsBitcoin': 'False', 'WiFi': 'u...</td>\n      <td>{'Monday': '5:0-0:0', 'Tuesday': '5:0-0:0', 'W...</td>\n      <td>[Beauty &amp; Spas,  Makeup Artists,  Skin Care,  ...</td>\n    </tr>\n    <tr>\n      <th>5</th>\n      <td>5e925b5925c46ba0c36b6375</td>\n      <td>abkRbKUpoDcSyaRenh10UA</td>\n      <td>Xpressions Salon and Day Spa</td>\n      <td>1371 West Warm Springs, Ste A</td>\n      <td>Henderson</td>\n      <td>NV</td>\n      <td>89014</td>\n      <td>36.055558</td>\n      <td>-115.044977</td>\n      <td>4.0</td>\n      <td>28</td>\n      <td>1</td>\n      <td>{'ByAppointmentOnly': 'False', 'RestaurantsPri...</td>\n      <td>{'Monday': '8:0-18:0', 'Tuesday': '8:0-18:0', ...</td>\n      <td>[Beauty &amp; Spas,  Nail Salons,  Hair Extensions...</td>\n    </tr>\n    <tr>\n      <th>6</th>\n      <td>5e925b5a25c46ba0c36bbc96</td>\n      <td>SfQGRw4hJ1qLbDGBdQfIpg</td>\n      <td>Leidan Mitchell Salon</td>\n      <td>2177 W Queen Creek Rd</td>\n      <td>Chandler</td>\n      <td>AZ</td>\n      <td>85248</td>\n      <td>33.260613</td>\n      <td>-111.881864</td>\n      <td>4.5</td>\n      <td>51</td>\n      <td>1</td>\n      <td>{'BusinessAcceptsCreditCards': 'True', 'Busine...</td>\n      <td>{'Monday': '10:0-19:0', 'Tuesday': '9:0-21:0',...</td>\n      <td>[Beauty &amp; Spas,  Hair Stylists,  Day Spas,  Ma...</td>\n    </tr>\n    <tr>\n      <th>7</th>\n      <td>5e925b5a25c46ba0c36c1081</td>\n      <td>HpqHmIE9KJqaUZadF-Cb2w</td>\n      <td>Sognatore</td>\n      <td>1100 Liberty Ave, Ste 1017</td>\n      <td>Pittsburgh</td>\n      <td>PA</td>\n      <td>15222</td>\n      <td>40.444228</td>\n      <td>-79.992233</td>\n      <td>4.0</td>\n      <td>24</td>\n      <td>1</td>\n      <td>{'GoodForKids': 'False', 'BusinessParking': '{...</td>\n      <td>{'Tuesday': '10:0-21:0', 'Wednesday': '10:0-21...</td>\n      <td>[Beauty &amp; Spas,  Hair Stylists,  Men's Hair Sa...</td>\n    </tr>\n  </tbody>\n</table>\n</div>"
     },
     "metadata": {},
     "execution_count": 14
    }
   ],
   "source": [
    "# Query business ids to obtain dataframe of neighbours\n",
    "businesses_neighbours_df = pd.DataFrame(list(businesses_collection.find({ \"business_id\": {\"$in\": business_neighbours} })))\n",
    "businesses_neighbours_df"
   ]
  }
 ]
}