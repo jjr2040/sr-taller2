{
 "nbformat": 4,
 "nbformat_minor": 2,
 "metadata": {
  "language_info": {
   "name": "python",
   "codemirror_mode": {
    "name": "ipython",
    "version": 3
   },
   "version": "3.8.1-final"
  },
  "orig_nbformat": 2,
  "file_extension": ".py",
  "mimetype": "text/x-python",
  "name": "python",
  "npconvert_exporter": "python",
  "pygments_lexer": "ipython3",
  "version": 3,
  "kernelspec": {
   "name": "python38164bittaller2pipenv05139df271e8424ea6d598cf3759efba",
   "display_name": "Python 3.8.1 64-bit ('taller2': pipenv)"
  }
 },
 "cells": [
  {
   "cell_type": "code",
   "execution_count": 64,
   "metadata": {},
   "outputs": [],
   "source": [
    "#import seaborn as sns\n",
    "import numpy as np\n",
    "import pandas as pd\n",
    "\n",
    "from surprise import Reader\n",
    "from surprise import Dataset\n",
    "from surprise import accuracy\n",
    "from surprise.model_selection import train_test_split\n",
    "from surprise import SVD\n",
    "\n",
    "from sklearn.metrics import pairwise_distances\n",
    "\n",
    "import pymongo\n",
    "from pymongo import MongoClient"
   ]
  },
  {
   "cell_type": "code",
   "execution_count": 65,
   "metadata": {},
   "outputs": [],
   "source": [
    "# Initialize mongoDB client\n",
    "client = MongoClient()\n",
    "db = client.yelp"
   ]
  },
  {
   "cell_type": "code",
   "execution_count": 66,
   "metadata": {},
   "outputs": [],
   "source": [
    "# Gather businesses data from DB\n",
    "# create new collection with split categories\n",
    "db.temp_businesses.drop()\n",
    "agr = [{'$project': {'business_id':1,'name':1,'address':1,'city':1,'state':1,'postal_code':1,'latitude':1,'longitude':1,'stars':1,'review_count':1,'is_open':1,'attributes':1,'categories': {'$split':[\"$categories\",\",\"]},'hours':1}},{'$out': 'temp_businesses'}]\n",
    "businesses_agr = db.businesses.aggregate(agr)\n",
    "businesses_collection = db.temp_businesses\n",
    "businesses_df = pd.DataFrame(list(businesses_collection.find()))\n",
    "businesses_count = businesses_df.shape[0]"
   ]
  },
  {
   "cell_type": "code",
   "execution_count": 67,
   "metadata": {},
   "outputs": [
    {
     "output_type": "execute_result",
     "data": {
      "text/plain": "_id                                      5e9664656f14ef773b7c5212\nbusiness_id                                Y7al_T_o06-AmCdpJfcNfA\nname                                       American Executive Inn\naddress                                            1554 W Main St\ncity                                                         Mesa\nstate                                                          AZ\npostal_code                                                 85201\nlatitude                                                  33.4151\nlongitude                                                -111.864\nstars                                                           2\nreview_count                                                   23\nis_open                                                         1\nattributes      {'RestaurantsPriceRange2': '1', 'WiFi': 'u'fre...\nhours                                                        None\ncategories      [Hotels,  Event Planning & Services,  Hotels &...\nName: 96200, dtype: object"
     },
     "metadata": {},
     "execution_count": 67
    }
   ],
   "source": [
    "# Obtain random business from businesses dataframe\n",
    "random_number = np.random.randint(1,businesses_count)\n",
    "business = businesses_df.iloc[random_number]\n",
    "business"
   ]
  },
  {
   "cell_type": "code",
   "execution_count": 68,
   "metadata": {},
   "outputs": [],
   "source": [
    "# Get categories array\n",
    "categories = business.get('categories')"
   ]
  },
  {
   "cell_type": "code",
   "execution_count": 69,
   "metadata": {},
   "outputs": [],
   "source": [
    "# Get Businesses in categories ($all for all in categories, $in for any in categories)\n",
    "businesses_in_categories_df = pd.DataFrame(list(businesses_collection.find({ \"categories\": {\"$all\": categories} })))\n",
    "business_ids_in_categories = businesses_in_categories_df['business_id'].tolist()"
   ]
  },
  {
   "cell_type": "code",
   "execution_count": 70,
   "metadata": {},
   "outputs": [],
   "source": [
    "# Now obtain all useful (greater than zero) reviews from the group of businesses_in_categories_df\n",
    "reviews_df = pd.DataFrame(list(db.reviews.find({'business_id': {'$in': business_ids_in_categories}, 'useful': {'$gt': 0}})))\n",
    "reviews_df.stars = reviews_df.stars.astype('int')"
   ]
  },
  {
   "cell_type": "code",
   "execution_count": 71,
   "metadata": {},
   "outputs": [],
   "source": [
    "# Create Surprise data\n",
    "reader = Reader( rating_scale= (1,5))\n",
    "surprise_dataset = Dataset.load_from_df(reviews_df[['business_id','user_id','stars']], reader)\n",
    "train_set, test_set = train_test_split(surprise_dataset, test_size=.2)"
   ]
  },
  {
   "cell_type": "code",
   "execution_count": 72,
   "metadata": {},
   "outputs": [
    {
     "output_type": "execute_result",
     "data": {
      "text/plain": "<surprise.prediction_algorithms.matrix_factorization.SVD at 0x1670393a0>"
     },
     "metadata": {},
     "execution_count": 72
    }
   ],
   "source": [
    "# Setup algorithm using SVD\n",
    "svd = SVD( n_factors = 60, n_epochs = 200, biased = True, lr_all = 0.01, reg_all = 0, init_mean = 0, init_std_dev = 0.01, verbose = False )\n",
    "svd.fit(train_set)"
   ]
  },
  {
   "cell_type": "code",
   "execution_count": 73,
   "metadata": {},
   "outputs": [],
   "source": [
    "# Obtain pu matrix and get our business vector\n",
    "pu = svd.pu\n",
    "business_vector_innerid = train_set.to_inner_uid(business.get('business_id'))\n",
    "business_vector = pu[business_vector_innerid]"
   ]
  },
  {
   "cell_type": "code",
   "execution_count": 74,
   "metadata": {},
   "outputs": [],
   "source": [
    "# Calculate the euclidean distance between our business and everything else\n",
    "distances = pairwise_distances(pu,business_vector.reshape(1, -1),'euclidean')\n",
    "# Obtain an indirect array with the indices of the sorted distances array\n",
    "ordered_distances_index = np.argsort(distances.flatten())"
   ]
  },
  {
   "cell_type": "code",
   "execution_count": 75,
   "metadata": {},
   "outputs": [],
   "source": [
    "# If number of neighbours is greater than number_of_neighbours, return first number_of_neighbours, otherwise return what we have\n",
    "number_of_neighbours = 10\n",
    "neighbour_indices = []\n",
    "if ordered_distances_index.shape[0] > number_of_neighbours:\n",
    "    neighbour_indices = ordered_distances_index[1:number_of_neighbours+1]\n",
    "else:\n",
    "    neighbour_indices = ordered_distances_index"
   ]
  },
  {
   "cell_type": "code",
   "execution_count": 76,
   "metadata": {},
   "outputs": [],
   "source": [
    "# Get neighbour ids of selected business\n",
    "business_neighbours_ids = (train_set.to_raw_uid(rid) for rid in neighbour_indices)\n",
    "business_neighbours = []\n",
    "for neighbour in business_neighbours_ids:\n",
    "    business_neighbours.append(neighbour)"
   ]
  },
  {
   "cell_type": "code",
   "execution_count": 77,
   "metadata": {},
   "outputs": [
    {
     "output_type": "execute_result",
     "data": {
      "text/plain": "                        _id             business_id  \\\n0  5e96645c6f14ef773b7b1149  5FVBaD1poRZQeqUDxbWWQA   \n1  5e96645e6f14ef773b7b63b7  uNjAp7k2_ydqZY3W1SWgYQ   \n2  5e9664646f14ef773b7c256c  NqGtKSw1EnnQ2pbCN9VrfQ   \n3  5e9664666f14ef773b7c69aa  8_QKutB_FqV05o38ySEG7A   \n4  5e9664676f14ef773b7c8534  GK_c37NNNGB13syjiaPNoA   \n5  5e9664686f14ef773b7cb2b4  AF51nM-fjYjBVJRo6cR_Ow   \n6  5e9664686f14ef773b7cca51  PdKoeg9Rh_1BefgUXTDIbg   \n7  5e9664696f14ef773b7ceb62  H03TuN-fMr4lwQP3wJobYA   \n8  5e9664696f14ef773b7cf104  _Dz7a9gMBJgo_JTO0PPuxw   \n9  5e96646e6f14ef773b7daac9  gjR5bIyL4ETB9CtWgNL64A   \n\n                                        name                address  \\\n0               Sleep Inn Phoenix North I-17       18235 N 27th Ave   \n1                    Americas Best Value Inn     424 W Van Buren St   \n2                                Quality Inn  6347 E. Southern Ave.   \n3                              Gateway Motel   928 Las Vegas Blvd S   \n4        Sonesta ES Suites Cleveland Airport      17525 Rosbough Dr   \n5  Hampton Inn Phoenix-Midtown-Downtown Area      160 W Catalina Dr   \n6             SpringHill Suites West Mifflin         1000 Regis Ave   \n7                     Days Inn-Calgary South    3828 MacLeod Trl SE   \n8        Clarion Hotel and Conference Centre         2120 16 Ave NE   \n9                              Skyline Hotel     1741 N Boulder Hwy   \n\n                 city state postal_code   latitude   longitude  stars  \\\n0             Phoenix    AZ       85053  33.652650 -112.116148    3.0   \n1             Phoenix    AZ       85003  33.451565 -112.080081    4.0   \n2                Mesa    AZ       85206  33.392346 -111.693275    2.0   \n3           Las Vegas    NV       89101  36.159194 -115.147680    1.5   \n4  Middleburg Heights    OH       44130  41.374085  -81.822052    3.5   \n5             Phoenix    AZ       85013  33.482432 -112.077399    4.0   \n6          Pittsburgh    PA       15236  40.347161  -79.951463    3.0   \n7             Calgary    AB     T2G 2R2  51.020370 -114.060787    1.5   \n8             Calgary    AB     T2E 1L4  51.067627 -114.010285    3.0   \n9           Henderson    NV       89011  36.062463 -115.008362    4.5   \n\n   review_count  is_open                                         attributes  \\\n0            31        1  {'RestaurantsPriceRange2': '2', 'WiFi': 'u'fre...   \n1            28        0  {'BusinessAcceptsCreditCards': 'True', 'WiFi':...   \n2             3        0  {'WiFi': ''free'', 'BusinessAcceptsCreditCards...   \n3            20        1  {'BusinessAcceptsCreditCards': 'True', 'Restau...   \n4            28        1  {'BusinessAcceptsCreditCards': 'True', 'Restau...   \n5            60        1  {'WiFi': 'u'free'', 'BusinessAcceptsBitcoin': ...   \n6            18        1  {'BusinessAcceptsCreditCards': 'True', 'Restau...   \n7            10        1  {'WiFi': 'u'free'', 'RestaurantsPriceRange2': ...   \n8            18        1  {'RestaurantsPriceRange2': '2', 'WiFi': 'u'fre...   \n9            21        1  {'WiFi': 'u'free'', 'BusinessAcceptsCreditCard...   \n\n                                               hours  \\\n0  {'Monday': '0:0-0:0', 'Tuesday': '0:0-0:0', 'W...   \n1  {'Monday': '1:0-1:0', 'Tuesday': '1:0-1:0', 'W...   \n2  {'Monday': '0:0-0:0', 'Tuesday': '0:0-0:0', 'W...   \n3                                               None   \n4  {'Monday': '0:0-0:0', 'Tuesday': '0:0-0:0', 'W...   \n5  {'Monday': '0:0-0:0', 'Tuesday': '0:0-0:0', 'W...   \n6  {'Monday': '0:0-0:0', 'Tuesday': '0:0-0:0', 'W...   \n7                                               None   \n8                                               None   \n9  {'Monday': '0:0-0:0', 'Tuesday': '0:0-0:0', 'W...   \n\n                                          categories  \n0  [Hotels,  Event Planning & Services,  Hotels &...  \n1  [Hotels,  Event Planning & Services,  Hotels &...  \n2  [Hotels,  Hotels & Travel,  Event Planning & S...  \n3  [Hotels,  Hotels & Travel,  Event Planning & S...  \n4  [Hotels,  Event Planning & Services,  Hotels &...  \n5  [Hotels,  Hotels & Travel,  Event Planning & S...  \n6  [Hotels,  Hotels & Travel,  Event Planning & S...  \n7  [Hotels,  Hotels & Travel,  Event Planning & S...  \n8  [Hotels,  Hotels & Travel,  Event Planning & S...  \n9  [Hotels,  Hotels & Travel,  Event Planning & S...  ",
      "text/html": "<div>\n<style scoped>\n    .dataframe tbody tr th:only-of-type {\n        vertical-align: middle;\n    }\n\n    .dataframe tbody tr th {\n        vertical-align: top;\n    }\n\n    .dataframe thead th {\n        text-align: right;\n    }\n</style>\n<table border=\"1\" class=\"dataframe\">\n  <thead>\n    <tr style=\"text-align: right;\">\n      <th></th>\n      <th>_id</th>\n      <th>business_id</th>\n      <th>name</th>\n      <th>address</th>\n      <th>city</th>\n      <th>state</th>\n      <th>postal_code</th>\n      <th>latitude</th>\n      <th>longitude</th>\n      <th>stars</th>\n      <th>review_count</th>\n      <th>is_open</th>\n      <th>attributes</th>\n      <th>hours</th>\n      <th>categories</th>\n    </tr>\n  </thead>\n  <tbody>\n    <tr>\n      <th>0</th>\n      <td>5e96645c6f14ef773b7b1149</td>\n      <td>5FVBaD1poRZQeqUDxbWWQA</td>\n      <td>Sleep Inn Phoenix North I-17</td>\n      <td>18235 N 27th Ave</td>\n      <td>Phoenix</td>\n      <td>AZ</td>\n      <td>85053</td>\n      <td>33.652650</td>\n      <td>-112.116148</td>\n      <td>3.0</td>\n      <td>31</td>\n      <td>1</td>\n      <td>{'RestaurantsPriceRange2': '2', 'WiFi': 'u'fre...</td>\n      <td>{'Monday': '0:0-0:0', 'Tuesday': '0:0-0:0', 'W...</td>\n      <td>[Hotels,  Event Planning &amp; Services,  Hotels &amp;...</td>\n    </tr>\n    <tr>\n      <th>1</th>\n      <td>5e96645e6f14ef773b7b63b7</td>\n      <td>uNjAp7k2_ydqZY3W1SWgYQ</td>\n      <td>Americas Best Value Inn</td>\n      <td>424 W Van Buren St</td>\n      <td>Phoenix</td>\n      <td>AZ</td>\n      <td>85003</td>\n      <td>33.451565</td>\n      <td>-112.080081</td>\n      <td>4.0</td>\n      <td>28</td>\n      <td>0</td>\n      <td>{'BusinessAcceptsCreditCards': 'True', 'WiFi':...</td>\n      <td>{'Monday': '1:0-1:0', 'Tuesday': '1:0-1:0', 'W...</td>\n      <td>[Hotels,  Event Planning &amp; Services,  Hotels &amp;...</td>\n    </tr>\n    <tr>\n      <th>2</th>\n      <td>5e9664646f14ef773b7c256c</td>\n      <td>NqGtKSw1EnnQ2pbCN9VrfQ</td>\n      <td>Quality Inn</td>\n      <td>6347 E. Southern Ave.</td>\n      <td>Mesa</td>\n      <td>AZ</td>\n      <td>85206</td>\n      <td>33.392346</td>\n      <td>-111.693275</td>\n      <td>2.0</td>\n      <td>3</td>\n      <td>0</td>\n      <td>{'WiFi': ''free'', 'BusinessAcceptsCreditCards...</td>\n      <td>{'Monday': '0:0-0:0', 'Tuesday': '0:0-0:0', 'W...</td>\n      <td>[Hotels,  Hotels &amp; Travel,  Event Planning &amp; S...</td>\n    </tr>\n    <tr>\n      <th>3</th>\n      <td>5e9664666f14ef773b7c69aa</td>\n      <td>8_QKutB_FqV05o38ySEG7A</td>\n      <td>Gateway Motel</td>\n      <td>928 Las Vegas Blvd S</td>\n      <td>Las Vegas</td>\n      <td>NV</td>\n      <td>89101</td>\n      <td>36.159194</td>\n      <td>-115.147680</td>\n      <td>1.5</td>\n      <td>20</td>\n      <td>1</td>\n      <td>{'BusinessAcceptsCreditCards': 'True', 'Restau...</td>\n      <td>None</td>\n      <td>[Hotels,  Hotels &amp; Travel,  Event Planning &amp; S...</td>\n    </tr>\n    <tr>\n      <th>4</th>\n      <td>5e9664676f14ef773b7c8534</td>\n      <td>GK_c37NNNGB13syjiaPNoA</td>\n      <td>Sonesta ES Suites Cleveland Airport</td>\n      <td>17525 Rosbough Dr</td>\n      <td>Middleburg Heights</td>\n      <td>OH</td>\n      <td>44130</td>\n      <td>41.374085</td>\n      <td>-81.822052</td>\n      <td>3.5</td>\n      <td>28</td>\n      <td>1</td>\n      <td>{'BusinessAcceptsCreditCards': 'True', 'Restau...</td>\n      <td>{'Monday': '0:0-0:0', 'Tuesday': '0:0-0:0', 'W...</td>\n      <td>[Hotels,  Event Planning &amp; Services,  Hotels &amp;...</td>\n    </tr>\n    <tr>\n      <th>5</th>\n      <td>5e9664686f14ef773b7cb2b4</td>\n      <td>AF51nM-fjYjBVJRo6cR_Ow</td>\n      <td>Hampton Inn Phoenix-Midtown-Downtown Area</td>\n      <td>160 W Catalina Dr</td>\n      <td>Phoenix</td>\n      <td>AZ</td>\n      <td>85013</td>\n      <td>33.482432</td>\n      <td>-112.077399</td>\n      <td>4.0</td>\n      <td>60</td>\n      <td>1</td>\n      <td>{'WiFi': 'u'free'', 'BusinessAcceptsBitcoin': ...</td>\n      <td>{'Monday': '0:0-0:0', 'Tuesday': '0:0-0:0', 'W...</td>\n      <td>[Hotels,  Hotels &amp; Travel,  Event Planning &amp; S...</td>\n    </tr>\n    <tr>\n      <th>6</th>\n      <td>5e9664686f14ef773b7cca51</td>\n      <td>PdKoeg9Rh_1BefgUXTDIbg</td>\n      <td>SpringHill Suites West Mifflin</td>\n      <td>1000 Regis Ave</td>\n      <td>Pittsburgh</td>\n      <td>PA</td>\n      <td>15236</td>\n      <td>40.347161</td>\n      <td>-79.951463</td>\n      <td>3.0</td>\n      <td>18</td>\n      <td>1</td>\n      <td>{'BusinessAcceptsCreditCards': 'True', 'Restau...</td>\n      <td>{'Monday': '0:0-0:0', 'Tuesday': '0:0-0:0', 'W...</td>\n      <td>[Hotels,  Hotels &amp; Travel,  Event Planning &amp; S...</td>\n    </tr>\n    <tr>\n      <th>7</th>\n      <td>5e9664696f14ef773b7ceb62</td>\n      <td>H03TuN-fMr4lwQP3wJobYA</td>\n      <td>Days Inn-Calgary South</td>\n      <td>3828 MacLeod Trl SE</td>\n      <td>Calgary</td>\n      <td>AB</td>\n      <td>T2G 2R2</td>\n      <td>51.020370</td>\n      <td>-114.060787</td>\n      <td>1.5</td>\n      <td>10</td>\n      <td>1</td>\n      <td>{'WiFi': 'u'free'', 'RestaurantsPriceRange2': ...</td>\n      <td>None</td>\n      <td>[Hotels,  Hotels &amp; Travel,  Event Planning &amp; S...</td>\n    </tr>\n    <tr>\n      <th>8</th>\n      <td>5e9664696f14ef773b7cf104</td>\n      <td>_Dz7a9gMBJgo_JTO0PPuxw</td>\n      <td>Clarion Hotel and Conference Centre</td>\n      <td>2120 16 Ave NE</td>\n      <td>Calgary</td>\n      <td>AB</td>\n      <td>T2E 1L4</td>\n      <td>51.067627</td>\n      <td>-114.010285</td>\n      <td>3.0</td>\n      <td>18</td>\n      <td>1</td>\n      <td>{'RestaurantsPriceRange2': '2', 'WiFi': 'u'fre...</td>\n      <td>None</td>\n      <td>[Hotels,  Hotels &amp; Travel,  Event Planning &amp; S...</td>\n    </tr>\n    <tr>\n      <th>9</th>\n      <td>5e96646e6f14ef773b7daac9</td>\n      <td>gjR5bIyL4ETB9CtWgNL64A</td>\n      <td>Skyline Hotel</td>\n      <td>1741 N Boulder Hwy</td>\n      <td>Henderson</td>\n      <td>NV</td>\n      <td>89011</td>\n      <td>36.062463</td>\n      <td>-115.008362</td>\n      <td>4.5</td>\n      <td>21</td>\n      <td>1</td>\n      <td>{'WiFi': 'u'free'', 'BusinessAcceptsCreditCard...</td>\n      <td>{'Monday': '0:0-0:0', 'Tuesday': '0:0-0:0', 'W...</td>\n      <td>[Hotels,  Hotels &amp; Travel,  Event Planning &amp; S...</td>\n    </tr>\n  </tbody>\n</table>\n</div>"
     },
     "metadata": {},
     "execution_count": 77
    }
   ],
   "source": [
    "# Query business ids to obtain dataframe of neighbours\n",
    "businesses_neighbours_df = pd.DataFrame(list(businesses_collection.find({ \"business_id\": {\"$in\": business_neighbours} })))\n",
    "businesses_neighbours_df"
   ]
  },
  {
   "cell_type": "markdown",
   "metadata": {},
   "source": [
    "## Export busines records to line separated json"
   ]
  },
  {
   "cell_type": "code",
   "execution_count": 78,
   "metadata": {},
   "outputs": [
    {
     "output_type": "execute_result",
     "data": {
      "text/plain": "                        _id             business_id  \\\n0  5e96645c6f14ef773b7b1149  5FVBaD1poRZQeqUDxbWWQA   \n1  5e96645e6f14ef773b7b63b7  uNjAp7k2_ydqZY3W1SWgYQ   \n2  5e9664646f14ef773b7c256c  NqGtKSw1EnnQ2pbCN9VrfQ   \n3  5e9664666f14ef773b7c69aa  8_QKutB_FqV05o38ySEG7A   \n4  5e9664676f14ef773b7c8534  GK_c37NNNGB13syjiaPNoA   \n5  5e9664686f14ef773b7cb2b4  AF51nM-fjYjBVJRo6cR_Ow   \n6  5e9664686f14ef773b7cca51  PdKoeg9Rh_1BefgUXTDIbg   \n7  5e9664696f14ef773b7ceb62  H03TuN-fMr4lwQP3wJobYA   \n8  5e9664696f14ef773b7cf104  _Dz7a9gMBJgo_JTO0PPuxw   \n9  5e96646e6f14ef773b7daac9  gjR5bIyL4ETB9CtWgNL64A   \n\n                                        name                address  \\\n0               Sleep Inn Phoenix North I-17       18235 N 27th Ave   \n1                    Americas Best Value Inn     424 W Van Buren St   \n2                                Quality Inn  6347 E. Southern Ave.   \n3                              Gateway Motel   928 Las Vegas Blvd S   \n4        Sonesta ES Suites Cleveland Airport      17525 Rosbough Dr   \n5  Hampton Inn Phoenix-Midtown-Downtown Area      160 W Catalina Dr   \n6             SpringHill Suites West Mifflin         1000 Regis Ave   \n7                     Days Inn-Calgary South    3828 MacLeod Trl SE   \n8        Clarion Hotel and Conference Centre         2120 16 Ave NE   \n9                              Skyline Hotel     1741 N Boulder Hwy   \n\n                 city state postal_code   latitude   longitude  stars  \\\n0             Phoenix    AZ       85053  33.652650 -112.116148    3.0   \n1             Phoenix    AZ       85003  33.451565 -112.080081    4.0   \n2                Mesa    AZ       85206  33.392346 -111.693275    2.0   \n3           Las Vegas    NV       89101  36.159194 -115.147680    1.5   \n4  Middleburg Heights    OH       44130  41.374085  -81.822052    3.5   \n5             Phoenix    AZ       85013  33.482432 -112.077399    4.0   \n6          Pittsburgh    PA       15236  40.347161  -79.951463    3.0   \n7             Calgary    AB     T2G 2R2  51.020370 -114.060787    1.5   \n8             Calgary    AB     T2E 1L4  51.067627 -114.010285    3.0   \n9           Henderson    NV       89011  36.062463 -115.008362    4.5   \n\n   review_count  is_open                                         attributes  \\\n0            31        1  {'RestaurantsPriceRange2': '2', 'WiFi': 'u'fre...   \n1            28        0  {'BusinessAcceptsCreditCards': 'True', 'WiFi':...   \n2             3        0  {'WiFi': ''free'', 'BusinessAcceptsCreditCards...   \n3            20        1  {'BusinessAcceptsCreditCards': 'True', 'Restau...   \n4            28        1  {'BusinessAcceptsCreditCards': 'True', 'Restau...   \n5            60        1  {'WiFi': 'u'free'', 'BusinessAcceptsBitcoin': ...   \n6            18        1  {'BusinessAcceptsCreditCards': 'True', 'Restau...   \n7            10        1  {'WiFi': 'u'free'', 'RestaurantsPriceRange2': ...   \n8            18        1  {'RestaurantsPriceRange2': '2', 'WiFi': 'u'fre...   \n9            21        1  {'WiFi': 'u'free'', 'BusinessAcceptsCreditCard...   \n\n                                               hours  \\\n0  {'Monday': '0:0-0:0', 'Tuesday': '0:0-0:0', 'W...   \n1  {'Monday': '1:0-1:0', 'Tuesday': '1:0-1:0', 'W...   \n2  {'Monday': '0:0-0:0', 'Tuesday': '0:0-0:0', 'W...   \n3                                               None   \n4  {'Monday': '0:0-0:0', 'Tuesday': '0:0-0:0', 'W...   \n5  {'Monday': '0:0-0:0', 'Tuesday': '0:0-0:0', 'W...   \n6  {'Monday': '0:0-0:0', 'Tuesday': '0:0-0:0', 'W...   \n7                                               None   \n8                                               None   \n9  {'Monday': '0:0-0:0', 'Tuesday': '0:0-0:0', 'W...   \n\n                                          categories  \n0  [Hotels,  Event Planning & Services,  Hotels &...  \n1  [Hotels,  Event Planning & Services,  Hotels &...  \n2  [Hotels,  Hotels & Travel,  Event Planning & S...  \n3  [Hotels,  Hotels & Travel,  Event Planning & S...  \n4  [Hotels,  Event Planning & Services,  Hotels &...  \n5  [Hotels,  Hotels & Travel,  Event Planning & S...  \n6  [Hotels,  Hotels & Travel,  Event Planning & S...  \n7  [Hotels,  Hotels & Travel,  Event Planning & S...  \n8  [Hotels,  Hotels & Travel,  Event Planning & S...  \n9  [Hotels,  Hotels & Travel,  Event Planning & S...  ",
      "text/html": "<div>\n<style scoped>\n    .dataframe tbody tr th:only-of-type {\n        vertical-align: middle;\n    }\n\n    .dataframe tbody tr th {\n        vertical-align: top;\n    }\n\n    .dataframe thead th {\n        text-align: right;\n    }\n</style>\n<table border=\"1\" class=\"dataframe\">\n  <thead>\n    <tr style=\"text-align: right;\">\n      <th></th>\n      <th>_id</th>\n      <th>business_id</th>\n      <th>name</th>\n      <th>address</th>\n      <th>city</th>\n      <th>state</th>\n      <th>postal_code</th>\n      <th>latitude</th>\n      <th>longitude</th>\n      <th>stars</th>\n      <th>review_count</th>\n      <th>is_open</th>\n      <th>attributes</th>\n      <th>hours</th>\n      <th>categories</th>\n    </tr>\n  </thead>\n  <tbody>\n    <tr>\n      <th>0</th>\n      <td>5e96645c6f14ef773b7b1149</td>\n      <td>5FVBaD1poRZQeqUDxbWWQA</td>\n      <td>Sleep Inn Phoenix North I-17</td>\n      <td>18235 N 27th Ave</td>\n      <td>Phoenix</td>\n      <td>AZ</td>\n      <td>85053</td>\n      <td>33.652650</td>\n      <td>-112.116148</td>\n      <td>3.0</td>\n      <td>31</td>\n      <td>1</td>\n      <td>{'RestaurantsPriceRange2': '2', 'WiFi': 'u'fre...</td>\n      <td>{'Monday': '0:0-0:0', 'Tuesday': '0:0-0:0', 'W...</td>\n      <td>[Hotels,  Event Planning &amp; Services,  Hotels &amp;...</td>\n    </tr>\n    <tr>\n      <th>1</th>\n      <td>5e96645e6f14ef773b7b63b7</td>\n      <td>uNjAp7k2_ydqZY3W1SWgYQ</td>\n      <td>Americas Best Value Inn</td>\n      <td>424 W Van Buren St</td>\n      <td>Phoenix</td>\n      <td>AZ</td>\n      <td>85003</td>\n      <td>33.451565</td>\n      <td>-112.080081</td>\n      <td>4.0</td>\n      <td>28</td>\n      <td>0</td>\n      <td>{'BusinessAcceptsCreditCards': 'True', 'WiFi':...</td>\n      <td>{'Monday': '1:0-1:0', 'Tuesday': '1:0-1:0', 'W...</td>\n      <td>[Hotels,  Event Planning &amp; Services,  Hotels &amp;...</td>\n    </tr>\n    <tr>\n      <th>2</th>\n      <td>5e9664646f14ef773b7c256c</td>\n      <td>NqGtKSw1EnnQ2pbCN9VrfQ</td>\n      <td>Quality Inn</td>\n      <td>6347 E. Southern Ave.</td>\n      <td>Mesa</td>\n      <td>AZ</td>\n      <td>85206</td>\n      <td>33.392346</td>\n      <td>-111.693275</td>\n      <td>2.0</td>\n      <td>3</td>\n      <td>0</td>\n      <td>{'WiFi': ''free'', 'BusinessAcceptsCreditCards...</td>\n      <td>{'Monday': '0:0-0:0', 'Tuesday': '0:0-0:0', 'W...</td>\n      <td>[Hotels,  Hotels &amp; Travel,  Event Planning &amp; S...</td>\n    </tr>\n    <tr>\n      <th>3</th>\n      <td>5e9664666f14ef773b7c69aa</td>\n      <td>8_QKutB_FqV05o38ySEG7A</td>\n      <td>Gateway Motel</td>\n      <td>928 Las Vegas Blvd S</td>\n      <td>Las Vegas</td>\n      <td>NV</td>\n      <td>89101</td>\n      <td>36.159194</td>\n      <td>-115.147680</td>\n      <td>1.5</td>\n      <td>20</td>\n      <td>1</td>\n      <td>{'BusinessAcceptsCreditCards': 'True', 'Restau...</td>\n      <td>None</td>\n      <td>[Hotels,  Hotels &amp; Travel,  Event Planning &amp; S...</td>\n    </tr>\n    <tr>\n      <th>4</th>\n      <td>5e9664676f14ef773b7c8534</td>\n      <td>GK_c37NNNGB13syjiaPNoA</td>\n      <td>Sonesta ES Suites Cleveland Airport</td>\n      <td>17525 Rosbough Dr</td>\n      <td>Middleburg Heights</td>\n      <td>OH</td>\n      <td>44130</td>\n      <td>41.374085</td>\n      <td>-81.822052</td>\n      <td>3.5</td>\n      <td>28</td>\n      <td>1</td>\n      <td>{'BusinessAcceptsCreditCards': 'True', 'Restau...</td>\n      <td>{'Monday': '0:0-0:0', 'Tuesday': '0:0-0:0', 'W...</td>\n      <td>[Hotels,  Event Planning &amp; Services,  Hotels &amp;...</td>\n    </tr>\n    <tr>\n      <th>5</th>\n      <td>5e9664686f14ef773b7cb2b4</td>\n      <td>AF51nM-fjYjBVJRo6cR_Ow</td>\n      <td>Hampton Inn Phoenix-Midtown-Downtown Area</td>\n      <td>160 W Catalina Dr</td>\n      <td>Phoenix</td>\n      <td>AZ</td>\n      <td>85013</td>\n      <td>33.482432</td>\n      <td>-112.077399</td>\n      <td>4.0</td>\n      <td>60</td>\n      <td>1</td>\n      <td>{'WiFi': 'u'free'', 'BusinessAcceptsBitcoin': ...</td>\n      <td>{'Monday': '0:0-0:0', 'Tuesday': '0:0-0:0', 'W...</td>\n      <td>[Hotels,  Hotels &amp; Travel,  Event Planning &amp; S...</td>\n    </tr>\n    <tr>\n      <th>6</th>\n      <td>5e9664686f14ef773b7cca51</td>\n      <td>PdKoeg9Rh_1BefgUXTDIbg</td>\n      <td>SpringHill Suites West Mifflin</td>\n      <td>1000 Regis Ave</td>\n      <td>Pittsburgh</td>\n      <td>PA</td>\n      <td>15236</td>\n      <td>40.347161</td>\n      <td>-79.951463</td>\n      <td>3.0</td>\n      <td>18</td>\n      <td>1</td>\n      <td>{'BusinessAcceptsCreditCards': 'True', 'Restau...</td>\n      <td>{'Monday': '0:0-0:0', 'Tuesday': '0:0-0:0', 'W...</td>\n      <td>[Hotels,  Hotels &amp; Travel,  Event Planning &amp; S...</td>\n    </tr>\n    <tr>\n      <th>7</th>\n      <td>5e9664696f14ef773b7ceb62</td>\n      <td>H03TuN-fMr4lwQP3wJobYA</td>\n      <td>Days Inn-Calgary South</td>\n      <td>3828 MacLeod Trl SE</td>\n      <td>Calgary</td>\n      <td>AB</td>\n      <td>T2G 2R2</td>\n      <td>51.020370</td>\n      <td>-114.060787</td>\n      <td>1.5</td>\n      <td>10</td>\n      <td>1</td>\n      <td>{'WiFi': 'u'free'', 'RestaurantsPriceRange2': ...</td>\n      <td>None</td>\n      <td>[Hotels,  Hotels &amp; Travel,  Event Planning &amp; S...</td>\n    </tr>\n    <tr>\n      <th>8</th>\n      <td>5e9664696f14ef773b7cf104</td>\n      <td>_Dz7a9gMBJgo_JTO0PPuxw</td>\n      <td>Clarion Hotel and Conference Centre</td>\n      <td>2120 16 Ave NE</td>\n      <td>Calgary</td>\n      <td>AB</td>\n      <td>T2E 1L4</td>\n      <td>51.067627</td>\n      <td>-114.010285</td>\n      <td>3.0</td>\n      <td>18</td>\n      <td>1</td>\n      <td>{'RestaurantsPriceRange2': '2', 'WiFi': 'u'fre...</td>\n      <td>None</td>\n      <td>[Hotels,  Hotels &amp; Travel,  Event Planning &amp; S...</td>\n    </tr>\n    <tr>\n      <th>9</th>\n      <td>5e96646e6f14ef773b7daac9</td>\n      <td>gjR5bIyL4ETB9CtWgNL64A</td>\n      <td>Skyline Hotel</td>\n      <td>1741 N Boulder Hwy</td>\n      <td>Henderson</td>\n      <td>NV</td>\n      <td>89011</td>\n      <td>36.062463</td>\n      <td>-115.008362</td>\n      <td>4.5</td>\n      <td>21</td>\n      <td>1</td>\n      <td>{'WiFi': 'u'free'', 'BusinessAcceptsCreditCard...</td>\n      <td>{'Monday': '0:0-0:0', 'Tuesday': '0:0-0:0', 'W...</td>\n      <td>[Hotels,  Hotels &amp; Travel,  Event Planning &amp; S...</td>\n    </tr>\n  </tbody>\n</table>\n</div>"
     },
     "metadata": {},
     "execution_count": 78
    }
   ],
   "source": [
    "businesses_records = businesses_neighbours_df.astype({'_id': 'str'})\n",
    "businesses_records"
   ]
  },
  {
   "cell_type": "code",
   "execution_count": 79,
   "metadata": {},
   "outputs": [],
   "source": [
    "businesses_records.to_json('../data/businesses_neighbours.json', orient='records', lines=True)"
   ]
  },
  {
   "cell_type": "markdown",
   "metadata": {},
   "source": [
    "## Export reviews of the selected businesses"
   ]
  },
  {
   "cell_type": "code",
   "execution_count": 80,
   "metadata": {},
   "outputs": [
    {
     "output_type": "execute_result",
     "data": {
      "text/plain": "                          _id               review_id                 user_id  \\\n0    5e9664963b612dc2f0e488c0  -86eJuYugapSTs5dvCZKtw  qjX40bTubCboIQ6S4mu54A   \n1    5e9664973b612dc2f0e4b13d  j57XFIDuzcpBrcptbrJSwA  USljZmbtpya0BEKocSLbUw   \n2    5e9664973b612dc2f0e4c04b  Hb_kJxRWevasbqHfD_YBQw  mEXLSpAc0A5zdW5iZEosSg   \n3    5e9664983b612dc2f0e511eb  qpdvJX2M17LZrrtamrpgjA  YcdgoZzc9yuGN1pBBxevRQ   \n4    5e9664993b612dc2f0e5448a  ivzJHezSj4594qkg6DbS9g  cpOqABn6YiktZqMrJUB8Aw   \n..                        ...                     ...                     ...   \n237  5e9665cd3b612dc2f0519561  mfC8GXG3j38ip_KErwe1dg  fCExFIeu2BT35FSx2Yz2aA   \n238  5e9665cd3b612dc2f051c269  LPNViYqzq4N7iwMEFvFN_g  A2P6QP1T0An81jDnB9OnzQ   \n239  5e9665ce3b612dc2f0520816  -J6g1v3wGtT8VDxlhoPk8w  Z5_2D0duy6vBnMVHooEwEQ   \n240  5e9665ce3b612dc2f0521b0b  TcAUyiFCd_oAxNjTEKEL_A  qOlt6hHXxUijPJ8iwlo6hA   \n241  5e9665ce3b612dc2f05231c5  8X1coT0qJcO0hL-9tygAwQ  6V859jHOyLTz-x5LKdyHIQ   \n\n                business_id  stars  useful  funny  cool  \\\n0    5FVBaD1poRZQeqUDxbWWQA    1.0       3      0     0   \n1    5FVBaD1poRZQeqUDxbWWQA    1.0       1      0     0   \n2    5FVBaD1poRZQeqUDxbWWQA    1.0       1      0     0   \n3    5FVBaD1poRZQeqUDxbWWQA    5.0       0      0     0   \n4    5FVBaD1poRZQeqUDxbWWQA    4.0       2      0     0   \n..                      ...    ...     ...    ...   ...   \n237  gjR5bIyL4ETB9CtWgNL64A    5.0       4      0     2   \n238  gjR5bIyL4ETB9CtWgNL64A    5.0       0      0     1   \n239  gjR5bIyL4ETB9CtWgNL64A    1.0       3      0     0   \n240  gjR5bIyL4ETB9CtWgNL64A    5.0       0      0     0   \n241  gjR5bIyL4ETB9CtWgNL64A    4.0       1      0     0   \n\n                                                  text                 date  \n0    Checked in with my family of five for two room...  2013-12-30 14:52:18  \n1    AT first it seemed like a good hotel. I'm not ...  2013-01-28 19:03:36  \n2    I have stayed here 7 times in the past few mon...  2017-03-15 22:17:31  \n3    Check-in war sehr zügig und der Mitarbeiter ex...  2013-10-06 15:22:27  \n4    the waffle factor:\\n\\n i don't work, haven't f...  2012-11-08 15:29:18  \n..                                                 ...                  ...  \n237  So most everyone from 'round these parts are v...  2018-02-10 05:36:37  \n238  Great stay. Clean updated rooms. Comfortable b...  2019-03-20 17:42:25  \n239  DO NOT BOOK HERE. At least not if you are plan...  2018-09-02 11:12:09  \n240  Staff was incredible and the room was at a ver...  2019-06-29 03:47:43  \n241  Very clean hotel with comfortable beds.  Very ...  2018-09-09 23:01:00  \n\n[242 rows x 10 columns]",
      "text/html": "<div>\n<style scoped>\n    .dataframe tbody tr th:only-of-type {\n        vertical-align: middle;\n    }\n\n    .dataframe tbody tr th {\n        vertical-align: top;\n    }\n\n    .dataframe thead th {\n        text-align: right;\n    }\n</style>\n<table border=\"1\" class=\"dataframe\">\n  <thead>\n    <tr style=\"text-align: right;\">\n      <th></th>\n      <th>_id</th>\n      <th>review_id</th>\n      <th>user_id</th>\n      <th>business_id</th>\n      <th>stars</th>\n      <th>useful</th>\n      <th>funny</th>\n      <th>cool</th>\n      <th>text</th>\n      <th>date</th>\n    </tr>\n  </thead>\n  <tbody>\n    <tr>\n      <th>0</th>\n      <td>5e9664963b612dc2f0e488c0</td>\n      <td>-86eJuYugapSTs5dvCZKtw</td>\n      <td>qjX40bTubCboIQ6S4mu54A</td>\n      <td>5FVBaD1poRZQeqUDxbWWQA</td>\n      <td>1.0</td>\n      <td>3</td>\n      <td>0</td>\n      <td>0</td>\n      <td>Checked in with my family of five for two room...</td>\n      <td>2013-12-30 14:52:18</td>\n    </tr>\n    <tr>\n      <th>1</th>\n      <td>5e9664973b612dc2f0e4b13d</td>\n      <td>j57XFIDuzcpBrcptbrJSwA</td>\n      <td>USljZmbtpya0BEKocSLbUw</td>\n      <td>5FVBaD1poRZQeqUDxbWWQA</td>\n      <td>1.0</td>\n      <td>1</td>\n      <td>0</td>\n      <td>0</td>\n      <td>AT first it seemed like a good hotel. I'm not ...</td>\n      <td>2013-01-28 19:03:36</td>\n    </tr>\n    <tr>\n      <th>2</th>\n      <td>5e9664973b612dc2f0e4c04b</td>\n      <td>Hb_kJxRWevasbqHfD_YBQw</td>\n      <td>mEXLSpAc0A5zdW5iZEosSg</td>\n      <td>5FVBaD1poRZQeqUDxbWWQA</td>\n      <td>1.0</td>\n      <td>1</td>\n      <td>0</td>\n      <td>0</td>\n      <td>I have stayed here 7 times in the past few mon...</td>\n      <td>2017-03-15 22:17:31</td>\n    </tr>\n    <tr>\n      <th>3</th>\n      <td>5e9664983b612dc2f0e511eb</td>\n      <td>qpdvJX2M17LZrrtamrpgjA</td>\n      <td>YcdgoZzc9yuGN1pBBxevRQ</td>\n      <td>5FVBaD1poRZQeqUDxbWWQA</td>\n      <td>5.0</td>\n      <td>0</td>\n      <td>0</td>\n      <td>0</td>\n      <td>Check-in war sehr zügig und der Mitarbeiter ex...</td>\n      <td>2013-10-06 15:22:27</td>\n    </tr>\n    <tr>\n      <th>4</th>\n      <td>5e9664993b612dc2f0e5448a</td>\n      <td>ivzJHezSj4594qkg6DbS9g</td>\n      <td>cpOqABn6YiktZqMrJUB8Aw</td>\n      <td>5FVBaD1poRZQeqUDxbWWQA</td>\n      <td>4.0</td>\n      <td>2</td>\n      <td>0</td>\n      <td>0</td>\n      <td>the waffle factor:\\n\\n i don't work, haven't f...</td>\n      <td>2012-11-08 15:29:18</td>\n    </tr>\n    <tr>\n      <th>...</th>\n      <td>...</td>\n      <td>...</td>\n      <td>...</td>\n      <td>...</td>\n      <td>...</td>\n      <td>...</td>\n      <td>...</td>\n      <td>...</td>\n      <td>...</td>\n      <td>...</td>\n    </tr>\n    <tr>\n      <th>237</th>\n      <td>5e9665cd3b612dc2f0519561</td>\n      <td>mfC8GXG3j38ip_KErwe1dg</td>\n      <td>fCExFIeu2BT35FSx2Yz2aA</td>\n      <td>gjR5bIyL4ETB9CtWgNL64A</td>\n      <td>5.0</td>\n      <td>4</td>\n      <td>0</td>\n      <td>2</td>\n      <td>So most everyone from 'round these parts are v...</td>\n      <td>2018-02-10 05:36:37</td>\n    </tr>\n    <tr>\n      <th>238</th>\n      <td>5e9665cd3b612dc2f051c269</td>\n      <td>LPNViYqzq4N7iwMEFvFN_g</td>\n      <td>A2P6QP1T0An81jDnB9OnzQ</td>\n      <td>gjR5bIyL4ETB9CtWgNL64A</td>\n      <td>5.0</td>\n      <td>0</td>\n      <td>0</td>\n      <td>1</td>\n      <td>Great stay. Clean updated rooms. Comfortable b...</td>\n      <td>2019-03-20 17:42:25</td>\n    </tr>\n    <tr>\n      <th>239</th>\n      <td>5e9665ce3b612dc2f0520816</td>\n      <td>-J6g1v3wGtT8VDxlhoPk8w</td>\n      <td>Z5_2D0duy6vBnMVHooEwEQ</td>\n      <td>gjR5bIyL4ETB9CtWgNL64A</td>\n      <td>1.0</td>\n      <td>3</td>\n      <td>0</td>\n      <td>0</td>\n      <td>DO NOT BOOK HERE. At least not if you are plan...</td>\n      <td>2018-09-02 11:12:09</td>\n    </tr>\n    <tr>\n      <th>240</th>\n      <td>5e9665ce3b612dc2f0521b0b</td>\n      <td>TcAUyiFCd_oAxNjTEKEL_A</td>\n      <td>qOlt6hHXxUijPJ8iwlo6hA</td>\n      <td>gjR5bIyL4ETB9CtWgNL64A</td>\n      <td>5.0</td>\n      <td>0</td>\n      <td>0</td>\n      <td>0</td>\n      <td>Staff was incredible and the room was at a ver...</td>\n      <td>2019-06-29 03:47:43</td>\n    </tr>\n    <tr>\n      <th>241</th>\n      <td>5e9665ce3b612dc2f05231c5</td>\n      <td>8X1coT0qJcO0hL-9tygAwQ</td>\n      <td>6V859jHOyLTz-x5LKdyHIQ</td>\n      <td>gjR5bIyL4ETB9CtWgNL64A</td>\n      <td>4.0</td>\n      <td>1</td>\n      <td>0</td>\n      <td>0</td>\n      <td>Very clean hotel with comfortable beds.  Very ...</td>\n      <td>2018-09-09 23:01:00</td>\n    </tr>\n  </tbody>\n</table>\n<p>242 rows × 10 columns</p>\n</div>"
     },
     "metadata": {},
     "execution_count": 80
    }
   ],
   "source": [
    "#businesses_neighbours_reviews_df = pd.DataFrame(list(db.reviews.find({ \"business_id\": {\"$in\": business_neighbours}, 'useful': {'$gt': 0} })))\n",
    "businesses_neighbours_reviews_df = pd.DataFrame(list(db.reviews.find({ \"business_id\": {\"$in\": business_neighbours} })))\n",
    "businesses_neighbours_reviews_df"
   ]
  },
  {
   "cell_type": "code",
   "execution_count": 81,
   "metadata": {},
   "outputs": [],
   "source": [
    "businesses_neighbours_reviews_records = businesses_neighbours_reviews_df.astype({'_id': 'str'})\n",
    "businesses_neighbours_reviews_records.to_json('../data/businesses_neighbours_reviews.json', orient='records', lines=True)"
   ]
  },
  {
   "cell_type": "code",
   "execution_count": null,
   "metadata": {},
   "outputs": [],
   "source": []
  }
 ]
}