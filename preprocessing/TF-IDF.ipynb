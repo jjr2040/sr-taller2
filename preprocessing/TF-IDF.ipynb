{
 "nbformat": 4,
 "nbformat_minor": 2,
 "metadata": {
  "language_info": {
   "name": "python",
   "codemirror_mode": {
    "name": "ipython",
    "version": 3
   },
   "version": "3.8.0-final"
  },
  "orig_nbformat": 2,
  "file_extension": ".py",
  "mimetype": "text/x-python",
  "name": "python",
  "npconvert_exporter": "python",
  "pygments_lexer": "ipython3",
  "version": 3,
  "kernelspec": {
   "name": "python37464bitbaseconda8e25e79329f0457c9a291104967521b9",
   "display_name": "Python 3.7.4 64-bit ('base': conda)"
  }
 },
 "cells": [
  {
   "cell_type": "code",
   "execution_count": 16,
   "metadata": {},
   "outputs": [],
   "source": [
    "import pandas as pd\n",
    "import re\n",
    "import os\n",
    "\n",
    "from sklearn.feature_extraction.text import CountVectorizer\n",
    "from sklearn.feature_extraction.text import TfidfTransformer"
   ]
  },
  {
   "cell_type": "code",
   "execution_count": 31,
   "metadata": {},
   "outputs": [
    {
     "output_type": "execute_result",
     "data": {
      "text/plain": "                review_id                 user_id             business_id  \\\n0  xQY8N_XvtGbearJ5X4QryQ  OwjRMXRC0KyPrIlcjaXeFQ  -MhfebM0QIsKt87iDN-FNw   \n1  UmFMZ8PyXZTY2QcwzsfQYA  nIJD_7ZXHq-FX8byPMOkMQ  lbrU8StCq3yDfr-QMnGrmQ   \n2  LG2ZaYiOgpr2DK_90pYjNw  V34qejxNsCbcgD8C0HVk-Q  HQl28KMwrEKHqhFrrDqVNQ   \n\n   stars  useful  funny  cool  \\\n0      2       5      0     0   \n1      1       1      1     0   \n2      5       1      0     0   \n\n                                                text                date  \n0  As someone who has worked with many museums, I... 2015-04-15 05:21:16  \n1  I am actually horrified this place is still in... 2013-12-07 03:16:52  \n2  I love Deagan's. I do. I really do. The atmosp... 2015-12-05 03:18:11  ",
      "text/html": "<div>\n<style scoped>\n    .dataframe tbody tr th:only-of-type {\n        vertical-align: middle;\n    }\n\n    .dataframe tbody tr th {\n        vertical-align: top;\n    }\n\n    .dataframe thead th {\n        text-align: right;\n    }\n</style>\n<table border=\"1\" class=\"dataframe\">\n  <thead>\n    <tr style=\"text-align: right;\">\n      <th></th>\n      <th>review_id</th>\n      <th>user_id</th>\n      <th>business_id</th>\n      <th>stars</th>\n      <th>useful</th>\n      <th>funny</th>\n      <th>cool</th>\n      <th>text</th>\n      <th>date</th>\n    </tr>\n  </thead>\n  <tbody>\n    <tr>\n      <td>0</td>\n      <td>xQY8N_XvtGbearJ5X4QryQ</td>\n      <td>OwjRMXRC0KyPrIlcjaXeFQ</td>\n      <td>-MhfebM0QIsKt87iDN-FNw</td>\n      <td>2</td>\n      <td>5</td>\n      <td>0</td>\n      <td>0</td>\n      <td>As someone who has worked with many museums, I...</td>\n      <td>2015-04-15 05:21:16</td>\n    </tr>\n    <tr>\n      <td>1</td>\n      <td>UmFMZ8PyXZTY2QcwzsfQYA</td>\n      <td>nIJD_7ZXHq-FX8byPMOkMQ</td>\n      <td>lbrU8StCq3yDfr-QMnGrmQ</td>\n      <td>1</td>\n      <td>1</td>\n      <td>1</td>\n      <td>0</td>\n      <td>I am actually horrified this place is still in...</td>\n      <td>2013-12-07 03:16:52</td>\n    </tr>\n    <tr>\n      <td>2</td>\n      <td>LG2ZaYiOgpr2DK_90pYjNw</td>\n      <td>V34qejxNsCbcgD8C0HVk-Q</td>\n      <td>HQl28KMwrEKHqhFrrDqVNQ</td>\n      <td>5</td>\n      <td>1</td>\n      <td>0</td>\n      <td>0</td>\n      <td>I love Deagan's. I do. I really do. The atmosp...</td>\n      <td>2015-12-05 03:18:11</td>\n    </tr>\n  </tbody>\n</table>\n</div>"
     },
     "metadata": {},
     "execution_count": 31
    }
   ],
   "source": [
    "#reviews_neighbours_df=pd.DataFrame(list(db.reviews.find({ \"business_id\": {\"$in\": business_neighbours} })))\n",
    "df=pd.read_json(\"./prueba.json\",lines=True)\n",
    "df2=pd.DataFrame(df)\n",
    "df2"
   ]
  },
  {
   "cell_type": "code",
   "execution_count": 3,
   "metadata": {},
   "outputs": [
    {
     "output_type": "execute_result",
     "data": {
      "text/plain": "pandas.core.series.Series"
     },
     "metadata": {},
     "execution_count": 3
    }
   ],
   "source": [
    "#Se extrae solo la columna de texto\n",
    "#column=reviews_neighbours_df['text']\n",
    "column=df['text']\n",
    "type(column)"
   ]
  },
  {
   "cell_type": "code",
   "execution_count": 4,
   "metadata": {},
   "outputs": [
    {
     "output_type": "execute_result",
     "data": {
      "text/plain": "['as someone who has worked with many museums i was eager to visit this gallery on my most recent trip to las vegas when i saw they would be showing infamous eggs of the house of faberge from the virginia museum of fine arts vmfa i knew i had to gotucked away near the gelateria and the garden the gallery is pretty much hidden from view its what real estate agents would call cozy or charming  basically any euphemism for smallthat being said you can still see wonderful art at a gallery of any size so why the two s you ask let me tell you pricing for this while relatively inexpensive for a las vegas attraction is completely over the top for the space and the amount of art you can fit in there it is a bit much its not kid friendly at all seriously dont bring them the security is not trained properly for the show when the curating and design teams collaborate for exhibitions there is a definite flow that means visitors should view the art in a certain sequence whether it be by historical period or cultural significance this is how audio guides are usually developed when i arrived in the gallery i could not tell where to start and security was certainly not helpful i was told to just look around and do whatever at such a fine institution i find the lack of knowledge and respect for the art appalling',\n 'i am actually horrified this place is still in business my  year old son needed a haircut this past summer and the lure of the  kids cut signs got me in the door we had to wait a few minutes as both stylists were working on people the decor in this place is total garbage it is so tacky the sofa they had at the time was a pleather sofa with giant holes in it and my son noticed ants crawling all over the floor and the furniture it was disgusting and i should have walked out then actually i should have turned around and walked out upon entering but i didnt so the older black male stylist finishes the haircut he was doing and its our turn i tell him i want a  clipper around the back and sides and then hand cut the top into a standard boys cut really freaking simple right wrong rather than use the clippers and go up to actually cut the hair he went down using it moving downward doesnt cut hair it just rubs against it how does this man who has an alleged cosmetology license not know how to use a set of freaking clippers i realized almost immediately that he had no idea what he was doing no idea at all after about  minutes of watching this guy stumble through it i said you know what thats fine paid and left all i wanted to do was get out of that scummy joint and take my son to a real haircut placebottom line do not go here run the other way',\n 'i love deagans i do i really do the atmosphere is cozy and festive the shrimp tacos and house fries are my standbys the fries are sometimes good and sometimes great and the spicy dipping sauce they come with is to die for the beer list is amazing and the cocktails are great the prices are midlevel so its not a cheap dive you can go to every week but rather a treat when you do try it out you wont be disappointed']"
     },
     "metadata": {},
     "execution_count": 4
    }
   ],
   "source": [
    "#Limpieza de caracteres especiales\n",
    "clear_text_list=[]\n",
    "for x in column:\n",
    "    y=re.sub(r'[,.!-?¿¡\"&$%#\\n\\t]','',x.lower())\n",
    "    clear_text_list.append(y)\n",
    "clear_text_list"
   ]
  },
  {
   "cell_type": "code",
   "execution_count": 30,
   "metadata": {},
   "outputs": [],
   "source": [
    "#El siguiente codigo es opcional, si se quiere definir un diccionario propio de palabras de parada\n",
    "def get_stop_words(path):\n",
    "    with open(path,\"r\",encoding=\"utf-8\") as f:\n",
    "        stopwords=f.readlines()\n",
    "        stop_set=set(m.strip() for m in stopwords)\n",
    "        return frozenset(stop_set)\n",
    "\n",
    "stopwords=get_stop_words(\"./stop_words.txt\")"
   ]
  },
  {
   "cell_type": "code",
   "execution_count": 14,
   "metadata": {},
   "outputs": [
    {
     "output_type": "execute_result",
     "data": {
      "text/plain": "   0    1    2    3    4    5    6    7    8    9    ...  200  201  202  203  \\\n0    0    1    0    0    0    1    1    4    1    1  ...    0    0    0    0   \n1    3    0    1    0    1    0    0    0    0    0  ...    1    1    0    1   \n2    0    0    0    1    0    0    0    0    0    0  ...    0    0    1    0   \n\n   204  205  206  207  208  209  \n0    1    0    1    0    0    0  \n1    0    0    0    1    1    1  \n2    0    1    0    0    0    0  \n\n[3 rows x 210 columns]",
      "text/html": "<div>\n<style scoped>\n    .dataframe tbody tr th:only-of-type {\n        vertical-align: middle;\n    }\n\n    .dataframe tbody tr th {\n        vertical-align: top;\n    }\n\n    .dataframe thead th {\n        text-align: right;\n    }\n</style>\n<table border=\"1\" class=\"dataframe\">\n  <thead>\n    <tr style=\"text-align: right;\">\n      <th></th>\n      <th>0</th>\n      <th>1</th>\n      <th>2</th>\n      <th>3</th>\n      <th>4</th>\n      <th>5</th>\n      <th>6</th>\n      <th>7</th>\n      <th>8</th>\n      <th>9</th>\n      <th>...</th>\n      <th>200</th>\n      <th>201</th>\n      <th>202</th>\n      <th>203</th>\n      <th>204</th>\n      <th>205</th>\n      <th>206</th>\n      <th>207</th>\n      <th>208</th>\n      <th>209</th>\n    </tr>\n  </thead>\n  <tbody>\n    <tr>\n      <td>0</td>\n      <td>0</td>\n      <td>1</td>\n      <td>0</td>\n      <td>0</td>\n      <td>0</td>\n      <td>1</td>\n      <td>1</td>\n      <td>4</td>\n      <td>1</td>\n      <td>1</td>\n      <td>...</td>\n      <td>0</td>\n      <td>0</td>\n      <td>0</td>\n      <td>0</td>\n      <td>1</td>\n      <td>0</td>\n      <td>1</td>\n      <td>0</td>\n      <td>0</td>\n      <td>0</td>\n    </tr>\n    <tr>\n      <td>1</td>\n      <td>3</td>\n      <td>0</td>\n      <td>1</td>\n      <td>0</td>\n      <td>1</td>\n      <td>0</td>\n      <td>0</td>\n      <td>0</td>\n      <td>0</td>\n      <td>0</td>\n      <td>...</td>\n      <td>1</td>\n      <td>1</td>\n      <td>0</td>\n      <td>1</td>\n      <td>0</td>\n      <td>0</td>\n      <td>0</td>\n      <td>1</td>\n      <td>1</td>\n      <td>1</td>\n    </tr>\n    <tr>\n      <td>2</td>\n      <td>0</td>\n      <td>0</td>\n      <td>0</td>\n      <td>1</td>\n      <td>0</td>\n      <td>0</td>\n      <td>0</td>\n      <td>0</td>\n      <td>0</td>\n      <td>0</td>\n      <td>...</td>\n      <td>0</td>\n      <td>0</td>\n      <td>1</td>\n      <td>0</td>\n      <td>0</td>\n      <td>1</td>\n      <td>0</td>\n      <td>0</td>\n      <td>0</td>\n      <td>0</td>\n    </tr>\n  </tbody>\n</table>\n<p>3 rows × 210 columns</p>\n</div>"
     },
     "metadata": {},
     "execution_count": 14
    }
   ],
   "source": [
    "#Se crea una matrix de textos x palabras\n",
    "cv=CountVectorizer(max_df=0.85,stop_words=\"english\")\n",
    "word_count_vector=cv.fit_transform(clear_text_list)\n",
    "#Se convierte la matriz a dataframe\n",
    "df = pd.DataFrame(word_count_vector.toarray())\n",
    "df"
   ]
  },
  {
   "cell_type": "code",
   "execution_count": 39,
   "metadata": {},
   "outputs": [
    {
     "output_type": "execute_result",
     "data": {
      "text/plain": "['actually',\n 'agents',\n 'alleged',\n 'amazing',\n 'ants',\n 'appalling',\n 'arrived',\n 'art',\n 'arts',\n 'ask',\n 'atmosphere',\n 'attraction',\n 'audio',\n 'away',\n 'basically',\n 'beer',\n 'bit',\n 'black',\n 'boys',\n 'bring',\n 'business',\n 'certain',\n 'certainly',\n 'charming',\n 'cheap',\n 'clipper',\n 'clippers',\n 'cocktails',\n 'collaborate',\n 'come',\n 'completely',\n 'cosmetology',\n 'cozy',\n 'crawling',\n 'cultural',\n 'curating',\n 'cut',\n 'deagans',\n 'decor',\n 'definite',\n 'design',\n 'developed',\n 'didnt',\n 'die',\n 'dipping',\n 'disappointed',\n 'disgusting',\n 'dive',\n 'does',\n 'doesnt',\n 'doing',\n 'dont',\n 'door',\n 'downward',\n 'eager',\n 'eggs',\n 'entering',\n 'estate',\n 'euphemism',\n 'exhibitions',\n 'faberge',\n 'festive',\n 'fine',\n 'finishes',\n 'fit',\n 'floor',\n 'flow',\n 'freaking',\n 'friendly',\n 'fries',\n 'furniture',\n 'gallery',\n 'garbage',\n 'garden',\n 'gelateria',\n 'giant',\n 'good',\n 'got',\n 'gotucked',\n 'great',\n 'guides',\n 'guy',\n 'hair',\n 'haircut',\n 'hand',\n 'helpful',\n 'hidden',\n 'historical',\n 'holes',\n 'horrified',\n 'house',\n 'idea',\n 'immediately',\n 'inexpensive',\n 'infamous',\n 'institution',\n 'joint',\n 'just',\n 'kid',\n 'kids',\n 'knew',\n 'know',\n 'knowledge',\n 'lack',\n 'las',\n 'left',\n 'let',\n 'license',\n 'line',\n 'list',\n 'look',\n 'love',\n 'lure',\n 'male',\n 'man',\n 'means',\n 'midlevel',\n 'minutes',\n 'moving',\n 'museum',\n 'museums',\n 'near',\n 'needed',\n 'noticed',\n 'old',\n 'older',\n 'paid',\n 'past',\n 'people',\n 'period',\n 'place',\n 'placebottom',\n 'pleather',\n 'pretty',\n 'prices',\n 'pricing',\n 'properly',\n 'real',\n 'realized',\n 'really',\n 'recent',\n 'relatively',\n 'respect',\n 'right',\n 'rubs',\n 'run',\n 'said',\n 'sauce',\n 'saw',\n 'scummy',\n 'security',\n 'sequence',\n 'seriously',\n 'set',\n 'showing',\n 'shrimp',\n 'sides',\n 'significance',\n 'signs',\n 'simple',\n 'size',\n 'smallthat',\n 'sofa',\n 'son',\n 'space',\n 'spicy',\n 'standard',\n 'standbys',\n 'start',\n 'stumble',\n 'stylist',\n 'stylists',\n 'summer',\n 'tacky',\n 'tacos',\n 'teams',\n 'tell',\n 'thats',\n 'time',\n 'told',\n 'total',\n 'trained',\n 'treat',\n 'trip',\n 'try',\n 'turn',\n 'turned',\n 'use',\n 'using',\n 'usually',\n 'vegas',\n 'view',\n 'virginia',\n 'visit',\n 'visitors',\n 'vmfa',\n 'wait',\n 'walked',\n 'want',\n 'wanted',\n 'watching',\n 'way',\n 'week',\n 'went',\n 'wonderful',\n 'wont',\n 'worked',\n 'working',\n 'wrong',\n 'year']"
     },
     "metadata": {},
     "execution_count": 39
    }
   ],
   "source": [
    "feature_names=cv.get_feature_names()\n",
    "feature_names"
   ]
  },
  {
   "cell_type": "code",
   "execution_count": 15,
   "metadata": {},
   "outputs": [
    {
     "output_type": "execute_result",
     "data": {
      "text/plain": "['worked',\n 'museums',\n 'eager',\n 'visit',\n 'gallery',\n 'recent',\n 'trip',\n 'las',\n 'vegas',\n 'saw',\n 'showing',\n 'infamous',\n 'eggs',\n 'house',\n 'faberge',\n 'virginia',\n 'museum',\n 'fine',\n 'arts',\n 'vmfa',\n 'knew',\n 'gotucked',\n 'away',\n 'near',\n 'gelateria',\n 'garden',\n 'pretty',\n 'hidden',\n 'view',\n 'real',\n 'estate',\n 'agents',\n 'cozy',\n 'charming',\n 'basically',\n 'euphemism',\n 'smallthat',\n 'said',\n 'wonderful',\n 'art',\n 'size',\n 'ask',\n 'let',\n 'tell',\n 'pricing',\n 'relatively',\n 'inexpensive',\n 'attraction',\n 'completely',\n 'space',\n 'fit',\n 'bit',\n 'kid',\n 'friendly',\n 'seriously',\n 'dont',\n 'bring',\n 'security',\n 'trained',\n 'properly',\n 'curating',\n 'design',\n 'teams',\n 'collaborate',\n 'exhibitions',\n 'definite',\n 'flow',\n 'means',\n 'visitors',\n 'certain',\n 'sequence',\n 'historical',\n 'period',\n 'cultural',\n 'significance',\n 'audio',\n 'guides',\n 'usually',\n 'developed',\n 'arrived',\n 'start',\n 'certainly',\n 'helpful',\n 'told',\n 'just',\n 'look',\n 'institution',\n 'lack',\n 'knowledge',\n 'respect',\n 'appalling',\n 'actually',\n 'horrified',\n 'place',\n 'business',\n 'year',\n 'old',\n 'son',\n 'needed',\n 'haircut',\n 'past',\n 'summer',\n 'lure',\n 'kids',\n 'cut',\n 'signs',\n 'got',\n 'door',\n 'wait',\n 'minutes',\n 'stylists',\n 'working',\n 'people',\n 'decor',\n 'total',\n 'garbage',\n 'tacky',\n 'sofa',\n 'time',\n 'pleather',\n 'giant',\n 'holes',\n 'noticed',\n 'ants',\n 'crawling',\n 'floor',\n 'furniture',\n 'disgusting',\n 'walked',\n 'turned',\n 'entering',\n 'didnt',\n 'older',\n 'black',\n 'male',\n 'stylist',\n 'finishes',\n 'doing',\n 'turn',\n 'want',\n 'clipper',\n 'sides',\n 'hand',\n 'standard',\n 'boys',\n 'really',\n 'freaking',\n 'simple',\n 'right',\n 'wrong',\n 'use',\n 'clippers',\n 'hair',\n 'went',\n 'using',\n 'moving',\n 'downward',\n 'doesnt',\n 'rubs',\n 'does',\n 'man',\n 'alleged',\n 'cosmetology',\n 'license',\n 'know',\n 'set',\n 'realized',\n 'immediately',\n 'idea',\n 'watching',\n 'guy',\n 'stumble',\n 'thats',\n 'paid',\n 'left',\n 'wanted',\n 'scummy',\n 'joint',\n 'placebottom',\n 'line',\n 'run',\n 'way',\n 'love',\n 'deagans',\n 'atmosphere',\n 'festive',\n 'shrimp',\n 'tacos',\n 'fries',\n 'standbys',\n 'good',\n 'great',\n 'spicy',\n 'dipping',\n 'sauce',\n 'come',\n 'die',\n 'beer',\n 'list',\n 'amazing',\n 'cocktails',\n 'prices',\n 'midlevel',\n 'cheap',\n 'dive',\n 'week',\n 'treat',\n 'try',\n 'wont',\n 'disappointed']"
     },
     "metadata": {},
     "execution_count": 15
    }
   ],
   "source": [
    "#Lista las todas las keywords encontradas\n",
    "list(cv.vocabulary_.keys())"
   ]
  },
  {
   "cell_type": "code",
   "execution_count": 18,
   "metadata": {},
   "outputs": [
    {
     "output_type": "execute_result",
     "data": {
      "text/plain": "TfidfTransformer(norm='l2', smooth_idf=True, sublinear_tf=False, use_idf=True)"
     },
     "metadata": {},
     "execution_count": 18
    }
   ],
   "source": [
    "#Calculo de IDF sobre la matriz dispersa\n",
    "Tfidf_transformer=TfidfTransformer(smooth_idf=True,use_idf=True)\n",
    "Tfidf_transformer.fit(word_count_vector)"
   ]
  },
  {
   "cell_type": "code",
   "execution_count": 23,
   "metadata": {},
   "outputs": [],
   "source": [
    "def sort_coo(coo_matrix):\n",
    "    tuples=zip(coo_matrix.col,coo_matrix.data)\n",
    "    return sorted(tuples,key=lambda x:(x[1],x[0]),reverse=True)\n",
    "\n",
    "def extract_topn_from_vector(feature_names, sorted_items,topn=10):\n",
    "    sorted_items=sorted_items[:topn]\n",
    "    score_vals=[]\n",
    "    feature_vals=[]   \n",
    "    for idx,score in sorted_items:\n",
    "        score_vals.append(round(score,3))\n",
    "        feature_vals.append(feature_names[idx])\n",
    "    results={}\n",
    "    for idx in range(len(feature_vals)):\n",
    "        results[feature_vals[idx]]=score_vals[idx]\n",
    "    return results "
   ]
  },
  {
   "cell_type": "code",
   "execution_count": 37,
   "metadata": {},
   "outputs": [
    {
     "output_type": "execute_result",
     "data": {
      "text/plain": "[{'gallery': 0.346,\n  'art': 0.346,\n  'view': 0.173,\n  'vegas': 0.173,\n  'security': 0.173,\n  'las': 0.173,\n  'tell': 0.132,\n  'fine': 0.132,\n  'worked': 0.087,\n  'wonderful': 0.087},\n {'cut': 0.379,\n  'son': 0.227,\n  'haircut': 0.227,\n  'actually': 0.227,\n  'walked': 0.151,\n  'use': 0.151,\n  'sofa': 0.151,\n  'place': 0.151,\n  'minutes': 0.151,\n  'know': 0.151},\n {'great': 0.335,\n  'fries': 0.335,\n  'wont': 0.167,\n  'week': 0.167,\n  'try': 0.167,\n  'treat': 0.167,\n  'tacos': 0.167,\n  'standbys': 0.167,\n  'spicy': 0.167,\n  'shrimp': 0.167}]"
     },
     "metadata": {},
     "execution_count": 37
    }
   ],
   "source": [
    "#Calculo de TF-IDF and find the keywords\n",
    "keywordsArray=[]\n",
    "for text in clear_text_list:\n",
    "    tf_idf_vector=Tfidf_transformer.transform(cv.transform([text]))\n",
    "    sorted_items=sort_coo(tf_idf_vector.tocoo())\n",
    "    keywords=extract_topn_from_vector(feature_names,sorted_items,10)\n",
    "    keywordsArray.append(keywords)\n",
    "keywordsArray"
   ]
  }
 ]
}